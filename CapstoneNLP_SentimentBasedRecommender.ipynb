{
 "cells": [
  {
   "cell_type": "markdown",
   "metadata": {
    "id": "_zswV7B4zrma"
   },
   "source": [
    "# Capstone Project for Sentiment based product recommender system for Ebuss"
   ]
  },
  {
   "cell_type": "markdown",
   "metadata": {
    "id": "eM1PGXxS6OVS"
   },
   "source": [
    "## Importing necessary libraries"
   ]
  },
  {
   "cell_type": "code",
   "execution_count": 1,
   "metadata": {
    "colab": {
     "base_uri": "https://localhost:8080/"
    },
    "executionInfo": {
     "elapsed": 148,
     "status": "ok",
     "timestamp": 1633305081369,
     "user": {
      "displayName": "Bhavini G",
      "photoUrl": "https://lh3.googleusercontent.com/a/default-user=s64",
      "userId": "04864105761682059327"
     },
     "user_tz": 420
    },
    "id": "1Lvnd20my0xo",
    "outputId": "809e5157-bc0e-442c-c209-3060ce0847a8"
   },
   "outputs": [
    {
     "name": "stderr",
     "output_type": "stream",
     "text": [
      "[nltk_data] Downloading package wordnet to\n",
      "[nltk_data]     C:\\Users\\bgadhiwala\\AppData\\Roaming\\nltk_data...\n",
      "[nltk_data]   Package wordnet is already up-to-date!\n",
      "[nltk_data] Downloading package stopwords to\n",
      "[nltk_data]     C:\\Users\\bgadhiwala\\AppData\\Roaming\\nltk_data...\n",
      "[nltk_data]   Package stopwords is already up-to-date!\n",
      "[nltk_data] Downloading package punkt to\n",
      "[nltk_data]     C:\\Users\\bgadhiwala\\AppData\\Roaming\\nltk_data...\n",
      "[nltk_data]   Package punkt is already up-to-date!\n"
     ]
    }
   ],
   "source": [
    "# Supress Warnings\n",
    "import warnings\n",
    "warnings.filterwarnings('ignore')\n",
    "\n",
    "#Importing the required libraries\n",
    "import numpy as np\n",
    "import pandas as pd\n",
    "import matplotlib.pyplot as plt\n",
    "import seaborn as sns\n",
    "import pickle\n",
    "from collections import Counter\n",
    "\n",
    "# Importing the libraries for NLP\n",
    "import re\n",
    "from nltk.stem import WordNetLemmatizer\n",
    "wordnet_lemmatizer = WordNetLemmatizer()\n",
    "from nltk.corpus import stopwords\n",
    "from nltk.tokenize import word_tokenize\n",
    "import nltk\n",
    "nltk.download('wordnet')\n",
    "nltk.download('stopwords')\n",
    "nltk.download('punkt')\n",
    "from sklearn.feature_extraction.text import TfidfVectorizer\n",
    "\n",
    "#models used\n",
    "from sklearn.ensemble import RandomForestClassifier\n",
    "from sklearn.linear_model import LogisticRegression\n",
    "from sklearn.naive_bayes import MultinomialNB\n",
    "from xgboost import XGBClassifier\n",
    "from sklearn.metrics import accuracy_score, recall_score, f1_score, confusion_matrix, roc_auc_score, classification_report\n",
    "from sklearn.model_selection import train_test_split\n",
    "from sklearn.metrics.pairwise import pairwise_distances\n",
    "\n",
    "# to address imbalance in data\n",
    "from imblearn.over_sampling import RandomOverSampler\n",
    "from imblearn.under_sampling import RandomUnderSampler\n",
    "\n",
    "\n",
    "\n"
   ]
  },
  {
   "cell_type": "code",
   "execution_count": 2,
   "metadata": {},
   "outputs": [],
   "source": [
    "#!pip install imblearn\n",
    "#!pip install xgboost"
   ]
  },
  {
   "cell_type": "markdown",
   "metadata": {
    "id": "spPJ7Qtn6ehh"
   },
   "source": [
    "Reading the input file sample30.csv in a dataframe"
   ]
  },
  {
   "cell_type": "code",
   "execution_count": 3,
   "metadata": {
    "executionInfo": {
     "elapsed": 358,
     "status": "ok",
     "timestamp": 1633304303024,
     "user": {
      "displayName": "Bhavini G",
      "photoUrl": "https://lh3.googleusercontent.com/a/default-user=s64",
      "userId": "04864105761682059327"
     },
     "user_tz": 420
    },
    "id": "b7tPBklS03_2"
   },
   "outputs": [],
   "source": [
    "df=pd.read_csv('sample30.csv')"
   ]
  },
  {
   "cell_type": "markdown",
   "metadata": {
    "id": "65Qv2dOu6oMx"
   },
   "source": [
    "## Exploratory Data Analysis"
   ]
  },
  {
   "cell_type": "code",
   "execution_count": 4,
   "metadata": {
    "colab": {
     "base_uri": "https://localhost:8080/",
     "height": 581
    },
    "executionInfo": {
     "elapsed": 180,
     "status": "ok",
     "timestamp": 1633304305753,
     "user": {
      "displayName": "Bhavini G",
      "photoUrl": "https://lh3.googleusercontent.com/a/default-user=s64",
      "userId": "04864105761682059327"
     },
     "user_tz": 420
    },
    "id": "KuPlC85o1PuJ",
    "outputId": "4a018237-c427-4879-874d-8829ca220d35"
   },
   "outputs": [
    {
     "data": {
      "text/html": [
       "<div>\n",
       "<style scoped>\n",
       "    .dataframe tbody tr th:only-of-type {\n",
       "        vertical-align: middle;\n",
       "    }\n",
       "\n",
       "    .dataframe tbody tr th {\n",
       "        vertical-align: top;\n",
       "    }\n",
       "\n",
       "    .dataframe thead th {\n",
       "        text-align: right;\n",
       "    }\n",
       "</style>\n",
       "<table border=\"1\" class=\"dataframe\">\n",
       "  <thead>\n",
       "    <tr style=\"text-align: right;\">\n",
       "      <th></th>\n",
       "      <th>id</th>\n",
       "      <th>brand</th>\n",
       "      <th>categories</th>\n",
       "      <th>manufacturer</th>\n",
       "      <th>name</th>\n",
       "      <th>reviews_date</th>\n",
       "      <th>reviews_didPurchase</th>\n",
       "      <th>reviews_doRecommend</th>\n",
       "      <th>reviews_rating</th>\n",
       "      <th>reviews_text</th>\n",
       "      <th>reviews_title</th>\n",
       "      <th>reviews_userCity</th>\n",
       "      <th>reviews_userProvince</th>\n",
       "      <th>reviews_username</th>\n",
       "      <th>user_sentiment</th>\n",
       "    </tr>\n",
       "  </thead>\n",
       "  <tbody>\n",
       "    <tr>\n",
       "      <th>0</th>\n",
       "      <td>AV13O1A8GV-KLJ3akUyj</td>\n",
       "      <td>Universal Music</td>\n",
       "      <td>Movies, Music &amp; Books,Music,R&amp;b,Movies &amp; TV,Mo...</td>\n",
       "      <td>Universal Music Group / Cash Money</td>\n",
       "      <td>Pink Friday: Roman Reloaded Re-Up (w/dvd)</td>\n",
       "      <td>2012-11-30T06:21:45.000Z</td>\n",
       "      <td>NaN</td>\n",
       "      <td>NaN</td>\n",
       "      <td>5</td>\n",
       "      <td>i love this album. it's very good. more to the...</td>\n",
       "      <td>Just Awesome</td>\n",
       "      <td>Los Angeles</td>\n",
       "      <td>NaN</td>\n",
       "      <td>joshua</td>\n",
       "      <td>Positive</td>\n",
       "    </tr>\n",
       "    <tr>\n",
       "      <th>1</th>\n",
       "      <td>AV14LG0R-jtxr-f38QfS</td>\n",
       "      <td>Lundberg</td>\n",
       "      <td>Food,Packaged Foods,Snacks,Crackers,Snacks, Co...</td>\n",
       "      <td>Lundberg</td>\n",
       "      <td>Lundberg Organic Cinnamon Toast Rice Cakes</td>\n",
       "      <td>2017-07-09T00:00:00.000Z</td>\n",
       "      <td>True</td>\n",
       "      <td>NaN</td>\n",
       "      <td>5</td>\n",
       "      <td>Good flavor. This review was collected as part...</td>\n",
       "      <td>Good</td>\n",
       "      <td>NaN</td>\n",
       "      <td>NaN</td>\n",
       "      <td>dorothy w</td>\n",
       "      <td>Positive</td>\n",
       "    </tr>\n",
       "    <tr>\n",
       "      <th>2</th>\n",
       "      <td>AV14LG0R-jtxr-f38QfS</td>\n",
       "      <td>Lundberg</td>\n",
       "      <td>Food,Packaged Foods,Snacks,Crackers,Snacks, Co...</td>\n",
       "      <td>Lundberg</td>\n",
       "      <td>Lundberg Organic Cinnamon Toast Rice Cakes</td>\n",
       "      <td>2017-07-09T00:00:00.000Z</td>\n",
       "      <td>True</td>\n",
       "      <td>NaN</td>\n",
       "      <td>5</td>\n",
       "      <td>Good flavor.</td>\n",
       "      <td>Good</td>\n",
       "      <td>NaN</td>\n",
       "      <td>NaN</td>\n",
       "      <td>dorothy w</td>\n",
       "      <td>Positive</td>\n",
       "    </tr>\n",
       "    <tr>\n",
       "      <th>3</th>\n",
       "      <td>AV16khLE-jtxr-f38VFn</td>\n",
       "      <td>K-Y</td>\n",
       "      <td>Personal Care,Medicine Cabinet,Lubricant/Sperm...</td>\n",
       "      <td>K-Y</td>\n",
       "      <td>K-Y Love Sensuality Pleasure Gel</td>\n",
       "      <td>2016-01-06T00:00:00.000Z</td>\n",
       "      <td>False</td>\n",
       "      <td>False</td>\n",
       "      <td>1</td>\n",
       "      <td>I read through the reviews on here before look...</td>\n",
       "      <td>Disappointed</td>\n",
       "      <td>NaN</td>\n",
       "      <td>NaN</td>\n",
       "      <td>rebecca</td>\n",
       "      <td>Negative</td>\n",
       "    </tr>\n",
       "    <tr>\n",
       "      <th>4</th>\n",
       "      <td>AV16khLE-jtxr-f38VFn</td>\n",
       "      <td>K-Y</td>\n",
       "      <td>Personal Care,Medicine Cabinet,Lubricant/Sperm...</td>\n",
       "      <td>K-Y</td>\n",
       "      <td>K-Y Love Sensuality Pleasure Gel</td>\n",
       "      <td>2016-12-21T00:00:00.000Z</td>\n",
       "      <td>False</td>\n",
       "      <td>False</td>\n",
       "      <td>1</td>\n",
       "      <td>My husband bought this gel for us. The gel cau...</td>\n",
       "      <td>Irritation</td>\n",
       "      <td>NaN</td>\n",
       "      <td>NaN</td>\n",
       "      <td>walker557</td>\n",
       "      <td>Negative</td>\n",
       "    </tr>\n",
       "  </tbody>\n",
       "</table>\n",
       "</div>"
      ],
      "text/plain": [
       "                     id            brand  \\\n",
       "0  AV13O1A8GV-KLJ3akUyj  Universal Music   \n",
       "1  AV14LG0R-jtxr-f38QfS         Lundberg   \n",
       "2  AV14LG0R-jtxr-f38QfS         Lundberg   \n",
       "3  AV16khLE-jtxr-f38VFn              K-Y   \n",
       "4  AV16khLE-jtxr-f38VFn              K-Y   \n",
       "\n",
       "                                          categories  \\\n",
       "0  Movies, Music & Books,Music,R&b,Movies & TV,Mo...   \n",
       "1  Food,Packaged Foods,Snacks,Crackers,Snacks, Co...   \n",
       "2  Food,Packaged Foods,Snacks,Crackers,Snacks, Co...   \n",
       "3  Personal Care,Medicine Cabinet,Lubricant/Sperm...   \n",
       "4  Personal Care,Medicine Cabinet,Lubricant/Sperm...   \n",
       "\n",
       "                         manufacturer  \\\n",
       "0  Universal Music Group / Cash Money   \n",
       "1                            Lundberg   \n",
       "2                            Lundberg   \n",
       "3                                 K-Y   \n",
       "4                                 K-Y   \n",
       "\n",
       "                                         name              reviews_date  \\\n",
       "0   Pink Friday: Roman Reloaded Re-Up (w/dvd)  2012-11-30T06:21:45.000Z   \n",
       "1  Lundberg Organic Cinnamon Toast Rice Cakes  2017-07-09T00:00:00.000Z   \n",
       "2  Lundberg Organic Cinnamon Toast Rice Cakes  2017-07-09T00:00:00.000Z   \n",
       "3            K-Y Love Sensuality Pleasure Gel  2016-01-06T00:00:00.000Z   \n",
       "4            K-Y Love Sensuality Pleasure Gel  2016-12-21T00:00:00.000Z   \n",
       "\n",
       "  reviews_didPurchase reviews_doRecommend  reviews_rating  \\\n",
       "0                 NaN                 NaN               5   \n",
       "1                True                 NaN               5   \n",
       "2                True                 NaN               5   \n",
       "3               False               False               1   \n",
       "4               False               False               1   \n",
       "\n",
       "                                        reviews_text reviews_title  \\\n",
       "0  i love this album. it's very good. more to the...  Just Awesome   \n",
       "1  Good flavor. This review was collected as part...          Good   \n",
       "2                                       Good flavor.          Good   \n",
       "3  I read through the reviews on here before look...  Disappointed   \n",
       "4  My husband bought this gel for us. The gel cau...    Irritation   \n",
       "\n",
       "  reviews_userCity reviews_userProvince reviews_username user_sentiment  \n",
       "0      Los Angeles                  NaN           joshua       Positive  \n",
       "1              NaN                  NaN        dorothy w       Positive  \n",
       "2              NaN                  NaN        dorothy w       Positive  \n",
       "3              NaN                  NaN          rebecca       Negative  \n",
       "4              NaN                  NaN        walker557       Negative  "
      ]
     },
     "execution_count": 4,
     "metadata": {},
     "output_type": "execute_result"
    }
   ],
   "source": [
    "df.head()"
   ]
  },
  {
   "cell_type": "code",
   "execution_count": 5,
   "metadata": {
    "colab": {
     "base_uri": "https://localhost:8080/",
     "height": 479
    },
    "executionInfo": {
     "elapsed": 4,
     "status": "ok",
     "timestamp": 1633304307686,
     "user": {
      "displayName": "Bhavini G",
      "photoUrl": "https://lh3.googleusercontent.com/a/default-user=s64",
      "userId": "04864105761682059327"
     },
     "user_tz": 420
    },
    "id": "IJ1LBuKzxpO_",
    "outputId": "45d5036b-b7b3-4a8d-d637-441356320947"
   },
   "outputs": [
    {
     "data": {
      "text/html": [
       "<div>\n",
       "<style scoped>\n",
       "    .dataframe tbody tr th:only-of-type {\n",
       "        vertical-align: middle;\n",
       "    }\n",
       "\n",
       "    .dataframe tbody tr th {\n",
       "        vertical-align: top;\n",
       "    }\n",
       "\n",
       "    .dataframe thead th {\n",
       "        text-align: right;\n",
       "    }\n",
       "</style>\n",
       "<table border=\"1\" class=\"dataframe\">\n",
       "  <thead>\n",
       "    <tr style=\"text-align: right;\">\n",
       "      <th></th>\n",
       "      <th>id</th>\n",
       "      <th>brand</th>\n",
       "      <th>categories</th>\n",
       "      <th>manufacturer</th>\n",
       "      <th>name</th>\n",
       "      <th>reviews_date</th>\n",
       "      <th>reviews_didPurchase</th>\n",
       "      <th>reviews_doRecommend</th>\n",
       "      <th>reviews_rating</th>\n",
       "      <th>reviews_text</th>\n",
       "      <th>reviews_title</th>\n",
       "      <th>reviews_userCity</th>\n",
       "      <th>reviews_userProvince</th>\n",
       "      <th>reviews_username</th>\n",
       "      <th>user_sentiment</th>\n",
       "    </tr>\n",
       "  </thead>\n",
       "  <tbody>\n",
       "    <tr>\n",
       "      <th>29995</th>\n",
       "      <td>AVpfW8y_LJeJML437ySW</td>\n",
       "      <td>L'oreal Paris</td>\n",
       "      <td>Beauty,Hair Care,Shampoo &amp; Conditioner,Holiday...</td>\n",
       "      <td>L'oreal Paris</td>\n",
       "      <td>L'or233al Paris Elvive Extraordinary Clay Reba...</td>\n",
       "      <td>2017-01-23T00:00:00.000Z</td>\n",
       "      <td>False</td>\n",
       "      <td>True</td>\n",
       "      <td>5</td>\n",
       "      <td>I got this conditioner with Influenster to try...</td>\n",
       "      <td>Softness!!</td>\n",
       "      <td>NaN</td>\n",
       "      <td>NaN</td>\n",
       "      <td>laurasnchz</td>\n",
       "      <td>Positive</td>\n",
       "    </tr>\n",
       "    <tr>\n",
       "      <th>29996</th>\n",
       "      <td>AVpfW8y_LJeJML437ySW</td>\n",
       "      <td>L'oreal Paris</td>\n",
       "      <td>Beauty,Hair Care,Shampoo &amp; Conditioner,Holiday...</td>\n",
       "      <td>L'oreal Paris</td>\n",
       "      <td>L'or233al Paris Elvive Extraordinary Clay Reba...</td>\n",
       "      <td>2017-01-27T00:00:00.000Z</td>\n",
       "      <td>False</td>\n",
       "      <td>True</td>\n",
       "      <td>5</td>\n",
       "      <td>I love it , I received this for review purpose...</td>\n",
       "      <td>I love it</td>\n",
       "      <td>NaN</td>\n",
       "      <td>NaN</td>\n",
       "      <td>scarlepadilla</td>\n",
       "      <td>Positive</td>\n",
       "    </tr>\n",
       "    <tr>\n",
       "      <th>29997</th>\n",
       "      <td>AVpfW8y_LJeJML437ySW</td>\n",
       "      <td>L'oreal Paris</td>\n",
       "      <td>Beauty,Hair Care,Shampoo &amp; Conditioner,Holiday...</td>\n",
       "      <td>L'oreal Paris</td>\n",
       "      <td>L'or233al Paris Elvive Extraordinary Clay Reba...</td>\n",
       "      <td>2017-01-21T00:00:00.000Z</td>\n",
       "      <td>False</td>\n",
       "      <td>True</td>\n",
       "      <td>5</td>\n",
       "      <td>First of all I love the smell of this product....</td>\n",
       "      <td>Hair is so smooth after use</td>\n",
       "      <td>NaN</td>\n",
       "      <td>NaN</td>\n",
       "      <td>liviasuexo</td>\n",
       "      <td>Positive</td>\n",
       "    </tr>\n",
       "    <tr>\n",
       "      <th>29998</th>\n",
       "      <td>AVpfW8y_LJeJML437ySW</td>\n",
       "      <td>L'oreal Paris</td>\n",
       "      <td>Beauty,Hair Care,Shampoo &amp; Conditioner,Holiday...</td>\n",
       "      <td>L'oreal Paris</td>\n",
       "      <td>L'or233al Paris Elvive Extraordinary Clay Reba...</td>\n",
       "      <td>2017-01-11T00:00:00.000Z</td>\n",
       "      <td>False</td>\n",
       "      <td>True</td>\n",
       "      <td>5</td>\n",
       "      <td>I received this through Influenster and will n...</td>\n",
       "      <td>Perfect for my oily hair!</td>\n",
       "      <td>NaN</td>\n",
       "      <td>NaN</td>\n",
       "      <td>ktreed95</td>\n",
       "      <td>Positive</td>\n",
       "    </tr>\n",
       "    <tr>\n",
       "      <th>29999</th>\n",
       "      <td>AVpfW8y_LJeJML437ySW</td>\n",
       "      <td>L'oreal Paris</td>\n",
       "      <td>Beauty,Hair Care,Shampoo &amp; Conditioner,Holiday...</td>\n",
       "      <td>L'oreal Paris</td>\n",
       "      <td>L'or233al Paris Elvive Extraordinary Clay Reba...</td>\n",
       "      <td>2017-01-19T00:00:00.000Z</td>\n",
       "      <td>False</td>\n",
       "      <td>True</td>\n",
       "      <td>5</td>\n",
       "      <td>I received this product complimentary from inf...</td>\n",
       "      <td>Conditioned into healthy</td>\n",
       "      <td>NaN</td>\n",
       "      <td>NaN</td>\n",
       "      <td>kcoopxoxo</td>\n",
       "      <td>Positive</td>\n",
       "    </tr>\n",
       "  </tbody>\n",
       "</table>\n",
       "</div>"
      ],
      "text/plain": [
       "                         id          brand  \\\n",
       "29995  AVpfW8y_LJeJML437ySW  L'oreal Paris   \n",
       "29996  AVpfW8y_LJeJML437ySW  L'oreal Paris   \n",
       "29997  AVpfW8y_LJeJML437ySW  L'oreal Paris   \n",
       "29998  AVpfW8y_LJeJML437ySW  L'oreal Paris   \n",
       "29999  AVpfW8y_LJeJML437ySW  L'oreal Paris   \n",
       "\n",
       "                                              categories   manufacturer  \\\n",
       "29995  Beauty,Hair Care,Shampoo & Conditioner,Holiday...  L'oreal Paris   \n",
       "29996  Beauty,Hair Care,Shampoo & Conditioner,Holiday...  L'oreal Paris   \n",
       "29997  Beauty,Hair Care,Shampoo & Conditioner,Holiday...  L'oreal Paris   \n",
       "29998  Beauty,Hair Care,Shampoo & Conditioner,Holiday...  L'oreal Paris   \n",
       "29999  Beauty,Hair Care,Shampoo & Conditioner,Holiday...  L'oreal Paris   \n",
       "\n",
       "                                                    name  \\\n",
       "29995  L'or233al Paris Elvive Extraordinary Clay Reba...   \n",
       "29996  L'or233al Paris Elvive Extraordinary Clay Reba...   \n",
       "29997  L'or233al Paris Elvive Extraordinary Clay Reba...   \n",
       "29998  L'or233al Paris Elvive Extraordinary Clay Reba...   \n",
       "29999  L'or233al Paris Elvive Extraordinary Clay Reba...   \n",
       "\n",
       "                   reviews_date reviews_didPurchase reviews_doRecommend  \\\n",
       "29995  2017-01-23T00:00:00.000Z               False                True   \n",
       "29996  2017-01-27T00:00:00.000Z               False                True   \n",
       "29997  2017-01-21T00:00:00.000Z               False                True   \n",
       "29998  2017-01-11T00:00:00.000Z               False                True   \n",
       "29999  2017-01-19T00:00:00.000Z               False                True   \n",
       "\n",
       "       reviews_rating                                       reviews_text  \\\n",
       "29995               5  I got this conditioner with Influenster to try...   \n",
       "29996               5  I love it , I received this for review purpose...   \n",
       "29997               5  First of all I love the smell of this product....   \n",
       "29998               5  I received this through Influenster and will n...   \n",
       "29999               5  I received this product complimentary from inf...   \n",
       "\n",
       "                     reviews_title reviews_userCity reviews_userProvince  \\\n",
       "29995                   Softness!!              NaN                  NaN   \n",
       "29996                    I love it              NaN                  NaN   \n",
       "29997  Hair is so smooth after use              NaN                  NaN   \n",
       "29998    Perfect for my oily hair!              NaN                  NaN   \n",
       "29999     Conditioned into healthy              NaN                  NaN   \n",
       "\n",
       "      reviews_username user_sentiment  \n",
       "29995       laurasnchz       Positive  \n",
       "29996    scarlepadilla       Positive  \n",
       "29997       liviasuexo       Positive  \n",
       "29998         ktreed95       Positive  \n",
       "29999        kcoopxoxo       Positive  "
      ]
     },
     "execution_count": 5,
     "metadata": {},
     "output_type": "execute_result"
    }
   ],
   "source": [
    "df.tail()"
   ]
  },
  {
   "cell_type": "code",
   "execution_count": 6,
   "metadata": {
    "colab": {
     "base_uri": "https://localhost:8080/"
    },
    "executionInfo": {
     "elapsed": 4,
     "status": "ok",
     "timestamp": 1633304309345,
     "user": {
      "displayName": "Bhavini G",
      "photoUrl": "https://lh3.googleusercontent.com/a/default-user=s64",
      "userId": "04864105761682059327"
     },
     "user_tz": 420
    },
    "id": "CIkdhZ631Zxx",
    "outputId": "9b508f75-870a-4afd-ebe9-6f306cf274ce"
   },
   "outputs": [
    {
     "data": {
      "text/plain": [
       "(30000, 15)"
      ]
     },
     "execution_count": 6,
     "metadata": {},
     "output_type": "execute_result"
    }
   ],
   "source": [
    "df.shape"
   ]
  },
  {
   "cell_type": "code",
   "execution_count": 7,
   "metadata": {
    "colab": {
     "base_uri": "https://localhost:8080/",
     "height": 297
    },
    "executionInfo": {
     "elapsed": 4,
     "status": "ok",
     "timestamp": 1633304310916,
     "user": {
      "displayName": "Bhavini G",
      "photoUrl": "https://lh3.googleusercontent.com/a/default-user=s64",
      "userId": "04864105761682059327"
     },
     "user_tz": 420
    },
    "id": "Y2Xm24EG1paH",
    "outputId": "1e392067-90df-4e8c-ae4f-979d272702dc"
   },
   "outputs": [
    {
     "data": {
      "text/html": [
       "<div>\n",
       "<style scoped>\n",
       "    .dataframe tbody tr th:only-of-type {\n",
       "        vertical-align: middle;\n",
       "    }\n",
       "\n",
       "    .dataframe tbody tr th {\n",
       "        vertical-align: top;\n",
       "    }\n",
       "\n",
       "    .dataframe thead th {\n",
       "        text-align: right;\n",
       "    }\n",
       "</style>\n",
       "<table border=\"1\" class=\"dataframe\">\n",
       "  <thead>\n",
       "    <tr style=\"text-align: right;\">\n",
       "      <th></th>\n",
       "      <th>reviews_rating</th>\n",
       "    </tr>\n",
       "  </thead>\n",
       "  <tbody>\n",
       "    <tr>\n",
       "      <th>count</th>\n",
       "      <td>30000.000000</td>\n",
       "    </tr>\n",
       "    <tr>\n",
       "      <th>mean</th>\n",
       "      <td>4.483133</td>\n",
       "    </tr>\n",
       "    <tr>\n",
       "      <th>std</th>\n",
       "      <td>0.988441</td>\n",
       "    </tr>\n",
       "    <tr>\n",
       "      <th>min</th>\n",
       "      <td>1.000000</td>\n",
       "    </tr>\n",
       "    <tr>\n",
       "      <th>25%</th>\n",
       "      <td>4.000000</td>\n",
       "    </tr>\n",
       "    <tr>\n",
       "      <th>50%</th>\n",
       "      <td>5.000000</td>\n",
       "    </tr>\n",
       "    <tr>\n",
       "      <th>75%</th>\n",
       "      <td>5.000000</td>\n",
       "    </tr>\n",
       "    <tr>\n",
       "      <th>max</th>\n",
       "      <td>5.000000</td>\n",
       "    </tr>\n",
       "  </tbody>\n",
       "</table>\n",
       "</div>"
      ],
      "text/plain": [
       "       reviews_rating\n",
       "count    30000.000000\n",
       "mean         4.483133\n",
       "std          0.988441\n",
       "min          1.000000\n",
       "25%          4.000000\n",
       "50%          5.000000\n",
       "75%          5.000000\n",
       "max          5.000000"
      ]
     },
     "execution_count": 7,
     "metadata": {},
     "output_type": "execute_result"
    }
   ],
   "source": [
    "df.describe()\n",
    "#As we can see in the describe method, only reviews_rating is the numerical column, all other columns are categorical as given"
   ]
  },
  {
   "cell_type": "code",
   "execution_count": 8,
   "metadata": {
    "colab": {
     "base_uri": "https://localhost:8080/"
    },
    "executionInfo": {
     "elapsed": 184,
     "status": "ok",
     "timestamp": 1633304315842,
     "user": {
      "displayName": "Bhavini G",
      "photoUrl": "https://lh3.googleusercontent.com/a/default-user=s64",
      "userId": "04864105761682059327"
     },
     "user_tz": 420
    },
    "id": "6DCP9XDo1rmM",
    "outputId": "0e6a7bd1-b786-46bc-8d42-9e609aaf49b7"
   },
   "outputs": [
    {
     "name": "stdout",
     "output_type": "stream",
     "text": [
      "<class 'pandas.core.frame.DataFrame'>\n",
      "RangeIndex: 30000 entries, 0 to 29999\n",
      "Data columns (total 15 columns):\n",
      " #   Column                Non-Null Count  Dtype \n",
      "---  ------                --------------  ----- \n",
      " 0   id                    30000 non-null  object\n",
      " 1   brand                 30000 non-null  object\n",
      " 2   categories            30000 non-null  object\n",
      " 3   manufacturer          29859 non-null  object\n",
      " 4   name                  30000 non-null  object\n",
      " 5   reviews_date          29954 non-null  object\n",
      " 6   reviews_didPurchase   15932 non-null  object\n",
      " 7   reviews_doRecommend   27430 non-null  object\n",
      " 8   reviews_rating        30000 non-null  int64 \n",
      " 9   reviews_text          30000 non-null  object\n",
      " 10  reviews_title         29810 non-null  object\n",
      " 11  reviews_userCity      1929 non-null   object\n",
      " 12  reviews_userProvince  170 non-null    object\n",
      " 13  reviews_username      29937 non-null  object\n",
      " 14  user_sentiment        29999 non-null  object\n",
      "dtypes: int64(1), object(14)\n",
      "memory usage: 3.4+ MB\n"
     ]
    }
   ],
   "source": [
    "df.info()"
   ]
  },
  {
   "cell_type": "code",
   "execution_count": 9,
   "metadata": {
    "colab": {
     "base_uri": "https://localhost:8080/"
    },
    "executionInfo": {
     "elapsed": 178,
     "status": "ok",
     "timestamp": 1633304323830,
     "user": {
      "displayName": "Bhavini G",
      "photoUrl": "https://lh3.googleusercontent.com/a/default-user=s64",
      "userId": "04864105761682059327"
     },
     "user_tz": 420
    },
    "id": "zkARmbnU7rHa",
    "outputId": "5779b949-c30b-4a49-8bd9-1e2eb853d57a"
   },
   "outputs": [
    {
     "data": {
      "text/plain": [
       "271"
      ]
     },
     "execution_count": 9,
     "metadata": {},
     "output_type": "execute_result"
    }
   ],
   "source": [
    "len(df.id.unique())\n",
    "## there are 271 unique products"
   ]
  },
  {
   "cell_type": "code",
   "execution_count": 10,
   "metadata": {
    "colab": {
     "base_uri": "https://localhost:8080/"
    },
    "executionInfo": {
     "elapsed": 164,
     "status": "ok",
     "timestamp": 1633304325065,
     "user": {
      "displayName": "Bhavini G",
      "photoUrl": "https://lh3.googleusercontent.com/a/default-user=s64",
      "userId": "04864105761682059327"
     },
     "user_tz": 420
    },
    "id": "ElccRF5q-seV",
    "outputId": "dcc42062-97b3-4634-bf1c-32bf6b4505fc"
   },
   "outputs": [
    {
     "data": {
      "text/plain": [
       "24915"
      ]
     },
     "execution_count": 10,
     "metadata": {},
     "output_type": "execute_result"
    }
   ],
   "source": [
    "len(df.reviews_username.unique())\n",
    "# The number of users or reviewers in the dataset are 24915 out of total 30000 rows. This shows the each user may have put few reviews"
   ]
  },
  {
   "cell_type": "markdown",
   "metadata": {
    "id": "O42KLn_y4fW_"
   },
   "source": [
    "### Checking for null values"
   ]
  },
  {
   "cell_type": "code",
   "execution_count": 11,
   "metadata": {
    "colab": {
     "base_uri": "https://localhost:8080/"
    },
    "executionInfo": {
     "elapsed": 168,
     "status": "ok",
     "timestamp": 1633304356169,
     "user": {
      "displayName": "Bhavini G",
      "photoUrl": "https://lh3.googleusercontent.com/a/default-user=s64",
      "userId": "04864105761682059327"
     },
     "user_tz": 420
    },
    "id": "hs5Dq3W5DkWb",
    "outputId": "2138a42f-0720-48b7-bb0a-2c5addbe7a21"
   },
   "outputs": [
    {
     "data": {
      "text/plain": [
       "reviews_userProvince    99.43\n",
       "reviews_userCity        93.57\n",
       "reviews_didPurchase     46.89\n",
       "reviews_doRecommend      8.57\n",
       "reviews_title            0.63\n",
       "manufacturer             0.47\n",
       "reviews_username         0.21\n",
       "reviews_date             0.15\n",
       "id                       0.00\n",
       "brand                    0.00\n",
       "categories               0.00\n",
       "name                     0.00\n",
       "reviews_rating           0.00\n",
       "reviews_text             0.00\n",
       "user_sentiment           0.00\n",
       "dtype: float64"
      ]
     },
     "execution_count": 11,
     "metadata": {},
     "output_type": "execute_result"
    }
   ],
   "source": [
    "# Percent missing values calculations\n",
    "# This shows that the reviews_userProvince and reviews_userCity columns are of no use as they have 99.43% and 93.57% missing values\n",
    "# We shall remove these columns from further study.\n",
    "# Also, the column reviews_didPurchase has 47% null values\n",
    "((df.isna().sum()/len(df)).round(4)*100).sort_values(ascending=False)"
   ]
  },
  {
   "cell_type": "code",
   "execution_count": 12,
   "metadata": {
    "colab": {
     "base_uri": "https://localhost:8080/"
    },
    "executionInfo": {
     "elapsed": 138,
     "status": "ok",
     "timestamp": 1633304358582,
     "user": {
      "displayName": "Bhavini G",
      "photoUrl": "https://lh3.googleusercontent.com/a/default-user=s64",
      "userId": "04864105761682059327"
     },
     "user_tz": 420
    },
    "id": "GZjohkoP4KBn",
    "outputId": "f4dcf5fd-eb27-4b31-8148-3a55d4250ac4"
   },
   "outputs": [
    {
     "data": {
      "text/plain": [
       "reviews_userProvince    29830\n",
       "reviews_userCity        28071\n",
       "reviews_didPurchase     14068\n",
       "reviews_doRecommend      2570\n",
       "reviews_title             190\n",
       "manufacturer              141\n",
       "reviews_username           63\n",
       "reviews_date               46\n",
       "user_sentiment              1\n",
       "id                          0\n",
       "brand                       0\n",
       "categories                  0\n",
       "name                        0\n",
       "reviews_rating              0\n",
       "reviews_text                0\n",
       "dtype: int64"
      ]
     },
     "execution_count": 12,
     "metadata": {},
     "output_type": "execute_result"
    }
   ],
   "source": [
    "df.isna().sum().sort_values(ascending=False)"
   ]
  },
  {
   "cell_type": "markdown",
   "metadata": {
    "id": "oQvOy_He_UUa"
   },
   "source": [
    "### Checking for duplicates"
   ]
  },
  {
   "cell_type": "code",
   "execution_count": 13,
   "metadata": {
    "colab": {
     "base_uri": "https://localhost:8080/"
    },
    "executionInfo": {
     "elapsed": 170,
     "status": "ok",
     "timestamp": 1633304410806,
     "user": {
      "displayName": "Bhavini G",
      "photoUrl": "https://lh3.googleusercontent.com/a/default-user=s64",
      "userId": "04864105761682059327"
     },
     "user_tz": 420
    },
    "id": "PwaSuxWStv-N",
    "outputId": "6023e7da-5dd4-4e1b-f491-0ab4c7024b2a"
   },
   "outputs": [
    {
     "data": {
      "text/plain": [
       "2237"
      ]
     },
     "execution_count": 13,
     "metadata": {},
     "output_type": "execute_result"
    }
   ],
   "source": [
    "df.duplicated(subset=['id', 'name', 'reviews_username','reviews_rating']).sum()\n",
    "# There are 2237 rows in the data that are duplicate values. This will be removed during data cleaning."
   ]
  },
  {
   "cell_type": "code",
   "execution_count": 14,
   "metadata": {
    "colab": {
     "base_uri": "https://localhost:8080/",
     "height": 1000
    },
    "executionInfo": {
     "elapsed": 4,
     "status": "ok",
     "timestamp": 1633304412263,
     "user": {
      "displayName": "Bhavini G",
      "photoUrl": "https://lh3.googleusercontent.com/a/default-user=s64",
      "userId": "04864105761682059327"
     },
     "user_tz": 420
    },
    "id": "ji9MMvg3vXhe",
    "outputId": "b2f4ff93-817b-4803-e8b9-f0027b591403"
   },
   "outputs": [
    {
     "data": {
      "text/html": [
       "<div>\n",
       "<style scoped>\n",
       "    .dataframe tbody tr th:only-of-type {\n",
       "        vertical-align: middle;\n",
       "    }\n",
       "\n",
       "    .dataframe tbody tr th {\n",
       "        vertical-align: top;\n",
       "    }\n",
       "\n",
       "    .dataframe thead th {\n",
       "        text-align: right;\n",
       "    }\n",
       "</style>\n",
       "<table border=\"1\" class=\"dataframe\">\n",
       "  <thead>\n",
       "    <tr style=\"text-align: right;\">\n",
       "      <th></th>\n",
       "      <th>id</th>\n",
       "      <th>brand</th>\n",
       "      <th>categories</th>\n",
       "      <th>manufacturer</th>\n",
       "      <th>name</th>\n",
       "      <th>reviews_date</th>\n",
       "      <th>reviews_didPurchase</th>\n",
       "      <th>reviews_doRecommend</th>\n",
       "      <th>reviews_rating</th>\n",
       "      <th>reviews_text</th>\n",
       "      <th>reviews_title</th>\n",
       "      <th>reviews_userCity</th>\n",
       "      <th>reviews_userProvince</th>\n",
       "      <th>reviews_username</th>\n",
       "      <th>user_sentiment</th>\n",
       "    </tr>\n",
       "  </thead>\n",
       "  <tbody>\n",
       "    <tr>\n",
       "      <th>2</th>\n",
       "      <td>AV14LG0R-jtxr-f38QfS</td>\n",
       "      <td>Lundberg</td>\n",
       "      <td>Food,Packaged Foods,Snacks,Crackers,Snacks, Co...</td>\n",
       "      <td>Lundberg</td>\n",
       "      <td>Lundberg Organic Cinnamon Toast Rice Cakes</td>\n",
       "      <td>2017-07-09T00:00:00.000Z</td>\n",
       "      <td>True</td>\n",
       "      <td>NaN</td>\n",
       "      <td>5</td>\n",
       "      <td>Good flavor.</td>\n",
       "      <td>Good</td>\n",
       "      <td>NaN</td>\n",
       "      <td>NaN</td>\n",
       "      <td>dorothy w</td>\n",
       "      <td>Positive</td>\n",
       "    </tr>\n",
       "    <tr>\n",
       "      <th>12</th>\n",
       "      <td>AV16khLE-jtxr-f38VFn</td>\n",
       "      <td>K-Y</td>\n",
       "      <td>Personal Care,Medicine Cabinet,Lubricant/Sperm...</td>\n",
       "      <td>K-Y</td>\n",
       "      <td>K-Y Love Sensuality Pleasure Gel</td>\n",
       "      <td>2016-04-08T00:00:00.000Z</td>\n",
       "      <td>False</td>\n",
       "      <td>False</td>\n",
       "      <td>1</td>\n",
       "      <td>Bought this to enhance our time a bit, did abs...</td>\n",
       "      <td>waste of money</td>\n",
       "      <td>NaN</td>\n",
       "      <td>NaN</td>\n",
       "      <td>jds1992</td>\n",
       "      <td>Negative</td>\n",
       "    </tr>\n",
       "    <tr>\n",
       "      <th>44</th>\n",
       "      <td>AV1h6Gu0glJLPUi8IjA_</td>\n",
       "      <td>Johnson's</td>\n",
       "      <td>Personal Care,Baby Care,Baby Bubble Bath,Baby,...</td>\n",
       "      <td>Johnson's</td>\n",
       "      <td>Johnson's Baby Bubble Bath and Wash, 15oz</td>\n",
       "      <td>2017-05-09T00:00:00.000Z</td>\n",
       "      <td>False</td>\n",
       "      <td>True</td>\n",
       "      <td>4</td>\n",
       "      <td>Well, Johnson's need I say more I know, right....</td>\n",
       "      <td>2 in 1!!!</td>\n",
       "      <td>NaN</td>\n",
       "      <td>NaN</td>\n",
       "      <td>solo</td>\n",
       "      <td>Positive</td>\n",
       "    </tr>\n",
       "    <tr>\n",
       "      <th>79</th>\n",
       "      <td>AV1l8zRZvKc47QAVhnAv</td>\n",
       "      <td>Olay</td>\n",
       "      <td>Personal Care,Skin Care,Anti-Aging,Beauty,Face...</td>\n",
       "      <td>P&amp;G</td>\n",
       "      <td>Olay Regenerist Deep Hydration Regenerating Cream</td>\n",
       "      <td>2016-04-30T00:00:00.000Z</td>\n",
       "      <td>False</td>\n",
       "      <td>True</td>\n",
       "      <td>3</td>\n",
       "      <td>Today is my first time using this product. Fel...</td>\n",
       "      <td>Why No fragrance-free Formula</td>\n",
       "      <td>NaN</td>\n",
       "      <td>NaN</td>\n",
       "      <td>mylifeinheels</td>\n",
       "      <td>Positive</td>\n",
       "    </tr>\n",
       "    <tr>\n",
       "      <th>90</th>\n",
       "      <td>AV1l8zRZvKc47QAVhnAv</td>\n",
       "      <td>Olay</td>\n",
       "      <td>Personal Care,Skin Care,Anti-Aging,Beauty,Face...</td>\n",
       "      <td>P&amp;G</td>\n",
       "      <td>Olay Regenerist Deep Hydration Regenerating Cream</td>\n",
       "      <td>2016-04-30T03:08:38.000Z</td>\n",
       "      <td>NaN</td>\n",
       "      <td>True</td>\n",
       "      <td>3</td>\n",
       "      <td>Today is my first time using this product. Fel...</td>\n",
       "      <td>Why No Fragrance-free Formula</td>\n",
       "      <td>Brooklyn</td>\n",
       "      <td>NaN</td>\n",
       "      <td>mylifeinheels</td>\n",
       "      <td>Positive</td>\n",
       "    </tr>\n",
       "    <tr>\n",
       "      <th>...</th>\n",
       "      <td>...</td>\n",
       "      <td>...</td>\n",
       "      <td>...</td>\n",
       "      <td>...</td>\n",
       "      <td>...</td>\n",
       "      <td>...</td>\n",
       "      <td>...</td>\n",
       "      <td>...</td>\n",
       "      <td>...</td>\n",
       "      <td>...</td>\n",
       "      <td>...</td>\n",
       "      <td>...</td>\n",
       "      <td>...</td>\n",
       "      <td>...</td>\n",
       "      <td>...</td>\n",
       "    </tr>\n",
       "    <tr>\n",
       "      <th>29807</th>\n",
       "      <td>AVpfW8y_LJeJML437ySW</td>\n",
       "      <td>L'oreal Paris</td>\n",
       "      <td>Beauty,Hair Care,Shampoo &amp; Conditioner,Holiday...</td>\n",
       "      <td>L'oreal Paris</td>\n",
       "      <td>L'or233al Paris Elvive Extraordinary Clay Reba...</td>\n",
       "      <td>2016-12-30T00:00:00.000Z</td>\n",
       "      <td>False</td>\n",
       "      <td>NaN</td>\n",
       "      <td>5</td>\n",
       "      <td>I received this product from Influenster in ex...</td>\n",
       "      <td>Smooth and silky!</td>\n",
       "      <td>NaN</td>\n",
       "      <td>NaN</td>\n",
       "      <td>joycakes</td>\n",
       "      <td>Positive</td>\n",
       "    </tr>\n",
       "    <tr>\n",
       "      <th>29827</th>\n",
       "      <td>AVpfW8y_LJeJML437ySW</td>\n",
       "      <td>L'oreal Paris</td>\n",
       "      <td>Beauty,Hair Care,Shampoo &amp; Conditioner,Holiday...</td>\n",
       "      <td>L'oreal Paris</td>\n",
       "      <td>L'or233al Paris Elvive Extraordinary Clay Reba...</td>\n",
       "      <td>2017-01-04T00:00:00.000Z</td>\n",
       "      <td>False</td>\n",
       "      <td>True</td>\n",
       "      <td>5</td>\n",
       "      <td>This works great to make my hair shiny and hea...</td>\n",
       "      <td>Really hydrates!</td>\n",
       "      <td>NaN</td>\n",
       "      <td>NaN</td>\n",
       "      <td>emily95</td>\n",
       "      <td>Positive</td>\n",
       "    </tr>\n",
       "    <tr>\n",
       "      <th>29841</th>\n",
       "      <td>AVpfW8y_LJeJML437ySW</td>\n",
       "      <td>L'oreal Paris</td>\n",
       "      <td>Beauty,Hair Care,Shampoo &amp; Conditioner,Holiday...</td>\n",
       "      <td>L'oreal Paris</td>\n",
       "      <td>L'or233al Paris Elvive Extraordinary Clay Reba...</td>\n",
       "      <td>2016-12-29T00:00:00.000Z</td>\n",
       "      <td>False</td>\n",
       "      <td>True</td>\n",
       "      <td>5</td>\n",
       "      <td>I received this product free from influenster ...</td>\n",
       "      <td>Good stuff</td>\n",
       "      <td>NaN</td>\n",
       "      <td>NaN</td>\n",
       "      <td>brookieboo1994</td>\n",
       "      <td>Positive</td>\n",
       "    </tr>\n",
       "    <tr>\n",
       "      <th>29921</th>\n",
       "      <td>AVpfW8y_LJeJML437ySW</td>\n",
       "      <td>L'oreal Paris</td>\n",
       "      <td>Beauty,Hair Care,Shampoo &amp; Conditioner,Holiday...</td>\n",
       "      <td>L'oreal Paris</td>\n",
       "      <td>L'or233al Paris Elvive Extraordinary Clay Reba...</td>\n",
       "      <td>2017-01-21T00:00:00.000Z</td>\n",
       "      <td>False</td>\n",
       "      <td>True</td>\n",
       "      <td>5</td>\n",
       "      <td>This stuff is so hydrating and it smells so am...</td>\n",
       "      <td>Smells so freaking good!</td>\n",
       "      <td>NaN</td>\n",
       "      <td>NaN</td>\n",
       "      <td>talmariejohn</td>\n",
       "      <td>Positive</td>\n",
       "    </tr>\n",
       "    <tr>\n",
       "      <th>29944</th>\n",
       "      <td>AVpfW8y_LJeJML437ySW</td>\n",
       "      <td>L'oreal Paris</td>\n",
       "      <td>Beauty,Hair Care,Shampoo &amp; Conditioner,Holiday...</td>\n",
       "      <td>L'oreal Paris</td>\n",
       "      <td>L'or233al Paris Elvive Extraordinary Clay Reba...</td>\n",
       "      <td>2017-01-04T00:00:00.000Z</td>\n",
       "      <td>False</td>\n",
       "      <td>True</td>\n",
       "      <td>5</td>\n",
       "      <td>Works really great! It doesn't make my hair gr...</td>\n",
       "      <td>Good conditioner great value</td>\n",
       "      <td>NaN</td>\n",
       "      <td>NaN</td>\n",
       "      <td>filo123</td>\n",
       "      <td>Positive</td>\n",
       "    </tr>\n",
       "  </tbody>\n",
       "</table>\n",
       "<p>2237 rows × 15 columns</p>\n",
       "</div>"
      ],
      "text/plain": [
       "                         id          brand  \\\n",
       "2      AV14LG0R-jtxr-f38QfS       Lundberg   \n",
       "12     AV16khLE-jtxr-f38VFn            K-Y   \n",
       "44     AV1h6Gu0glJLPUi8IjA_      Johnson's   \n",
       "79     AV1l8zRZvKc47QAVhnAv           Olay   \n",
       "90     AV1l8zRZvKc47QAVhnAv           Olay   \n",
       "...                     ...            ...   \n",
       "29807  AVpfW8y_LJeJML437ySW  L'oreal Paris   \n",
       "29827  AVpfW8y_LJeJML437ySW  L'oreal Paris   \n",
       "29841  AVpfW8y_LJeJML437ySW  L'oreal Paris   \n",
       "29921  AVpfW8y_LJeJML437ySW  L'oreal Paris   \n",
       "29944  AVpfW8y_LJeJML437ySW  L'oreal Paris   \n",
       "\n",
       "                                              categories   manufacturer  \\\n",
       "2      Food,Packaged Foods,Snacks,Crackers,Snacks, Co...       Lundberg   \n",
       "12     Personal Care,Medicine Cabinet,Lubricant/Sperm...            K-Y   \n",
       "44     Personal Care,Baby Care,Baby Bubble Bath,Baby,...      Johnson's   \n",
       "79     Personal Care,Skin Care,Anti-Aging,Beauty,Face...            P&G   \n",
       "90     Personal Care,Skin Care,Anti-Aging,Beauty,Face...            P&G   \n",
       "...                                                  ...            ...   \n",
       "29807  Beauty,Hair Care,Shampoo & Conditioner,Holiday...  L'oreal Paris   \n",
       "29827  Beauty,Hair Care,Shampoo & Conditioner,Holiday...  L'oreal Paris   \n",
       "29841  Beauty,Hair Care,Shampoo & Conditioner,Holiday...  L'oreal Paris   \n",
       "29921  Beauty,Hair Care,Shampoo & Conditioner,Holiday...  L'oreal Paris   \n",
       "29944  Beauty,Hair Care,Shampoo & Conditioner,Holiday...  L'oreal Paris   \n",
       "\n",
       "                                                    name  \\\n",
       "2             Lundberg Organic Cinnamon Toast Rice Cakes   \n",
       "12                      K-Y Love Sensuality Pleasure Gel   \n",
       "44             Johnson's Baby Bubble Bath and Wash, 15oz   \n",
       "79     Olay Regenerist Deep Hydration Regenerating Cream   \n",
       "90     Olay Regenerist Deep Hydration Regenerating Cream   \n",
       "...                                                  ...   \n",
       "29807  L'or233al Paris Elvive Extraordinary Clay Reba...   \n",
       "29827  L'or233al Paris Elvive Extraordinary Clay Reba...   \n",
       "29841  L'or233al Paris Elvive Extraordinary Clay Reba...   \n",
       "29921  L'or233al Paris Elvive Extraordinary Clay Reba...   \n",
       "29944  L'or233al Paris Elvive Extraordinary Clay Reba...   \n",
       "\n",
       "                   reviews_date reviews_didPurchase reviews_doRecommend  \\\n",
       "2      2017-07-09T00:00:00.000Z                True                 NaN   \n",
       "12     2016-04-08T00:00:00.000Z               False               False   \n",
       "44     2017-05-09T00:00:00.000Z               False                True   \n",
       "79     2016-04-30T00:00:00.000Z               False                True   \n",
       "90     2016-04-30T03:08:38.000Z                 NaN                True   \n",
       "...                         ...                 ...                 ...   \n",
       "29807  2016-12-30T00:00:00.000Z               False                 NaN   \n",
       "29827  2017-01-04T00:00:00.000Z               False                True   \n",
       "29841  2016-12-29T00:00:00.000Z               False                True   \n",
       "29921  2017-01-21T00:00:00.000Z               False                True   \n",
       "29944  2017-01-04T00:00:00.000Z               False                True   \n",
       "\n",
       "       reviews_rating                                       reviews_text  \\\n",
       "2                   5                                       Good flavor.   \n",
       "12                  1  Bought this to enhance our time a bit, did abs...   \n",
       "44                  4  Well, Johnson's need I say more I know, right....   \n",
       "79                  3  Today is my first time using this product. Fel...   \n",
       "90                  3  Today is my first time using this product. Fel...   \n",
       "...               ...                                                ...   \n",
       "29807               5  I received this product from Influenster in ex...   \n",
       "29827               5  This works great to make my hair shiny and hea...   \n",
       "29841               5  I received this product free from influenster ...   \n",
       "29921               5  This stuff is so hydrating and it smells so am...   \n",
       "29944               5  Works really great! It doesn't make my hair gr...   \n",
       "\n",
       "                       reviews_title reviews_userCity reviews_userProvince  \\\n",
       "2                               Good              NaN                  NaN   \n",
       "12                    waste of money              NaN                  NaN   \n",
       "44                         2 in 1!!!              NaN                  NaN   \n",
       "79     Why No fragrance-free Formula              NaN                  NaN   \n",
       "90     Why No Fragrance-free Formula         Brooklyn                  NaN   \n",
       "...                              ...              ...                  ...   \n",
       "29807              Smooth and silky!              NaN                  NaN   \n",
       "29827               Really hydrates!              NaN                  NaN   \n",
       "29841                     Good stuff              NaN                  NaN   \n",
       "29921       Smells so freaking good!              NaN                  NaN   \n",
       "29944   Good conditioner great value              NaN                  NaN   \n",
       "\n",
       "      reviews_username user_sentiment  \n",
       "2            dorothy w       Positive  \n",
       "12             jds1992       Negative  \n",
       "44                solo       Positive  \n",
       "79       mylifeinheels       Positive  \n",
       "90       mylifeinheels       Positive  \n",
       "...                ...            ...  \n",
       "29807         joycakes       Positive  \n",
       "29827          emily95       Positive  \n",
       "29841   brookieboo1994       Positive  \n",
       "29921     talmariejohn       Positive  \n",
       "29944          filo123       Positive  \n",
       "\n",
       "[2237 rows x 15 columns]"
      ]
     },
     "execution_count": 14,
     "metadata": {},
     "output_type": "execute_result"
    }
   ],
   "source": [
    "# Checking the duplicate rows in detail\n",
    "df.loc[df.duplicated(subset=['id', 'name', 'reviews_username','reviews_rating']),:]"
   ]
  },
  {
   "cell_type": "code",
   "execution_count": 15,
   "metadata": {
    "colab": {
     "base_uri": "https://localhost:8080/",
     "height": 233
    },
    "executionInfo": {
     "elapsed": 201,
     "status": "ok",
     "timestamp": 1633304421272,
     "user": {
      "displayName": "Bhavini G",
      "photoUrl": "https://lh3.googleusercontent.com/a/default-user=s64",
      "userId": "04864105761682059327"
     },
     "user_tz": 420
    },
    "id": "zPtTy7XDuVzl",
    "outputId": "e759dffe-a9e8-4ae8-bc68-05d6197ec260"
   },
   "outputs": [
    {
     "data": {
      "text/html": [
       "<div>\n",
       "<style scoped>\n",
       "    .dataframe tbody tr th:only-of-type {\n",
       "        vertical-align: middle;\n",
       "    }\n",
       "\n",
       "    .dataframe tbody tr th {\n",
       "        vertical-align: top;\n",
       "    }\n",
       "\n",
       "    .dataframe thead th {\n",
       "        text-align: right;\n",
       "    }\n",
       "</style>\n",
       "<table border=\"1\" class=\"dataframe\">\n",
       "  <thead>\n",
       "    <tr style=\"text-align: right;\">\n",
       "      <th></th>\n",
       "      <th>id</th>\n",
       "      <th>brand</th>\n",
       "      <th>categories</th>\n",
       "      <th>manufacturer</th>\n",
       "      <th>name</th>\n",
       "      <th>reviews_date</th>\n",
       "      <th>reviews_didPurchase</th>\n",
       "      <th>reviews_doRecommend</th>\n",
       "      <th>reviews_rating</th>\n",
       "      <th>reviews_text</th>\n",
       "      <th>reviews_title</th>\n",
       "      <th>reviews_userCity</th>\n",
       "      <th>reviews_userProvince</th>\n",
       "      <th>reviews_username</th>\n",
       "      <th>user_sentiment</th>\n",
       "    </tr>\n",
       "  </thead>\n",
       "  <tbody>\n",
       "    <tr>\n",
       "      <th>29670</th>\n",
       "      <td>AVpfW8y_LJeJML437ySW</td>\n",
       "      <td>L'oreal Paris</td>\n",
       "      <td>Beauty,Hair Care,Shampoo &amp; Conditioner,Holiday...</td>\n",
       "      <td>L'oreal Paris</td>\n",
       "      <td>L'or233al Paris Elvive Extraordinary Clay Reba...</td>\n",
       "      <td>2017-01-21T00:43:58.000Z</td>\n",
       "      <td>NaN</td>\n",
       "      <td>True</td>\n",
       "      <td>5</td>\n",
       "      <td>This stuff is so hydrating and it smells so am...</td>\n",
       "      <td>Smells So Freaking Good!</td>\n",
       "      <td>NaN</td>\n",
       "      <td>NaN</td>\n",
       "      <td>talmariejohn</td>\n",
       "      <td>Positive</td>\n",
       "    </tr>\n",
       "    <tr>\n",
       "      <th>29921</th>\n",
       "      <td>AVpfW8y_LJeJML437ySW</td>\n",
       "      <td>L'oreal Paris</td>\n",
       "      <td>Beauty,Hair Care,Shampoo &amp; Conditioner,Holiday...</td>\n",
       "      <td>L'oreal Paris</td>\n",
       "      <td>L'or233al Paris Elvive Extraordinary Clay Reba...</td>\n",
       "      <td>2017-01-21T00:00:00.000Z</td>\n",
       "      <td>False</td>\n",
       "      <td>True</td>\n",
       "      <td>5</td>\n",
       "      <td>This stuff is so hydrating and it smells so am...</td>\n",
       "      <td>Smells so freaking good!</td>\n",
       "      <td>NaN</td>\n",
       "      <td>NaN</td>\n",
       "      <td>talmariejohn</td>\n",
       "      <td>Positive</td>\n",
       "    </tr>\n",
       "  </tbody>\n",
       "</table>\n",
       "</div>"
      ],
      "text/plain": [
       "                         id          brand  \\\n",
       "29670  AVpfW8y_LJeJML437ySW  L'oreal Paris   \n",
       "29921  AVpfW8y_LJeJML437ySW  L'oreal Paris   \n",
       "\n",
       "                                              categories   manufacturer  \\\n",
       "29670  Beauty,Hair Care,Shampoo & Conditioner,Holiday...  L'oreal Paris   \n",
       "29921  Beauty,Hair Care,Shampoo & Conditioner,Holiday...  L'oreal Paris   \n",
       "\n",
       "                                                    name  \\\n",
       "29670  L'or233al Paris Elvive Extraordinary Clay Reba...   \n",
       "29921  L'or233al Paris Elvive Extraordinary Clay Reba...   \n",
       "\n",
       "                   reviews_date reviews_didPurchase reviews_doRecommend  \\\n",
       "29670  2017-01-21T00:43:58.000Z                 NaN                True   \n",
       "29921  2017-01-21T00:00:00.000Z               False                True   \n",
       "\n",
       "       reviews_rating                                       reviews_text  \\\n",
       "29670               5  This stuff is so hydrating and it smells so am...   \n",
       "29921               5  This stuff is so hydrating and it smells so am...   \n",
       "\n",
       "                  reviews_title reviews_userCity reviews_userProvince  \\\n",
       "29670  Smells So Freaking Good!              NaN                  NaN   \n",
       "29921  Smells so freaking good!              NaN                  NaN   \n",
       "\n",
       "      reviews_username user_sentiment  \n",
       "29670     talmariejohn       Positive  \n",
       "29921     talmariejohn       Positive  "
      ]
     },
     "execution_count": 15,
     "metadata": {},
     "output_type": "execute_result"
    }
   ],
   "source": [
    "# Checking an example user for duplicates. This appears to be exact same datathat the user has entered and submitted twice. \n",
    "#These rows will be dropped during data cleaning process.\n",
    "df[df.reviews_username=='talmariejohn']"
   ]
  },
  {
   "cell_type": "code",
   "execution_count": 16,
   "metadata": {
    "colab": {
     "base_uri": "https://localhost:8080/",
     "height": 370
    },
    "executionInfo": {
     "elapsed": 162,
     "status": "ok",
     "timestamp": 1633304425675,
     "user": {
      "displayName": "Bhavini G",
      "photoUrl": "https://lh3.googleusercontent.com/a/default-user=s64",
      "userId": "04864105761682059327"
     },
     "user_tz": 420
    },
    "id": "JssqGEwvSq45",
    "outputId": "e66b57ab-55be-4165-b704-45ec1a949cb1"
   },
   "outputs": [
    {
     "name": "stdout",
     "output_type": "stream",
     "text": [
      "Null values in reviews_didPurchase :  14068\n",
      "True values in reviews_didPurchase :  1434\n",
      "False values in reviews_didPurchase :  14498\n"
     ]
    },
    {
     "data": {
      "image/png": "[encoded data removed]",
      "text/plain": [
       "<Figure size 360x360 with 1 Axes>"
      ]
     },
     "metadata": {},
     "output_type": "display_data"
    }
   ],
   "source": [
    "# Let us explore the columns reviews_didPurchase vs reviews_doRecommand \n",
    "\n",
    "print( 'Null values in reviews_didPurchase : ',len(df[df.reviews_didPurchase.isna()]))\n",
    "print( 'True values in reviews_didPurchase : ',len(df[df.reviews_didPurchase==True]))\n",
    "print( 'False values in reviews_didPurchase : ',len(df[df.reviews_didPurchase==False]))\n",
    "df.reviews_didPurchase.value_counts().plot.pie(figsize=(5,5),startangle=90,autopct = '%1.0f%%')\n",
    "plt.title('Distribution of purchased values')\n",
    "plt.show()"
   ]
  },
  {
   "cell_type": "code",
   "execution_count": 17,
   "metadata": {
    "colab": {
     "base_uri": "https://localhost:8080/",
     "height": 370
    },
    "executionInfo": {
     "elapsed": 271,
     "status": "ok",
     "timestamp": 1633304427304,
     "user": {
      "displayName": "Bhavini G",
      "photoUrl": "https://lh3.googleusercontent.com/a/default-user=s64",
      "userId": "04864105761682059327"
     },
     "user_tz": 420
    },
    "id": "E5YZnXihnPbZ",
    "outputId": "f0de70dd-a06b-4a69-f725-aa523b16832d"
   },
   "outputs": [
    {
     "name": "stdout",
     "output_type": "stream",
     "text": [
      "Null values in reviews_doRecommend :  2570\n",
      "True values in reviews_doRecommend :  25880\n",
      "False values in reviews_doRecommend :  1550\n"
     ]
    },
    {
     "data": {
      "image/png": "[encoded data removed]",
      "text/plain": [
       "<Figure size 360x360 with 1 Axes>"
      ]
     },
     "metadata": {},
     "output_type": "display_data"
    }
   ],
   "source": [
    "print( 'Null values in reviews_doRecommend : ',len(df[df.reviews_doRecommend.isna()]))\n",
    "print( 'True values in reviews_doRecommend : ',len(df[df.reviews_doRecommend==True]))\n",
    "print( 'False values in reviews_doRecommend : ',len(df[df.reviews_doRecommend==False]))\n",
    "df.reviews_doRecommend.value_counts().plot.pie(figsize=(5,5),startangle=90,autopct = '%1.0f%%')\n",
    "plt.title('Distribution of Recommended values')\n",
    "plt.show()"
   ]
  },
  {
   "cell_type": "code",
   "execution_count": 18,
   "metadata": {
    "colab": {
     "base_uri": "https://localhost:8080/",
     "height": 296
    },
    "executionInfo": {
     "elapsed": 1078,
     "status": "ok",
     "timestamp": 1633304429768,
     "user": {
      "displayName": "Bhavini G",
      "photoUrl": "https://lh3.googleusercontent.com/a/default-user=s64",
      "userId": "04864105761682059327"
     },
     "user_tz": 420
    },
    "id": "vIyClmog1nmj",
    "outputId": "09f74ad6-40b3-460d-852a-8bdc0fab5091"
   },
   "outputs": [
    {
     "data": {
      "image/png": "[encoded data removed]",
      "text/plain": [
       "<Figure size 432x288 with 1 Axes>"
      ]
     },
     "metadata": {
      "needs_background": "light"
     },
     "output_type": "display_data"
    }
   ],
   "source": [
    "plt.title('User Sentiments based on Purchase Vs Recommendation')\n",
    "sns.barplot(x='reviews_doRecommend',y='reviews_didPurchase',hue='user_sentiment',data=df)\n",
    "plt.show();"
   ]
  },
  {
   "cell_type": "code",
   "execution_count": 19,
   "metadata": {
    "colab": {
     "base_uri": "https://localhost:8080/",
     "height": 296
    },
    "executionInfo": {
     "elapsed": 408,
     "status": "ok",
     "timestamp": 1633304431396,
     "user": {
      "displayName": "Bhavini G",
      "photoUrl": "https://lh3.googleusercontent.com/a/default-user=s64",
      "userId": "04864105761682059327"
     },
     "user_tz": 420
    },
    "id": "mmLWXAHh6SXH",
    "outputId": "0252e279-7560-46f7-e45e-aea75d6e8651"
   },
   "outputs": [
    {
     "data": {
      "image/png": "[encoded data removed]",
      "text/plain": [
       "<Figure size 432x288 with 1 Axes>"
      ]
     },
     "metadata": {
      "needs_background": "light"
     },
     "output_type": "display_data"
    }
   ],
   "source": [
    "plt.title('User Sentiments vs Ratings')\n",
    "sns.boxplot(x='reviews_rating',y='user_sentiment',data=df)\n",
    "plt.show();"
   ]
  },
  {
   "cell_type": "code",
   "execution_count": 20,
   "metadata": {
    "colab": {
     "base_uri": "https://localhost:8080/",
     "height": 185
    },
    "executionInfo": {
     "elapsed": 183,
     "status": "ok",
     "timestamp": 1633304493472,
     "user": {
      "displayName": "Bhavini G",
      "photoUrl": "https://lh3.googleusercontent.com/a/default-user=s64",
      "userId": "04864105761682059327"
     },
     "user_tz": 420
    },
    "id": "H_Q9ApqHBtJG",
    "outputId": "ca025559-cb25-4680-c386-7e2aba6faea6"
   },
   "outputs": [
    {
     "data": {
      "text/html": [
       "<div>\n",
       "<style scoped>\n",
       "    .dataframe tbody tr th:only-of-type {\n",
       "        vertical-align: middle;\n",
       "    }\n",
       "\n",
       "    .dataframe tbody tr th {\n",
       "        vertical-align: top;\n",
       "    }\n",
       "\n",
       "    .dataframe thead th {\n",
       "        text-align: right;\n",
       "    }\n",
       "</style>\n",
       "<table border=\"1\" class=\"dataframe\">\n",
       "  <thead>\n",
       "    <tr style=\"text-align: right;\">\n",
       "      <th></th>\n",
       "      <th>id</th>\n",
       "      <th>brand</th>\n",
       "      <th>categories</th>\n",
       "      <th>manufacturer</th>\n",
       "      <th>name</th>\n",
       "      <th>reviews_date</th>\n",
       "      <th>reviews_didPurchase</th>\n",
       "      <th>reviews_doRecommend</th>\n",
       "      <th>reviews_rating</th>\n",
       "      <th>reviews_text</th>\n",
       "      <th>reviews_title</th>\n",
       "      <th>reviews_userCity</th>\n",
       "      <th>reviews_userProvince</th>\n",
       "      <th>reviews_username</th>\n",
       "      <th>user_sentiment</th>\n",
       "    </tr>\n",
       "  </thead>\n",
       "  <tbody>\n",
       "    <tr>\n",
       "      <th>28354</th>\n",
       "      <td>AVpfRTh1ilAPnD_xYic2</td>\n",
       "      <td>Disney</td>\n",
       "      <td>Movies, Music &amp; Books,Movies,Kids' &amp; Family,Wa...</td>\n",
       "      <td>Walt Disney</td>\n",
       "      <td>Planes: Fire Rescue (2 Discs) (includes Digita...</td>\n",
       "      <td>2014-11-07T00:00:00.000Z</td>\n",
       "      <td>NaN</td>\n",
       "      <td>True</td>\n",
       "      <td>5</td>\n",
       "      <td>my kids absolutely loved this film so much tha...</td>\n",
       "      <td>a super hit with my children. they loved it!!??</td>\n",
       "      <td>NaN</td>\n",
       "      <td>mamad</td>\n",
       "      <td>7.87E+11</td>\n",
       "      <td>NaN</td>\n",
       "    </tr>\n",
       "  </tbody>\n",
       "</table>\n",
       "</div>"
      ],
      "text/plain": [
       "                         id   brand  \\\n",
       "28354  AVpfRTh1ilAPnD_xYic2  Disney   \n",
       "\n",
       "                                              categories manufacturer  \\\n",
       "28354  Movies, Music & Books,Movies,Kids' & Family,Wa...  Walt Disney   \n",
       "\n",
       "                                                    name  \\\n",
       "28354  Planes: Fire Rescue (2 Discs) (includes Digita...   \n",
       "\n",
       "                   reviews_date reviews_didPurchase reviews_doRecommend  \\\n",
       "28354  2014-11-07T00:00:00.000Z                 NaN                True   \n",
       "\n",
       "       reviews_rating                                       reviews_text  \\\n",
       "28354               5  my kids absolutely loved this film so much tha...   \n",
       "\n",
       "                                         reviews_title reviews_userCity  \\\n",
       "28354  a super hit with my children. they loved it!!??              NaN   \n",
       "\n",
       "      reviews_userProvince reviews_username user_sentiment  \n",
       "28354                mamad         7.87E+11            NaN  "
      ]
     },
     "execution_count": 20,
     "metadata": {},
     "output_type": "execute_result"
    }
   ],
   "source": [
    "df[df.user_sentiment.isna()]\n",
    "# Only one row has user_sentiment as null. Let's explore that row\n",
    "# It is a positive sentiment. We will create the feature column in such a way that all non-negative sentiments will be considered as positive ones."
   ]
  },
  {
   "cell_type": "code",
   "execution_count": 21,
   "metadata": {
    "colab": {
     "base_uri": "https://localhost:8080/",
     "height": 319
    },
    "executionInfo": {
     "elapsed": 183,
     "status": "ok",
     "timestamp": 1633304520427,
     "user": {
      "displayName": "Bhavini G",
      "photoUrl": "https://lh3.googleusercontent.com/a/default-user=s64",
      "userId": "04864105761682059327"
     },
     "user_tz": 420
    },
    "id": "ctuDE1kiECbN",
    "outputId": "f5f3edf7-d702-4418-d34c-38c61638ec3e"
   },
   "outputs": [
    {
     "data": {
      "image/png": "[encoded data removed]",
      "text/plain": [
       "<Figure size 360x360 with 1 Axes>"
      ]
     },
     "metadata": {},
     "output_type": "display_data"
    }
   ],
   "source": [
    "\n",
    "df.reviews_rating.value_counts().plot.pie(figsize=(5,5),startangle=90,autopct = '%1.0f%%',explode = (0.1, 0.1, 0,0,0))\n",
    "plt.title('Distribution of Ratings')\n",
    "plt.show()"
   ]
  },
  {
   "cell_type": "code",
   "execution_count": 22,
   "metadata": {
    "colab": {
     "base_uri": "https://localhost:8080/",
     "height": 319
    },
    "executionInfo": {
     "elapsed": 170,
     "status": "ok",
     "timestamp": 1633304526208,
     "user": {
      "displayName": "Bhavini G",
      "photoUrl": "https://lh3.googleusercontent.com/a/default-user=s64",
      "userId": "04864105761682059327"
     },
     "user_tz": 420
    },
    "id": "TYYRcvZmGKeT",
    "outputId": "296df93c-36eb-4cf8-a638-96baa13892d0"
   },
   "outputs": [
    {
     "data": {
      "image/png": "[encoded data removed]",
      "text/plain": [
       "<Figure size 360x360 with 1 Axes>"
      ]
     },
     "metadata": {},
     "output_type": "display_data"
    }
   ],
   "source": [
    "df.user_sentiment.value_counts().plot.pie(figsize=(5,5),startangle=90,autopct = '%1.0f%%',explode = (0.1,0))\n",
    "plt.title('Distribution of Overall Sentiments')\n",
    "plt.show()"
   ]
  },
  {
   "cell_type": "code",
   "execution_count": 23,
   "metadata": {
    "colab": {
     "base_uri": "https://localhost:8080/"
    },
    "executionInfo": {
     "elapsed": 187,
     "status": "ok",
     "timestamp": 1633304528715,
     "user": {
      "displayName": "Bhavini G",
      "photoUrl": "https://lh3.googleusercontent.com/a/default-user=s64",
      "userId": "04864105761682059327"
     },
     "user_tz": 420
    },
    "id": "n8gPcPC6FWl1",
    "outputId": "c1a012a3-694e-4970-bc34-c50cf89330af"
   },
   "outputs": [
    {
     "data": {
      "text/plain": [
       "5    20831\n",
       "4     6020\n",
       "1     1384\n",
       "3     1345\n",
       "2      420\n",
       "Name: reviews_rating, dtype: int64"
      ]
     },
     "execution_count": 23,
     "metadata": {},
     "output_type": "execute_result"
    }
   ],
   "source": [
    "(df.reviews_rating.value_counts())"
   ]
  },
  {
   "cell_type": "code",
   "execution_count": 24,
   "metadata": {
    "colab": {
     "base_uri": "https://localhost:8080/"
    },
    "executionInfo": {
     "elapsed": 359,
     "status": "ok",
     "timestamp": 1633304534734,
     "user": {
      "displayName": "Bhavini G",
      "photoUrl": "https://lh3.googleusercontent.com/a/default-user=s64",
      "userId": "04864105761682059327"
     },
     "user_tz": 420
    },
    "id": "nlEUDLYx1_YW",
    "outputId": "11cc04dd-6749-4005-f11b-ad80ab4a7504"
   },
   "outputs": [
    {
     "data": {
      "text/plain": [
       "Index(['id', 'brand', 'categories', 'manufacturer', 'name', 'reviews_date',\n",
       "       'reviews_didPurchase', 'reviews_doRecommend', 'reviews_rating',\n",
       "       'reviews_text', 'reviews_title', 'reviews_userCity',\n",
       "       'reviews_userProvince', 'reviews_username', 'user_sentiment'],\n",
       "      dtype='object')"
      ]
     },
     "execution_count": 24,
     "metadata": {},
     "output_type": "execute_result"
    }
   ],
   "source": [
    "df.columns"
   ]
  },
  {
   "cell_type": "code",
   "execution_count": 25,
   "metadata": {
    "colab": {
     "base_uri": "https://localhost:8080/"
    },
    "executionInfo": {
     "elapsed": 227,
     "status": "ok",
     "timestamp": 1633304545783,
     "user": {
      "displayName": "Bhavini G",
      "photoUrl": "https://lh3.googleusercontent.com/a/default-user=s64",
      "userId": "04864105761682059327"
     },
     "user_tz": 420
    },
    "id": "Hvnza7EgK0dy",
    "outputId": "f391aab7-235a-4765-ea04-5b22c5473765"
   },
   "outputs": [
    {
     "data": {
      "text/plain": [
       "False    14498\n",
       "True      1434\n",
       "Name: reviews_didPurchase, dtype: int64"
      ]
     },
     "execution_count": 25,
     "metadata": {},
     "output_type": "execute_result"
    }
   ],
   "source": [
    "df.reviews_didPurchase.value_counts()\n"
   ]
  },
  {
   "cell_type": "code",
   "execution_count": 26,
   "metadata": {
    "colab": {
     "base_uri": "https://localhost:8080/"
    },
    "executionInfo": {
     "elapsed": 3,
     "status": "ok",
     "timestamp": 1633304547412,
     "user": {
      "displayName": "Bhavini G",
      "photoUrl": "https://lh3.googleusercontent.com/a/default-user=s64",
      "userId": "04864105761682059327"
     },
     "user_tz": 420
    },
    "id": "io-OxXkyOATq",
    "outputId": "b2164b5e-4856-43d4-b4d4-397d034b1c57"
   },
   "outputs": [
    {
     "data": {
      "text/plain": [
       "True     25880\n",
       "False     1550\n",
       "Name: reviews_doRecommend, dtype: int64"
      ]
     },
     "execution_count": 26,
     "metadata": {},
     "output_type": "execute_result"
    }
   ],
   "source": [
    "df.reviews_doRecommend.value_counts()"
   ]
  },
  {
   "cell_type": "code",
   "execution_count": 27,
   "metadata": {
    "colab": {
     "base_uri": "https://localhost:8080/"
    },
    "executionInfo": {
     "elapsed": 161,
     "status": "ok",
     "timestamp": 1633304548802,
     "user": {
      "displayName": "Bhavini G",
      "photoUrl": "https://lh3.googleusercontent.com/a/default-user=s64",
      "userId": "04864105761682059327"
     },
     "user_tz": 420
    },
    "id": "dHDYQBYnLer1",
    "outputId": "1f7a31e3-e0ff-4a3d-8fb8-46082f63588b"
   },
   "outputs": [
    {
     "data": {
      "text/plain": [
       "24915"
      ]
     },
     "execution_count": 27,
     "metadata": {},
     "output_type": "execute_result"
    }
   ],
   "source": [
    "len(df.reviews_username.unique())"
   ]
  },
  {
   "cell_type": "markdown",
   "metadata": {
    "id": "qgUP8sXQ7R6S"
   },
   "source": [
    "## Observations\n",
    "\n",
    "\n",
    "*   The given dataset has 30000 rows and 15 columns\n",
    "*   Only reviews_rating is the numerical column. Here the mean value is 4.48 which is more towards 5 that implies that the dataset is concentrated with more positive reviews\n",
    "*   id is the product id column and name is the product name with that id\n",
    "*   Since this is not a time series analysis, we do not need the reviews_date column. We shall drop that column from our analysis\n",
    "*   The dataset is highly imbalanced towards the positive sentiments as observed from the user_sentiment column\n",
    "*   The column reviews_doRecommend and reviews_didPurchase are not adding any value to the study. They will be disregarded.\n"
   ]
  },
  {
   "cell_type": "markdown",
   "metadata": {
    "id": "E59P-W4twcbY"
   },
   "source": [
    "## Data Cleaning\n",
    "1.   Drop the columns that has more than 50% null values or the one that will not be used for the study. For example the timestamp column\n",
    "2.   Drop the duplicate rows of same user + product combination keeping the last review of the user for that product\n",
    "3.   Create a new feature to be used for sentiment analysis\n",
    "4.   Save the clean dataframe to work on in the recommender sub project\n",
    "5.   Remove the rows with no username information as it is of little value to us during recommendation and need not be considered for the sentiment analysis also\n",
    "\n"
   ]
  },
  {
   "cell_type": "code",
   "execution_count": 28,
   "metadata": {
    "executionInfo": {
     "elapsed": 167,
     "status": "ok",
     "timestamp": 1633304715159,
     "user": {
      "displayName": "Bhavini G",
      "photoUrl": "https://lh3.googleusercontent.com/a/default-user=s64",
      "userId": "04864105761682059327"
     },
     "user_tz": 420
    },
    "id": "eXpdPlNy5cWD"
   },
   "outputs": [],
   "source": [
    "# 1. Dropping the columns that have more than 50% null values\n",
    "df=df.drop(['reviews_userProvince', 'reviews_userCity', 'reviews_date', 'reviews_doRecommend', 'reviews_didPurchase'], axis=1)"
   ]
  },
  {
   "cell_type": "code",
   "execution_count": 29,
   "metadata": {
    "executionInfo": {
     "elapsed": 158,
     "status": "ok",
     "timestamp": 1633304718994,
     "user": {
      "displayName": "Bhavini G",
      "photoUrl": "https://lh3.googleusercontent.com/a/default-user=s64",
      "userId": "04864105761682059327"
     },
     "user_tz": 420
    },
    "id": "Ka3gv2CK7EH1"
   },
   "outputs": [],
   "source": [
    "# 2. Dropping the duplicate rows of same user+product combination keeping the last review of the user\n",
    "df=df.drop_duplicates(subset=['reviews_username', 'id'], keep='last')"
   ]
  },
  {
   "cell_type": "code",
   "execution_count": 30,
   "metadata": {
    "executionInfo": {
     "elapsed": 196,
     "status": "ok",
     "timestamp": 1633304724293,
     "user": {
      "displayName": "Bhavini G",
      "photoUrl": "https://lh3.googleusercontent.com/a/default-user=s64",
      "userId": "04864105761682059327"
     },
     "user_tz": 420
    },
    "id": "lfMAMdPU8PqQ"
   },
   "outputs": [],
   "source": [
    "#3. Creating a new column called sent as concatenated field of reviews_title and reviews_text\n",
    "df['sent']=df.reviews_title+' '+df.reviews_text"
   ]
  },
  {
   "cell_type": "code",
   "execution_count": 31,
   "metadata": {
    "executionInfo": {
     "elapsed": 162,
     "status": "ok",
     "timestamp": 1633304734451,
     "user": {
      "displayName": "Bhavini G",
      "photoUrl": "https://lh3.googleusercontent.com/a/default-user=s64",
      "userId": "04864105761682059327"
     },
     "user_tz": 420
    },
    "id": "GrSO96HJ7kPE"
   },
   "outputs": [],
   "source": [
    "# 5. Removing the rows that has null values in the column reviews_username. We found there are 63 of such rows\n",
    "df=df[~df['reviews_username'].isna()]"
   ]
  },
  {
   "cell_type": "code",
   "execution_count": 32,
   "metadata": {
    "colab": {
     "base_uri": "https://localhost:8080/"
    },
    "executionInfo": {
     "elapsed": 3,
     "status": "ok",
     "timestamp": 1633304735831,
     "user": {
      "displayName": "Bhavini G",
      "photoUrl": "https://lh3.googleusercontent.com/a/default-user=s64",
      "userId": "04864105761682059327"
     },
     "user_tz": 420
    },
    "id": "ssR7dMmP6O72",
    "outputId": "63d2dcbd-0ac4-4169-c2f4-a853bd9ed985"
   },
   "outputs": [
    {
     "data": {
      "text/plain": [
       "(27588, 11)"
      ]
     },
     "execution_count": 32,
     "metadata": {},
     "output_type": "execute_result"
    }
   ],
   "source": [
    "df.shape"
   ]
  },
  {
   "cell_type": "code",
   "execution_count": 33,
   "metadata": {
    "id": "ec0vlg-R6hbc"
   },
   "outputs": [],
   "source": [
    "df.to_csv('CapstoneCleanDataAfterEDA.csv', index=False)"
   ]
  },
  {
   "cell_type": "code",
   "execution_count": 34,
   "metadata": {
    "colab": {
     "base_uri": "https://localhost:8080/"
    },
    "executionInfo": {
     "elapsed": 745,
     "status": "ok",
     "timestamp": 1633304929272,
     "user": {
      "displayName": "Bhavini G",
      "photoUrl": "https://lh3.googleusercontent.com/a/default-user=s64",
      "userId": "04864105761682059327"
     },
     "user_tz": 420
    },
    "id": "1ciOdQOLAe6A",
    "outputId": "ed753db7-be80-4ba6-f149-ddf7bc8ef131"
   },
   "outputs": [],
   "source": [
    "df.to_csv('CapstoneCleanDataAfterEDA.csv', encoding='utf-8', index=False)"
   ]
  },
  {
   "cell_type": "markdown",
   "metadata": {
    "id": "Ud8aJWe3CRlC"
   },
   "source": [
    "# Sentiment Analysis\n",
    "We shall be doing the sentiment analysis of the new column created by concatenating the columns reviews_title and reviews_text. This is done because we observe that in a lot of cases, the title says a lot about the user sentiment. "
   ]
  },
  {
   "cell_type": "code",
   "execution_count": 35,
   "metadata": {
    "colab": {
     "base_uri": "https://localhost:8080/"
    },
    "executionInfo": {
     "elapsed": 208,
     "status": "ok",
     "timestamp": 1633304963789,
     "user": {
      "displayName": "Bhavini G",
      "photoUrl": "https://lh3.googleusercontent.com/a/default-user=s64",
      "userId": "04864105761682059327"
     },
     "user_tz": 420
    },
    "id": "l2xc60e5JH31",
    "outputId": "e7431019-11e5-4b68-ebb8-f01c6b9819c8"
   },
   "outputs": [
    {
     "data": {
      "text/plain": [
       "0    Just Awesome i love this album. it's very good...\n",
       "2                                    Good Good flavor.\n",
       "3    Disappointed I read through the reviews on her...\n",
       "4    Irritation My husband bought this gel for us. ...\n",
       "5    Not worth it My boyfriend and I bought this to...\n",
       "Name: sent, dtype: object"
      ]
     },
     "execution_count": 35,
     "metadata": {},
     "output_type": "execute_result"
    }
   ],
   "source": [
    "# Initialize the X and y variables for our sentiment analysis\n",
    "X=df.sent\n",
    "y=df.user_sentiment.apply(lambda x: 0 if x=='Negative' else 1)\n",
    "X.head()"
   ]
  },
  {
   "cell_type": "code",
   "execution_count": 36,
   "metadata": {
    "colab": {
     "base_uri": "https://localhost:8080/"
    },
    "executionInfo": {
     "elapsed": 154,
     "status": "ok",
     "timestamp": 1633304967983,
     "user": {
      "displayName": "Bhavini G",
      "photoUrl": "https://lh3.googleusercontent.com/a/default-user=s64",
      "userId": "04864105761682059327"
     },
     "user_tz": 420
    },
    "id": "rRIVtM948Y-3",
    "outputId": "bc718d4e-08ff-475e-8ba4-d04899b4938c"
   },
   "outputs": [
    {
     "data": {
      "text/plain": [
       "1    88.969842\n",
       "0    11.030158\n",
       "Name: user_sentiment, dtype: float64"
      ]
     },
     "execution_count": 36,
     "metadata": {},
     "output_type": "execute_result"
    }
   ],
   "source": [
    "y.value_counts()/len(y)*100"
   ]
  },
  {
   "cell_type": "markdown",
   "metadata": {
    "id": "0VJoCSf2D8Hj"
   },
   "source": [
    "89% of reviews are positive and 11% is only negative. Let us handle this data imbalance"
   ]
  },
  {
   "cell_type": "code",
   "execution_count": 37,
   "metadata": {
    "executionInfo": {
     "elapsed": 179,
     "status": "ok",
     "timestamp": 1633304975299,
     "user": {
      "displayName": "Bhavini G",
      "photoUrl": "https://lh3.googleusercontent.com/a/default-user=s64",
      "userId": "04864105761682059327"
     },
     "user_tz": 420
    },
    "id": "u5bs3fv-Gq3W"
   },
   "outputs": [],
   "source": [
    "X=X.values.reshape(-1,1);y=y.values.reshape(-1,1)"
   ]
  },
  {
   "cell_type": "code",
   "execution_count": 38,
   "metadata": {
    "executionInfo": {
     "elapsed": 171,
     "status": "ok",
     "timestamp": 1633304978286,
     "user": {
      "displayName": "Bhavini G",
      "photoUrl": "https://lh3.googleusercontent.com/a/default-user=s64",
      "userId": "04864105761682059327"
     },
     "user_tz": 420
    },
    "id": "w2O9UE6L7zns"
   },
   "outputs": [],
   "source": [
    "def clean_text(text):\n",
    "  text = text.lower()\n",
    "  pattern = re.compile('[\\(\\[].*?[\\)\\]]')\n",
    "  text = re.sub(pattern, '', text)\n",
    "  pattern = re.compile('[^\\w\\s]')\n",
    "  text = re.sub(pattern, '', text)\n",
    "  pattern = re.compile('[0-9]')\n",
    "  text = re.sub(pattern, '', text)\n",
    "  return text"
   ]
  },
  {
   "cell_type": "code",
   "execution_count": 39,
   "metadata": {
    "executionInfo": {
     "elapsed": 159,
     "status": "ok",
     "timestamp": 1633305100140,
     "user": {
      "displayName": "Bhavini G",
      "photoUrl": "https://lh3.googleusercontent.com/a/default-user=s64",
      "userId": "04864105761682059327"
     },
     "user_tz": 420
    },
    "id": "YYPRI2FGD1Sc"
   },
   "outputs": [],
   "source": [
    "def lemmatizer(text):      \n",
    "    text = clean_text(text)  \n",
    "    sent = [wordnet_lemmatizer.lemmatize(word) for word in word_tokenize(text) if not word in set(stopwords.words('english'))]\n",
    "    return \" \".join(sent)"
   ]
  },
  {
   "cell_type": "markdown",
   "metadata": {
    "id": "ze9kEs83E04R"
   },
   "source": [
    "### Data Cleaning and Lemmatization"
   ]
  },
  {
   "cell_type": "code",
   "execution_count": 40,
   "metadata": {
    "executionInfo": {
     "elapsed": 128695,
     "status": "ok",
     "timestamp": 1633305296579,
     "user": {
      "displayName": "Bhavini G",
      "photoUrl": "https://lh3.googleusercontent.com/a/default-user=s64",
      "userId": "04864105761682059327"
     },
     "user_tz": 420
    },
    "id": "GWdZH-K0D1gO"
   },
   "outputs": [],
   "source": [
    "X_clean = pd.DataFrame()\n",
    "X_clean['sentiment'] = df['reviews_text'].apply(lambda x: clean_text(x))\n",
    "X_clean['lemmatized_sentiment'] = X_clean['sentiment'].apply(lambda x: lemmatizer(x))"
   ]
  },
  {
   "cell_type": "code",
   "execution_count": 41,
   "metadata": {
    "executionInfo": {
     "elapsed": 388,
     "status": "ok",
     "timestamp": 1633305343577,
     "user": {
      "displayName": "Bhavini G",
      "photoUrl": "https://lh3.googleusercontent.com/a/default-user=s64",
      "userId": "04864105761682059327"
     },
     "user_tz": 420
    },
    "id": "53oQrGN2D1sc"
   },
   "outputs": [],
   "source": [
    "X_clean.to_csv('X_clean_and_lemmatised_sentiments.csv', encoding='utf-8', index=False)"
   ]
  },
  {
   "cell_type": "code",
   "execution_count": 42,
   "metadata": {
    "colab": {
     "base_uri": "https://localhost:8080/",
     "height": 419
    },
    "executionInfo": {
     "elapsed": 266,
     "status": "ok",
     "timestamp": 1633305356329,
     "user": {
      "displayName": "Bhavini G",
      "photoUrl": "https://lh3.googleusercontent.com/a/default-user=s64",
      "userId": "04864105761682059327"
     },
     "user_tz": 420
    },
    "id": "wMYR5ynkD110",
    "outputId": "12f4cfdf-1705-438b-ccca-74d4cebd2b0a"
   },
   "outputs": [
    {
     "data": {
      "text/html": [
       "<div>\n",
       "<style scoped>\n",
       "    .dataframe tbody tr th:only-of-type {\n",
       "        vertical-align: middle;\n",
       "    }\n",
       "\n",
       "    .dataframe tbody tr th {\n",
       "        vertical-align: top;\n",
       "    }\n",
       "\n",
       "    .dataframe thead th {\n",
       "        text-align: right;\n",
       "    }\n",
       "</style>\n",
       "<table border=\"1\" class=\"dataframe\">\n",
       "  <thead>\n",
       "    <tr style=\"text-align: right;\">\n",
       "      <th></th>\n",
       "      <th>sentiment</th>\n",
       "      <th>lemmatized_sentiment</th>\n",
       "    </tr>\n",
       "  </thead>\n",
       "  <tbody>\n",
       "    <tr>\n",
       "      <th>0</th>\n",
       "      <td>i love this album its very good more to the hi...</td>\n",
       "      <td>love album good hip hop side current pop sound...</td>\n",
       "    </tr>\n",
       "    <tr>\n",
       "      <th>2</th>\n",
       "      <td>good flavor</td>\n",
       "      <td>good flavor</td>\n",
       "    </tr>\n",
       "    <tr>\n",
       "      <th>3</th>\n",
       "      <td>i read through the reviews on here before look...</td>\n",
       "      <td>read review looking buying one couple lubrican...</td>\n",
       "    </tr>\n",
       "    <tr>\n",
       "      <th>4</th>\n",
       "      <td>my husband bought this gel for us the gel caus...</td>\n",
       "      <td>husband bought gel u gel caused irritation fel...</td>\n",
       "    </tr>\n",
       "    <tr>\n",
       "      <th>5</th>\n",
       "      <td>my boyfriend and i bought this to spice things...</td>\n",
       "      <td>boyfriend bought spice thing bedroom highly di...</td>\n",
       "    </tr>\n",
       "    <tr>\n",
       "      <th>...</th>\n",
       "      <td>...</td>\n",
       "      <td>...</td>\n",
       "    </tr>\n",
       "    <tr>\n",
       "      <th>29995</th>\n",
       "      <td>i got this conditioner with influenster to try...</td>\n",
       "      <td>got conditioner influenster try im loving far ...</td>\n",
       "    </tr>\n",
       "    <tr>\n",
       "      <th>29996</th>\n",
       "      <td>i love it  i received this for review purposes...</td>\n",
       "      <td>love received review purpose influenster leaf ...</td>\n",
       "    </tr>\n",
       "    <tr>\n",
       "      <th>29997</th>\n",
       "      <td>first of all i love the smell of this product ...</td>\n",
       "      <td>first love smell product wash hair smooth easy...</td>\n",
       "    </tr>\n",
       "    <tr>\n",
       "      <th>29998</th>\n",
       "      <td>i received this through influenster and will n...</td>\n",
       "      <td>received influenster never go back anything el...</td>\n",
       "    </tr>\n",
       "    <tr>\n",
       "      <th>29999</th>\n",
       "      <td>i received this product complimentary from inf...</td>\n",
       "      <td>received product complimentary influenster rea...</td>\n",
       "    </tr>\n",
       "  </tbody>\n",
       "</table>\n",
       "<p>27588 rows × 2 columns</p>\n",
       "</div>"
      ],
      "text/plain": [
       "                                               sentiment  \\\n",
       "0      i love this album its very good more to the hi...   \n",
       "2                                            good flavor   \n",
       "3      i read through the reviews on here before look...   \n",
       "4      my husband bought this gel for us the gel caus...   \n",
       "5      my boyfriend and i bought this to spice things...   \n",
       "...                                                  ...   \n",
       "29995  i got this conditioner with influenster to try...   \n",
       "29996  i love it  i received this for review purposes...   \n",
       "29997  first of all i love the smell of this product ...   \n",
       "29998  i received this through influenster and will n...   \n",
       "29999  i received this product complimentary from inf...   \n",
       "\n",
       "                                    lemmatized_sentiment  \n",
       "0      love album good hip hop side current pop sound...  \n",
       "2                                            good flavor  \n",
       "3      read review looking buying one couple lubrican...  \n",
       "4      husband bought gel u gel caused irritation fel...  \n",
       "5      boyfriend bought spice thing bedroom highly di...  \n",
       "...                                                  ...  \n",
       "29995  got conditioner influenster try im loving far ...  \n",
       "29996  love received review purpose influenster leaf ...  \n",
       "29997  first love smell product wash hair smooth easy...  \n",
       "29998  received influenster never go back anything el...  \n",
       "29999  received product complimentary influenster rea...  \n",
       "\n",
       "[27588 rows x 2 columns]"
      ]
     },
     "execution_count": 42,
     "metadata": {},
     "output_type": "execute_result"
    }
   ],
   "source": [
    "X_clean"
   ]
  },
  {
   "cell_type": "code",
   "execution_count": 43,
   "metadata": {
    "executionInfo": {
     "elapsed": 142,
     "status": "ok",
     "timestamp": 1633305742747,
     "user": {
      "displayName": "Bhavini G",
      "photoUrl": "https://lh3.googleusercontent.com/a/default-user=s64",
      "userId": "04864105761682059327"
     },
     "user_tz": 420
    },
    "id": "XOg1cuB49eof"
   },
   "outputs": [],
   "source": [
    "X=X_clean['lemmatized_sentiment']"
   ]
  },
  {
   "cell_type": "code",
   "execution_count": 44,
   "metadata": {
    "colab": {
     "base_uri": "https://localhost:8080/"
    },
    "executionInfo": {
     "elapsed": 133,
     "status": "ok",
     "timestamp": 1633305745657,
     "user": {
      "displayName": "Bhavini G",
      "photoUrl": "https://lh3.googleusercontent.com/a/default-user=s64",
      "userId": "04864105761682059327"
     },
     "user_tz": 420
    },
    "id": "pQra5vZEmtNQ",
    "outputId": "81f39164-9962-4368-c13b-9eb5babeabbe"
   },
   "outputs": [
    {
     "data": {
      "text/plain": [
       "0        love album good hip hop side current pop sound...\n",
       "2                                              good flavor\n",
       "3        read review looking buying one couple lubrican...\n",
       "4        husband bought gel u gel caused irritation fel...\n",
       "5        boyfriend bought spice thing bedroom highly di...\n",
       "                               ...                        \n",
       "29995    got conditioner influenster try im loving far ...\n",
       "29996    love received review purpose influenster leaf ...\n",
       "29997    first love smell product wash hair smooth easy...\n",
       "29998    received influenster never go back anything el...\n",
       "29999    received product complimentary influenster rea...\n",
       "Name: lemmatized_sentiment, Length: 27588, dtype: object"
      ]
     },
     "execution_count": 44,
     "metadata": {},
     "output_type": "execute_result"
    }
   ],
   "source": [
    "X"
   ]
  },
  {
   "cell_type": "markdown",
   "metadata": {
    "id": "rGnxyqpmE9nd"
   },
   "source": [
    "### TF-IDF vectorization"
   ]
  },
  {
   "cell_type": "code",
   "execution_count": 45,
   "metadata": {
    "executionInfo": {
     "elapsed": 4814,
     "status": "ok",
     "timestamp": 1633305764636,
     "user": {
      "displayName": "Bhavini G",
      "photoUrl": "https://lh3.googleusercontent.com/a/default-user=s64",
      "userId": "04864105761682059327"
     },
     "user_tz": 420
    },
    "id": "S6hKn0hY5iKh"
   },
   "outputs": [],
   "source": [
    "# Create the word vector with TF-IDF Vectorizer\n",
    "\n",
    "tfidf_vect = TfidfVectorizer(tokenizer= word_tokenize, # type of tokenization\n",
    "                               stop_words=stopwords.words('english'), # List of stopwords\n",
    "                               ngram_range=(1,1))\n",
    "X = tfidf_vect.fit_transform(X)\n"
   ]
  },
  {
   "cell_type": "code",
   "execution_count": 46,
   "metadata": {
    "executionInfo": {
     "elapsed": 221,
     "status": "ok",
     "timestamp": 1633305771679,
     "user": {
      "displayName": "Bhavini G",
      "photoUrl": "https://lh3.googleusercontent.com/a/default-user=s64",
      "userId": "04864105761682059327"
     },
     "user_tz": 420
    },
    "id": "Ysku1eJVTIo_"
   },
   "outputs": [],
   "source": [
    "\n",
    "# Save the sentiment vectorizer model to file in the current working directory\n",
    "pkl_filename = \"Tfidf_vectorizer.pkl\"\n",
    "with open(pkl_filename, 'wb') as file:\n",
    "    pickle.dump(tfidf_vect, file)\n",
    "\n",
    "# Load sentiment vectorizer model from file\n",
    "with open(pkl_filename, 'rb') as file:\n",
    "    pickled_tfidf_vect = pickle.load(file)"
   ]
  },
  {
   "cell_type": "code",
   "execution_count": null,
   "metadata": {
    "id": "pRzlcH9-Utqq"
   },
   "outputs": [],
   "source": []
  },
  {
   "cell_type": "markdown",
   "metadata": {
    "id": "u9-bK5bGEg-g"
   },
   "source": [
    "### Train test Split"
   ]
  },
  {
   "cell_type": "code",
   "execution_count": 47,
   "metadata": {
    "executionInfo": {
     "elapsed": 131,
     "status": "ok",
     "timestamp": 1633305791928,
     "user": {
      "displayName": "Bhavini G",
      "photoUrl": "https://lh3.googleusercontent.com/a/default-user=s64",
      "userId": "04864105761682059327"
     },
     "user_tz": 420
    },
    "id": "bO9djiXMI_Ue"
   },
   "outputs": [],
   "source": [
    "\n",
    "X_train, X_test, y_train, y_test = train_test_split(X, y, test_size=0.2, random_state=42)\n"
   ]
  },
  {
   "cell_type": "markdown",
   "metadata": {
    "id": "0LenFj8TJgY-"
   },
   "source": [
    "### Trying models without addressing imbalance in target class"
   ]
  },
  {
   "cell_type": "code",
   "execution_count": 48,
   "metadata": {
    "executionInfo": {
     "elapsed": 1343,
     "status": "ok",
     "timestamp": 1633305810955,
     "user": {
      "displayName": "Bhavini G",
      "photoUrl": "https://lh3.googleusercontent.com/a/default-user=s64",
      "userId": "04864105761682059327"
     },
     "user_tz": 420
    },
    "id": "hgsdReBdfM5U"
   },
   "outputs": [],
   "source": [
    "# LogisticRegression\n",
    "logreg =  LogisticRegression()\n",
    "logreg.fit(X_train, y_train)\n",
    "y_pred_logreg = logreg.predict(X_test)"
   ]
  },
  {
   "cell_type": "code",
   "execution_count": 49,
   "metadata": {
    "colab": {
     "base_uri": "https://localhost:8080/"
    },
    "executionInfo": {
     "elapsed": 174,
     "status": "ok",
     "timestamp": 1633305816035,
     "user": {
      "displayName": "Bhavini G",
      "photoUrl": "https://lh3.googleusercontent.com/a/default-user=s64",
      "userId": "04864105761682059327"
     },
     "user_tz": 420
    },
    "id": "n4iWFp6NASCV",
    "outputId": "69e8f462-8dbe-4ef3-fcc1-9e5eec5cf620"
   },
   "outputs": [
    {
     "name": "stdout",
     "output_type": "stream",
     "text": [
      "              precision    recall  f1-score   support\n",
      "\n",
      "           0       0.86      0.25      0.39       561\n",
      "           1       0.92      1.00      0.96      4957\n",
      "\n",
      "    accuracy                           0.92      5518\n",
      "   macro avg       0.89      0.63      0.68      5518\n",
      "weighted avg       0.92      0.92      0.90      5518\n",
      "\n"
     ]
    }
   ],
   "source": [
    "# Compute and print the classification report\n",
    "print(classification_report(y_test, y_pred_logreg))"
   ]
  },
  {
   "cell_type": "code",
   "execution_count": 50,
   "metadata": {},
   "outputs": [
    {
     "name": "stdout",
     "output_type": "stream",
     "text": [
      "[00:28:47] WARNING: C:/Users/Administrator/workspace/xgboost-win64_release_1.4.0/src/learner.cc:1095: Starting in XGBoost 1.3.0, the default evaluation metric used with the objective 'binary:logistic' was changed from 'error' to 'logloss'. Explicitly set eval_metric if you'd like to restore the old behavior.\n",
      "              precision    recall  f1-score   support\n",
      "\n",
      "           0       0.74      0.65      0.69       561\n",
      "           1       0.96      0.97      0.97      4957\n",
      "\n",
      "    accuracy                           0.94      5518\n",
      "   macro avg       0.85      0.81      0.83      5518\n",
      "weighted avg       0.94      0.94      0.94      5518\n",
      "\n"
     ]
    }
   ],
   "source": [
    "xgb = XGBClassifier().fit(X_train, y_train)\n",
    "y_xgb = xgb.predict(X_test)\n",
    "print(classification_report(y_test, y_xgb))"
   ]
  },
  {
   "cell_type": "code",
   "execution_count": 51,
   "metadata": {
    "executionInfo": {
     "elapsed": 3042,
     "status": "ok",
     "timestamp": 1633305820786,
     "user": {
      "displayName": "Bhavini G",
      "photoUrl": "https://lh3.googleusercontent.com/a/default-user=s64",
      "userId": "04864105761682059327"
     },
     "user_tz": 420
    },
    "id": "ePl6uEV_AlVL"
   },
   "outputs": [],
   "source": [
    "# Random Forest Model\n",
    "rf = RandomForestClassifier(max_depth=10,random_state=0).fit(X_train,y_train)\n",
    "y_pred_rf = rf.predict(X_test)"
   ]
  },
  {
   "cell_type": "code",
   "execution_count": 52,
   "metadata": {
    "colab": {
     "base_uri": "https://localhost:8080/"
    },
    "executionInfo": {
     "elapsed": 121,
     "status": "ok",
     "timestamp": 1633305822097,
     "user": {
      "displayName": "Bhavini G",
      "photoUrl": "https://lh3.googleusercontent.com/a/default-user=s64",
      "userId": "04864105761682059327"
     },
     "user_tz": 420
    },
    "id": "W6tRrNk2CS8f",
    "outputId": "6f2126b8-82b5-41db-c990-43cda09a1433"
   },
   "outputs": [
    {
     "name": "stdout",
     "output_type": "stream",
     "text": [
      "              precision    recall  f1-score   support\n",
      "\n",
      "           0       0.00      0.00      0.00       561\n",
      "           1       0.90      1.00      0.95      4957\n",
      "\n",
      "    accuracy                           0.90      5518\n",
      "   macro avg       0.45      0.50      0.47      5518\n",
      "weighted avg       0.81      0.90      0.85      5518\n",
      "\n"
     ]
    }
   ],
   "source": [
    "# Compute and print the classification report\n",
    "print(classification_report(y_test, y_pred_rf))"
   ]
  },
  {
   "cell_type": "code",
   "execution_count": 53,
   "metadata": {
    "colab": {
     "base_uri": "https://localhost:8080/"
    },
    "executionInfo": {
     "elapsed": 180,
     "status": "ok",
     "timestamp": 1633305823913,
     "user": {
      "displayName": "Bhavini G",
      "photoUrl": "https://lh3.googleusercontent.com/a/default-user=s64",
      "userId": "04864105761682059327"
     },
     "user_tz": 420
    },
    "id": "-ycYrWClDnDV",
    "outputId": "aee94e4a-bed8-4325-96fa-b1d66c363d38"
   },
   "outputs": [
    {
     "name": "stdout",
     "output_type": "stream",
     "text": [
      "              precision    recall  f1-score   support\n",
      "\n",
      "           0       0.00      0.00      0.00       561\n",
      "           1       0.90      1.00      0.95      4957\n",
      "\n",
      "    accuracy                           0.90      5518\n",
      "   macro avg       0.45      0.50      0.47      5518\n",
      "weighted avg       0.81      0.90      0.85      5518\n",
      "\n"
     ]
    }
   ],
   "source": [
    "# Naive Bayes Model\n",
    "nb=MultinomialNB().fit(X_train,y_train)\n",
    "y_pred_nb=nb.predict(X_test)\n",
    "print(classification_report(y_test, y_pred_nb))\n"
   ]
  },
  {
   "cell_type": "markdown",
   "metadata": {
    "id": "W_SCoCeFeGB3"
   },
   "source": [
    "### Random Over Sampling Technique"
   ]
  },
  {
   "cell_type": "code",
   "execution_count": 54,
   "metadata": {
    "executionInfo": {
     "elapsed": 145,
     "status": "ok",
     "timestamp": 1633305828645,
     "user": {
      "displayName": "Bhavini G",
      "photoUrl": "https://lh3.googleusercontent.com/a/default-user=s64",
      "userId": "04864105761682059327"
     },
     "user_tz": 420
    },
    "id": "upozJmONFCTp"
   },
   "outputs": [],
   "source": [
    "ros = RandomOverSampler(random_state=42)\n",
    "\n",
    "# fit predictor and target variable\n",
    "X_ros, y_ros = ros.fit_resample(X_train, y_train)\n"
   ]
  },
  {
   "cell_type": "code",
   "execution_count": 55,
   "metadata": {
    "colab": {
     "base_uri": "https://localhost:8080/"
    },
    "executionInfo": {
     "elapsed": 151,
     "status": "ok",
     "timestamp": 1633305830082,
     "user": {
      "displayName": "Bhavini G",
      "photoUrl": "https://lh3.googleusercontent.com/a/default-user=s64",
      "userId": "04864105761682059327"
     },
     "user_tz": 420
    },
    "id": "pH5ZLJueIbyA",
    "outputId": "a9d859d3-7f21-4942-c3b4-d57ac527b27f"
   },
   "outputs": [
    {
     "data": {
      "text/plain": [
       "Counter({1: 19588, 0: 19588})"
      ]
     },
     "execution_count": 55,
     "metadata": {},
     "output_type": "execute_result"
    }
   ],
   "source": [
    "Counter(y_ros)"
   ]
  },
  {
   "cell_type": "code",
   "execution_count": 56,
   "metadata": {
    "colab": {
     "base_uri": "https://localhost:8080/"
    },
    "executionInfo": {
     "elapsed": 1100,
     "status": "ok",
     "timestamp": 1633305833587,
     "user": {
      "displayName": "Bhavini G",
      "photoUrl": "https://lh3.googleusercontent.com/a/default-user=s64",
      "userId": "04864105761682059327"
     },
     "user_tz": 420
    },
    "id": "Z1_cOK21KlN_",
    "outputId": "5f4d7d3c-eff1-4d70-84b8-494d28c195ea"
   },
   "outputs": [
    {
     "name": "stdout",
     "output_type": "stream",
     "text": [
      "              precision    recall  f1-score   support\n",
      "\n",
      "           0       0.51      0.88      0.65       561\n",
      "           1       0.99      0.90      0.94      4957\n",
      "\n",
      "    accuracy                           0.90      5518\n",
      "   macro avg       0.75      0.89      0.79      5518\n",
      "weighted avg       0.94      0.90      0.91      5518\n",
      "\n"
     ]
    }
   ],
   "source": [
    "# LogisticRegression with Random Over Sampling\n",
    "logreg_ros =  LogisticRegression()\n",
    "logreg_ros.fit(X_ros, y_ros)\n",
    "\n",
    "y_pred_logreg_ros = logreg_ros.predict(X_test)\n",
    "print(classification_report(y_test, y_pred_logreg_ros))"
   ]
  },
  {
   "cell_type": "code",
   "execution_count": 57,
   "metadata": {},
   "outputs": [
    {
     "name": "stdout",
     "output_type": "stream",
     "text": [
      "[00:28:53] WARNING: C:/Users/Administrator/workspace/xgboost-win64_release_1.4.0/src/learner.cc:1095: Starting in XGBoost 1.3.0, the default evaluation metric used with the objective 'binary:logistic' was changed from 'error' to 'logloss'. Explicitly set eval_metric if you'd like to restore the old behavior.\n",
      "              precision    recall  f1-score   support\n",
      "\n",
      "           0       0.53      0.84      0.65       561\n",
      "           1       0.98      0.92      0.95      4957\n",
      "\n",
      "    accuracy                           0.91      5518\n",
      "   macro avg       0.76      0.88      0.80      5518\n",
      "weighted avg       0.93      0.91      0.92      5518\n",
      "\n"
     ]
    }
   ],
   "source": [
    "# XGB Classfier Model with Random Over Sampling\n",
    "\n",
    "xgb_ros = XGBClassifier().fit(X_ros, y_ros)\n",
    "y_pred_xgb_ros = xgb_ros.predict(X_test)\n",
    "print(classification_report(y_test, y_pred_xgb_ros))"
   ]
  },
  {
   "cell_type": "code",
   "execution_count": 58,
   "metadata": {
    "colab": {
     "base_uri": "https://localhost:8080/"
    },
    "executionInfo": {
     "elapsed": 4202,
     "status": "ok",
     "timestamp": 1633305838989,
     "user": {
      "displayName": "Bhavini G",
      "photoUrl": "https://lh3.googleusercontent.com/a/default-user=s64",
      "userId": "04864105761682059327"
     },
     "user_tz": 420
    },
    "id": "FWqhmTpAKkyo",
    "outputId": "e62cc79b-2bec-4bb0-90c6-ada062eb6267"
   },
   "outputs": [
    {
     "name": "stdout",
     "output_type": "stream",
     "text": [
      "              precision    recall  f1-score   support\n",
      "\n",
      "           0       0.32      0.84      0.46       561\n",
      "           1       0.98      0.80      0.88      4957\n",
      "\n",
      "    accuracy                           0.80      5518\n",
      "   macro avg       0.65      0.82      0.67      5518\n",
      "weighted avg       0.91      0.80      0.84      5518\n",
      "\n"
     ]
    }
   ],
   "source": [
    "# Random Forest Model with Random Over Sampling\n",
    "\n",
    "rf_ros = RandomForestClassifier(max_depth=10,random_state=0).fit(X_ros, y_ros)\n",
    "y_pred_rf_ros = rf_ros.predict(X_test)\n",
    "print(classification_report(y_test, y_pred_rf_ros))"
   ]
  },
  {
   "cell_type": "code",
   "execution_count": 59,
   "metadata": {
    "colab": {
     "base_uri": "https://localhost:8080/"
    },
    "executionInfo": {
     "elapsed": 159,
     "status": "ok",
     "timestamp": 1633305840797,
     "user": {
      "displayName": "Bhavini G",
      "photoUrl": "https://lh3.googleusercontent.com/a/default-user=s64",
      "userId": "04864105761682059327"
     },
     "user_tz": 420
    },
    "id": "mOkGmg13KkZ1",
    "outputId": "06d3155a-804c-4e05-8581-aca028cbc8da"
   },
   "outputs": [
    {
     "name": "stdout",
     "output_type": "stream",
     "text": [
      "              precision    recall  f1-score   support\n",
      "\n",
      "           0       0.00      0.00      0.00       561\n",
      "           1       0.90      1.00      0.95      4957\n",
      "\n",
      "    accuracy                           0.90      5518\n",
      "   macro avg       0.45      0.50      0.47      5518\n",
      "weighted avg       0.81      0.90      0.85      5518\n",
      "\n"
     ]
    }
   ],
   "source": [
    "# Naive Bayes Model with Random Over Sampling\n",
    "\n",
    "nb_ros=MultinomialNB().fit(X_ros, y_ros)\n",
    "y_pred_nb_ros=nb.predict(X_test)\n",
    "print(classification_report(y_test, y_pred_nb_ros))"
   ]
  },
  {
   "cell_type": "markdown",
   "metadata": {
    "id": "jPEiEd5ZNqIH"
   },
   "source": [
    "### Random Under Sampling technique"
   ]
  },
  {
   "cell_type": "code",
   "execution_count": 60,
   "metadata": {
    "executionInfo": {
     "elapsed": 217,
     "status": "ok",
     "timestamp": 1633305857586,
     "user": {
      "displayName": "Bhavini G",
      "photoUrl": "https://lh3.googleusercontent.com/a/default-user=s64",
      "userId": "04864105761682059327"
     },
     "user_tz": 420
    },
    "id": "i4pYMJSeNwRE"
   },
   "outputs": [],
   "source": [
    "rus = RandomUnderSampler(random_state=42, replacement=True)# fit predictor and target variable\n",
    "X_rus, y_rus = rus.fit_resample(X_train, y_train)\n"
   ]
  },
  {
   "cell_type": "code",
   "execution_count": 61,
   "metadata": {
    "colab": {
     "base_uri": "https://localhost:8080/"
    },
    "executionInfo": {
     "elapsed": 153,
     "status": "ok",
     "timestamp": 1633305859220,
     "user": {
      "displayName": "Bhavini G",
      "photoUrl": "https://lh3.googleusercontent.com/a/default-user=s64",
      "userId": "04864105761682059327"
     },
     "user_tz": 420
    },
    "id": "uVGph0_uNwBQ",
    "outputId": "f5919d24-befc-4f79-fa82-cbd22b68816c"
   },
   "outputs": [
    {
     "data": {
      "text/plain": [
       "4964"
      ]
     },
     "execution_count": 61,
     "metadata": {},
     "output_type": "execute_result"
    }
   ],
   "source": [
    "len(y_rus)"
   ]
  },
  {
   "cell_type": "code",
   "execution_count": 62,
   "metadata": {
    "colab": {
     "base_uri": "https://localhost:8080/"
    },
    "executionInfo": {
     "elapsed": 498,
     "status": "ok",
     "timestamp": 1633305860837,
     "user": {
      "displayName": "Bhavini G",
      "photoUrl": "https://lh3.googleusercontent.com/a/default-user=s64",
      "userId": "04864105761682059327"
     },
     "user_tz": 420
    },
    "id": "PfanYqZcNvyl",
    "outputId": "dbcbffe8-ec64-4645-86c9-2a0d93547338"
   },
   "outputs": [
    {
     "name": "stdout",
     "output_type": "stream",
     "text": [
      "              precision    recall  f1-score   support\n",
      "\n",
      "           0       0.35      0.92      0.50       561\n",
      "           1       0.99      0.81      0.89      4957\n",
      "\n",
      "    accuracy                           0.82      5518\n",
      "   macro avg       0.67      0.86      0.70      5518\n",
      "weighted avg       0.92      0.82      0.85      5518\n",
      "\n"
     ]
    }
   ],
   "source": [
    "# LogisticRegression with Random Under Sampling\n",
    "logreg_rus =  LogisticRegression()\n",
    "logreg_rus.fit(X_rus, y_rus)\n",
    "y_pred_logreg_rus = logreg_rus.predict(X_test)\n",
    "print(classification_report(y_test, y_pred_logreg_rus))"
   ]
  },
  {
   "cell_type": "code",
   "execution_count": 63,
   "metadata": {},
   "outputs": [
    {
     "name": "stdout",
     "output_type": "stream",
     "text": [
      "[00:29:01] WARNING: C:/Users/Administrator/workspace/xgboost-win64_release_1.4.0/src/learner.cc:1095: Starting in XGBoost 1.3.0, the default evaluation metric used with the objective 'binary:logistic' was changed from 'error' to 'logloss'. Explicitly set eval_metric if you'd like to restore the old behavior.\n",
      "              precision    recall  f1-score   support\n",
      "\n",
      "           0       0.42      0.91      0.57       561\n",
      "           1       0.99      0.86      0.92      4957\n",
      "\n",
      "    accuracy                           0.86      5518\n",
      "   macro avg       0.70      0.88      0.75      5518\n",
      "weighted avg       0.93      0.86      0.88      5518\n",
      "\n"
     ]
    }
   ],
   "source": [
    "# XGB Classfier Model with Random Under Sampling\n",
    "\n",
    "xgb_rus = XGBClassifier().fit(X_rus, y_rus)\n",
    "y_pred_xgb_rus = xgb_rus.predict(X_test)\n",
    "print(classification_report(y_test, y_pred_xgb_rus))"
   ]
  },
  {
   "cell_type": "code",
   "execution_count": 64,
   "metadata": {
    "colab": {
     "base_uri": "https://localhost:8080/"
    },
    "executionInfo": {
     "elapsed": 786,
     "status": "ok",
     "timestamp": 1633305868787,
     "user": {
      "displayName": "Bhavini G",
      "photoUrl": "https://lh3.googleusercontent.com/a/default-user=s64",
      "userId": "04864105761682059327"
     },
     "user_tz": 420
    },
    "id": "UbduiOERNvYl",
    "outputId": "406fc651-cd3c-4b9e-b5fb-60ae4258b3b0"
   },
   "outputs": [
    {
     "name": "stdout",
     "output_type": "stream",
     "text": [
      "              precision    recall  f1-score   support\n",
      "\n",
      "           0       0.32      0.85      0.47       561\n",
      "           1       0.98      0.80      0.88      4957\n",
      "\n",
      "    accuracy                           0.80      5518\n",
      "   macro avg       0.65      0.82      0.67      5518\n",
      "weighted avg       0.91      0.80      0.84      5518\n",
      "\n"
     ]
    }
   ],
   "source": [
    "# Random Forest Model with Random Under Sampling\n",
    "\n",
    "rf_rus = RandomForestClassifier(max_depth=10,random_state=0).fit(X_rus, y_rus)\n",
    "y_pred_rf_rus = rf_rus.predict(X_test)\n",
    "print(classification_report(y_test, y_pred_rf_rus))"
   ]
  },
  {
   "cell_type": "code",
   "execution_count": 65,
   "metadata": {
    "colab": {
     "base_uri": "https://localhost:8080/"
    },
    "executionInfo": {
     "elapsed": 177,
     "status": "ok",
     "timestamp": 1633305870361,
     "user": {
      "displayName": "Bhavini G",
      "photoUrl": "https://lh3.googleusercontent.com/a/default-user=s64",
      "userId": "04864105761682059327"
     },
     "user_tz": 420
    },
    "id": "AptE2UEAPaKj",
    "outputId": "8d236a43-c053-4b6f-e8ee-54b0448c892b"
   },
   "outputs": [
    {
     "name": "stdout",
     "output_type": "stream",
     "text": [
      "              precision    recall  f1-score   support\n",
      "\n",
      "           0       0.00      0.00      0.00       561\n",
      "           1       0.90      1.00      0.95      4957\n",
      "\n",
      "    accuracy                           0.90      5518\n",
      "   macro avg       0.45      0.50      0.47      5518\n",
      "weighted avg       0.81      0.90      0.85      5518\n",
      "\n"
     ]
    }
   ],
   "source": [
    "# Naive Bayes Model with Random Under Sampling\n",
    "\n",
    "nb_rus=MultinomialNB().fit(X_rus, y_rus)\n",
    "y_pred_nb_rus=nb.predict(X_test)\n",
    "print(classification_report(y_test, y_pred_nb_rus))"
   ]
  },
  {
   "cell_type": "code",
   "execution_count": 66,
   "metadata": {
    "executionInfo": {
     "elapsed": 131,
     "status": "ok",
     "timestamp": 1633305874701,
     "user": {
      "displayName": "Bhavini G",
      "photoUrl": "https://lh3.googleusercontent.com/a/default-user=s64",
      "userId": "04864105761682059327"
     },
     "user_tz": 420
    },
    "id": "L7liovCv6MDo"
   },
   "outputs": [],
   "source": [
    "# create table to show the comparative study\n",
    "results = pd.DataFrame({'Method':['Logistic Regression']\n",
    "                        , 'Imbalance technique': ['None']\n",
    "                        , 'Accuracy': [accuracy_score(y_test, y_pred_logreg)]\n",
    "                        , 'Recall': [recall_score(y_test, y_pred_logreg)]\n",
    "                        , 'f1-score': [f1_score(y_test, y_pred_logreg)]\n",
    "                        , 'ROCAUC': [roc_auc_score(y_test, y_pred_logreg)]})\n",
    "tempResults = pd.DataFrame({'Method':['XGB Classifier']\n",
    "                        , 'Imbalance technique': ['None']\n",
    "                        , 'Accuracy': [accuracy_score(y_test, y_xgb)]\n",
    "                        , 'Recall': [recall_score(y_test, y_xgb)]\n",
    "                        , 'f1-score': [f1_score(y_test, y_xgb)]\n",
    "                        , 'ROCAUC': [roc_auc_score(y_test, y_xgb)]})\n",
    "results = pd.concat([results, tempResults])\n",
    "tempResults = pd.DataFrame({'Method':['Random Forest Model']\n",
    "                        , 'Imbalance technique': ['None']\n",
    "                        , 'Accuracy': [accuracy_score(y_test, y_pred_rf)]\n",
    "                        , 'Recall': [recall_score(y_test, y_pred_rf)]\n",
    "                        , 'f1-score': [f1_score(y_test, y_pred_rf)]\n",
    "                        , 'ROCAUC': [roc_auc_score(y_test, y_pred_rf)]})\n",
    "results = pd.concat([results, tempResults])\n",
    "tempResults = pd.DataFrame({'Method':['Naive Bayes']\n",
    "                        , 'Imbalance technique': ['None']\n",
    "                        , 'Accuracy': [accuracy_score(y_test, y_pred_nb)]\n",
    "                        , 'Recall': [recall_score(y_test, y_pred_nb)]\n",
    "                        , 'f1-score': [f1_score(y_test, y_pred_nb)]\n",
    "                        , 'ROCAUC': [roc_auc_score(y_test, y_pred_nb)]})\n",
    "results = pd.concat([results, tempResults])\n",
    "tempResults = pd.DataFrame({'Method':['Logistic Regression']\n",
    "                        , 'Imbalance technique': ['Random Over Sampling']\n",
    "                        , 'Accuracy': [accuracy_score(y_test, y_pred_logreg_ros)]\n",
    "                        , 'Recall': [recall_score(y_test, y_pred_logreg_ros)]\n",
    "                        , 'f1-score': [f1_score(y_test, y_pred_logreg_ros)]\n",
    "                        , 'ROCAUC': [roc_auc_score(y_test, y_pred_logreg_ros)]})\n",
    "results = pd.concat([results, tempResults])\n",
    "tempResults = pd.DataFrame({'Method':['XGB Classifier']\n",
    "                        , 'Imbalance technique': ['Random Over Sampling']\n",
    "                        , 'Accuracy': [accuracy_score(y_test, y_pred_xgb_ros)]\n",
    "                        , 'Recall': [recall_score(y_test, y_pred_xgb_ros)]\n",
    "                        , 'f1-score': [f1_score(y_test, y_pred_xgb_ros)]\n",
    "                        , 'ROCAUC': [roc_auc_score(y_test, y_pred_xgb_ros)]})\n",
    "results = pd.concat([results, tempResults])\n",
    "tempResults = pd.DataFrame({'Method':['Random Forest Model']\n",
    "                        , 'Imbalance technique': ['Random Over Sampling']\n",
    "                        , 'Accuracy': [accuracy_score(y_test, y_pred_rf_ros)]\n",
    "                        , 'Recall': [recall_score(y_test, y_pred_rf_ros)]\n",
    "                        , 'f1-score': [f1_score(y_test, y_pred_rf_ros)]\n",
    "                        , 'ROCAUC': [roc_auc_score(y_test, y_pred_rf_ros)]})\n",
    "results = pd.concat([results, tempResults])\n",
    "tempResults = pd.DataFrame({'Method':['Naive Bayes']\n",
    "                        , 'Imbalance technique': ['Random Over Sampling']\n",
    "                        , 'Accuracy': [accuracy_score(y_test, y_pred_nb_ros)]\n",
    "                        , 'Recall': [recall_score(y_test, y_pred_nb_ros)]\n",
    "                        , 'f1-score': [f1_score(y_test, y_pred_nb_ros)]\n",
    "                        , 'ROCAUC': [roc_auc_score(y_test, y_pred_nb_ros)]})\n",
    "results = pd.concat([results, tempResults])\n",
    "tempResults = pd.DataFrame({'Method':['Logistic Regression']\n",
    "                        , 'Imbalance technique': ['Random Under Sampling']\n",
    "                        , 'Accuracy': [accuracy_score(y_test, y_pred_logreg_rus)]\n",
    "                        , 'Recall': [recall_score(y_test, y_pred_logreg_rus)]\n",
    "                        , 'f1-score': [f1_score(y_test, y_pred_logreg_rus)]\n",
    "                        , 'ROCAUC': [roc_auc_score(y_test, y_pred_logreg_rus)]})\n",
    "results = pd.concat([results, tempResults])\n",
    "tempResults = pd.DataFrame({'Method':['XGB Classifier']\n",
    "                        , 'Imbalance technique': ['Random Under Sampling']\n",
    "                        , 'Accuracy': [accuracy_score(y_test, y_pred_xgb_rus)]\n",
    "                        , 'Recall': [recall_score(y_test, y_pred_xgb_rus)]\n",
    "                        , 'f1-score': [f1_score(y_test, y_pred_xgb_rus)]\n",
    "                        , 'ROCAUC': [roc_auc_score(y_test, y_pred_xgb_rus)]})\n",
    "results = pd.concat([results, tempResults])\n",
    "tempResults = pd.DataFrame({'Method':['Random Forest Model']\n",
    "                        , 'Imbalance technique': ['Random Under Sampling']\n",
    "                        , 'Accuracy': [accuracy_score(y_test, y_pred_rf_rus)]\n",
    "                        , 'Recall': [recall_score(y_test, y_pred_rf_rus)]\n",
    "                        , 'f1-score': [f1_score(y_test, y_pred_rf_rus)]\n",
    "                        , 'ROCAUC': [roc_auc_score(y_test, y_pred_rf_rus)]})\n",
    "results = pd.concat([results, tempResults])\n",
    "tempResults = pd.DataFrame({'Method':['Naive Bayes']\n",
    "                        , 'Imbalance technique': ['Random Under Sampling']\n",
    "                        , 'Accuracy': [accuracy_score(y_test, y_pred_nb_rus)]\n",
    "                        , 'Recall': [recall_score(y_test, y_pred_nb_rus)]\n",
    "                        , 'f1-score': [f1_score(y_test, y_pred_nb_rus)]\n",
    "                        , 'ROCAUC': [roc_auc_score(y_test, y_pred_nb_rus)]})\n",
    "results = pd.concat([results, tempResults])\n",
    "results = results[['Method', 'Imbalance technique', 'Accuracy', 'Recall','ROCAUC' ]]\n"
   ]
  },
  {
   "cell_type": "markdown",
   "metadata": {
    "id": "fezdSJVXKCpa"
   },
   "source": [
    "### Table of Comparative study of Sentiment analysis with and without handling imbalance with result metrics"
   ]
  },
  {
   "cell_type": "code",
   "execution_count": 67,
   "metadata": {
    "colab": {
     "base_uri": "https://localhost:8080/",
     "height": 328
    },
    "executionInfo": {
     "elapsed": 147,
     "status": "ok",
     "timestamp": 1633305879021,
     "user": {
      "displayName": "Bhavini G",
      "photoUrl": "https://lh3.googleusercontent.com/a/default-user=s64",
      "userId": "04864105761682059327"
     },
     "user_tz": 420
    },
    "id": "ck_aXPd7FU1N",
    "outputId": "5a0cfe73-747e-4457-b594-7e99b2ea9cd3"
   },
   "outputs": [
    {
     "data": {
      "text/html": [
       "<div>\n",
       "<style scoped>\n",
       "    .dataframe tbody tr th:only-of-type {\n",
       "        vertical-align: middle;\n",
       "    }\n",
       "\n",
       "    .dataframe tbody tr th {\n",
       "        vertical-align: top;\n",
       "    }\n",
       "\n",
       "    .dataframe thead th {\n",
       "        text-align: right;\n",
       "    }\n",
       "</style>\n",
       "<table border=\"1\" class=\"dataframe\">\n",
       "  <thead>\n",
       "    <tr style=\"text-align: right;\">\n",
       "      <th></th>\n",
       "      <th>Method</th>\n",
       "      <th>Imbalance technique</th>\n",
       "      <th>Accuracy</th>\n",
       "      <th>Recall</th>\n",
       "      <th>ROCAUC</th>\n",
       "    </tr>\n",
       "  </thead>\n",
       "  <tbody>\n",
       "    <tr>\n",
       "      <th>0</th>\n",
       "      <td>Logistic Regression</td>\n",
       "      <td>None</td>\n",
       "      <td>0.920080</td>\n",
       "      <td>0.995360</td>\n",
       "      <td>0.625131</td>\n",
       "    </tr>\n",
       "    <tr>\n",
       "      <th>0</th>\n",
       "      <td>XGB Classifier</td>\n",
       "      <td>None</td>\n",
       "      <td>0.940739</td>\n",
       "      <td>0.973976</td>\n",
       "      <td>0.810518</td>\n",
       "    </tr>\n",
       "    <tr>\n",
       "      <th>0</th>\n",
       "      <td>Random Forest Model</td>\n",
       "      <td>None</td>\n",
       "      <td>0.898333</td>\n",
       "      <td>1.000000</td>\n",
       "      <td>0.500000</td>\n",
       "    </tr>\n",
       "    <tr>\n",
       "      <th>0</th>\n",
       "      <td>Naive Bayes</td>\n",
       "      <td>None</td>\n",
       "      <td>0.897427</td>\n",
       "      <td>0.998991</td>\n",
       "      <td>0.499496</td>\n",
       "    </tr>\n",
       "    <tr>\n",
       "      <th>0</th>\n",
       "      <td>Logistic Regression</td>\n",
       "      <td>Random Over Sampling</td>\n",
       "      <td>0.901414</td>\n",
       "      <td>0.903369</td>\n",
       "      <td>0.893752</td>\n",
       "    </tr>\n",
       "    <tr>\n",
       "      <th>0</th>\n",
       "      <td>XGB Classifier</td>\n",
       "      <td>Random Over Sampling</td>\n",
       "      <td>0.909025</td>\n",
       "      <td>0.917087</td>\n",
       "      <td>0.877438</td>\n",
       "    </tr>\n",
       "    <tr>\n",
       "      <th>0</th>\n",
       "      <td>Random Forest Model</td>\n",
       "      <td>Random Over Sampling</td>\n",
       "      <td>0.801377</td>\n",
       "      <td>0.797458</td>\n",
       "      <td>0.816733</td>\n",
       "    </tr>\n",
       "    <tr>\n",
       "      <th>0</th>\n",
       "      <td>Naive Bayes</td>\n",
       "      <td>Random Over Sampling</td>\n",
       "      <td>0.897427</td>\n",
       "      <td>0.998991</td>\n",
       "      <td>0.499496</td>\n",
       "    </tr>\n",
       "    <tr>\n",
       "      <th>0</th>\n",
       "      <td>Logistic Regression</td>\n",
       "      <td>Random Under Sampling</td>\n",
       "      <td>0.817144</td>\n",
       "      <td>0.805931</td>\n",
       "      <td>0.861076</td>\n",
       "    </tr>\n",
       "    <tr>\n",
       "      <th>0</th>\n",
       "      <td>XGB Classifier</td>\n",
       "      <td>Random Under Sampling</td>\n",
       "      <td>0.862813</td>\n",
       "      <td>0.857777</td>\n",
       "      <td>0.882543</td>\n",
       "    </tr>\n",
       "    <tr>\n",
       "      <th>0</th>\n",
       "      <td>Random Forest Model</td>\n",
       "      <td>Random Under Sampling</td>\n",
       "      <td>0.802283</td>\n",
       "      <td>0.797055</td>\n",
       "      <td>0.822770</td>\n",
       "    </tr>\n",
       "    <tr>\n",
       "      <th>0</th>\n",
       "      <td>Naive Bayes</td>\n",
       "      <td>Random Under Sampling</td>\n",
       "      <td>0.897427</td>\n",
       "      <td>0.998991</td>\n",
       "      <td>0.499496</td>\n",
       "    </tr>\n",
       "  </tbody>\n",
       "</table>\n",
       "</div>"
      ],
      "text/plain": [
       "                Method    Imbalance technique  Accuracy    Recall    ROCAUC\n",
       "0  Logistic Regression                   None  0.920080  0.995360  0.625131\n",
       "0       XGB Classifier                   None  0.940739  0.973976  0.810518\n",
       "0  Random Forest Model                   None  0.898333  1.000000  0.500000\n",
       "0          Naive Bayes                   None  0.897427  0.998991  0.499496\n",
       "0  Logistic Regression   Random Over Sampling  0.901414  0.903369  0.893752\n",
       "0       XGB Classifier   Random Over Sampling  0.909025  0.917087  0.877438\n",
       "0  Random Forest Model   Random Over Sampling  0.801377  0.797458  0.816733\n",
       "0          Naive Bayes   Random Over Sampling  0.897427  0.998991  0.499496\n",
       "0  Logistic Regression  Random Under Sampling  0.817144  0.805931  0.861076\n",
       "0       XGB Classifier  Random Under Sampling  0.862813  0.857777  0.882543\n",
       "0  Random Forest Model  Random Under Sampling  0.802283  0.797055  0.822770\n",
       "0          Naive Bayes  Random Under Sampling  0.897427  0.998991  0.499496"
      ]
     },
     "execution_count": 67,
     "metadata": {},
     "output_type": "execute_result"
    }
   ],
   "source": [
    "results"
   ]
  },
  {
   "cell_type": "markdown",
   "metadata": {
    "id": "NLWzAa1IK2C_"
   },
   "source": [
    "### We choose the model Logistic Regression with Random Over Sampling technique because it has provided a decent accuracy, recall and the maximum ROCAUC values."
   ]
  },
  {
   "cell_type": "code",
   "execution_count": 68,
   "metadata": {
    "executionInfo": {
     "elapsed": 187,
     "status": "ok",
     "timestamp": 1633305985913,
     "user": {
      "displayName": "Bhavini G",
      "photoUrl": "https://lh3.googleusercontent.com/a/default-user=s64",
      "userId": "04864105761682059327"
     },
     "user_tz": 420
    },
    "id": "kO4ts5l6WJYF"
   },
   "outputs": [],
   "source": [
    "# Saving the model as it will be used later while deploying\n",
    "\n",
    "\n",
    "# Save to file in the current working directory\n",
    "pkl_filename = \"final_model.pkl\"\n",
    "with open(pkl_filename, 'wb') as file:\n",
    "    pickle.dump(logreg_ros, file)\n",
    "\n",
    "# Load from file\n",
    "with open(pkl_filename, 'rb') as file:\n",
    "    pickled_logreg_ros = pickle.load(file)"
   ]
  },
  {
   "cell_type": "code",
   "execution_count": 69,
   "metadata": {
    "executionInfo": {
     "elapsed": 4336,
     "status": "ok",
     "timestamp": 1633306148173,
     "user": {
      "displayName": "Bhavini G",
      "photoUrl": "https://lh3.googleusercontent.com/a/default-user=s64",
      "userId": "04864105761682059327"
     },
     "user_tz": 420
    },
    "id": "vLdRwgg76TRm"
   },
   "outputs": [],
   "source": [
    "# With the chosen one, create a file of all products, and their popularity to choose the top one \n",
    "X_to_pred=pickled_tfidf_vect.transform(X_clean['lemmatized_sentiment'])\n",
    "df['predicted_sentiment']=pickled_logreg_ros.predict(X_to_pred)"
   ]
  },
  {
   "cell_type": "code",
   "execution_count": 70,
   "metadata": {
    "colab": {
     "base_uri": "https://localhost:8080/",
     "height": 564
    },
    "executionInfo": {
     "elapsed": 162,
     "status": "ok",
     "timestamp": 1633306151718,
     "user": {
      "displayName": "Bhavini G",
      "photoUrl": "https://lh3.googleusercontent.com/a/default-user=s64",
      "userId": "04864105761682059327"
     },
     "user_tz": 420
    },
    "id": "P9Xcl6W4PL3m",
    "outputId": "ed7999e5-44b2-4501-88d1-2ada1978f59d"
   },
   "outputs": [
    {
     "data": {
      "text/html": [
       "<div>\n",
       "<style scoped>\n",
       "    .dataframe tbody tr th:only-of-type {\n",
       "        vertical-align: middle;\n",
       "    }\n",
       "\n",
       "    .dataframe tbody tr th {\n",
       "        vertical-align: top;\n",
       "    }\n",
       "\n",
       "    .dataframe thead th {\n",
       "        text-align: right;\n",
       "    }\n",
       "</style>\n",
       "<table border=\"1\" class=\"dataframe\">\n",
       "  <thead>\n",
       "    <tr style=\"text-align: right;\">\n",
       "      <th></th>\n",
       "      <th>id</th>\n",
       "      <th>brand</th>\n",
       "      <th>categories</th>\n",
       "      <th>manufacturer</th>\n",
       "      <th>name</th>\n",
       "      <th>reviews_rating</th>\n",
       "      <th>reviews_text</th>\n",
       "      <th>reviews_title</th>\n",
       "      <th>reviews_username</th>\n",
       "      <th>user_sentiment</th>\n",
       "      <th>sent</th>\n",
       "      <th>predicted_sentiment</th>\n",
       "    </tr>\n",
       "  </thead>\n",
       "  <tbody>\n",
       "    <tr>\n",
       "      <th>0</th>\n",
       "      <td>AV13O1A8GV-KLJ3akUyj</td>\n",
       "      <td>Universal Music</td>\n",
       "      <td>Movies, Music &amp; Books,Music,R&amp;b,Movies &amp; TV,Mo...</td>\n",
       "      <td>Universal Music Group / Cash Money</td>\n",
       "      <td>Pink Friday: Roman Reloaded Re-Up (w/dvd)</td>\n",
       "      <td>5</td>\n",
       "      <td>i love this album. it's very good. more to the...</td>\n",
       "      <td>Just Awesome</td>\n",
       "      <td>joshua</td>\n",
       "      <td>Positive</td>\n",
       "      <td>Just Awesome i love this album. it's very good...</td>\n",
       "      <td>1</td>\n",
       "    </tr>\n",
       "    <tr>\n",
       "      <th>2</th>\n",
       "      <td>AV14LG0R-jtxr-f38QfS</td>\n",
       "      <td>Lundberg</td>\n",
       "      <td>Food,Packaged Foods,Snacks,Crackers,Snacks, Co...</td>\n",
       "      <td>Lundberg</td>\n",
       "      <td>Lundberg Organic Cinnamon Toast Rice Cakes</td>\n",
       "      <td>5</td>\n",
       "      <td>Good flavor.</td>\n",
       "      <td>Good</td>\n",
       "      <td>dorothy w</td>\n",
       "      <td>Positive</td>\n",
       "      <td>Good Good flavor.</td>\n",
       "      <td>1</td>\n",
       "    </tr>\n",
       "    <tr>\n",
       "      <th>3</th>\n",
       "      <td>AV16khLE-jtxr-f38VFn</td>\n",
       "      <td>K-Y</td>\n",
       "      <td>Personal Care,Medicine Cabinet,Lubricant/Sperm...</td>\n",
       "      <td>K-Y</td>\n",
       "      <td>K-Y Love Sensuality Pleasure Gel</td>\n",
       "      <td>1</td>\n",
       "      <td>I read through the reviews on here before look...</td>\n",
       "      <td>Disappointed</td>\n",
       "      <td>rebecca</td>\n",
       "      <td>Negative</td>\n",
       "      <td>Disappointed I read through the reviews on her...</td>\n",
       "      <td>0</td>\n",
       "    </tr>\n",
       "    <tr>\n",
       "      <th>4</th>\n",
       "      <td>AV16khLE-jtxr-f38VFn</td>\n",
       "      <td>K-Y</td>\n",
       "      <td>Personal Care,Medicine Cabinet,Lubricant/Sperm...</td>\n",
       "      <td>K-Y</td>\n",
       "      <td>K-Y Love Sensuality Pleasure Gel</td>\n",
       "      <td>1</td>\n",
       "      <td>My husband bought this gel for us. The gel cau...</td>\n",
       "      <td>Irritation</td>\n",
       "      <td>walker557</td>\n",
       "      <td>Negative</td>\n",
       "      <td>Irritation My husband bought this gel for us. ...</td>\n",
       "      <td>0</td>\n",
       "    </tr>\n",
       "    <tr>\n",
       "      <th>5</th>\n",
       "      <td>AV16khLE-jtxr-f38VFn</td>\n",
       "      <td>K-Y</td>\n",
       "      <td>Personal Care,Medicine Cabinet,Lubricant/Sperm...</td>\n",
       "      <td>K-Y</td>\n",
       "      <td>K-Y Love Sensuality Pleasure Gel</td>\n",
       "      <td>1</td>\n",
       "      <td>My boyfriend and I bought this to spice things...</td>\n",
       "      <td>Not worth it</td>\n",
       "      <td>samantha</td>\n",
       "      <td>Negative</td>\n",
       "      <td>Not worth it My boyfriend and I bought this to...</td>\n",
       "      <td>0</td>\n",
       "    </tr>\n",
       "  </tbody>\n",
       "</table>\n",
       "</div>"
      ],
      "text/plain": [
       "                     id            brand  \\\n",
       "0  AV13O1A8GV-KLJ3akUyj  Universal Music   \n",
       "2  AV14LG0R-jtxr-f38QfS         Lundberg   \n",
       "3  AV16khLE-jtxr-f38VFn              K-Y   \n",
       "4  AV16khLE-jtxr-f38VFn              K-Y   \n",
       "5  AV16khLE-jtxr-f38VFn              K-Y   \n",
       "\n",
       "                                          categories  \\\n",
       "0  Movies, Music & Books,Music,R&b,Movies & TV,Mo...   \n",
       "2  Food,Packaged Foods,Snacks,Crackers,Snacks, Co...   \n",
       "3  Personal Care,Medicine Cabinet,Lubricant/Sperm...   \n",
       "4  Personal Care,Medicine Cabinet,Lubricant/Sperm...   \n",
       "5  Personal Care,Medicine Cabinet,Lubricant/Sperm...   \n",
       "\n",
       "                         manufacturer  \\\n",
       "0  Universal Music Group / Cash Money   \n",
       "2                            Lundberg   \n",
       "3                                 K-Y   \n",
       "4                                 K-Y   \n",
       "5                                 K-Y   \n",
       "\n",
       "                                         name  reviews_rating  \\\n",
       "0   Pink Friday: Roman Reloaded Re-Up (w/dvd)               5   \n",
       "2  Lundberg Organic Cinnamon Toast Rice Cakes               5   \n",
       "3            K-Y Love Sensuality Pleasure Gel               1   \n",
       "4            K-Y Love Sensuality Pleasure Gel               1   \n",
       "5            K-Y Love Sensuality Pleasure Gel               1   \n",
       "\n",
       "                                        reviews_text reviews_title  \\\n",
       "0  i love this album. it's very good. more to the...  Just Awesome   \n",
       "2                                       Good flavor.          Good   \n",
       "3  I read through the reviews on here before look...  Disappointed   \n",
       "4  My husband bought this gel for us. The gel cau...    Irritation   \n",
       "5  My boyfriend and I bought this to spice things...  Not worth it   \n",
       "\n",
       "  reviews_username user_sentiment  \\\n",
       "0           joshua       Positive   \n",
       "2        dorothy w       Positive   \n",
       "3          rebecca       Negative   \n",
       "4        walker557       Negative   \n",
       "5         samantha       Negative   \n",
       "\n",
       "                                                sent  predicted_sentiment  \n",
       "0  Just Awesome i love this album. it's very good...                    1  \n",
       "2                                  Good Good flavor.                    1  \n",
       "3  Disappointed I read through the reviews on her...                    0  \n",
       "4  Irritation My husband bought this gel for us. ...                    0  \n",
       "5  Not worth it My boyfriend and I bought this to...                    0  "
      ]
     },
     "execution_count": 70,
     "metadata": {},
     "output_type": "execute_result"
    }
   ],
   "source": [
    "df.head()"
   ]
  },
  {
   "cell_type": "code",
   "execution_count": 71,
   "metadata": {
    "executionInfo": {
     "elapsed": 754,
     "status": "ok",
     "timestamp": 1633306170727,
     "user": {
      "displayName": "Bhavini G",
      "photoUrl": "https://lh3.googleusercontent.com/a/default-user=s64",
      "userId": "04864105761682059327"
     },
     "user_tz": 420
    },
    "id": "WqtGYQyzPgKn"
   },
   "outputs": [],
   "source": [
    "df.to_csv('DataAfterPrediction.csv', encoding='utf-8', index=False)"
   ]
  },
  {
   "cell_type": "markdown",
   "metadata": {
    "id": "4g3AMd5IQQch"
   },
   "source": [
    "## Creating product popularity score dataframe to be used later for Recommender system"
   ]
  },
  {
   "cell_type": "code",
   "execution_count": 72,
   "metadata": {
    "executionInfo": {
     "elapsed": 217,
     "status": "ok",
     "timestamp": 1633306214207,
     "user": {
      "displayName": "Bhavini G",
      "photoUrl": "https://lh3.googleusercontent.com/a/default-user=s64",
      "userId": "04864105761682059327"
     },
     "user_tz": 420
    },
    "id": "_M4D9a3hSxCj"
   },
   "outputs": [],
   "source": [
    "pop_df=pd.DataFrame(df.id.value_counts()).reset_index()"
   ]
  },
  {
   "cell_type": "code",
   "execution_count": 73,
   "metadata": {
    "executionInfo": {
     "elapsed": 180,
     "status": "ok",
     "timestamp": 1633306226567,
     "user": {
      "displayName": "Bhavini G",
      "photoUrl": "https://lh3.googleusercontent.com/a/default-user=s64",
      "userId": "04864105761682059327"
     },
     "user_tz": 420
    },
    "id": "lsem61BF3O41"
   },
   "outputs": [],
   "source": [
    "pop_df.columns=['id','value_count']"
   ]
  },
  {
   "cell_type": "code",
   "execution_count": 74,
   "metadata": {
    "executionInfo": {
     "elapsed": 859,
     "status": "ok",
     "timestamp": 1633306232291,
     "user": {
      "displayName": "Bhavini G",
      "photoUrl": "https://lh3.googleusercontent.com/a/default-user=s64",
      "userId": "04864105761682059327"
     },
     "user_tz": 420
    },
    "id": "M9_9_bk4543n"
   },
   "outputs": [],
   "source": [
    "pop_df['pos_reviews']=pop_df.id.apply(lambda x: len(df[(df['id']==x) & (df['predicted_sentiment']==1)]))"
   ]
  },
  {
   "cell_type": "code",
   "execution_count": 75,
   "metadata": {
    "colab": {
     "base_uri": "https://localhost:8080/",
     "height": 204
    },
    "executionInfo": {
     "elapsed": 160,
     "status": "ok",
     "timestamp": 1633306249878,
     "user": {
      "displayName": "Bhavini G",
      "photoUrl": "https://lh3.googleusercontent.com/a/default-user=s64",
      "userId": "04864105761682059327"
     },
     "user_tz": 420
    },
    "id": "ybB5A09Y6gnf",
    "outputId": "5d77f89e-56cb-445a-b049-bafb1bc4b1d8"
   },
   "outputs": [
    {
     "data": {
      "text/html": [
       "<div>\n",
       "<style scoped>\n",
       "    .dataframe tbody tr th:only-of-type {\n",
       "        vertical-align: middle;\n",
       "    }\n",
       "\n",
       "    .dataframe tbody tr th {\n",
       "        vertical-align: top;\n",
       "    }\n",
       "\n",
       "    .dataframe thead th {\n",
       "        text-align: right;\n",
       "    }\n",
       "</style>\n",
       "<table border=\"1\" class=\"dataframe\">\n",
       "  <thead>\n",
       "    <tr style=\"text-align: right;\">\n",
       "      <th></th>\n",
       "      <th>id</th>\n",
       "      <th>value_count</th>\n",
       "      <th>pos_reviews</th>\n",
       "    </tr>\n",
       "  </thead>\n",
       "  <tbody>\n",
       "    <tr>\n",
       "      <th>0</th>\n",
       "      <td>AVpf3VOfilAPnD_xjpun</td>\n",
       "      <td>7786</td>\n",
       "      <td>6647</td>\n",
       "    </tr>\n",
       "    <tr>\n",
       "      <th>1</th>\n",
       "      <td>AVpfPaoqLJeJML435Xk9</td>\n",
       "      <td>3148</td>\n",
       "      <td>2697</td>\n",
       "    </tr>\n",
       "    <tr>\n",
       "      <th>2</th>\n",
       "      <td>AVpfJP1C1cnluZ0-e3Xy</td>\n",
       "      <td>1893</td>\n",
       "      <td>1653</td>\n",
       "    </tr>\n",
       "    <tr>\n",
       "      <th>3</th>\n",
       "      <td>AVpfRTh1ilAPnD_xYic2</td>\n",
       "      <td>1097</td>\n",
       "      <td>974</td>\n",
       "    </tr>\n",
       "    <tr>\n",
       "      <th>4</th>\n",
       "      <td>AVpf63aJLJeJML43F__Q</td>\n",
       "      <td>873</td>\n",
       "      <td>715</td>\n",
       "    </tr>\n",
       "  </tbody>\n",
       "</table>\n",
       "</div>"
      ],
      "text/plain": [
       "                     id  value_count  pos_reviews\n",
       "0  AVpf3VOfilAPnD_xjpun         7786         6647\n",
       "1  AVpfPaoqLJeJML435Xk9         3148         2697\n",
       "2  AVpfJP1C1cnluZ0-e3Xy         1893         1653\n",
       "3  AVpfRTh1ilAPnD_xYic2         1097          974\n",
       "4  AVpf63aJLJeJML43F__Q          873          715"
      ]
     },
     "execution_count": 75,
     "metadata": {},
     "output_type": "execute_result"
    }
   ],
   "source": [
    "pop_df.head()"
   ]
  },
  {
   "cell_type": "code",
   "execution_count": 76,
   "metadata": {
    "executionInfo": {
     "elapsed": 172,
     "status": "ok",
     "timestamp": 1633306257871,
     "user": {
      "displayName": "Bhavini G",
      "photoUrl": "https://lh3.googleusercontent.com/a/default-user=s64",
      "userId": "04864105761682059327"
     },
     "user_tz": 420
    },
    "id": "vuGne_CF6nER"
   },
   "outputs": [],
   "source": [
    "pop_df['popularity']=pop_df['pos_reviews']/pop_df['value_count']"
   ]
  },
  {
   "cell_type": "code",
   "execution_count": 77,
   "metadata": {
    "colab": {
     "base_uri": "https://localhost:8080/",
     "height": 204
    },
    "executionInfo": {
     "elapsed": 190,
     "status": "ok",
     "timestamp": 1633306261352,
     "user": {
      "displayName": "Bhavini G",
      "photoUrl": "https://lh3.googleusercontent.com/a/default-user=s64",
      "userId": "04864105761682059327"
     },
     "user_tz": 420
    },
    "id": "FRqI_v2D3eAi",
    "outputId": "976355c3-fc8c-4e0e-98ee-0033501e45d4"
   },
   "outputs": [
    {
     "data": {
      "text/html": [
       "<div>\n",
       "<style scoped>\n",
       "    .dataframe tbody tr th:only-of-type {\n",
       "        vertical-align: middle;\n",
       "    }\n",
       "\n",
       "    .dataframe tbody tr th {\n",
       "        vertical-align: top;\n",
       "    }\n",
       "\n",
       "    .dataframe thead th {\n",
       "        text-align: right;\n",
       "    }\n",
       "</style>\n",
       "<table border=\"1\" class=\"dataframe\">\n",
       "  <thead>\n",
       "    <tr style=\"text-align: right;\">\n",
       "      <th></th>\n",
       "      <th>id</th>\n",
       "      <th>value_count</th>\n",
       "      <th>pos_reviews</th>\n",
       "      <th>popularity</th>\n",
       "    </tr>\n",
       "  </thead>\n",
       "  <tbody>\n",
       "    <tr>\n",
       "      <th>0</th>\n",
       "      <td>AVpf3VOfilAPnD_xjpun</td>\n",
       "      <td>7786</td>\n",
       "      <td>6647</td>\n",
       "      <td>0.853712</td>\n",
       "    </tr>\n",
       "    <tr>\n",
       "      <th>1</th>\n",
       "      <td>AVpfPaoqLJeJML435Xk9</td>\n",
       "      <td>3148</td>\n",
       "      <td>2697</td>\n",
       "      <td>0.856734</td>\n",
       "    </tr>\n",
       "    <tr>\n",
       "      <th>2</th>\n",
       "      <td>AVpfJP1C1cnluZ0-e3Xy</td>\n",
       "      <td>1893</td>\n",
       "      <td>1653</td>\n",
       "      <td>0.873217</td>\n",
       "    </tr>\n",
       "    <tr>\n",
       "      <th>3</th>\n",
       "      <td>AVpfRTh1ilAPnD_xYic2</td>\n",
       "      <td>1097</td>\n",
       "      <td>974</td>\n",
       "      <td>0.887876</td>\n",
       "    </tr>\n",
       "    <tr>\n",
       "      <th>4</th>\n",
       "      <td>AVpf63aJLJeJML43F__Q</td>\n",
       "      <td>873</td>\n",
       "      <td>715</td>\n",
       "      <td>0.819015</td>\n",
       "    </tr>\n",
       "  </tbody>\n",
       "</table>\n",
       "</div>"
      ],
      "text/plain": [
       "                     id  value_count  pos_reviews  popularity\n",
       "0  AVpf3VOfilAPnD_xjpun         7786         6647    0.853712\n",
       "1  AVpfPaoqLJeJML435Xk9         3148         2697    0.856734\n",
       "2  AVpfJP1C1cnluZ0-e3Xy         1893         1653    0.873217\n",
       "3  AVpfRTh1ilAPnD_xYic2         1097          974    0.887876\n",
       "4  AVpf63aJLJeJML43F__Q          873          715    0.819015"
      ]
     },
     "execution_count": 77,
     "metadata": {},
     "output_type": "execute_result"
    }
   ],
   "source": [
    "pop_df.head()"
   ]
  },
  {
   "cell_type": "code",
   "execution_count": 78,
   "metadata": {
    "executionInfo": {
     "elapsed": 138,
     "status": "ok",
     "timestamp": 1633306277917,
     "user": {
      "displayName": "Bhavini G",
      "photoUrl": "https://lh3.googleusercontent.com/a/default-user=s64",
      "userId": "04864105761682059327"
     },
     "user_tz": 420
    },
    "id": "SEDNMP647R1j"
   },
   "outputs": [
    {
     "data": {
      "text/html": [
       "<div>\n",
       "<style scoped>\n",
       "    .dataframe tbody tr th:only-of-type {\n",
       "        vertical-align: middle;\n",
       "    }\n",
       "\n",
       "    .dataframe tbody tr th {\n",
       "        vertical-align: top;\n",
       "    }\n",
       "\n",
       "    .dataframe thead th {\n",
       "        text-align: right;\n",
       "    }\n",
       "</style>\n",
       "<table border=\"1\" class=\"dataframe\">\n",
       "  <thead>\n",
       "    <tr style=\"text-align: right;\">\n",
       "      <th></th>\n",
       "      <th>id</th>\n",
       "      <th>name</th>\n",
       "      <th>popularity</th>\n",
       "    </tr>\n",
       "  </thead>\n",
       "  <tbody>\n",
       "    <tr>\n",
       "      <th>0</th>\n",
       "      <td>AVpf3VOfilAPnD_xjpun</td>\n",
       "      <td>Clorox Disinfecting Wipes Value Pack Scented 1...</td>\n",
       "      <td>0.853712</td>\n",
       "    </tr>\n",
       "    <tr>\n",
       "      <th>7786</th>\n",
       "      <td>AVpfPaoqLJeJML435Xk9</td>\n",
       "      <td>Godzilla 3d Includes Digital Copy Ultraviolet ...</td>\n",
       "      <td>0.856734</td>\n",
       "    </tr>\n",
       "    <tr>\n",
       "      <th>10934</th>\n",
       "      <td>AVpfJP1C1cnluZ0-e3Xy</td>\n",
       "      <td>Clorox Disinfecting Bathroom Cleaner</td>\n",
       "      <td>0.873217</td>\n",
       "    </tr>\n",
       "    <tr>\n",
       "      <th>12827</th>\n",
       "      <td>AVpfRTh1ilAPnD_xYic2</td>\n",
       "      <td>Planes: Fire Rescue (2 Discs) (includes Digita...</td>\n",
       "      <td>0.887876</td>\n",
       "    </tr>\n",
       "    <tr>\n",
       "      <th>13924</th>\n",
       "      <td>AVpf63aJLJeJML43F__Q</td>\n",
       "      <td>Burt's Bees Lip Shimmer, Raisin</td>\n",
       "      <td>0.819015</td>\n",
       "    </tr>\n",
       "  </tbody>\n",
       "</table>\n",
       "</div>"
      ],
      "text/plain": [
       "                         id  \\\n",
       "0      AVpf3VOfilAPnD_xjpun   \n",
       "7786   AVpfPaoqLJeJML435Xk9   \n",
       "10934  AVpfJP1C1cnluZ0-e3Xy   \n",
       "12827  AVpfRTh1ilAPnD_xYic2   \n",
       "13924  AVpf63aJLJeJML43F__Q   \n",
       "\n",
       "                                                    name  popularity  \n",
       "0      Clorox Disinfecting Wipes Value Pack Scented 1...    0.853712  \n",
       "7786   Godzilla 3d Includes Digital Copy Ultraviolet ...    0.856734  \n",
       "10934               Clorox Disinfecting Bathroom Cleaner    0.873217  \n",
       "12827  Planes: Fire Rescue (2 Discs) (includes Digita...    0.887876  \n",
       "13924                    Burt's Bees Lip Shimmer, Raisin    0.819015  "
      ]
     },
     "execution_count": 78,
     "metadata": {},
     "output_type": "execute_result"
    }
   ],
   "source": [
    "# This merge is done because we will need the name of the products to display\n",
    "prod_name_df=pop_df.merge(df,left_on='id',right_on='id').drop_duplicates(['id','name'])[['id','name','popularity']]\n",
    "prod_name_df.head()"
   ]
  },
  {
   "cell_type": "code",
   "execution_count": 79,
   "metadata": {},
   "outputs": [],
   "source": [
    "prod_name_df.to_pickle(\"ProductPopularityWithName.pkl\")"
   ]
  },
  {
   "cell_type": "markdown",
   "metadata": {
    "id": "CARLSLoJpPqH"
   },
   "source": [
    "# Building Recommendation System \n",
    "We shall be building a user user recommendation system and a product product recommendation system, evaluate both on the basis of RMSE values and then select the one with least RMSE for our project. "
   ]
  },
  {
   "cell_type": "code",
   "execution_count": 80,
   "metadata": {
    "executionInfo": {
     "elapsed": 301,
     "status": "ok",
     "timestamp": 1633306596834,
     "user": {
      "displayName": "Bhavini G",
      "photoUrl": "https://lh3.googleusercontent.com/a/default-user=s64",
      "userId": "04864105761682059327"
     },
     "user_tz": 420
    },
    "id": "ZdC_AbeopvzR"
   },
   "outputs": [],
   "source": [
    "ratings=df[['reviews_username','id', 'reviews_rating']].copy()"
   ]
  },
  {
   "cell_type": "code",
   "execution_count": 81,
   "metadata": {
    "colab": {
     "base_uri": "https://localhost:8080/"
    },
    "executionInfo": {
     "elapsed": 152,
     "status": "ok",
     "timestamp": 1633306602823,
     "user": {
      "displayName": "Bhavini G",
      "photoUrl": "https://lh3.googleusercontent.com/a/default-user=s64",
      "userId": "04864105761682059327"
     },
     "user_tz": 420
    },
    "id": "Ixfu7MerqNMC",
    "outputId": "a40fddbd-8b41-4b38-d5a5-7f6ce32bf5df"
   },
   "outputs": [
    {
     "data": {
      "text/plain": [
       "(27588, 3)"
      ]
     },
     "execution_count": 81,
     "metadata": {},
     "output_type": "execute_result"
    }
   ],
   "source": [
    "ratings.shape"
   ]
  },
  {
   "cell_type": "code",
   "execution_count": null,
   "metadata": {
    "id": "Jox-cF3DqOru"
   },
   "outputs": [],
   "source": []
  },
  {
   "cell_type": "markdown",
   "metadata": {
    "id": "VGRnMjUFExdB"
   },
   "source": [
    "## Dividing the dataset into train and test"
   ]
  },
  {
   "cell_type": "code",
   "execution_count": 82,
   "metadata": {
    "id": "yW5T0yiYExdB"
   },
   "outputs": [],
   "source": [
    "train, test = train_test_split(ratings, test_size=0.30, random_state=31)"
   ]
  },
  {
   "cell_type": "code",
   "execution_count": 83,
   "metadata": {
    "colab": {
     "base_uri": "https://localhost:8080/"
    },
    "executionInfo": {
     "elapsed": 26,
     "status": "ok",
     "timestamp": 1633278438353,
     "user": {
      "displayName": "Bhavini G",
      "photoUrl": "https://lh3.googleusercontent.com/a/default-user=s64",
      "userId": "04864105761682059327"
     },
     "user_tz": 420
    },
    "id": "zJFq41WVExdB",
    "outputId": "ed45ccb3-277d-46de-bd0d-404b58c99e62"
   },
   "outputs": [
    {
     "name": "stdout",
     "output_type": "stream",
     "text": [
      "(19311, 3)\n",
      "(8277, 3)\n"
     ]
    }
   ],
   "source": [
    "print(train.shape)\n",
    "print(test.shape)"
   ]
  },
  {
   "cell_type": "code",
   "execution_count": 84,
   "metadata": {
    "colab": {
     "base_uri": "https://localhost:8080/",
     "height": 256
    },
    "executionInfo": {
     "elapsed": 175,
     "status": "ok",
     "timestamp": 1633278438525,
     "user": {
      "displayName": "Bhavini G",
      "photoUrl": "https://lh3.googleusercontent.com/a/default-user=s64",
      "userId": "04864105761682059327"
     },
     "user_tz": 420
    },
    "id": "8mCE__XgExdC",
    "outputId": "66ad8430-fdd8-471e-b5ee-61a201bcd1ec"
   },
   "outputs": [
    {
     "data": {
      "text/html": [
       "<div>\n",
       "<style scoped>\n",
       "    .dataframe tbody tr th:only-of-type {\n",
       "        vertical-align: middle;\n",
       "    }\n",
       "\n",
       "    .dataframe tbody tr th {\n",
       "        vertical-align: top;\n",
       "    }\n",
       "\n",
       "    .dataframe thead th {\n",
       "        text-align: right;\n",
       "    }\n",
       "</style>\n",
       "<table border=\"1\" class=\"dataframe\">\n",
       "  <thead>\n",
       "    <tr style=\"text-align: right;\">\n",
       "      <th>id</th>\n",
       "      <th>AV13O1A8GV-KLJ3akUyj</th>\n",
       "      <th>AV14LG0R-jtxr-f38QfS</th>\n",
       "      <th>AV16khLE-jtxr-f38VFn</th>\n",
       "      <th>AV1YGDqsGV-KLJ3adc-O</th>\n",
       "      <th>AV1YIch7GV-KLJ3addeG</th>\n",
       "      <th>AV1YlENIglJLPUi8IHsX</th>\n",
       "      <th>AV1YmBrdGV-KLJ3adewb</th>\n",
       "      <th>AV1YmDL9vKc47QAVgr7_</th>\n",
       "      <th>AV1Ymf_rglJLPUi8II2v</th>\n",
       "      <th>AV1Yn94nvKc47QAVgtst</th>\n",
       "      <th>...</th>\n",
       "      <th>AVpfrTyiLJeJML43BrSI</th>\n",
       "      <th>AVpfrfHF1cnluZ0-pRai</th>\n",
       "      <th>AVpfrgjFLJeJML43BvCc</th>\n",
       "      <th>AVpfs0tUilAPnD_xgqN2</th>\n",
       "      <th>AVpfsQoeilAPnD_xgfx5</th>\n",
       "      <th>AVpfthSailAPnD_xg3ON</th>\n",
       "      <th>AVpftikC1cnluZ0-p31V</th>\n",
       "      <th>AVpftymALJeJML43CZ6y</th>\n",
       "      <th>AVpfv4TlilAPnD_xhjNS</th>\n",
       "      <th>AVpfvieo1cnluZ0-qdnu</th>\n",
       "    </tr>\n",
       "    <tr>\n",
       "      <th>reviews_username</th>\n",
       "      <th></th>\n",
       "      <th></th>\n",
       "      <th></th>\n",
       "      <th></th>\n",
       "      <th></th>\n",
       "      <th></th>\n",
       "      <th></th>\n",
       "      <th></th>\n",
       "      <th></th>\n",
       "      <th></th>\n",
       "      <th></th>\n",
       "      <th></th>\n",
       "      <th></th>\n",
       "      <th></th>\n",
       "      <th></th>\n",
       "      <th></th>\n",
       "      <th></th>\n",
       "      <th></th>\n",
       "      <th></th>\n",
       "      <th></th>\n",
       "      <th></th>\n",
       "    </tr>\n",
       "  </thead>\n",
       "  <tbody>\n",
       "    <tr>\n",
       "      <th>00dog3</th>\n",
       "      <td>0.0</td>\n",
       "      <td>0.0</td>\n",
       "      <td>0.0</td>\n",
       "      <td>0.0</td>\n",
       "      <td>0.0</td>\n",
       "      <td>0.0</td>\n",
       "      <td>0.0</td>\n",
       "      <td>0.0</td>\n",
       "      <td>0.0</td>\n",
       "      <td>0.0</td>\n",
       "      <td>...</td>\n",
       "      <td>0.0</td>\n",
       "      <td>0.0</td>\n",
       "      <td>0.0</td>\n",
       "      <td>0.0</td>\n",
       "      <td>0.0</td>\n",
       "      <td>0.0</td>\n",
       "      <td>0.0</td>\n",
       "      <td>0.0</td>\n",
       "      <td>0.0</td>\n",
       "      <td>0.0</td>\n",
       "    </tr>\n",
       "    <tr>\n",
       "      <th>00sab00</th>\n",
       "      <td>0.0</td>\n",
       "      <td>0.0</td>\n",
       "      <td>0.0</td>\n",
       "      <td>0.0</td>\n",
       "      <td>0.0</td>\n",
       "      <td>0.0</td>\n",
       "      <td>0.0</td>\n",
       "      <td>0.0</td>\n",
       "      <td>0.0</td>\n",
       "      <td>0.0</td>\n",
       "      <td>...</td>\n",
       "      <td>0.0</td>\n",
       "      <td>0.0</td>\n",
       "      <td>0.0</td>\n",
       "      <td>0.0</td>\n",
       "      <td>0.0</td>\n",
       "      <td>0.0</td>\n",
       "      <td>0.0</td>\n",
       "      <td>0.0</td>\n",
       "      <td>0.0</td>\n",
       "      <td>0.0</td>\n",
       "    </tr>\n",
       "    <tr>\n",
       "      <th>02dakota</th>\n",
       "      <td>0.0</td>\n",
       "      <td>0.0</td>\n",
       "      <td>0.0</td>\n",
       "      <td>0.0</td>\n",
       "      <td>0.0</td>\n",
       "      <td>0.0</td>\n",
       "      <td>0.0</td>\n",
       "      <td>0.0</td>\n",
       "      <td>0.0</td>\n",
       "      <td>0.0</td>\n",
       "      <td>...</td>\n",
       "      <td>0.0</td>\n",
       "      <td>0.0</td>\n",
       "      <td>0.0</td>\n",
       "      <td>0.0</td>\n",
       "      <td>0.0</td>\n",
       "      <td>0.0</td>\n",
       "      <td>0.0</td>\n",
       "      <td>0.0</td>\n",
       "      <td>0.0</td>\n",
       "      <td>0.0</td>\n",
       "    </tr>\n",
       "  </tbody>\n",
       "</table>\n",
       "<p>3 rows × 255 columns</p>\n",
       "</div>"
      ],
      "text/plain": [
       "id                AV13O1A8GV-KLJ3akUyj  AV14LG0R-jtxr-f38QfS  \\\n",
       "reviews_username                                               \n",
       "00dog3                             0.0                   0.0   \n",
       "00sab00                            0.0                   0.0   \n",
       "02dakota                           0.0                   0.0   \n",
       "\n",
       "id                AV16khLE-jtxr-f38VFn  AV1YGDqsGV-KLJ3adc-O  \\\n",
       "reviews_username                                               \n",
       "00dog3                             0.0                   0.0   \n",
       "00sab00                            0.0                   0.0   \n",
       "02dakota                           0.0                   0.0   \n",
       "\n",
       "id                AV1YIch7GV-KLJ3addeG  AV1YlENIglJLPUi8IHsX  \\\n",
       "reviews_username                                               \n",
       "00dog3                             0.0                   0.0   \n",
       "00sab00                            0.0                   0.0   \n",
       "02dakota                           0.0                   0.0   \n",
       "\n",
       "id                AV1YmBrdGV-KLJ3adewb  AV1YmDL9vKc47QAVgr7_  \\\n",
       "reviews_username                                               \n",
       "00dog3                             0.0                   0.0   \n",
       "00sab00                            0.0                   0.0   \n",
       "02dakota                           0.0                   0.0   \n",
       "\n",
       "id                AV1Ymf_rglJLPUi8II2v  AV1Yn94nvKc47QAVgtst  ...  \\\n",
       "reviews_username                                              ...   \n",
       "00dog3                             0.0                   0.0  ...   \n",
       "00sab00                            0.0                   0.0  ...   \n",
       "02dakota                           0.0                   0.0  ...   \n",
       "\n",
       "id                AVpfrTyiLJeJML43BrSI  AVpfrfHF1cnluZ0-pRai  \\\n",
       "reviews_username                                               \n",
       "00dog3                             0.0                   0.0   \n",
       "00sab00                            0.0                   0.0   \n",
       "02dakota                           0.0                   0.0   \n",
       "\n",
       "id                AVpfrgjFLJeJML43BvCc  AVpfs0tUilAPnD_xgqN2  \\\n",
       "reviews_username                                               \n",
       "00dog3                             0.0                   0.0   \n",
       "00sab00                            0.0                   0.0   \n",
       "02dakota                           0.0                   0.0   \n",
       "\n",
       "id                AVpfsQoeilAPnD_xgfx5  AVpfthSailAPnD_xg3ON  \\\n",
       "reviews_username                                               \n",
       "00dog3                             0.0                   0.0   \n",
       "00sab00                            0.0                   0.0   \n",
       "02dakota                           0.0                   0.0   \n",
       "\n",
       "id                AVpftikC1cnluZ0-p31V  AVpftymALJeJML43CZ6y  \\\n",
       "reviews_username                                               \n",
       "00dog3                             0.0                   0.0   \n",
       "00sab00                            0.0                   0.0   \n",
       "02dakota                           0.0                   0.0   \n",
       "\n",
       "id                AVpfv4TlilAPnD_xhjNS  AVpfvieo1cnluZ0-qdnu  \n",
       "reviews_username                                              \n",
       "00dog3                             0.0                   0.0  \n",
       "00sab00                            0.0                   0.0  \n",
       "02dakota                           0.0                   0.0  \n",
       "\n",
       "[3 rows x 255 columns]"
      ]
     },
     "execution_count": 84,
     "metadata": {},
     "output_type": "execute_result"
    }
   ],
   "source": [
    "# Pivot the train ratings' dataset into matrix format in which columns are products (id) and the rows are users\n",
    "df_pivot = train.pivot(\n",
    "    index='reviews_username',\n",
    "    columns='id',  values='reviews_rating'\n",
    ").fillna(0)\n",
    "\n",
    "df_pivot.head(3)"
   ]
  },
  {
   "cell_type": "markdown",
   "metadata": {
    "id": "Gc8gJh-YExdC"
   },
   "source": [
    "### Creating dummy train & dummy test dataset\n",
    "These dataset will be used for prediction \n",
    "- Dummy train will be used later for prediction of the products (id) which has not been rated by the user. To ignore the products rated by the user, we will mark it as 0 during prediction. The products not rated by user is marked as 1 for prediction in dummy train dataset. \n",
    "\n",
    "- Dummy test will be used for evaluation. To evaluate, we will only make prediction on the products rated by the user. So, this is marked as 1. This is just opposite of dummy_train."
   ]
  },
  {
   "cell_type": "code",
   "execution_count": 85,
   "metadata": {
    "id": "zttrkghGExdD"
   },
   "outputs": [],
   "source": [
    "# Copy the train dataset into dummy_train\n",
    "dummy_train = train.copy()"
   ]
  },
  {
   "cell_type": "code",
   "execution_count": 86,
   "metadata": {
    "id": "3G4s9lvVExdD"
   },
   "outputs": [],
   "source": [
    "# The products (id) not rated by user is marked as 1 for prediction. \n",
    "dummy_train['reviews_rating'] = dummy_train['reviews_rating'].apply(lambda x: 0 if x>=1 else 1)"
   ]
  },
  {
   "cell_type": "code",
   "execution_count": 87,
   "metadata": {
    "id": "UFSn3np7ExdD"
   },
   "outputs": [],
   "source": [
    "# Convert the dummy train dataset into matrix format.\n",
    "dummy_train = dummy_train.pivot(\n",
    "    index='reviews_username',\n",
    "    columns='id',\n",
    "    values='reviews_rating'\n",
    ").fillna(1)"
   ]
  },
  {
   "cell_type": "code",
   "execution_count": 88,
   "metadata": {
    "colab": {
     "base_uri": "https://localhost:8080/",
     "height": 318
    },
    "executionInfo": {
     "elapsed": 280,
     "status": "ok",
     "timestamp": 1633278439016,
     "user": {
      "displayName": "Bhavini G",
      "photoUrl": "https://lh3.googleusercontent.com/a/default-user=s64",
      "userId": "04864105761682059327"
     },
     "user_tz": 420
    },
    "id": "Of3c1dioExdD",
    "outputId": "b4df763a-44bb-4204-8634-762e1294e5ad"
   },
   "outputs": [
    {
     "data": {
      "text/html": [
       "<div>\n",
       "<style scoped>\n",
       "    .dataframe tbody tr th:only-of-type {\n",
       "        vertical-align: middle;\n",
       "    }\n",
       "\n",
       "    .dataframe tbody tr th {\n",
       "        vertical-align: top;\n",
       "    }\n",
       "\n",
       "    .dataframe thead th {\n",
       "        text-align: right;\n",
       "    }\n",
       "</style>\n",
       "<table border=\"1\" class=\"dataframe\">\n",
       "  <thead>\n",
       "    <tr style=\"text-align: right;\">\n",
       "      <th>id</th>\n",
       "      <th>AV13O1A8GV-KLJ3akUyj</th>\n",
       "      <th>AV14LG0R-jtxr-f38QfS</th>\n",
       "      <th>AV16khLE-jtxr-f38VFn</th>\n",
       "      <th>AV1YGDqsGV-KLJ3adc-O</th>\n",
       "      <th>AV1YIch7GV-KLJ3addeG</th>\n",
       "      <th>AV1YlENIglJLPUi8IHsX</th>\n",
       "      <th>AV1YmBrdGV-KLJ3adewb</th>\n",
       "      <th>AV1YmDL9vKc47QAVgr7_</th>\n",
       "      <th>AV1Ymf_rglJLPUi8II2v</th>\n",
       "      <th>AV1Yn94nvKc47QAVgtst</th>\n",
       "      <th>...</th>\n",
       "      <th>AVpfrTyiLJeJML43BrSI</th>\n",
       "      <th>AVpfrfHF1cnluZ0-pRai</th>\n",
       "      <th>AVpfrgjFLJeJML43BvCc</th>\n",
       "      <th>AVpfs0tUilAPnD_xgqN2</th>\n",
       "      <th>AVpfsQoeilAPnD_xgfx5</th>\n",
       "      <th>AVpfthSailAPnD_xg3ON</th>\n",
       "      <th>AVpftikC1cnluZ0-p31V</th>\n",
       "      <th>AVpftymALJeJML43CZ6y</th>\n",
       "      <th>AVpfv4TlilAPnD_xhjNS</th>\n",
       "      <th>AVpfvieo1cnluZ0-qdnu</th>\n",
       "    </tr>\n",
       "    <tr>\n",
       "      <th>reviews_username</th>\n",
       "      <th></th>\n",
       "      <th></th>\n",
       "      <th></th>\n",
       "      <th></th>\n",
       "      <th></th>\n",
       "      <th></th>\n",
       "      <th></th>\n",
       "      <th></th>\n",
       "      <th></th>\n",
       "      <th></th>\n",
       "      <th></th>\n",
       "      <th></th>\n",
       "      <th></th>\n",
       "      <th></th>\n",
       "      <th></th>\n",
       "      <th></th>\n",
       "      <th></th>\n",
       "      <th></th>\n",
       "      <th></th>\n",
       "      <th></th>\n",
       "      <th></th>\n",
       "    </tr>\n",
       "  </thead>\n",
       "  <tbody>\n",
       "    <tr>\n",
       "      <th>00dog3</th>\n",
       "      <td>1.0</td>\n",
       "      <td>1.0</td>\n",
       "      <td>1.0</td>\n",
       "      <td>1.0</td>\n",
       "      <td>1.0</td>\n",
       "      <td>1.0</td>\n",
       "      <td>1.0</td>\n",
       "      <td>1.0</td>\n",
       "      <td>1.0</td>\n",
       "      <td>1.0</td>\n",
       "      <td>...</td>\n",
       "      <td>1.0</td>\n",
       "      <td>1.0</td>\n",
       "      <td>1.0</td>\n",
       "      <td>1.0</td>\n",
       "      <td>1.0</td>\n",
       "      <td>1.0</td>\n",
       "      <td>1.0</td>\n",
       "      <td>1.0</td>\n",
       "      <td>1.0</td>\n",
       "      <td>1.0</td>\n",
       "    </tr>\n",
       "    <tr>\n",
       "      <th>00sab00</th>\n",
       "      <td>1.0</td>\n",
       "      <td>1.0</td>\n",
       "      <td>1.0</td>\n",
       "      <td>1.0</td>\n",
       "      <td>1.0</td>\n",
       "      <td>1.0</td>\n",
       "      <td>1.0</td>\n",
       "      <td>1.0</td>\n",
       "      <td>1.0</td>\n",
       "      <td>1.0</td>\n",
       "      <td>...</td>\n",
       "      <td>1.0</td>\n",
       "      <td>1.0</td>\n",
       "      <td>1.0</td>\n",
       "      <td>1.0</td>\n",
       "      <td>1.0</td>\n",
       "      <td>1.0</td>\n",
       "      <td>1.0</td>\n",
       "      <td>1.0</td>\n",
       "      <td>1.0</td>\n",
       "      <td>1.0</td>\n",
       "    </tr>\n",
       "    <tr>\n",
       "      <th>02dakota</th>\n",
       "      <td>1.0</td>\n",
       "      <td>1.0</td>\n",
       "      <td>1.0</td>\n",
       "      <td>1.0</td>\n",
       "      <td>1.0</td>\n",
       "      <td>1.0</td>\n",
       "      <td>1.0</td>\n",
       "      <td>1.0</td>\n",
       "      <td>1.0</td>\n",
       "      <td>1.0</td>\n",
       "      <td>...</td>\n",
       "      <td>1.0</td>\n",
       "      <td>1.0</td>\n",
       "      <td>1.0</td>\n",
       "      <td>1.0</td>\n",
       "      <td>1.0</td>\n",
       "      <td>1.0</td>\n",
       "      <td>1.0</td>\n",
       "      <td>1.0</td>\n",
       "      <td>1.0</td>\n",
       "      <td>1.0</td>\n",
       "    </tr>\n",
       "    <tr>\n",
       "      <th>0325home</th>\n",
       "      <td>1.0</td>\n",
       "      <td>1.0</td>\n",
       "      <td>1.0</td>\n",
       "      <td>1.0</td>\n",
       "      <td>1.0</td>\n",
       "      <td>1.0</td>\n",
       "      <td>1.0</td>\n",
       "      <td>1.0</td>\n",
       "      <td>1.0</td>\n",
       "      <td>1.0</td>\n",
       "      <td>...</td>\n",
       "      <td>1.0</td>\n",
       "      <td>1.0</td>\n",
       "      <td>1.0</td>\n",
       "      <td>1.0</td>\n",
       "      <td>1.0</td>\n",
       "      <td>1.0</td>\n",
       "      <td>1.0</td>\n",
       "      <td>1.0</td>\n",
       "      <td>1.0</td>\n",
       "      <td>1.0</td>\n",
       "    </tr>\n",
       "    <tr>\n",
       "      <th>08dallas</th>\n",
       "      <td>1.0</td>\n",
       "      <td>1.0</td>\n",
       "      <td>1.0</td>\n",
       "      <td>1.0</td>\n",
       "      <td>1.0</td>\n",
       "      <td>1.0</td>\n",
       "      <td>1.0</td>\n",
       "      <td>1.0</td>\n",
       "      <td>1.0</td>\n",
       "      <td>1.0</td>\n",
       "      <td>...</td>\n",
       "      <td>1.0</td>\n",
       "      <td>1.0</td>\n",
       "      <td>1.0</td>\n",
       "      <td>1.0</td>\n",
       "      <td>1.0</td>\n",
       "      <td>1.0</td>\n",
       "      <td>1.0</td>\n",
       "      <td>1.0</td>\n",
       "      <td>1.0</td>\n",
       "      <td>1.0</td>\n",
       "    </tr>\n",
       "  </tbody>\n",
       "</table>\n",
       "<p>5 rows × 255 columns</p>\n",
       "</div>"
      ],
      "text/plain": [
       "id                AV13O1A8GV-KLJ3akUyj  AV14LG0R-jtxr-f38QfS  \\\n",
       "reviews_username                                               \n",
       "00dog3                             1.0                   1.0   \n",
       "00sab00                            1.0                   1.0   \n",
       "02dakota                           1.0                   1.0   \n",
       "0325home                           1.0                   1.0   \n",
       "08dallas                           1.0                   1.0   \n",
       "\n",
       "id                AV16khLE-jtxr-f38VFn  AV1YGDqsGV-KLJ3adc-O  \\\n",
       "reviews_username                                               \n",
       "00dog3                             1.0                   1.0   \n",
       "00sab00                            1.0                   1.0   \n",
       "02dakota                           1.0                   1.0   \n",
       "0325home                           1.0                   1.0   \n",
       "08dallas                           1.0                   1.0   \n",
       "\n",
       "id                AV1YIch7GV-KLJ3addeG  AV1YlENIglJLPUi8IHsX  \\\n",
       "reviews_username                                               \n",
       "00dog3                             1.0                   1.0   \n",
       "00sab00                            1.0                   1.0   \n",
       "02dakota                           1.0                   1.0   \n",
       "0325home                           1.0                   1.0   \n",
       "08dallas                           1.0                   1.0   \n",
       "\n",
       "id                AV1YmBrdGV-KLJ3adewb  AV1YmDL9vKc47QAVgr7_  \\\n",
       "reviews_username                                               \n",
       "00dog3                             1.0                   1.0   \n",
       "00sab00                            1.0                   1.0   \n",
       "02dakota                           1.0                   1.0   \n",
       "0325home                           1.0                   1.0   \n",
       "08dallas                           1.0                   1.0   \n",
       "\n",
       "id                AV1Ymf_rglJLPUi8II2v  AV1Yn94nvKc47QAVgtst  ...  \\\n",
       "reviews_username                                              ...   \n",
       "00dog3                             1.0                   1.0  ...   \n",
       "00sab00                            1.0                   1.0  ...   \n",
       "02dakota                           1.0                   1.0  ...   \n",
       "0325home                           1.0                   1.0  ...   \n",
       "08dallas                           1.0                   1.0  ...   \n",
       "\n",
       "id                AVpfrTyiLJeJML43BrSI  AVpfrfHF1cnluZ0-pRai  \\\n",
       "reviews_username                                               \n",
       "00dog3                             1.0                   1.0   \n",
       "00sab00                            1.0                   1.0   \n",
       "02dakota                           1.0                   1.0   \n",
       "0325home                           1.0                   1.0   \n",
       "08dallas                           1.0                   1.0   \n",
       "\n",
       "id                AVpfrgjFLJeJML43BvCc  AVpfs0tUilAPnD_xgqN2  \\\n",
       "reviews_username                                               \n",
       "00dog3                             1.0                   1.0   \n",
       "00sab00                            1.0                   1.0   \n",
       "02dakota                           1.0                   1.0   \n",
       "0325home                           1.0                   1.0   \n",
       "08dallas                           1.0                   1.0   \n",
       "\n",
       "id                AVpfsQoeilAPnD_xgfx5  AVpfthSailAPnD_xg3ON  \\\n",
       "reviews_username                                               \n",
       "00dog3                             1.0                   1.0   \n",
       "00sab00                            1.0                   1.0   \n",
       "02dakota                           1.0                   1.0   \n",
       "0325home                           1.0                   1.0   \n",
       "08dallas                           1.0                   1.0   \n",
       "\n",
       "id                AVpftikC1cnluZ0-p31V  AVpftymALJeJML43CZ6y  \\\n",
       "reviews_username                                               \n",
       "00dog3                             1.0                   1.0   \n",
       "00sab00                            1.0                   1.0   \n",
       "02dakota                           1.0                   1.0   \n",
       "0325home                           1.0                   1.0   \n",
       "08dallas                           1.0                   1.0   \n",
       "\n",
       "id                AVpfv4TlilAPnD_xhjNS  AVpfvieo1cnluZ0-qdnu  \n",
       "reviews_username                                              \n",
       "00dog3                             1.0                   1.0  \n",
       "00sab00                            1.0                   1.0  \n",
       "02dakota                           1.0                   1.0  \n",
       "0325home                           1.0                   1.0  \n",
       "08dallas                           1.0                   1.0  \n",
       "\n",
       "[5 rows x 255 columns]"
      ]
     },
     "execution_count": 88,
     "metadata": {},
     "output_type": "execute_result"
    }
   ],
   "source": [
    "dummy_train.head()"
   ]
  },
  {
   "cell_type": "markdown",
   "metadata": {
    "id": "UXqgMNIjfQ2-"
   },
   "source": [
    "**Cosine Similarity**\n",
    "\n",
    "Cosine Similarity is a measurement that quantifies the similarity between two vectors [Which is Rating Vector in this case] \n",
    "\n",
    "**Adjusted Cosine**\n",
    "\n",
    "Adjusted cosine similarity is a modified version of vector-based similarity where we incorporate the fact that different users have different ratings schemes. In other words, some users might rate items highly in general, and others might give items lower ratings as a preference. To handle this nature from rating given by user , we subtract average ratings for each user from each user's rating for different products.\n",
    "\n"
   ]
  },
  {
   "cell_type": "markdown",
   "metadata": {
    "id": "1g14byvoExdE"
   },
   "source": [
    "# User Similarity Matrix"
   ]
  },
  {
   "cell_type": "markdown",
   "metadata": {
    "id": "xCN3f1X0ExdE"
   },
   "source": [
    "## Using Cosine Similarity"
   ]
  },
  {
   "cell_type": "code",
   "execution_count": 89,
   "metadata": {
    "colab": {
     "base_uri": "https://localhost:8080/"
    },
    "executionInfo": {
     "elapsed": 6821,
     "status": "ok",
     "timestamp": 1633278445835,
     "user": {
      "displayName": "Bhavini G",
      "photoUrl": "https://lh3.googleusercontent.com/a/default-user=s64",
      "userId": "04864105761682059327"
     },
     "user_tz": 420
    },
    "id": "AerlX5jdExdE",
    "outputId": "68de5df0-298b-4270-872a-5a81df028666"
   },
   "outputs": [
    {
     "name": "stdout",
     "output_type": "stream",
     "text": [
      "[[1. 0. 0. ... 0. 0. 0.]\n",
      " [0. 1. 0. ... 0. 0. 0.]\n",
      " [0. 0. 1. ... 0. 0. 0.]\n",
      " ...\n",
      " [0. 0. 0. ... 1. 1. 0.]\n",
      " [0. 0. 0. ... 1. 1. 0.]\n",
      " [0. 0. 0. ... 0. 0. 1.]]\n"
     ]
    }
   ],
   "source": [
    "# Creating the User Similarity Matrix using pairwise_distance function.\n",
    "user_correlation = 1 - pairwise_distances(df_pivot, metric='cosine')\n",
    "user_correlation[np.isnan(user_correlation)] = 0\n",
    "print(user_correlation)"
   ]
  },
  {
   "cell_type": "code",
   "execution_count": 90,
   "metadata": {
    "colab": {
     "base_uri": "https://localhost:8080/"
    },
    "executionInfo": {
     "elapsed": 28,
     "status": "ok",
     "timestamp": 1633278445836,
     "user": {
      "displayName": "Bhavini G",
      "photoUrl": "https://lh3.googleusercontent.com/a/default-user=s64",
      "userId": "04864105761682059327"
     },
     "user_tz": 420
    },
    "id": "5EA6M0wUExdF",
    "outputId": "d98b037c-6b68-4342-db54-0a7fbbff7ace"
   },
   "outputs": [
    {
     "data": {
      "text/plain": [
       "(17887, 17887)"
      ]
     },
     "execution_count": 90,
     "metadata": {},
     "output_type": "execute_result"
    }
   ],
   "source": [
    "user_correlation.shape"
   ]
  },
  {
   "cell_type": "markdown",
   "metadata": {
    "id": "UqRArQEDExdF"
   },
   "source": [
    "## Using adjusted Cosine "
   ]
  },
  {
   "cell_type": "markdown",
   "metadata": {
    "id": "oP9vrfQuExdF"
   },
   "source": [
    "### Here, we are not removing the NaN values and calculating the mean only for the products (id) rated by the user"
   ]
  },
  {
   "cell_type": "code",
   "execution_count": 91,
   "metadata": {
    "id": "NK8Z9wxKExdF"
   },
   "outputs": [],
   "source": [
    "# Create a reviews_username-id matrix.\n",
    "df_pivot = train.pivot(\n",
    "    index='reviews_username',\n",
    "    columns='id',\n",
    "    values='reviews_rating'\n",
    ")"
   ]
  },
  {
   "cell_type": "code",
   "execution_count": 92,
   "metadata": {
    "colab": {
     "base_uri": "https://localhost:8080/",
     "height": 318
    },
    "executionInfo": {
     "elapsed": 210,
     "status": "ok",
     "timestamp": 1633278446043,
     "user": {
      "displayName": "Bhavini G",
      "photoUrl": "https://lh3.googleusercontent.com/a/default-user=s64",
      "userId": "04864105761682059327"
     },
     "user_tz": 420
    },
    "id": "2M9VgXElExdG",
    "outputId": "01406adf-5dee-41c9-8f02-5d69f22e10eb"
   },
   "outputs": [
    {
     "data": {
      "text/html": [
       "<div>\n",
       "<style scoped>\n",
       "    .dataframe tbody tr th:only-of-type {\n",
       "        vertical-align: middle;\n",
       "    }\n",
       "\n",
       "    .dataframe tbody tr th {\n",
       "        vertical-align: top;\n",
       "    }\n",
       "\n",
       "    .dataframe thead th {\n",
       "        text-align: right;\n",
       "    }\n",
       "</style>\n",
       "<table border=\"1\" class=\"dataframe\">\n",
       "  <thead>\n",
       "    <tr style=\"text-align: right;\">\n",
       "      <th>id</th>\n",
       "      <th>AV13O1A8GV-KLJ3akUyj</th>\n",
       "      <th>AV14LG0R-jtxr-f38QfS</th>\n",
       "      <th>AV16khLE-jtxr-f38VFn</th>\n",
       "      <th>AV1YGDqsGV-KLJ3adc-O</th>\n",
       "      <th>AV1YIch7GV-KLJ3addeG</th>\n",
       "      <th>AV1YlENIglJLPUi8IHsX</th>\n",
       "      <th>AV1YmBrdGV-KLJ3adewb</th>\n",
       "      <th>AV1YmDL9vKc47QAVgr7_</th>\n",
       "      <th>AV1Ymf_rglJLPUi8II2v</th>\n",
       "      <th>AV1Yn94nvKc47QAVgtst</th>\n",
       "      <th>...</th>\n",
       "      <th>AVpfrTyiLJeJML43BrSI</th>\n",
       "      <th>AVpfrfHF1cnluZ0-pRai</th>\n",
       "      <th>AVpfrgjFLJeJML43BvCc</th>\n",
       "      <th>AVpfs0tUilAPnD_xgqN2</th>\n",
       "      <th>AVpfsQoeilAPnD_xgfx5</th>\n",
       "      <th>AVpfthSailAPnD_xg3ON</th>\n",
       "      <th>AVpftikC1cnluZ0-p31V</th>\n",
       "      <th>AVpftymALJeJML43CZ6y</th>\n",
       "      <th>AVpfv4TlilAPnD_xhjNS</th>\n",
       "      <th>AVpfvieo1cnluZ0-qdnu</th>\n",
       "    </tr>\n",
       "    <tr>\n",
       "      <th>reviews_username</th>\n",
       "      <th></th>\n",
       "      <th></th>\n",
       "      <th></th>\n",
       "      <th></th>\n",
       "      <th></th>\n",
       "      <th></th>\n",
       "      <th></th>\n",
       "      <th></th>\n",
       "      <th></th>\n",
       "      <th></th>\n",
       "      <th></th>\n",
       "      <th></th>\n",
       "      <th></th>\n",
       "      <th></th>\n",
       "      <th></th>\n",
       "      <th></th>\n",
       "      <th></th>\n",
       "      <th></th>\n",
       "      <th></th>\n",
       "      <th></th>\n",
       "      <th></th>\n",
       "    </tr>\n",
       "  </thead>\n",
       "  <tbody>\n",
       "    <tr>\n",
       "      <th>00dog3</th>\n",
       "      <td>NaN</td>\n",
       "      <td>NaN</td>\n",
       "      <td>NaN</td>\n",
       "      <td>NaN</td>\n",
       "      <td>NaN</td>\n",
       "      <td>NaN</td>\n",
       "      <td>NaN</td>\n",
       "      <td>NaN</td>\n",
       "      <td>NaN</td>\n",
       "      <td>NaN</td>\n",
       "      <td>...</td>\n",
       "      <td>NaN</td>\n",
       "      <td>NaN</td>\n",
       "      <td>NaN</td>\n",
       "      <td>NaN</td>\n",
       "      <td>NaN</td>\n",
       "      <td>NaN</td>\n",
       "      <td>NaN</td>\n",
       "      <td>NaN</td>\n",
       "      <td>NaN</td>\n",
       "      <td>NaN</td>\n",
       "    </tr>\n",
       "    <tr>\n",
       "      <th>00sab00</th>\n",
       "      <td>NaN</td>\n",
       "      <td>NaN</td>\n",
       "      <td>NaN</td>\n",
       "      <td>NaN</td>\n",
       "      <td>NaN</td>\n",
       "      <td>NaN</td>\n",
       "      <td>NaN</td>\n",
       "      <td>NaN</td>\n",
       "      <td>NaN</td>\n",
       "      <td>NaN</td>\n",
       "      <td>...</td>\n",
       "      <td>NaN</td>\n",
       "      <td>NaN</td>\n",
       "      <td>NaN</td>\n",
       "      <td>NaN</td>\n",
       "      <td>NaN</td>\n",
       "      <td>NaN</td>\n",
       "      <td>NaN</td>\n",
       "      <td>NaN</td>\n",
       "      <td>NaN</td>\n",
       "      <td>NaN</td>\n",
       "    </tr>\n",
       "    <tr>\n",
       "      <th>02dakota</th>\n",
       "      <td>NaN</td>\n",
       "      <td>NaN</td>\n",
       "      <td>NaN</td>\n",
       "      <td>NaN</td>\n",
       "      <td>NaN</td>\n",
       "      <td>NaN</td>\n",
       "      <td>NaN</td>\n",
       "      <td>NaN</td>\n",
       "      <td>NaN</td>\n",
       "      <td>NaN</td>\n",
       "      <td>...</td>\n",
       "      <td>NaN</td>\n",
       "      <td>NaN</td>\n",
       "      <td>NaN</td>\n",
       "      <td>NaN</td>\n",
       "      <td>NaN</td>\n",
       "      <td>NaN</td>\n",
       "      <td>NaN</td>\n",
       "      <td>NaN</td>\n",
       "      <td>NaN</td>\n",
       "      <td>NaN</td>\n",
       "    </tr>\n",
       "    <tr>\n",
       "      <th>0325home</th>\n",
       "      <td>NaN</td>\n",
       "      <td>NaN</td>\n",
       "      <td>NaN</td>\n",
       "      <td>NaN</td>\n",
       "      <td>NaN</td>\n",
       "      <td>NaN</td>\n",
       "      <td>NaN</td>\n",
       "      <td>NaN</td>\n",
       "      <td>NaN</td>\n",
       "      <td>NaN</td>\n",
       "      <td>...</td>\n",
       "      <td>NaN</td>\n",
       "      <td>NaN</td>\n",
       "      <td>NaN</td>\n",
       "      <td>NaN</td>\n",
       "      <td>NaN</td>\n",
       "      <td>NaN</td>\n",
       "      <td>NaN</td>\n",
       "      <td>NaN</td>\n",
       "      <td>NaN</td>\n",
       "      <td>NaN</td>\n",
       "    </tr>\n",
       "    <tr>\n",
       "      <th>08dallas</th>\n",
       "      <td>NaN</td>\n",
       "      <td>NaN</td>\n",
       "      <td>NaN</td>\n",
       "      <td>NaN</td>\n",
       "      <td>NaN</td>\n",
       "      <td>NaN</td>\n",
       "      <td>NaN</td>\n",
       "      <td>NaN</td>\n",
       "      <td>NaN</td>\n",
       "      <td>NaN</td>\n",
       "      <td>...</td>\n",
       "      <td>NaN</td>\n",
       "      <td>NaN</td>\n",
       "      <td>NaN</td>\n",
       "      <td>NaN</td>\n",
       "      <td>NaN</td>\n",
       "      <td>NaN</td>\n",
       "      <td>NaN</td>\n",
       "      <td>NaN</td>\n",
       "      <td>NaN</td>\n",
       "      <td>NaN</td>\n",
       "    </tr>\n",
       "  </tbody>\n",
       "</table>\n",
       "<p>5 rows × 255 columns</p>\n",
       "</div>"
      ],
      "text/plain": [
       "id                AV13O1A8GV-KLJ3akUyj  AV14LG0R-jtxr-f38QfS  \\\n",
       "reviews_username                                               \n",
       "00dog3                             NaN                   NaN   \n",
       "00sab00                            NaN                   NaN   \n",
       "02dakota                           NaN                   NaN   \n",
       "0325home                           NaN                   NaN   \n",
       "08dallas                           NaN                   NaN   \n",
       "\n",
       "id                AV16khLE-jtxr-f38VFn  AV1YGDqsGV-KLJ3adc-O  \\\n",
       "reviews_username                                               \n",
       "00dog3                             NaN                   NaN   \n",
       "00sab00                            NaN                   NaN   \n",
       "02dakota                           NaN                   NaN   \n",
       "0325home                           NaN                   NaN   \n",
       "08dallas                           NaN                   NaN   \n",
       "\n",
       "id                AV1YIch7GV-KLJ3addeG  AV1YlENIglJLPUi8IHsX  \\\n",
       "reviews_username                                               \n",
       "00dog3                             NaN                   NaN   \n",
       "00sab00                            NaN                   NaN   \n",
       "02dakota                           NaN                   NaN   \n",
       "0325home                           NaN                   NaN   \n",
       "08dallas                           NaN                   NaN   \n",
       "\n",
       "id                AV1YmBrdGV-KLJ3adewb  AV1YmDL9vKc47QAVgr7_  \\\n",
       "reviews_username                                               \n",
       "00dog3                             NaN                   NaN   \n",
       "00sab00                            NaN                   NaN   \n",
       "02dakota                           NaN                   NaN   \n",
       "0325home                           NaN                   NaN   \n",
       "08dallas                           NaN                   NaN   \n",
       "\n",
       "id                AV1Ymf_rglJLPUi8II2v  AV1Yn94nvKc47QAVgtst  ...  \\\n",
       "reviews_username                                              ...   \n",
       "00dog3                             NaN                   NaN  ...   \n",
       "00sab00                            NaN                   NaN  ...   \n",
       "02dakota                           NaN                   NaN  ...   \n",
       "0325home                           NaN                   NaN  ...   \n",
       "08dallas                           NaN                   NaN  ...   \n",
       "\n",
       "id                AVpfrTyiLJeJML43BrSI  AVpfrfHF1cnluZ0-pRai  \\\n",
       "reviews_username                                               \n",
       "00dog3                             NaN                   NaN   \n",
       "00sab00                            NaN                   NaN   \n",
       "02dakota                           NaN                   NaN   \n",
       "0325home                           NaN                   NaN   \n",
       "08dallas                           NaN                   NaN   \n",
       "\n",
       "id                AVpfrgjFLJeJML43BvCc  AVpfs0tUilAPnD_xgqN2  \\\n",
       "reviews_username                                               \n",
       "00dog3                             NaN                   NaN   \n",
       "00sab00                            NaN                   NaN   \n",
       "02dakota                           NaN                   NaN   \n",
       "0325home                           NaN                   NaN   \n",
       "08dallas                           NaN                   NaN   \n",
       "\n",
       "id                AVpfsQoeilAPnD_xgfx5  AVpfthSailAPnD_xg3ON  \\\n",
       "reviews_username                                               \n",
       "00dog3                             NaN                   NaN   \n",
       "00sab00                            NaN                   NaN   \n",
       "02dakota                           NaN                   NaN   \n",
       "0325home                           NaN                   NaN   \n",
       "08dallas                           NaN                   NaN   \n",
       "\n",
       "id                AVpftikC1cnluZ0-p31V  AVpftymALJeJML43CZ6y  \\\n",
       "reviews_username                                               \n",
       "00dog3                             NaN                   NaN   \n",
       "00sab00                            NaN                   NaN   \n",
       "02dakota                           NaN                   NaN   \n",
       "0325home                           NaN                   NaN   \n",
       "08dallas                           NaN                   NaN   \n",
       "\n",
       "id                AVpfv4TlilAPnD_xhjNS  AVpfvieo1cnluZ0-qdnu  \n",
       "reviews_username                                              \n",
       "00dog3                             NaN                   NaN  \n",
       "00sab00                            NaN                   NaN  \n",
       "02dakota                           NaN                   NaN  \n",
       "0325home                           NaN                   NaN  \n",
       "08dallas                           NaN                   NaN  \n",
       "\n",
       "[5 rows x 255 columns]"
      ]
     },
     "execution_count": 92,
     "metadata": {},
     "output_type": "execute_result"
    }
   ],
   "source": [
    "df_pivot.head()"
   ]
  },
  {
   "cell_type": "markdown",
   "metadata": {
    "id": "3xIwq2tEExdG"
   },
   "source": [
    "### Normalising the rating of the product (id) for each user around 0 mean"
   ]
  },
  {
   "cell_type": "code",
   "execution_count": 93,
   "metadata": {
    "id": "iIPOrBJJExdG"
   },
   "outputs": [],
   "source": [
    "mean = np.nanmean(df_pivot, axis=1)\n",
    "df_subtracted = (df_pivot.T-mean).T"
   ]
  },
  {
   "cell_type": "code",
   "execution_count": 94,
   "metadata": {
    "colab": {
     "base_uri": "https://localhost:8080/",
     "height": 318
    },
    "executionInfo": {
     "elapsed": 4,
     "status": "ok",
     "timestamp": 1633278446168,
     "user": {
      "displayName": "Bhavini G",
      "photoUrl": "https://lh3.googleusercontent.com/a/default-user=s64",
      "userId": "04864105761682059327"
     },
     "user_tz": 420
    },
    "id": "YG9wWuF6ExdG",
    "outputId": "6aa7bdec-a556-45d8-ec2d-93b705c882f3"
   },
   "outputs": [
    {
     "data": {
      "text/html": [
       "<div>\n",
       "<style scoped>\n",
       "    .dataframe tbody tr th:only-of-type {\n",
       "        vertical-align: middle;\n",
       "    }\n",
       "\n",
       "    .dataframe tbody tr th {\n",
       "        vertical-align: top;\n",
       "    }\n",
       "\n",
       "    .dataframe thead th {\n",
       "        text-align: right;\n",
       "    }\n",
       "</style>\n",
       "<table border=\"1\" class=\"dataframe\">\n",
       "  <thead>\n",
       "    <tr style=\"text-align: right;\">\n",
       "      <th>id</th>\n",
       "      <th>AV13O1A8GV-KLJ3akUyj</th>\n",
       "      <th>AV14LG0R-jtxr-f38QfS</th>\n",
       "      <th>AV16khLE-jtxr-f38VFn</th>\n",
       "      <th>AV1YGDqsGV-KLJ3adc-O</th>\n",
       "      <th>AV1YIch7GV-KLJ3addeG</th>\n",
       "      <th>AV1YlENIglJLPUi8IHsX</th>\n",
       "      <th>AV1YmBrdGV-KLJ3adewb</th>\n",
       "      <th>AV1YmDL9vKc47QAVgr7_</th>\n",
       "      <th>AV1Ymf_rglJLPUi8II2v</th>\n",
       "      <th>AV1Yn94nvKc47QAVgtst</th>\n",
       "      <th>...</th>\n",
       "      <th>AVpfrTyiLJeJML43BrSI</th>\n",
       "      <th>AVpfrfHF1cnluZ0-pRai</th>\n",
       "      <th>AVpfrgjFLJeJML43BvCc</th>\n",
       "      <th>AVpfs0tUilAPnD_xgqN2</th>\n",
       "      <th>AVpfsQoeilAPnD_xgfx5</th>\n",
       "      <th>AVpfthSailAPnD_xg3ON</th>\n",
       "      <th>AVpftikC1cnluZ0-p31V</th>\n",
       "      <th>AVpftymALJeJML43CZ6y</th>\n",
       "      <th>AVpfv4TlilAPnD_xhjNS</th>\n",
       "      <th>AVpfvieo1cnluZ0-qdnu</th>\n",
       "    </tr>\n",
       "    <tr>\n",
       "      <th>reviews_username</th>\n",
       "      <th></th>\n",
       "      <th></th>\n",
       "      <th></th>\n",
       "      <th></th>\n",
       "      <th></th>\n",
       "      <th></th>\n",
       "      <th></th>\n",
       "      <th></th>\n",
       "      <th></th>\n",
       "      <th></th>\n",
       "      <th></th>\n",
       "      <th></th>\n",
       "      <th></th>\n",
       "      <th></th>\n",
       "      <th></th>\n",
       "      <th></th>\n",
       "      <th></th>\n",
       "      <th></th>\n",
       "      <th></th>\n",
       "      <th></th>\n",
       "      <th></th>\n",
       "    </tr>\n",
       "  </thead>\n",
       "  <tbody>\n",
       "    <tr>\n",
       "      <th>00dog3</th>\n",
       "      <td>NaN</td>\n",
       "      <td>NaN</td>\n",
       "      <td>NaN</td>\n",
       "      <td>NaN</td>\n",
       "      <td>NaN</td>\n",
       "      <td>NaN</td>\n",
       "      <td>NaN</td>\n",
       "      <td>NaN</td>\n",
       "      <td>NaN</td>\n",
       "      <td>NaN</td>\n",
       "      <td>...</td>\n",
       "      <td>NaN</td>\n",
       "      <td>NaN</td>\n",
       "      <td>NaN</td>\n",
       "      <td>NaN</td>\n",
       "      <td>NaN</td>\n",
       "      <td>NaN</td>\n",
       "      <td>NaN</td>\n",
       "      <td>NaN</td>\n",
       "      <td>NaN</td>\n",
       "      <td>NaN</td>\n",
       "    </tr>\n",
       "    <tr>\n",
       "      <th>00sab00</th>\n",
       "      <td>NaN</td>\n",
       "      <td>NaN</td>\n",
       "      <td>NaN</td>\n",
       "      <td>NaN</td>\n",
       "      <td>NaN</td>\n",
       "      <td>NaN</td>\n",
       "      <td>NaN</td>\n",
       "      <td>NaN</td>\n",
       "      <td>NaN</td>\n",
       "      <td>NaN</td>\n",
       "      <td>...</td>\n",
       "      <td>NaN</td>\n",
       "      <td>NaN</td>\n",
       "      <td>NaN</td>\n",
       "      <td>NaN</td>\n",
       "      <td>NaN</td>\n",
       "      <td>NaN</td>\n",
       "      <td>NaN</td>\n",
       "      <td>NaN</td>\n",
       "      <td>NaN</td>\n",
       "      <td>NaN</td>\n",
       "    </tr>\n",
       "    <tr>\n",
       "      <th>02dakota</th>\n",
       "      <td>NaN</td>\n",
       "      <td>NaN</td>\n",
       "      <td>NaN</td>\n",
       "      <td>NaN</td>\n",
       "      <td>NaN</td>\n",
       "      <td>NaN</td>\n",
       "      <td>NaN</td>\n",
       "      <td>NaN</td>\n",
       "      <td>NaN</td>\n",
       "      <td>NaN</td>\n",
       "      <td>...</td>\n",
       "      <td>NaN</td>\n",
       "      <td>NaN</td>\n",
       "      <td>NaN</td>\n",
       "      <td>NaN</td>\n",
       "      <td>NaN</td>\n",
       "      <td>NaN</td>\n",
       "      <td>NaN</td>\n",
       "      <td>NaN</td>\n",
       "      <td>NaN</td>\n",
       "      <td>NaN</td>\n",
       "    </tr>\n",
       "    <tr>\n",
       "      <th>0325home</th>\n",
       "      <td>NaN</td>\n",
       "      <td>NaN</td>\n",
       "      <td>NaN</td>\n",
       "      <td>NaN</td>\n",
       "      <td>NaN</td>\n",
       "      <td>NaN</td>\n",
       "      <td>NaN</td>\n",
       "      <td>NaN</td>\n",
       "      <td>NaN</td>\n",
       "      <td>NaN</td>\n",
       "      <td>...</td>\n",
       "      <td>NaN</td>\n",
       "      <td>NaN</td>\n",
       "      <td>NaN</td>\n",
       "      <td>NaN</td>\n",
       "      <td>NaN</td>\n",
       "      <td>NaN</td>\n",
       "      <td>NaN</td>\n",
       "      <td>NaN</td>\n",
       "      <td>NaN</td>\n",
       "      <td>NaN</td>\n",
       "    </tr>\n",
       "    <tr>\n",
       "      <th>08dallas</th>\n",
       "      <td>NaN</td>\n",
       "      <td>NaN</td>\n",
       "      <td>NaN</td>\n",
       "      <td>NaN</td>\n",
       "      <td>NaN</td>\n",
       "      <td>NaN</td>\n",
       "      <td>NaN</td>\n",
       "      <td>NaN</td>\n",
       "      <td>NaN</td>\n",
       "      <td>NaN</td>\n",
       "      <td>...</td>\n",
       "      <td>NaN</td>\n",
       "      <td>NaN</td>\n",
       "      <td>NaN</td>\n",
       "      <td>NaN</td>\n",
       "      <td>NaN</td>\n",
       "      <td>NaN</td>\n",
       "      <td>NaN</td>\n",
       "      <td>NaN</td>\n",
       "      <td>NaN</td>\n",
       "      <td>NaN</td>\n",
       "    </tr>\n",
       "  </tbody>\n",
       "</table>\n",
       "<p>5 rows × 255 columns</p>\n",
       "</div>"
      ],
      "text/plain": [
       "id                AV13O1A8GV-KLJ3akUyj  AV14LG0R-jtxr-f38QfS  \\\n",
       "reviews_username                                               \n",
       "00dog3                             NaN                   NaN   \n",
       "00sab00                            NaN                   NaN   \n",
       "02dakota                           NaN                   NaN   \n",
       "0325home                           NaN                   NaN   \n",
       "08dallas                           NaN                   NaN   \n",
       "\n",
       "id                AV16khLE-jtxr-f38VFn  AV1YGDqsGV-KLJ3adc-O  \\\n",
       "reviews_username                                               \n",
       "00dog3                             NaN                   NaN   \n",
       "00sab00                            NaN                   NaN   \n",
       "02dakota                           NaN                   NaN   \n",
       "0325home                           NaN                   NaN   \n",
       "08dallas                           NaN                   NaN   \n",
       "\n",
       "id                AV1YIch7GV-KLJ3addeG  AV1YlENIglJLPUi8IHsX  \\\n",
       "reviews_username                                               \n",
       "00dog3                             NaN                   NaN   \n",
       "00sab00                            NaN                   NaN   \n",
       "02dakota                           NaN                   NaN   \n",
       "0325home                           NaN                   NaN   \n",
       "08dallas                           NaN                   NaN   \n",
       "\n",
       "id                AV1YmBrdGV-KLJ3adewb  AV1YmDL9vKc47QAVgr7_  \\\n",
       "reviews_username                                               \n",
       "00dog3                             NaN                   NaN   \n",
       "00sab00                            NaN                   NaN   \n",
       "02dakota                           NaN                   NaN   \n",
       "0325home                           NaN                   NaN   \n",
       "08dallas                           NaN                   NaN   \n",
       "\n",
       "id                AV1Ymf_rglJLPUi8II2v  AV1Yn94nvKc47QAVgtst  ...  \\\n",
       "reviews_username                                              ...   \n",
       "00dog3                             NaN                   NaN  ...   \n",
       "00sab00                            NaN                   NaN  ...   \n",
       "02dakota                           NaN                   NaN  ...   \n",
       "0325home                           NaN                   NaN  ...   \n",
       "08dallas                           NaN                   NaN  ...   \n",
       "\n",
       "id                AVpfrTyiLJeJML43BrSI  AVpfrfHF1cnluZ0-pRai  \\\n",
       "reviews_username                                               \n",
       "00dog3                             NaN                   NaN   \n",
       "00sab00                            NaN                   NaN   \n",
       "02dakota                           NaN                   NaN   \n",
       "0325home                           NaN                   NaN   \n",
       "08dallas                           NaN                   NaN   \n",
       "\n",
       "id                AVpfrgjFLJeJML43BvCc  AVpfs0tUilAPnD_xgqN2  \\\n",
       "reviews_username                                               \n",
       "00dog3                             NaN                   NaN   \n",
       "00sab00                            NaN                   NaN   \n",
       "02dakota                           NaN                   NaN   \n",
       "0325home                           NaN                   NaN   \n",
       "08dallas                           NaN                   NaN   \n",
       "\n",
       "id                AVpfsQoeilAPnD_xgfx5  AVpfthSailAPnD_xg3ON  \\\n",
       "reviews_username                                               \n",
       "00dog3                             NaN                   NaN   \n",
       "00sab00                            NaN                   NaN   \n",
       "02dakota                           NaN                   NaN   \n",
       "0325home                           NaN                   NaN   \n",
       "08dallas                           NaN                   NaN   \n",
       "\n",
       "id                AVpftikC1cnluZ0-p31V  AVpftymALJeJML43CZ6y  \\\n",
       "reviews_username                                               \n",
       "00dog3                             NaN                   NaN   \n",
       "00sab00                            NaN                   NaN   \n",
       "02dakota                           NaN                   NaN   \n",
       "0325home                           NaN                   NaN   \n",
       "08dallas                           NaN                   NaN   \n",
       "\n",
       "id                AVpfv4TlilAPnD_xhjNS  AVpfvieo1cnluZ0-qdnu  \n",
       "reviews_username                                              \n",
       "00dog3                             NaN                   NaN  \n",
       "00sab00                            NaN                   NaN  \n",
       "02dakota                           NaN                   NaN  \n",
       "0325home                           NaN                   NaN  \n",
       "08dallas                           NaN                   NaN  \n",
       "\n",
       "[5 rows x 255 columns]"
      ]
     },
     "execution_count": 94,
     "metadata": {},
     "output_type": "execute_result"
    }
   ],
   "source": [
    "df_subtracted.head()"
   ]
  },
  {
   "cell_type": "markdown",
   "metadata": {
    "id": "Hhn3tGtCExdG"
   },
   "source": [
    "### Finding cosine similarity"
   ]
  },
  {
   "cell_type": "code",
   "execution_count": 95,
   "metadata": {
    "colab": {
     "base_uri": "https://localhost:8080/"
    },
    "executionInfo": {
     "elapsed": 7013,
     "status": "ok",
     "timestamp": 1633278453179,
     "user": {
      "displayName": "Bhavini G",
      "photoUrl": "https://lh3.googleusercontent.com/a/default-user=s64",
      "userId": "04864105761682059327"
     },
     "user_tz": 420
    },
    "id": "p6WRLBAIPd_k",
    "outputId": "54d41bd2-dbd0-4dec-ccc7-2d5d218e8a81"
   },
   "outputs": [
    {
     "name": "stdout",
     "output_type": "stream",
     "text": [
      "[[0. 0. 0. ... 0. 0. 0.]\n",
      " [0. 0. 0. ... 0. 0. 0.]\n",
      " [0. 0. 0. ... 0. 0. 0.]\n",
      " ...\n",
      " [0. 0. 0. ... 0. 0. 0.]\n",
      " [0. 0. 0. ... 0. 0. 0.]\n",
      " [0. 0. 0. ... 0. 0. 0.]]\n"
     ]
    }
   ],
   "source": [
    "# Creating the User Similarity Matrix using pairwise_distance function.\n",
    "user_correlation = 1 - pairwise_distances(df_subtracted.fillna(0), metric='cosine')\n",
    "user_correlation[np.isnan(user_correlation)] = 0\n",
    "print(user_correlation)"
   ]
  },
  {
   "cell_type": "markdown",
   "metadata": {
    "id": "ZclauxcCExdH"
   },
   "source": [
    "## Prediction - User User"
   ]
  },
  {
   "cell_type": "markdown",
   "metadata": {
    "id": "1Gv7jXwsExdH"
   },
   "source": [
    "Doing the prediction for the users which are positively related with other users, and not the users which are negatively related as we are interested in the users which are more similar to the current users. So, ignoring the correlation for values less than 0. "
   ]
  },
  {
   "cell_type": "code",
   "execution_count": 96,
   "metadata": {
    "colab": {
     "base_uri": "https://localhost:8080/"
    },
    "executionInfo": {
     "elapsed": 34,
     "status": "ok",
     "timestamp": 1633278453180,
     "user": {
      "displayName": "Bhavini G",
      "photoUrl": "https://lh3.googleusercontent.com/a/default-user=s64",
      "userId": "04864105761682059327"
     },
     "user_tz": 420
    },
    "id": "fY1304VMExdH",
    "outputId": "00dd106c-8807-4448-aaf2-d837ecc50f80"
   },
   "outputs": [
    {
     "data": {
      "text/plain": [
       "array([[0., 0., 0., ..., 0., 0., 0.],\n",
       "       [0., 0., 0., ..., 0., 0., 0.],\n",
       "       [0., 0., 0., ..., 0., 0., 0.],\n",
       "       ...,\n",
       "       [0., 0., 0., ..., 0., 0., 0.],\n",
       "       [0., 0., 0., ..., 0., 0., 0.],\n",
       "       [0., 0., 0., ..., 0., 0., 0.]])"
      ]
     },
     "execution_count": 96,
     "metadata": {},
     "output_type": "execute_result"
    }
   ],
   "source": [
    "user_correlation[user_correlation<0]=0\n",
    "user_correlation"
   ]
  },
  {
   "cell_type": "markdown",
   "metadata": {
    "id": "TjdiwJIzExdI"
   },
   "source": [
    "Rating predicted by the user (for products rated as well as not rated) is the weighted sum of correlation with the product rating (as present in the rating dataset). "
   ]
  },
  {
   "cell_type": "code",
   "execution_count": 97,
   "metadata": {
    "colab": {
     "base_uri": "https://localhost:8080/"
    },
    "executionInfo": {
     "elapsed": 4939,
     "status": "ok",
     "timestamp": 1633278458115,
     "user": {
      "displayName": "Bhavini G",
      "photoUrl": "https://lh3.googleusercontent.com/a/default-user=s64",
      "userId": "04864105761682059327"
     },
     "user_tz": 420
    },
    "id": "9OqMKQHSExdI",
    "outputId": "3fb40246-f73d-4f1c-bb25-2290aa3df727"
   },
   "outputs": [
    {
     "data": {
      "text/plain": [
       "array([[0., 0., 0., ..., 0., 0., 0.],\n",
       "       [0., 0., 0., ..., 0., 0., 0.],\n",
       "       [0., 0., 0., ..., 0., 0., 0.],\n",
       "       ...,\n",
       "       [0., 0., 0., ..., 0., 0., 0.],\n",
       "       [0., 0., 0., ..., 0., 0., 0.],\n",
       "       [0., 0., 0., ..., 0., 0., 0.]])"
      ]
     },
     "execution_count": 97,
     "metadata": {},
     "output_type": "execute_result"
    }
   ],
   "source": [
    "user_predicted_ratings = np.dot(user_correlation, df_pivot.fillna(0))\n",
    "user_predicted_ratings"
   ]
  },
  {
   "cell_type": "code",
   "execution_count": 98,
   "metadata": {
    "colab": {
     "base_uri": "https://localhost:8080/"
    },
    "executionInfo": {
     "elapsed": 4,
     "status": "ok",
     "timestamp": 1633278458115,
     "user": {
      "displayName": "Bhavini G",
      "photoUrl": "https://lh3.googleusercontent.com/a/default-user=s64",
      "userId": "04864105761682059327"
     },
     "user_tz": 420
    },
    "id": "M5ZIjVkQExdI",
    "outputId": "2c281fb6-8874-487c-c32e-a8ded664ffa3"
   },
   "outputs": [
    {
     "data": {
      "text/plain": [
       "(17887, 255)"
      ]
     },
     "execution_count": 98,
     "metadata": {},
     "output_type": "execute_result"
    }
   ],
   "source": [
    "user_predicted_ratings.shape"
   ]
  },
  {
   "cell_type": "markdown",
   "metadata": {
    "id": "w2WW_MKlExdI"
   },
   "source": [
    "Since we are interested only in the products not rated by the user, we will ignore the products rated by the user by making it zero. "
   ]
  },
  {
   "cell_type": "code",
   "execution_count": 99,
   "metadata": {
    "colab": {
     "base_uri": "https://localhost:8080/",
     "height": 318
    },
    "executionInfo": {
     "elapsed": 283,
     "status": "ok",
     "timestamp": 1633278458396,
     "user": {
      "displayName": "Bhavini G",
      "photoUrl": "https://lh3.googleusercontent.com/a/default-user=s64",
      "userId": "04864105761682059327"
     },
     "user_tz": 420
    },
    "id": "4MYZss5bExdI",
    "outputId": "1df42f00-91de-4757-c344-c9c95bb25b08"
   },
   "outputs": [
    {
     "data": {
      "text/html": [
       "<div>\n",
       "<style scoped>\n",
       "    .dataframe tbody tr th:only-of-type {\n",
       "        vertical-align: middle;\n",
       "    }\n",
       "\n",
       "    .dataframe tbody tr th {\n",
       "        vertical-align: top;\n",
       "    }\n",
       "\n",
       "    .dataframe thead th {\n",
       "        text-align: right;\n",
       "    }\n",
       "</style>\n",
       "<table border=\"1\" class=\"dataframe\">\n",
       "  <thead>\n",
       "    <tr style=\"text-align: right;\">\n",
       "      <th>id</th>\n",
       "      <th>AV13O1A8GV-KLJ3akUyj</th>\n",
       "      <th>AV14LG0R-jtxr-f38QfS</th>\n",
       "      <th>AV16khLE-jtxr-f38VFn</th>\n",
       "      <th>AV1YGDqsGV-KLJ3adc-O</th>\n",
       "      <th>AV1YIch7GV-KLJ3addeG</th>\n",
       "      <th>AV1YlENIglJLPUi8IHsX</th>\n",
       "      <th>AV1YmBrdGV-KLJ3adewb</th>\n",
       "      <th>AV1YmDL9vKc47QAVgr7_</th>\n",
       "      <th>AV1Ymf_rglJLPUi8II2v</th>\n",
       "      <th>AV1Yn94nvKc47QAVgtst</th>\n",
       "      <th>...</th>\n",
       "      <th>AVpfrTyiLJeJML43BrSI</th>\n",
       "      <th>AVpfrfHF1cnluZ0-pRai</th>\n",
       "      <th>AVpfrgjFLJeJML43BvCc</th>\n",
       "      <th>AVpfs0tUilAPnD_xgqN2</th>\n",
       "      <th>AVpfsQoeilAPnD_xgfx5</th>\n",
       "      <th>AVpfthSailAPnD_xg3ON</th>\n",
       "      <th>AVpftikC1cnluZ0-p31V</th>\n",
       "      <th>AVpftymALJeJML43CZ6y</th>\n",
       "      <th>AVpfv4TlilAPnD_xhjNS</th>\n",
       "      <th>AVpfvieo1cnluZ0-qdnu</th>\n",
       "    </tr>\n",
       "    <tr>\n",
       "      <th>reviews_username</th>\n",
       "      <th></th>\n",
       "      <th></th>\n",
       "      <th></th>\n",
       "      <th></th>\n",
       "      <th></th>\n",
       "      <th></th>\n",
       "      <th></th>\n",
       "      <th></th>\n",
       "      <th></th>\n",
       "      <th></th>\n",
       "      <th></th>\n",
       "      <th></th>\n",
       "      <th></th>\n",
       "      <th></th>\n",
       "      <th></th>\n",
       "      <th></th>\n",
       "      <th></th>\n",
       "      <th></th>\n",
       "      <th></th>\n",
       "      <th></th>\n",
       "      <th></th>\n",
       "    </tr>\n",
       "  </thead>\n",
       "  <tbody>\n",
       "    <tr>\n",
       "      <th>00dog3</th>\n",
       "      <td>0.0</td>\n",
       "      <td>0.0</td>\n",
       "      <td>0.0</td>\n",
       "      <td>0.0</td>\n",
       "      <td>0.0</td>\n",
       "      <td>0.0</td>\n",
       "      <td>0.0</td>\n",
       "      <td>0.0</td>\n",
       "      <td>0.0</td>\n",
       "      <td>0.0</td>\n",
       "      <td>...</td>\n",
       "      <td>0.0</td>\n",
       "      <td>0.0</td>\n",
       "      <td>0.0</td>\n",
       "      <td>0.0</td>\n",
       "      <td>0.0</td>\n",
       "      <td>0.0</td>\n",
       "      <td>0.0</td>\n",
       "      <td>0.0</td>\n",
       "      <td>0.0</td>\n",
       "      <td>0.0</td>\n",
       "    </tr>\n",
       "    <tr>\n",
       "      <th>00sab00</th>\n",
       "      <td>0.0</td>\n",
       "      <td>0.0</td>\n",
       "      <td>0.0</td>\n",
       "      <td>0.0</td>\n",
       "      <td>0.0</td>\n",
       "      <td>0.0</td>\n",
       "      <td>0.0</td>\n",
       "      <td>0.0</td>\n",
       "      <td>0.0</td>\n",
       "      <td>0.0</td>\n",
       "      <td>...</td>\n",
       "      <td>0.0</td>\n",
       "      <td>0.0</td>\n",
       "      <td>0.0</td>\n",
       "      <td>0.0</td>\n",
       "      <td>0.0</td>\n",
       "      <td>0.0</td>\n",
       "      <td>0.0</td>\n",
       "      <td>0.0</td>\n",
       "      <td>0.0</td>\n",
       "      <td>0.0</td>\n",
       "    </tr>\n",
       "    <tr>\n",
       "      <th>02dakota</th>\n",
       "      <td>0.0</td>\n",
       "      <td>0.0</td>\n",
       "      <td>0.0</td>\n",
       "      <td>0.0</td>\n",
       "      <td>0.0</td>\n",
       "      <td>0.0</td>\n",
       "      <td>0.0</td>\n",
       "      <td>0.0</td>\n",
       "      <td>0.0</td>\n",
       "      <td>0.0</td>\n",
       "      <td>...</td>\n",
       "      <td>0.0</td>\n",
       "      <td>0.0</td>\n",
       "      <td>0.0</td>\n",
       "      <td>0.0</td>\n",
       "      <td>0.0</td>\n",
       "      <td>0.0</td>\n",
       "      <td>0.0</td>\n",
       "      <td>0.0</td>\n",
       "      <td>0.0</td>\n",
       "      <td>0.0</td>\n",
       "    </tr>\n",
       "    <tr>\n",
       "      <th>0325home</th>\n",
       "      <td>0.0</td>\n",
       "      <td>0.0</td>\n",
       "      <td>0.0</td>\n",
       "      <td>0.0</td>\n",
       "      <td>0.0</td>\n",
       "      <td>0.0</td>\n",
       "      <td>0.0</td>\n",
       "      <td>0.0</td>\n",
       "      <td>0.0</td>\n",
       "      <td>0.0</td>\n",
       "      <td>...</td>\n",
       "      <td>0.0</td>\n",
       "      <td>0.0</td>\n",
       "      <td>0.0</td>\n",
       "      <td>0.0</td>\n",
       "      <td>0.0</td>\n",
       "      <td>0.0</td>\n",
       "      <td>0.0</td>\n",
       "      <td>0.0</td>\n",
       "      <td>0.0</td>\n",
       "      <td>0.0</td>\n",
       "    </tr>\n",
       "    <tr>\n",
       "      <th>08dallas</th>\n",
       "      <td>0.0</td>\n",
       "      <td>0.0</td>\n",
       "      <td>0.0</td>\n",
       "      <td>0.0</td>\n",
       "      <td>0.0</td>\n",
       "      <td>0.0</td>\n",
       "      <td>0.0</td>\n",
       "      <td>0.0</td>\n",
       "      <td>0.0</td>\n",
       "      <td>0.0</td>\n",
       "      <td>...</td>\n",
       "      <td>0.0</td>\n",
       "      <td>0.0</td>\n",
       "      <td>0.0</td>\n",
       "      <td>0.0</td>\n",
       "      <td>0.0</td>\n",
       "      <td>0.0</td>\n",
       "      <td>0.0</td>\n",
       "      <td>0.0</td>\n",
       "      <td>0.0</td>\n",
       "      <td>0.0</td>\n",
       "    </tr>\n",
       "  </tbody>\n",
       "</table>\n",
       "<p>5 rows × 255 columns</p>\n",
       "</div>"
      ],
      "text/plain": [
       "id                AV13O1A8GV-KLJ3akUyj  AV14LG0R-jtxr-f38QfS  \\\n",
       "reviews_username                                               \n",
       "00dog3                             0.0                   0.0   \n",
       "00sab00                            0.0                   0.0   \n",
       "02dakota                           0.0                   0.0   \n",
       "0325home                           0.0                   0.0   \n",
       "08dallas                           0.0                   0.0   \n",
       "\n",
       "id                AV16khLE-jtxr-f38VFn  AV1YGDqsGV-KLJ3adc-O  \\\n",
       "reviews_username                                               \n",
       "00dog3                             0.0                   0.0   \n",
       "00sab00                            0.0                   0.0   \n",
       "02dakota                           0.0                   0.0   \n",
       "0325home                           0.0                   0.0   \n",
       "08dallas                           0.0                   0.0   \n",
       "\n",
       "id                AV1YIch7GV-KLJ3addeG  AV1YlENIglJLPUi8IHsX  \\\n",
       "reviews_username                                               \n",
       "00dog3                             0.0                   0.0   \n",
       "00sab00                            0.0                   0.0   \n",
       "02dakota                           0.0                   0.0   \n",
       "0325home                           0.0                   0.0   \n",
       "08dallas                           0.0                   0.0   \n",
       "\n",
       "id                AV1YmBrdGV-KLJ3adewb  AV1YmDL9vKc47QAVgr7_  \\\n",
       "reviews_username                                               \n",
       "00dog3                             0.0                   0.0   \n",
       "00sab00                            0.0                   0.0   \n",
       "02dakota                           0.0                   0.0   \n",
       "0325home                           0.0                   0.0   \n",
       "08dallas                           0.0                   0.0   \n",
       "\n",
       "id                AV1Ymf_rglJLPUi8II2v  AV1Yn94nvKc47QAVgtst  ...  \\\n",
       "reviews_username                                              ...   \n",
       "00dog3                             0.0                   0.0  ...   \n",
       "00sab00                            0.0                   0.0  ...   \n",
       "02dakota                           0.0                   0.0  ...   \n",
       "0325home                           0.0                   0.0  ...   \n",
       "08dallas                           0.0                   0.0  ...   \n",
       "\n",
       "id                AVpfrTyiLJeJML43BrSI  AVpfrfHF1cnluZ0-pRai  \\\n",
       "reviews_username                                               \n",
       "00dog3                             0.0                   0.0   \n",
       "00sab00                            0.0                   0.0   \n",
       "02dakota                           0.0                   0.0   \n",
       "0325home                           0.0                   0.0   \n",
       "08dallas                           0.0                   0.0   \n",
       "\n",
       "id                AVpfrgjFLJeJML43BvCc  AVpfs0tUilAPnD_xgqN2  \\\n",
       "reviews_username                                               \n",
       "00dog3                             0.0                   0.0   \n",
       "00sab00                            0.0                   0.0   \n",
       "02dakota                           0.0                   0.0   \n",
       "0325home                           0.0                   0.0   \n",
       "08dallas                           0.0                   0.0   \n",
       "\n",
       "id                AVpfsQoeilAPnD_xgfx5  AVpfthSailAPnD_xg3ON  \\\n",
       "reviews_username                                               \n",
       "00dog3                             0.0                   0.0   \n",
       "00sab00                            0.0                   0.0   \n",
       "02dakota                           0.0                   0.0   \n",
       "0325home                           0.0                   0.0   \n",
       "08dallas                           0.0                   0.0   \n",
       "\n",
       "id                AVpftikC1cnluZ0-p31V  AVpftymALJeJML43CZ6y  \\\n",
       "reviews_username                                               \n",
       "00dog3                             0.0                   0.0   \n",
       "00sab00                            0.0                   0.0   \n",
       "02dakota                           0.0                   0.0   \n",
       "0325home                           0.0                   0.0   \n",
       "08dallas                           0.0                   0.0   \n",
       "\n",
       "id                AVpfv4TlilAPnD_xhjNS  AVpfvieo1cnluZ0-qdnu  \n",
       "reviews_username                                              \n",
       "00dog3                             0.0                   0.0  \n",
       "00sab00                            0.0                   0.0  \n",
       "02dakota                           0.0                   0.0  \n",
       "0325home                           0.0                   0.0  \n",
       "08dallas                           0.0                   0.0  \n",
       "\n",
       "[5 rows x 255 columns]"
      ]
     },
     "execution_count": 99,
     "metadata": {},
     "output_type": "execute_result"
    }
   ],
   "source": [
    "user_final_rating = np.multiply(user_predicted_ratings,dummy_train)\n",
    "user_final_rating.head()"
   ]
  },
  {
   "cell_type": "markdown",
   "metadata": {
    "id": "7W_Kr8N8ExdJ"
   },
   "source": [
    "### Finding the top 20 recommendation for the *user*"
   ]
  },
  {
   "cell_type": "code",
   "execution_count": 100,
   "metadata": {
    "colab": {
     "base_uri": "https://localhost:8080/"
    },
    "executionInfo": {
     "elapsed": 43575,
     "status": "ok",
     "timestamp": 1633278501969,
     "user": {
      "displayName": "Bhavini G",
      "photoUrl": "https://lh3.googleusercontent.com/a/default-user=s64",
      "userId": "04864105761682059327"
     },
     "user_tz": 420
    },
    "id": "WL8Yt7ZRSiev",
    "outputId": "d6123eda-6147-4cc2-e0e2-d7022b50732a"
   },
   "outputs": [
    {
     "name": "stdout",
     "output_type": "stream",
     "text": [
      "Enter your user name : mike\n",
      "mike\n"
     ]
    }
   ],
   "source": [
    "# Take the user ID as input.\n",
    "user_input = (input(\"Enter your user name : \"))\n",
    "print(user_input)"
   ]
  },
  {
   "cell_type": "code",
   "execution_count": 101,
   "metadata": {
    "colab": {
     "base_uri": "https://localhost:8080/",
     "height": 225
    },
    "executionInfo": {
     "elapsed": 62,
     "status": "ok",
     "timestamp": 1633278501969,
     "user": {
      "displayName": "Bhavini G",
      "photoUrl": "https://lh3.googleusercontent.com/a/default-user=s64",
      "userId": "04864105761682059327"
     },
     "user_tz": 420
    },
    "id": "PzZygPXjuN-a",
    "outputId": "d8c082d6-c119-4555-d6f2-166f94792cad"
   },
   "outputs": [
    {
     "data": {
      "text/html": [
       "<div>\n",
       "<style scoped>\n",
       "    .dataframe tbody tr th:only-of-type {\n",
       "        vertical-align: middle;\n",
       "    }\n",
       "\n",
       "    .dataframe tbody tr th {\n",
       "        vertical-align: top;\n",
       "    }\n",
       "\n",
       "    .dataframe thead th {\n",
       "        text-align: right;\n",
       "    }\n",
       "</style>\n",
       "<table border=\"1\" class=\"dataframe\">\n",
       "  <thead>\n",
       "    <tr style=\"text-align: right;\">\n",
       "      <th>id</th>\n",
       "      <th>AV13O1A8GV-KLJ3akUyj</th>\n",
       "      <th>AV14LG0R-jtxr-f38QfS</th>\n",
       "      <th>AV16khLE-jtxr-f38VFn</th>\n",
       "      <th>AV1YGDqsGV-KLJ3adc-O</th>\n",
       "      <th>AV1YIch7GV-KLJ3addeG</th>\n",
       "      <th>AV1YlENIglJLPUi8IHsX</th>\n",
       "      <th>AV1YmBrdGV-KLJ3adewb</th>\n",
       "      <th>AV1YmDL9vKc47QAVgr7_</th>\n",
       "      <th>AV1Ymf_rglJLPUi8II2v</th>\n",
       "      <th>AV1Yn94nvKc47QAVgtst</th>\n",
       "      <th>...</th>\n",
       "      <th>AVpfrTyiLJeJML43BrSI</th>\n",
       "      <th>AVpfrfHF1cnluZ0-pRai</th>\n",
       "      <th>AVpfrgjFLJeJML43BvCc</th>\n",
       "      <th>AVpfs0tUilAPnD_xgqN2</th>\n",
       "      <th>AVpfsQoeilAPnD_xgfx5</th>\n",
       "      <th>AVpfthSailAPnD_xg3ON</th>\n",
       "      <th>AVpftikC1cnluZ0-p31V</th>\n",
       "      <th>AVpftymALJeJML43CZ6y</th>\n",
       "      <th>AVpfv4TlilAPnD_xhjNS</th>\n",
       "      <th>AVpfvieo1cnluZ0-qdnu</th>\n",
       "    </tr>\n",
       "    <tr>\n",
       "      <th>reviews_username</th>\n",
       "      <th></th>\n",
       "      <th></th>\n",
       "      <th></th>\n",
       "      <th></th>\n",
       "      <th></th>\n",
       "      <th></th>\n",
       "      <th></th>\n",
       "      <th></th>\n",
       "      <th></th>\n",
       "      <th></th>\n",
       "      <th></th>\n",
       "      <th></th>\n",
       "      <th></th>\n",
       "      <th></th>\n",
       "      <th></th>\n",
       "      <th></th>\n",
       "      <th></th>\n",
       "      <th></th>\n",
       "      <th></th>\n",
       "      <th></th>\n",
       "      <th></th>\n",
       "    </tr>\n",
       "  </thead>\n",
       "  <tbody>\n",
       "    <tr>\n",
       "      <th>00dog3</th>\n",
       "      <td>0.0</td>\n",
       "      <td>0.0</td>\n",
       "      <td>0.0</td>\n",
       "      <td>0.0</td>\n",
       "      <td>0.0</td>\n",
       "      <td>0.0</td>\n",
       "      <td>0.0</td>\n",
       "      <td>0.0</td>\n",
       "      <td>0.0</td>\n",
       "      <td>0.0</td>\n",
       "      <td>...</td>\n",
       "      <td>0.0</td>\n",
       "      <td>0.0</td>\n",
       "      <td>0.0</td>\n",
       "      <td>0.0</td>\n",
       "      <td>0.0</td>\n",
       "      <td>0.0</td>\n",
       "      <td>0.0</td>\n",
       "      <td>0.0</td>\n",
       "      <td>0.0</td>\n",
       "      <td>0.0</td>\n",
       "    </tr>\n",
       "    <tr>\n",
       "      <th>00sab00</th>\n",
       "      <td>0.0</td>\n",
       "      <td>0.0</td>\n",
       "      <td>0.0</td>\n",
       "      <td>0.0</td>\n",
       "      <td>0.0</td>\n",
       "      <td>0.0</td>\n",
       "      <td>0.0</td>\n",
       "      <td>0.0</td>\n",
       "      <td>0.0</td>\n",
       "      <td>0.0</td>\n",
       "      <td>...</td>\n",
       "      <td>0.0</td>\n",
       "      <td>0.0</td>\n",
       "      <td>0.0</td>\n",
       "      <td>0.0</td>\n",
       "      <td>0.0</td>\n",
       "      <td>0.0</td>\n",
       "      <td>0.0</td>\n",
       "      <td>0.0</td>\n",
       "      <td>0.0</td>\n",
       "      <td>0.0</td>\n",
       "    </tr>\n",
       "  </tbody>\n",
       "</table>\n",
       "<p>2 rows × 255 columns</p>\n",
       "</div>"
      ],
      "text/plain": [
       "id                AV13O1A8GV-KLJ3akUyj  AV14LG0R-jtxr-f38QfS  \\\n",
       "reviews_username                                               \n",
       "00dog3                             0.0                   0.0   \n",
       "00sab00                            0.0                   0.0   \n",
       "\n",
       "id                AV16khLE-jtxr-f38VFn  AV1YGDqsGV-KLJ3adc-O  \\\n",
       "reviews_username                                               \n",
       "00dog3                             0.0                   0.0   \n",
       "00sab00                            0.0                   0.0   \n",
       "\n",
       "id                AV1YIch7GV-KLJ3addeG  AV1YlENIglJLPUi8IHsX  \\\n",
       "reviews_username                                               \n",
       "00dog3                             0.0                   0.0   \n",
       "00sab00                            0.0                   0.0   \n",
       "\n",
       "id                AV1YmBrdGV-KLJ3adewb  AV1YmDL9vKc47QAVgr7_  \\\n",
       "reviews_username                                               \n",
       "00dog3                             0.0                   0.0   \n",
       "00sab00                            0.0                   0.0   \n",
       "\n",
       "id                AV1Ymf_rglJLPUi8II2v  AV1Yn94nvKc47QAVgtst  ...  \\\n",
       "reviews_username                                              ...   \n",
       "00dog3                             0.0                   0.0  ...   \n",
       "00sab00                            0.0                   0.0  ...   \n",
       "\n",
       "id                AVpfrTyiLJeJML43BrSI  AVpfrfHF1cnluZ0-pRai  \\\n",
       "reviews_username                                               \n",
       "00dog3                             0.0                   0.0   \n",
       "00sab00                            0.0                   0.0   \n",
       "\n",
       "id                AVpfrgjFLJeJML43BvCc  AVpfs0tUilAPnD_xgqN2  \\\n",
       "reviews_username                                               \n",
       "00dog3                             0.0                   0.0   \n",
       "00sab00                            0.0                   0.0   \n",
       "\n",
       "id                AVpfsQoeilAPnD_xgfx5  AVpfthSailAPnD_xg3ON  \\\n",
       "reviews_username                                               \n",
       "00dog3                             0.0                   0.0   \n",
       "00sab00                            0.0                   0.0   \n",
       "\n",
       "id                AVpftikC1cnluZ0-p31V  AVpftymALJeJML43CZ6y  \\\n",
       "reviews_username                                               \n",
       "00dog3                             0.0                   0.0   \n",
       "00sab00                            0.0                   0.0   \n",
       "\n",
       "id                AVpfv4TlilAPnD_xhjNS  AVpfvieo1cnluZ0-qdnu  \n",
       "reviews_username                                              \n",
       "00dog3                             0.0                   0.0  \n",
       "00sab00                            0.0                   0.0  \n",
       "\n",
       "[2 rows x 255 columns]"
      ]
     },
     "execution_count": 101,
     "metadata": {},
     "output_type": "execute_result"
    }
   ],
   "source": [
    "user_final_rating.head(2)"
   ]
  },
  {
   "cell_type": "code",
   "execution_count": 102,
   "metadata": {
    "id": "46mbZ5VxgCWZ"
   },
   "outputs": [
    {
     "data": {
      "text/html": [
       "<div>\n",
       "<style scoped>\n",
       "    .dataframe tbody tr th:only-of-type {\n",
       "        vertical-align: middle;\n",
       "    }\n",
       "\n",
       "    .dataframe tbody tr th {\n",
       "        vertical-align: top;\n",
       "    }\n",
       "\n",
       "    .dataframe thead th {\n",
       "        text-align: right;\n",
       "    }\n",
       "</style>\n",
       "<table border=\"1\" class=\"dataframe\">\n",
       "  <thead>\n",
       "    <tr style=\"text-align: right;\">\n",
       "      <th>id</th>\n",
       "      <th>AV13O1A8GV-KLJ3akUyj</th>\n",
       "      <th>AV14LG0R-jtxr-f38QfS</th>\n",
       "      <th>AV16khLE-jtxr-f38VFn</th>\n",
       "      <th>AV1YGDqsGV-KLJ3adc-O</th>\n",
       "      <th>AV1YIch7GV-KLJ3addeG</th>\n",
       "      <th>AV1YlENIglJLPUi8IHsX</th>\n",
       "      <th>AV1YmBrdGV-KLJ3adewb</th>\n",
       "      <th>AV1YmDL9vKc47QAVgr7_</th>\n",
       "      <th>AV1Ymf_rglJLPUi8II2v</th>\n",
       "      <th>AV1Yn94nvKc47QAVgtst</th>\n",
       "      <th>...</th>\n",
       "      <th>AVpfrTyiLJeJML43BrSI</th>\n",
       "      <th>AVpfrfHF1cnluZ0-pRai</th>\n",
       "      <th>AVpfrgjFLJeJML43BvCc</th>\n",
       "      <th>AVpfs0tUilAPnD_xgqN2</th>\n",
       "      <th>AVpfsQoeilAPnD_xgfx5</th>\n",
       "      <th>AVpfthSailAPnD_xg3ON</th>\n",
       "      <th>AVpftikC1cnluZ0-p31V</th>\n",
       "      <th>AVpftymALJeJML43CZ6y</th>\n",
       "      <th>AVpfv4TlilAPnD_xhjNS</th>\n",
       "      <th>AVpfvieo1cnluZ0-qdnu</th>\n",
       "    </tr>\n",
       "    <tr>\n",
       "      <th>reviews_username</th>\n",
       "      <th></th>\n",
       "      <th></th>\n",
       "      <th></th>\n",
       "      <th></th>\n",
       "      <th></th>\n",
       "      <th></th>\n",
       "      <th></th>\n",
       "      <th></th>\n",
       "      <th></th>\n",
       "      <th></th>\n",
       "      <th></th>\n",
       "      <th></th>\n",
       "      <th></th>\n",
       "      <th></th>\n",
       "      <th></th>\n",
       "      <th></th>\n",
       "      <th></th>\n",
       "      <th></th>\n",
       "      <th></th>\n",
       "      <th></th>\n",
       "      <th></th>\n",
       "    </tr>\n",
       "  </thead>\n",
       "  <tbody>\n",
       "    <tr>\n",
       "      <th>00dog3</th>\n",
       "      <td>0.0</td>\n",
       "      <td>0.0</td>\n",
       "      <td>0.0</td>\n",
       "      <td>0.0</td>\n",
       "      <td>0.0</td>\n",
       "      <td>0.0</td>\n",
       "      <td>0.0</td>\n",
       "      <td>0.0</td>\n",
       "      <td>0.0</td>\n",
       "      <td>0.0</td>\n",
       "      <td>...</td>\n",
       "      <td>0.0</td>\n",
       "      <td>0.0</td>\n",
       "      <td>0.0</td>\n",
       "      <td>0.0</td>\n",
       "      <td>0.0</td>\n",
       "      <td>0.0</td>\n",
       "      <td>0.0</td>\n",
       "      <td>0.0</td>\n",
       "      <td>0.0</td>\n",
       "      <td>0.0</td>\n",
       "    </tr>\n",
       "    <tr>\n",
       "      <th>00sab00</th>\n",
       "      <td>0.0</td>\n",
       "      <td>0.0</td>\n",
       "      <td>0.0</td>\n",
       "      <td>0.0</td>\n",
       "      <td>0.0</td>\n",
       "      <td>0.0</td>\n",
       "      <td>0.0</td>\n",
       "      <td>0.0</td>\n",
       "      <td>0.0</td>\n",
       "      <td>0.0</td>\n",
       "      <td>...</td>\n",
       "      <td>0.0</td>\n",
       "      <td>0.0</td>\n",
       "      <td>0.0</td>\n",
       "      <td>0.0</td>\n",
       "      <td>0.0</td>\n",
       "      <td>0.0</td>\n",
       "      <td>0.0</td>\n",
       "      <td>0.0</td>\n",
       "      <td>0.0</td>\n",
       "      <td>0.0</td>\n",
       "    </tr>\n",
       "    <tr>\n",
       "      <th>02dakota</th>\n",
       "      <td>0.0</td>\n",
       "      <td>0.0</td>\n",
       "      <td>0.0</td>\n",
       "      <td>0.0</td>\n",
       "      <td>0.0</td>\n",
       "      <td>0.0</td>\n",
       "      <td>0.0</td>\n",
       "      <td>0.0</td>\n",
       "      <td>0.0</td>\n",
       "      <td>0.0</td>\n",
       "      <td>...</td>\n",
       "      <td>0.0</td>\n",
       "      <td>0.0</td>\n",
       "      <td>0.0</td>\n",
       "      <td>0.0</td>\n",
       "      <td>0.0</td>\n",
       "      <td>0.0</td>\n",
       "      <td>0.0</td>\n",
       "      <td>0.0</td>\n",
       "      <td>0.0</td>\n",
       "      <td>0.0</td>\n",
       "    </tr>\n",
       "    <tr>\n",
       "      <th>0325home</th>\n",
       "      <td>0.0</td>\n",
       "      <td>0.0</td>\n",
       "      <td>0.0</td>\n",
       "      <td>0.0</td>\n",
       "      <td>0.0</td>\n",
       "      <td>0.0</td>\n",
       "      <td>0.0</td>\n",
       "      <td>0.0</td>\n",
       "      <td>0.0</td>\n",
       "      <td>0.0</td>\n",
       "      <td>...</td>\n",
       "      <td>0.0</td>\n",
       "      <td>0.0</td>\n",
       "      <td>0.0</td>\n",
       "      <td>0.0</td>\n",
       "      <td>0.0</td>\n",
       "      <td>0.0</td>\n",
       "      <td>0.0</td>\n",
       "      <td>0.0</td>\n",
       "      <td>0.0</td>\n",
       "      <td>0.0</td>\n",
       "    </tr>\n",
       "    <tr>\n",
       "      <th>08dallas</th>\n",
       "      <td>0.0</td>\n",
       "      <td>0.0</td>\n",
       "      <td>0.0</td>\n",
       "      <td>0.0</td>\n",
       "      <td>0.0</td>\n",
       "      <td>0.0</td>\n",
       "      <td>0.0</td>\n",
       "      <td>0.0</td>\n",
       "      <td>0.0</td>\n",
       "      <td>0.0</td>\n",
       "      <td>...</td>\n",
       "      <td>0.0</td>\n",
       "      <td>0.0</td>\n",
       "      <td>0.0</td>\n",
       "      <td>0.0</td>\n",
       "      <td>0.0</td>\n",
       "      <td>0.0</td>\n",
       "      <td>0.0</td>\n",
       "      <td>0.0</td>\n",
       "      <td>0.0</td>\n",
       "      <td>0.0</td>\n",
       "    </tr>\n",
       "    <tr>\n",
       "      <th>...</th>\n",
       "      <td>...</td>\n",
       "      <td>...</td>\n",
       "      <td>...</td>\n",
       "      <td>...</td>\n",
       "      <td>...</td>\n",
       "      <td>...</td>\n",
       "      <td>...</td>\n",
       "      <td>...</td>\n",
       "      <td>...</td>\n",
       "      <td>...</td>\n",
       "      <td>...</td>\n",
       "      <td>...</td>\n",
       "      <td>...</td>\n",
       "      <td>...</td>\n",
       "      <td>...</td>\n",
       "      <td>...</td>\n",
       "      <td>...</td>\n",
       "      <td>...</td>\n",
       "      <td>...</td>\n",
       "      <td>...</td>\n",
       "      <td>...</td>\n",
       "    </tr>\n",
       "    <tr>\n",
       "      <th>zubb</th>\n",
       "      <td>0.0</td>\n",
       "      <td>0.0</td>\n",
       "      <td>0.0</td>\n",
       "      <td>0.0</td>\n",
       "      <td>0.0</td>\n",
       "      <td>0.0</td>\n",
       "      <td>0.0</td>\n",
       "      <td>0.0</td>\n",
       "      <td>0.0</td>\n",
       "      <td>0.0</td>\n",
       "      <td>...</td>\n",
       "      <td>0.0</td>\n",
       "      <td>0.0</td>\n",
       "      <td>0.0</td>\n",
       "      <td>0.0</td>\n",
       "      <td>0.0</td>\n",
       "      <td>0.0</td>\n",
       "      <td>0.0</td>\n",
       "      <td>0.0</td>\n",
       "      <td>0.0</td>\n",
       "      <td>0.0</td>\n",
       "    </tr>\n",
       "    <tr>\n",
       "      <th>zulaa118</th>\n",
       "      <td>0.0</td>\n",
       "      <td>0.0</td>\n",
       "      <td>0.0</td>\n",
       "      <td>0.0</td>\n",
       "      <td>0.0</td>\n",
       "      <td>0.0</td>\n",
       "      <td>0.0</td>\n",
       "      <td>0.0</td>\n",
       "      <td>0.0</td>\n",
       "      <td>0.0</td>\n",
       "      <td>...</td>\n",
       "      <td>0.0</td>\n",
       "      <td>0.0</td>\n",
       "      <td>0.0</td>\n",
       "      <td>0.0</td>\n",
       "      <td>0.0</td>\n",
       "      <td>0.0</td>\n",
       "      <td>0.0</td>\n",
       "      <td>0.0</td>\n",
       "      <td>0.0</td>\n",
       "      <td>0.0</td>\n",
       "    </tr>\n",
       "    <tr>\n",
       "      <th>zwithanx</th>\n",
       "      <td>0.0</td>\n",
       "      <td>0.0</td>\n",
       "      <td>0.0</td>\n",
       "      <td>0.0</td>\n",
       "      <td>0.0</td>\n",
       "      <td>0.0</td>\n",
       "      <td>0.0</td>\n",
       "      <td>0.0</td>\n",
       "      <td>0.0</td>\n",
       "      <td>0.0</td>\n",
       "      <td>...</td>\n",
       "      <td>0.0</td>\n",
       "      <td>0.0</td>\n",
       "      <td>0.0</td>\n",
       "      <td>0.0</td>\n",
       "      <td>0.0</td>\n",
       "      <td>0.0</td>\n",
       "      <td>0.0</td>\n",
       "      <td>0.0</td>\n",
       "      <td>0.0</td>\n",
       "      <td>0.0</td>\n",
       "    </tr>\n",
       "    <tr>\n",
       "      <th>zxcsdfd</th>\n",
       "      <td>0.0</td>\n",
       "      <td>0.0</td>\n",
       "      <td>0.0</td>\n",
       "      <td>0.0</td>\n",
       "      <td>0.0</td>\n",
       "      <td>0.0</td>\n",
       "      <td>0.0</td>\n",
       "      <td>0.0</td>\n",
       "      <td>0.0</td>\n",
       "      <td>0.0</td>\n",
       "      <td>...</td>\n",
       "      <td>0.0</td>\n",
       "      <td>0.0</td>\n",
       "      <td>0.0</td>\n",
       "      <td>0.0</td>\n",
       "      <td>0.0</td>\n",
       "      <td>0.0</td>\n",
       "      <td>0.0</td>\n",
       "      <td>0.0</td>\n",
       "      <td>0.0</td>\n",
       "      <td>0.0</td>\n",
       "    </tr>\n",
       "    <tr>\n",
       "      <th>zzdiane</th>\n",
       "      <td>0.0</td>\n",
       "      <td>0.0</td>\n",
       "      <td>0.0</td>\n",
       "      <td>0.0</td>\n",
       "      <td>0.0</td>\n",
       "      <td>0.0</td>\n",
       "      <td>0.0</td>\n",
       "      <td>0.0</td>\n",
       "      <td>0.0</td>\n",
       "      <td>0.0</td>\n",
       "      <td>...</td>\n",
       "      <td>0.0</td>\n",
       "      <td>0.0</td>\n",
       "      <td>0.0</td>\n",
       "      <td>0.0</td>\n",
       "      <td>0.0</td>\n",
       "      <td>0.0</td>\n",
       "      <td>0.0</td>\n",
       "      <td>0.0</td>\n",
       "      <td>0.0</td>\n",
       "      <td>0.0</td>\n",
       "    </tr>\n",
       "  </tbody>\n",
       "</table>\n",
       "<p>17887 rows × 255 columns</p>\n",
       "</div>"
      ],
      "text/plain": [
       "id                AV13O1A8GV-KLJ3akUyj  AV14LG0R-jtxr-f38QfS  \\\n",
       "reviews_username                                               \n",
       "00dog3                             0.0                   0.0   \n",
       "00sab00                            0.0                   0.0   \n",
       "02dakota                           0.0                   0.0   \n",
       "0325home                           0.0                   0.0   \n",
       "08dallas                           0.0                   0.0   \n",
       "...                                ...                   ...   \n",
       "zubb                               0.0                   0.0   \n",
       "zulaa118                           0.0                   0.0   \n",
       "zwithanx                           0.0                   0.0   \n",
       "zxcsdfd                            0.0                   0.0   \n",
       "zzdiane                            0.0                   0.0   \n",
       "\n",
       "id                AV16khLE-jtxr-f38VFn  AV1YGDqsGV-KLJ3adc-O  \\\n",
       "reviews_username                                               \n",
       "00dog3                             0.0                   0.0   \n",
       "00sab00                            0.0                   0.0   \n",
       "02dakota                           0.0                   0.0   \n",
       "0325home                           0.0                   0.0   \n",
       "08dallas                           0.0                   0.0   \n",
       "...                                ...                   ...   \n",
       "zubb                               0.0                   0.0   \n",
       "zulaa118                           0.0                   0.0   \n",
       "zwithanx                           0.0                   0.0   \n",
       "zxcsdfd                            0.0                   0.0   \n",
       "zzdiane                            0.0                   0.0   \n",
       "\n",
       "id                AV1YIch7GV-KLJ3addeG  AV1YlENIglJLPUi8IHsX  \\\n",
       "reviews_username                                               \n",
       "00dog3                             0.0                   0.0   \n",
       "00sab00                            0.0                   0.0   \n",
       "02dakota                           0.0                   0.0   \n",
       "0325home                           0.0                   0.0   \n",
       "08dallas                           0.0                   0.0   \n",
       "...                                ...                   ...   \n",
       "zubb                               0.0                   0.0   \n",
       "zulaa118                           0.0                   0.0   \n",
       "zwithanx                           0.0                   0.0   \n",
       "zxcsdfd                            0.0                   0.0   \n",
       "zzdiane                            0.0                   0.0   \n",
       "\n",
       "id                AV1YmBrdGV-KLJ3adewb  AV1YmDL9vKc47QAVgr7_  \\\n",
       "reviews_username                                               \n",
       "00dog3                             0.0                   0.0   \n",
       "00sab00                            0.0                   0.0   \n",
       "02dakota                           0.0                   0.0   \n",
       "0325home                           0.0                   0.0   \n",
       "08dallas                           0.0                   0.0   \n",
       "...                                ...                   ...   \n",
       "zubb                               0.0                   0.0   \n",
       "zulaa118                           0.0                   0.0   \n",
       "zwithanx                           0.0                   0.0   \n",
       "zxcsdfd                            0.0                   0.0   \n",
       "zzdiane                            0.0                   0.0   \n",
       "\n",
       "id                AV1Ymf_rglJLPUi8II2v  AV1Yn94nvKc47QAVgtst  ...  \\\n",
       "reviews_username                                              ...   \n",
       "00dog3                             0.0                   0.0  ...   \n",
       "00sab00                            0.0                   0.0  ...   \n",
       "02dakota                           0.0                   0.0  ...   \n",
       "0325home                           0.0                   0.0  ...   \n",
       "08dallas                           0.0                   0.0  ...   \n",
       "...                                ...                   ...  ...   \n",
       "zubb                               0.0                   0.0  ...   \n",
       "zulaa118                           0.0                   0.0  ...   \n",
       "zwithanx                           0.0                   0.0  ...   \n",
       "zxcsdfd                            0.0                   0.0  ...   \n",
       "zzdiane                            0.0                   0.0  ...   \n",
       "\n",
       "id                AVpfrTyiLJeJML43BrSI  AVpfrfHF1cnluZ0-pRai  \\\n",
       "reviews_username                                               \n",
       "00dog3                             0.0                   0.0   \n",
       "00sab00                            0.0                   0.0   \n",
       "02dakota                           0.0                   0.0   \n",
       "0325home                           0.0                   0.0   \n",
       "08dallas                           0.0                   0.0   \n",
       "...                                ...                   ...   \n",
       "zubb                               0.0                   0.0   \n",
       "zulaa118                           0.0                   0.0   \n",
       "zwithanx                           0.0                   0.0   \n",
       "zxcsdfd                            0.0                   0.0   \n",
       "zzdiane                            0.0                   0.0   \n",
       "\n",
       "id                AVpfrgjFLJeJML43BvCc  AVpfs0tUilAPnD_xgqN2  \\\n",
       "reviews_username                                               \n",
       "00dog3                             0.0                   0.0   \n",
       "00sab00                            0.0                   0.0   \n",
       "02dakota                           0.0                   0.0   \n",
       "0325home                           0.0                   0.0   \n",
       "08dallas                           0.0                   0.0   \n",
       "...                                ...                   ...   \n",
       "zubb                               0.0                   0.0   \n",
       "zulaa118                           0.0                   0.0   \n",
       "zwithanx                           0.0                   0.0   \n",
       "zxcsdfd                            0.0                   0.0   \n",
       "zzdiane                            0.0                   0.0   \n",
       "\n",
       "id                AVpfsQoeilAPnD_xgfx5  AVpfthSailAPnD_xg3ON  \\\n",
       "reviews_username                                               \n",
       "00dog3                             0.0                   0.0   \n",
       "00sab00                            0.0                   0.0   \n",
       "02dakota                           0.0                   0.0   \n",
       "0325home                           0.0                   0.0   \n",
       "08dallas                           0.0                   0.0   \n",
       "...                                ...                   ...   \n",
       "zubb                               0.0                   0.0   \n",
       "zulaa118                           0.0                   0.0   \n",
       "zwithanx                           0.0                   0.0   \n",
       "zxcsdfd                            0.0                   0.0   \n",
       "zzdiane                            0.0                   0.0   \n",
       "\n",
       "id                AVpftikC1cnluZ0-p31V  AVpftymALJeJML43CZ6y  \\\n",
       "reviews_username                                               \n",
       "00dog3                             0.0                   0.0   \n",
       "00sab00                            0.0                   0.0   \n",
       "02dakota                           0.0                   0.0   \n",
       "0325home                           0.0                   0.0   \n",
       "08dallas                           0.0                   0.0   \n",
       "...                                ...                   ...   \n",
       "zubb                               0.0                   0.0   \n",
       "zulaa118                           0.0                   0.0   \n",
       "zwithanx                           0.0                   0.0   \n",
       "zxcsdfd                            0.0                   0.0   \n",
       "zzdiane                            0.0                   0.0   \n",
       "\n",
       "id                AVpfv4TlilAPnD_xhjNS  AVpfvieo1cnluZ0-qdnu  \n",
       "reviews_username                                              \n",
       "00dog3                             0.0                   0.0  \n",
       "00sab00                            0.0                   0.0  \n",
       "02dakota                           0.0                   0.0  \n",
       "0325home                           0.0                   0.0  \n",
       "08dallas                           0.0                   0.0  \n",
       "...                                ...                   ...  \n",
       "zubb                               0.0                   0.0  \n",
       "zulaa118                           0.0                   0.0  \n",
       "zwithanx                           0.0                   0.0  \n",
       "zxcsdfd                            0.0                   0.0  \n",
       "zzdiane                            0.0                   0.0  \n",
       "\n",
       "[17887 rows x 255 columns]"
      ]
     },
     "execution_count": 102,
     "metadata": {},
     "output_type": "execute_result"
    }
   ],
   "source": [
    "user_final_rating.to_pickle(\"user_final_rating.pkl\")\n",
    "pickled_user_final_rating = pd.read_pickle(\"user_final_rating.pkl\")\n",
    "pickled_user_final_rating"
   ]
  },
  {
   "cell_type": "code",
   "execution_count": 103,
   "metadata": {
    "colab": {
     "base_uri": "https://localhost:8080/"
    },
    "executionInfo": {
     "elapsed": 59,
     "status": "ok",
     "timestamp": 1633278501970,
     "user": {
      "displayName": "Bhavini G",
      "photoUrl": "https://lh3.googleusercontent.com/a/default-user=s64",
      "userId": "04864105761682059327"
     },
     "user_tz": 420
    },
    "id": "B9KjLfI9ExdJ",
    "outputId": "5fe3f3f5-7f2f-44ef-d396-3fff2ff572c6"
   },
   "outputs": [
    {
     "data": {
      "text/plain": [
       "id\n",
       "AVpfRTh1ilAPnD_xYic2    7.842715\n",
       "AVpe41TqilAPnD_xQH3d    6.526090\n",
       "AVpe59io1cnluZ0-ZgDU    5.965582\n",
       "AV1YGDqsGV-KLJ3adc-O    4.541094\n",
       "AVpe31o71cnluZ0-YrSD    4.032725\n",
       "AVpf0eb2LJeJML43EVSt    3.858187\n",
       "AVpftikC1cnluZ0-p31V    3.159416\n",
       "AVpf5CnILJeJML43FjaU    3.076542\n",
       "AVpf2tw1ilAPnD_xjflC    2.734084\n",
       "AVpf3VOfilAPnD_xjpun    2.611015\n",
       "AVpfM_ytilAPnD_xXIJb    1.898523\n",
       "AVpe8gsILJeJML43y6Ed    1.879267\n",
       "AVpfR5m0LJeJML436K3W    1.140464\n",
       "AVpf385g1cnluZ0-s0_t    1.044918\n",
       "AVpfazX31cnluZ0-kbdl    0.923136\n",
       "AVpfOIrkilAPnD_xXgDG    0.922738\n",
       "AVpfOmKwLJeJML435GM7    0.820707\n",
       "AV1h6Gu0glJLPUi8IjA_    0.752101\n",
       "AVpfQtEm1cnluZ0-hUpe    0.712846\n",
       "AVpe9W4D1cnluZ0-avf0    0.531816\n",
       "Name: mike, dtype: float64"
      ]
     },
     "execution_count": 103,
     "metadata": {},
     "output_type": "execute_result"
    }
   ],
   "source": [
    "user_recommendation = (user_final_rating.loc[user_input].sort_values(ascending=False)[0:20])\n",
    "user_recommendation"
   ]
  },
  {
   "cell_type": "code",
   "execution_count": 104,
   "metadata": {
    "id": "3UIMdBoCrdsd"
   },
   "outputs": [],
   "source": [
    "user_recommendation_df=pd.DataFrame(user_recommendation).reset_index()"
   ]
  },
  {
   "cell_type": "code",
   "execution_count": 105,
   "metadata": {
    "colab": {
     "base_uri": "https://localhost:8080/"
    },
    "executionInfo": {
     "elapsed": 31,
     "status": "ok",
     "timestamp": 1633278501970,
     "user": {
      "displayName": "Bhavini G",
      "photoUrl": "https://lh3.googleusercontent.com/a/default-user=s64",
      "userId": "04864105761682059327"
     },
     "user_tz": 420
    },
    "id": "EYqwv04Trynz",
    "outputId": "65691c0f-f3c7-4795-b678-f6dde080fa48"
   },
   "outputs": [
    {
     "data": {
      "text/plain": [
       "0     AVpfRTh1ilAPnD_xYic2\n",
       "1     AVpe41TqilAPnD_xQH3d\n",
       "2     AVpe59io1cnluZ0-ZgDU\n",
       "3     AV1YGDqsGV-KLJ3adc-O\n",
       "4     AVpe31o71cnluZ0-YrSD\n",
       "5     AVpf0eb2LJeJML43EVSt\n",
       "6     AVpftikC1cnluZ0-p31V\n",
       "7     AVpf5CnILJeJML43FjaU\n",
       "8     AVpf2tw1ilAPnD_xjflC\n",
       "9     AVpf3VOfilAPnD_xjpun\n",
       "10    AVpfM_ytilAPnD_xXIJb\n",
       "11    AVpe8gsILJeJML43y6Ed\n",
       "12    AVpfR5m0LJeJML436K3W\n",
       "13    AVpf385g1cnluZ0-s0_t\n",
       "14    AVpfazX31cnluZ0-kbdl\n",
       "15    AVpfOIrkilAPnD_xXgDG\n",
       "16    AVpfOmKwLJeJML435GM7\n",
       "17    AV1h6Gu0glJLPUi8IjA_\n",
       "18    AVpfQtEm1cnluZ0-hUpe\n",
       "19    AVpe9W4D1cnluZ0-avf0\n",
       "Name: id, dtype: object"
      ]
     },
     "execution_count": 105,
     "metadata": {},
     "output_type": "execute_result"
    }
   ],
   "source": [
    "user_recommendation_df.id"
   ]
  },
  {
   "cell_type": "code",
   "execution_count": 106,
   "metadata": {
    "id": "fyoXmAVdEMbl"
   },
   "outputs": [],
   "source": [
    "pop_df=pd.read_csv('PopularityMatrix.csv')"
   ]
  },
  {
   "cell_type": "code",
   "execution_count": 107,
   "metadata": {
    "colab": {
     "base_uri": "https://localhost:8080/",
     "height": 204
    },
    "executionInfo": {
     "elapsed": 216,
     "status": "ok",
     "timestamp": 1633281917457,
     "user": {
      "displayName": "Bhavini G",
      "photoUrl": "https://lh3.googleusercontent.com/a/default-user=s64",
      "userId": "04864105761682059327"
     },
     "user_tz": 420
    },
    "id": "bDG7tz12EVkv",
    "outputId": "52c37a23-2c5d-4504-dd6e-14bd9169c62b"
   },
   "outputs": [
    {
     "data": {
      "text/html": [
       "<div>\n",
       "<style scoped>\n",
       "    .dataframe tbody tr th:only-of-type {\n",
       "        vertical-align: middle;\n",
       "    }\n",
       "\n",
       "    .dataframe tbody tr th {\n",
       "        vertical-align: top;\n",
       "    }\n",
       "\n",
       "    .dataframe thead th {\n",
       "        text-align: right;\n",
       "    }\n",
       "</style>\n",
       "<table border=\"1\" class=\"dataframe\">\n",
       "  <thead>\n",
       "    <tr style=\"text-align: right;\">\n",
       "      <th></th>\n",
       "      <th>id</th>\n",
       "      <th>value_count</th>\n",
       "      <th>pos_reviews</th>\n",
       "      <th>popularity</th>\n",
       "    </tr>\n",
       "  </thead>\n",
       "  <tbody>\n",
       "    <tr>\n",
       "      <th>0</th>\n",
       "      <td>AVpf3VOfilAPnD_xjpun</td>\n",
       "      <td>7786</td>\n",
       "      <td>6647</td>\n",
       "      <td>0.853712</td>\n",
       "    </tr>\n",
       "    <tr>\n",
       "      <th>1</th>\n",
       "      <td>AVpfPaoqLJeJML435Xk9</td>\n",
       "      <td>3148</td>\n",
       "      <td>2697</td>\n",
       "      <td>0.856734</td>\n",
       "    </tr>\n",
       "    <tr>\n",
       "      <th>2</th>\n",
       "      <td>AVpfJP1C1cnluZ0-e3Xy</td>\n",
       "      <td>1893</td>\n",
       "      <td>1653</td>\n",
       "      <td>0.873217</td>\n",
       "    </tr>\n",
       "    <tr>\n",
       "      <th>3</th>\n",
       "      <td>AVpfRTh1ilAPnD_xYic2</td>\n",
       "      <td>1097</td>\n",
       "      <td>974</td>\n",
       "      <td>0.887876</td>\n",
       "    </tr>\n",
       "    <tr>\n",
       "      <th>4</th>\n",
       "      <td>AVpf63aJLJeJML43F__Q</td>\n",
       "      <td>873</td>\n",
       "      <td>715</td>\n",
       "      <td>0.819015</td>\n",
       "    </tr>\n",
       "  </tbody>\n",
       "</table>\n",
       "</div>"
      ],
      "text/plain": [
       "                     id  value_count  pos_reviews  popularity\n",
       "0  AVpf3VOfilAPnD_xjpun         7786         6647    0.853712\n",
       "1  AVpfPaoqLJeJML435Xk9         3148         2697    0.856734\n",
       "2  AVpfJP1C1cnluZ0-e3Xy         1893         1653    0.873217\n",
       "3  AVpfRTh1ilAPnD_xYic2         1097          974    0.887876\n",
       "4  AVpf63aJLJeJML43F__Q          873          715    0.819015"
      ]
     },
     "execution_count": 107,
     "metadata": {},
     "output_type": "execute_result"
    }
   ],
   "source": [
    "pop_df.head()"
   ]
  },
  {
   "cell_type": "code",
   "execution_count": 108,
   "metadata": {
    "colab": {
     "base_uri": "https://localhost:8080/"
    },
    "executionInfo": {
     "elapsed": 146,
     "status": "ok",
     "timestamp": 1633282339577,
     "user": {
      "displayName": "Bhavini G",
      "photoUrl": "https://lh3.googleusercontent.com/a/default-user=s64",
      "userId": "04864105761682059327"
     },
     "user_tz": 420
    },
    "id": "JxrbKzmvNoDV",
    "outputId": "b0b3ec83-be8a-47ac-83db-91007ec6a69e"
   },
   "outputs": [
    {
     "name": "stdout",
     "output_type": "stream",
     "text": [
      "<class 'pandas.core.frame.DataFrame'>\n",
      "RangeIndex: 271 entries, 0 to 270\n",
      "Data columns (total 4 columns):\n",
      " #   Column       Non-Null Count  Dtype  \n",
      "---  ------       --------------  -----  \n",
      " 0   id           271 non-null    object \n",
      " 1   value_count  271 non-null    int64  \n",
      " 2   pos_reviews  271 non-null    int64  \n",
      " 3   popularity   271 non-null    float64\n",
      "dtypes: float64(1), int64(2), object(1)\n",
      "memory usage: 8.6+ KB\n"
     ]
    }
   ],
   "source": [
    "pop_df.info()"
   ]
  },
  {
   "cell_type": "code",
   "execution_count": 109,
   "metadata": {
    "id": "Qwfn-VWSN0CG"
   },
   "outputs": [],
   "source": [
    "top=user_recommendation_df.merge(pop_df, right_on='id', left_on='id')[['id', 'popularity']].sort_values(by='popularity')"
   ]
  },
  {
   "cell_type": "code",
   "execution_count": 110,
   "metadata": {},
   "outputs": [
    {
     "data": {
      "text/html": [
       "<div>\n",
       "<style scoped>\n",
       "    .dataframe tbody tr th:only-of-type {\n",
       "        vertical-align: middle;\n",
       "    }\n",
       "\n",
       "    .dataframe tbody tr th {\n",
       "        vertical-align: top;\n",
       "    }\n",
       "\n",
       "    .dataframe thead th {\n",
       "        text-align: right;\n",
       "    }\n",
       "</style>\n",
       "<table border=\"1\" class=\"dataframe\">\n",
       "  <thead>\n",
       "    <tr style=\"text-align: right;\">\n",
       "      <th></th>\n",
       "      <th>id</th>\n",
       "      <th>popularity</th>\n",
       "    </tr>\n",
       "  </thead>\n",
       "  <tbody>\n",
       "    <tr>\n",
       "      <th>3</th>\n",
       "      <td>AV1YGDqsGV-KLJ3adc-O</td>\n",
       "      <td>0.666667</td>\n",
       "    </tr>\n",
       "    <tr>\n",
       "      <th>11</th>\n",
       "      <td>AVpe8gsILJeJML43y6Ed</td>\n",
       "      <td>0.677419</td>\n",
       "    </tr>\n",
       "    <tr>\n",
       "      <th>14</th>\n",
       "      <td>AVpfazX31cnluZ0-kbdl</td>\n",
       "      <td>0.682028</td>\n",
       "    </tr>\n",
       "    <tr>\n",
       "      <th>13</th>\n",
       "      <td>AVpf385g1cnluZ0-s0_t</td>\n",
       "      <td>0.721649</td>\n",
       "    </tr>\n",
       "    <tr>\n",
       "      <th>5</th>\n",
       "      <td>AVpf0eb2LJeJML43EVSt</td>\n",
       "      <td>0.730816</td>\n",
       "    </tr>\n",
       "  </tbody>\n",
       "</table>\n",
       "</div>"
      ],
      "text/plain": [
       "                      id  popularity\n",
       "3   AV1YGDqsGV-KLJ3adc-O    0.666667\n",
       "11  AVpe8gsILJeJML43y6Ed    0.677419\n",
       "14  AVpfazX31cnluZ0-kbdl    0.682028\n",
       "13  AVpf385g1cnluZ0-s0_t    0.721649\n",
       "5   AVpf0eb2LJeJML43EVSt    0.730816"
      ]
     },
     "execution_count": 110,
     "metadata": {},
     "output_type": "execute_result"
    }
   ],
   "source": [
    "top[:5]"
   ]
  },
  {
   "cell_type": "markdown",
   "metadata": {
    "id": "NVMMxurUzm99"
   },
   "source": [
    "### Top 5 recommendations using the sentiment analysis results"
   ]
  },
  {
   "cell_type": "code",
   "execution_count": 111,
   "metadata": {},
   "outputs": [
    {
     "data": {
      "text/html": [
       "<div>\n",
       "<style scoped>\n",
       "    .dataframe tbody tr th:only-of-type {\n",
       "        vertical-align: middle;\n",
       "    }\n",
       "\n",
       "    .dataframe tbody tr th {\n",
       "        vertical-align: top;\n",
       "    }\n",
       "\n",
       "    .dataframe thead th {\n",
       "        text-align: right;\n",
       "    }\n",
       "</style>\n",
       "<table border=\"1\" class=\"dataframe\">\n",
       "  <thead>\n",
       "    <tr style=\"text-align: right;\">\n",
       "      <th></th>\n",
       "      <th>name</th>\n",
       "    </tr>\n",
       "  </thead>\n",
       "  <tbody>\n",
       "    <tr>\n",
       "      <th>0</th>\n",
       "      <td>Windex Original Glass Cleaner Refill 67.6oz (2...</td>\n",
       "    </tr>\n",
       "    <tr>\n",
       "      <th>327</th>\n",
       "      <td>Pendaflex174 Divide It Up File Folder, Multi S...</td>\n",
       "    </tr>\n",
       "    <tr>\n",
       "      <th>637</th>\n",
       "      <td>Just For Men Touch Of Gray Gray Hair Treatment...</td>\n",
       "    </tr>\n",
       "    <tr>\n",
       "      <th>854</th>\n",
       "      <td>Hormel Chili, No Beans</td>\n",
       "    </tr>\n",
       "    <tr>\n",
       "      <th>1048</th>\n",
       "      <td>The Resident Evil Collection 5 Discs (blu-Ray)</td>\n",
       "    </tr>\n",
       "  </tbody>\n",
       "</table>\n",
       "</div>"
      ],
      "text/plain": [
       "                                                   name\n",
       "0     Windex Original Glass Cleaner Refill 67.6oz (2...\n",
       "327   Pendaflex174 Divide It Up File Folder, Multi S...\n",
       "637   Just For Men Touch Of Gray Gray Hair Treatment...\n",
       "854                              Hormel Chili, No Beans\n",
       "1048     The Resident Evil Collection 5 Discs (blu-Ray)"
      ]
     },
     "execution_count": 111,
     "metadata": {},
     "output_type": "execute_result"
    }
   ],
   "source": [
    "# Top 5 product recommendations to display\n",
    "top.merge(df, right_on='id', left_on='id').drop_duplicates(['id', 'name'])[['name']][:5]"
   ]
  },
  {
   "cell_type": "markdown",
   "metadata": {
    "id": "pV2YmSaHoflL"
   },
   "source": [
    "# Evaluation - User User "
   ]
  },
  {
   "cell_type": "markdown",
   "metadata": {
    "id": "Sv4DnzeboflU"
   },
   "source": [
    "Evaluation will we same as you have seen above for the prediction. The only difference being, you will evaluate for the product already rated by the user insead of predicting it for the product not rated by the user. "
   ]
  },
  {
   "cell_type": "code",
   "execution_count": 112,
   "metadata": {
    "colab": {
     "base_uri": "https://localhost:8080/"
    },
    "executionInfo": {
     "elapsed": 278,
     "status": "ok",
     "timestamp": 1633278580863,
     "user": {
      "displayName": "Bhavini G",
      "photoUrl": "https://lh3.googleusercontent.com/a/default-user=s64",
      "userId": "04864105761682059327"
     },
     "user_tz": 420
    },
    "id": "jTAMAiCqoflV",
    "outputId": "72e78e3a-a168-435a-979e-8b9823395147"
   },
   "outputs": [
    {
     "data": {
      "text/plain": [
       "(1090, 3)"
      ]
     },
     "execution_count": 112,
     "metadata": {},
     "output_type": "execute_result"
    }
   ],
   "source": [
    "# Find out the common users of test and train dataset.\n",
    "common = test[test.reviews_username.isin(train.reviews_username)]\n",
    "common.shape"
   ]
  },
  {
   "cell_type": "code",
   "execution_count": 113,
   "metadata": {
    "colab": {
     "base_uri": "https://localhost:8080/",
     "height": 204
    },
    "executionInfo": {
     "elapsed": 6,
     "status": "ok",
     "timestamp": 1633278581000,
     "user": {
      "displayName": "Bhavini G",
      "photoUrl": "https://lh3.googleusercontent.com/a/default-user=s64",
      "userId": "04864105761682059327"
     },
     "user_tz": 420
    },
    "id": "sTMqgWYtoflV",
    "outputId": "c0eaba8c-699b-4933-dd8e-fc8b8e74ea42"
   },
   "outputs": [
    {
     "data": {
      "text/html": [
       "<div>\n",
       "<style scoped>\n",
       "    .dataframe tbody tr th:only-of-type {\n",
       "        vertical-align: middle;\n",
       "    }\n",
       "\n",
       "    .dataframe tbody tr th {\n",
       "        vertical-align: top;\n",
       "    }\n",
       "\n",
       "    .dataframe thead th {\n",
       "        text-align: right;\n",
       "    }\n",
       "</style>\n",
       "<table border=\"1\" class=\"dataframe\">\n",
       "  <thead>\n",
       "    <tr style=\"text-align: right;\">\n",
       "      <th></th>\n",
       "      <th>reviews_username</th>\n",
       "      <th>id</th>\n",
       "      <th>reviews_rating</th>\n",
       "    </tr>\n",
       "  </thead>\n",
       "  <tbody>\n",
       "    <tr>\n",
       "      <th>4245</th>\n",
       "      <td>teresa</td>\n",
       "      <td>AVpe9W4D1cnluZ0-avf0</td>\n",
       "      <td>5</td>\n",
       "    </tr>\n",
       "    <tr>\n",
       "      <th>20056</th>\n",
       "      <td>pilkgirl</td>\n",
       "      <td>AVpfJP1C1cnluZ0-e3Xy</td>\n",
       "      <td>5</td>\n",
       "    </tr>\n",
       "    <tr>\n",
       "      <th>26308</th>\n",
       "      <td>jayjay</td>\n",
       "      <td>AVpfPnrU1cnluZ0-g9rL</td>\n",
       "      <td>4</td>\n",
       "    </tr>\n",
       "    <tr>\n",
       "      <th>810</th>\n",
       "      <td>shirl</td>\n",
       "      <td>AV1YGDqsGV-KLJ3adc-O</td>\n",
       "      <td>5</td>\n",
       "    </tr>\n",
       "    <tr>\n",
       "      <th>15580</th>\n",
       "      <td>nana</td>\n",
       "      <td>AVpf5ujMilAPnD_xkQVi</td>\n",
       "      <td>5</td>\n",
       "    </tr>\n",
       "  </tbody>\n",
       "</table>\n",
       "</div>"
      ],
      "text/plain": [
       "      reviews_username                    id  reviews_rating\n",
       "4245            teresa  AVpe9W4D1cnluZ0-avf0               5\n",
       "20056         pilkgirl  AVpfJP1C1cnluZ0-e3Xy               5\n",
       "26308           jayjay  AVpfPnrU1cnluZ0-g9rL               4\n",
       "810              shirl  AV1YGDqsGV-KLJ3adc-O               5\n",
       "15580             nana  AVpf5ujMilAPnD_xkQVi               5"
      ]
     },
     "execution_count": 113,
     "metadata": {},
     "output_type": "execute_result"
    }
   ],
   "source": [
    "common.head()"
   ]
  },
  {
   "cell_type": "code",
   "execution_count": 114,
   "metadata": {
    "id": "4IFpOTyeoflW"
   },
   "outputs": [],
   "source": [
    "# convert into the reviews_username-id matrix.\n",
    "common_user_based_matrix = common.pivot_table(index='reviews_username', columns='id', values='reviews_rating')"
   ]
  },
  {
   "cell_type": "code",
   "execution_count": 115,
   "metadata": {
    "id": "SH7i0WFfoflW"
   },
   "outputs": [],
   "source": [
    "# Convert the user_correlation matrix into dataframe.\n",
    "user_correlation_df = pd.DataFrame(user_correlation)"
   ]
  },
  {
   "cell_type": "code",
   "execution_count": 116,
   "metadata": {
    "colab": {
     "base_uri": "https://localhost:8080/",
     "height": 194
    },
    "executionInfo": {
     "elapsed": 180,
     "status": "ok",
     "timestamp": 1633278581176,
     "user": {
      "displayName": "Bhavini G",
      "photoUrl": "https://lh3.googleusercontent.com/a/default-user=s64",
      "userId": "04864105761682059327"
     },
     "user_tz": 420
    },
    "id": "LWhAv35foflW",
    "outputId": "509788eb-d00d-437a-da7e-6b5c3b7f2095"
   },
   "outputs": [
    {
     "data": {
      "text/html": [
       "<div>\n",
       "<style scoped>\n",
       "    .dataframe tbody tr th:only-of-type {\n",
       "        vertical-align: middle;\n",
       "    }\n",
       "\n",
       "    .dataframe tbody tr th {\n",
       "        vertical-align: top;\n",
       "    }\n",
       "\n",
       "    .dataframe thead th {\n",
       "        text-align: right;\n",
       "    }\n",
       "</style>\n",
       "<table border=\"1\" class=\"dataframe\">\n",
       "  <thead>\n",
       "    <tr style=\"text-align: right;\">\n",
       "      <th>id</th>\n",
       "      <th>AV13O1A8GV-KLJ3akUyj</th>\n",
       "      <th>AV14LG0R-jtxr-f38QfS</th>\n",
       "      <th>AV16khLE-jtxr-f38VFn</th>\n",
       "      <th>AV1YGDqsGV-KLJ3adc-O</th>\n",
       "      <th>AV1YIch7GV-KLJ3addeG</th>\n",
       "      <th>AV1YlENIglJLPUi8IHsX</th>\n",
       "      <th>AV1YmBrdGV-KLJ3adewb</th>\n",
       "      <th>AV1YmDL9vKc47QAVgr7_</th>\n",
       "      <th>AV1Ymf_rglJLPUi8II2v</th>\n",
       "      <th>AV1Yn94nvKc47QAVgtst</th>\n",
       "      <th>...</th>\n",
       "      <th>AVpfrTyiLJeJML43BrSI</th>\n",
       "      <th>AVpfrfHF1cnluZ0-pRai</th>\n",
       "      <th>AVpfrgjFLJeJML43BvCc</th>\n",
       "      <th>AVpfs0tUilAPnD_xgqN2</th>\n",
       "      <th>AVpfsQoeilAPnD_xgfx5</th>\n",
       "      <th>AVpfthSailAPnD_xg3ON</th>\n",
       "      <th>AVpftikC1cnluZ0-p31V</th>\n",
       "      <th>AVpftymALJeJML43CZ6y</th>\n",
       "      <th>AVpfv4TlilAPnD_xhjNS</th>\n",
       "      <th>AVpfvieo1cnluZ0-qdnu</th>\n",
       "    </tr>\n",
       "    <tr>\n",
       "      <th>reviews_username</th>\n",
       "      <th></th>\n",
       "      <th></th>\n",
       "      <th></th>\n",
       "      <th></th>\n",
       "      <th></th>\n",
       "      <th></th>\n",
       "      <th></th>\n",
       "      <th></th>\n",
       "      <th></th>\n",
       "      <th></th>\n",
       "      <th></th>\n",
       "      <th></th>\n",
       "      <th></th>\n",
       "      <th></th>\n",
       "      <th></th>\n",
       "      <th></th>\n",
       "      <th></th>\n",
       "      <th></th>\n",
       "      <th></th>\n",
       "      <th></th>\n",
       "      <th></th>\n",
       "    </tr>\n",
       "  </thead>\n",
       "  <tbody>\n",
       "    <tr>\n",
       "      <th>00dog3</th>\n",
       "      <td>NaN</td>\n",
       "      <td>NaN</td>\n",
       "      <td>NaN</td>\n",
       "      <td>NaN</td>\n",
       "      <td>NaN</td>\n",
       "      <td>NaN</td>\n",
       "      <td>NaN</td>\n",
       "      <td>NaN</td>\n",
       "      <td>NaN</td>\n",
       "      <td>NaN</td>\n",
       "      <td>...</td>\n",
       "      <td>NaN</td>\n",
       "      <td>NaN</td>\n",
       "      <td>NaN</td>\n",
       "      <td>NaN</td>\n",
       "      <td>NaN</td>\n",
       "      <td>NaN</td>\n",
       "      <td>NaN</td>\n",
       "      <td>NaN</td>\n",
       "      <td>NaN</td>\n",
       "      <td>NaN</td>\n",
       "    </tr>\n",
       "  </tbody>\n",
       "</table>\n",
       "<p>1 rows × 255 columns</p>\n",
       "</div>"
      ],
      "text/plain": [
       "id                AV13O1A8GV-KLJ3akUyj  AV14LG0R-jtxr-f38QfS  \\\n",
       "reviews_username                                               \n",
       "00dog3                             NaN                   NaN   \n",
       "\n",
       "id                AV16khLE-jtxr-f38VFn  AV1YGDqsGV-KLJ3adc-O  \\\n",
       "reviews_username                                               \n",
       "00dog3                             NaN                   NaN   \n",
       "\n",
       "id                AV1YIch7GV-KLJ3addeG  AV1YlENIglJLPUi8IHsX  \\\n",
       "reviews_username                                               \n",
       "00dog3                             NaN                   NaN   \n",
       "\n",
       "id                AV1YmBrdGV-KLJ3adewb  AV1YmDL9vKc47QAVgr7_  \\\n",
       "reviews_username                                               \n",
       "00dog3                             NaN                   NaN   \n",
       "\n",
       "id                AV1Ymf_rglJLPUi8II2v  AV1Yn94nvKc47QAVgtst  ...  \\\n",
       "reviews_username                                              ...   \n",
       "00dog3                             NaN                   NaN  ...   \n",
       "\n",
       "id                AVpfrTyiLJeJML43BrSI  AVpfrfHF1cnluZ0-pRai  \\\n",
       "reviews_username                                               \n",
       "00dog3                             NaN                   NaN   \n",
       "\n",
       "id                AVpfrgjFLJeJML43BvCc  AVpfs0tUilAPnD_xgqN2  \\\n",
       "reviews_username                                               \n",
       "00dog3                             NaN                   NaN   \n",
       "\n",
       "id                AVpfsQoeilAPnD_xgfx5  AVpfthSailAPnD_xg3ON  \\\n",
       "reviews_username                                               \n",
       "00dog3                             NaN                   NaN   \n",
       "\n",
       "id                AVpftikC1cnluZ0-p31V  AVpftymALJeJML43CZ6y  \\\n",
       "reviews_username                                               \n",
       "00dog3                             NaN                   NaN   \n",
       "\n",
       "id                AVpfv4TlilAPnD_xhjNS  AVpfvieo1cnluZ0-qdnu  \n",
       "reviews_username                                              \n",
       "00dog3                             NaN                   NaN  \n",
       "\n",
       "[1 rows x 255 columns]"
      ]
     },
     "execution_count": 116,
     "metadata": {},
     "output_type": "execute_result"
    }
   ],
   "source": [
    "df_subtracted.head(1)"
   ]
  },
  {
   "cell_type": "code",
   "execution_count": 117,
   "metadata": {
    "colab": {
     "base_uri": "https://localhost:8080/",
     "height": 284
    },
    "executionInfo": {
     "elapsed": 272,
     "status": "ok",
     "timestamp": 1633278581446,
     "user": {
      "displayName": "Bhavini G",
      "photoUrl": "https://lh3.googleusercontent.com/a/default-user=s64",
      "userId": "04864105761682059327"
     },
     "user_tz": 420
    },
    "id": "wDVHF9tkoflX",
    "outputId": "ca95a371-c59f-4196-cf75-1505ab9e6da9"
   },
   "outputs": [
    {
     "data": {
      "text/html": [
       "<div>\n",
       "<style scoped>\n",
       "    .dataframe tbody tr th:only-of-type {\n",
       "        vertical-align: middle;\n",
       "    }\n",
       "\n",
       "    .dataframe tbody tr th {\n",
       "        vertical-align: top;\n",
       "    }\n",
       "\n",
       "    .dataframe thead th {\n",
       "        text-align: right;\n",
       "    }\n",
       "</style>\n",
       "<table border=\"1\" class=\"dataframe\">\n",
       "  <thead>\n",
       "    <tr style=\"text-align: right;\">\n",
       "      <th></th>\n",
       "      <th>0</th>\n",
       "      <th>1</th>\n",
       "      <th>2</th>\n",
       "      <th>3</th>\n",
       "      <th>4</th>\n",
       "      <th>5</th>\n",
       "      <th>6</th>\n",
       "      <th>7</th>\n",
       "      <th>8</th>\n",
       "      <th>9</th>\n",
       "      <th>...</th>\n",
       "      <th>17877</th>\n",
       "      <th>17878</th>\n",
       "      <th>17879</th>\n",
       "      <th>17880</th>\n",
       "      <th>17881</th>\n",
       "      <th>17882</th>\n",
       "      <th>17883</th>\n",
       "      <th>17884</th>\n",
       "      <th>17885</th>\n",
       "      <th>17886</th>\n",
       "    </tr>\n",
       "    <tr>\n",
       "      <th>reviews_username</th>\n",
       "      <th></th>\n",
       "      <th></th>\n",
       "      <th></th>\n",
       "      <th></th>\n",
       "      <th></th>\n",
       "      <th></th>\n",
       "      <th></th>\n",
       "      <th></th>\n",
       "      <th></th>\n",
       "      <th></th>\n",
       "      <th></th>\n",
       "      <th></th>\n",
       "      <th></th>\n",
       "      <th></th>\n",
       "      <th></th>\n",
       "      <th></th>\n",
       "      <th></th>\n",
       "      <th></th>\n",
       "      <th></th>\n",
       "      <th></th>\n",
       "      <th></th>\n",
       "    </tr>\n",
       "  </thead>\n",
       "  <tbody>\n",
       "    <tr>\n",
       "      <th>00dog3</th>\n",
       "      <td>0.0</td>\n",
       "      <td>0.0</td>\n",
       "      <td>0.0</td>\n",
       "      <td>0.0</td>\n",
       "      <td>0.0</td>\n",
       "      <td>0.0</td>\n",
       "      <td>0.0</td>\n",
       "      <td>0.0</td>\n",
       "      <td>0.0</td>\n",
       "      <td>0.0</td>\n",
       "      <td>...</td>\n",
       "      <td>0.0</td>\n",
       "      <td>0.0</td>\n",
       "      <td>0.0</td>\n",
       "      <td>0.0</td>\n",
       "      <td>0.0</td>\n",
       "      <td>0.0</td>\n",
       "      <td>0.0</td>\n",
       "      <td>0.0</td>\n",
       "      <td>0.0</td>\n",
       "      <td>0.0</td>\n",
       "    </tr>\n",
       "    <tr>\n",
       "      <th>00sab00</th>\n",
       "      <td>0.0</td>\n",
       "      <td>0.0</td>\n",
       "      <td>0.0</td>\n",
       "      <td>0.0</td>\n",
       "      <td>0.0</td>\n",
       "      <td>0.0</td>\n",
       "      <td>0.0</td>\n",
       "      <td>0.0</td>\n",
       "      <td>0.0</td>\n",
       "      <td>0.0</td>\n",
       "      <td>...</td>\n",
       "      <td>0.0</td>\n",
       "      <td>0.0</td>\n",
       "      <td>0.0</td>\n",
       "      <td>0.0</td>\n",
       "      <td>0.0</td>\n",
       "      <td>0.0</td>\n",
       "      <td>0.0</td>\n",
       "      <td>0.0</td>\n",
       "      <td>0.0</td>\n",
       "      <td>0.0</td>\n",
       "    </tr>\n",
       "    <tr>\n",
       "      <th>02dakota</th>\n",
       "      <td>0.0</td>\n",
       "      <td>0.0</td>\n",
       "      <td>0.0</td>\n",
       "      <td>0.0</td>\n",
       "      <td>0.0</td>\n",
       "      <td>0.0</td>\n",
       "      <td>0.0</td>\n",
       "      <td>0.0</td>\n",
       "      <td>0.0</td>\n",
       "      <td>0.0</td>\n",
       "      <td>...</td>\n",
       "      <td>0.0</td>\n",
       "      <td>0.0</td>\n",
       "      <td>0.0</td>\n",
       "      <td>0.0</td>\n",
       "      <td>0.0</td>\n",
       "      <td>0.0</td>\n",
       "      <td>0.0</td>\n",
       "      <td>0.0</td>\n",
       "      <td>0.0</td>\n",
       "      <td>0.0</td>\n",
       "    </tr>\n",
       "    <tr>\n",
       "      <th>0325home</th>\n",
       "      <td>0.0</td>\n",
       "      <td>0.0</td>\n",
       "      <td>0.0</td>\n",
       "      <td>0.0</td>\n",
       "      <td>0.0</td>\n",
       "      <td>0.0</td>\n",
       "      <td>0.0</td>\n",
       "      <td>0.0</td>\n",
       "      <td>0.0</td>\n",
       "      <td>0.0</td>\n",
       "      <td>...</td>\n",
       "      <td>0.0</td>\n",
       "      <td>0.0</td>\n",
       "      <td>0.0</td>\n",
       "      <td>0.0</td>\n",
       "      <td>0.0</td>\n",
       "      <td>0.0</td>\n",
       "      <td>0.0</td>\n",
       "      <td>0.0</td>\n",
       "      <td>0.0</td>\n",
       "      <td>0.0</td>\n",
       "    </tr>\n",
       "    <tr>\n",
       "      <th>08dallas</th>\n",
       "      <td>0.0</td>\n",
       "      <td>0.0</td>\n",
       "      <td>0.0</td>\n",
       "      <td>0.0</td>\n",
       "      <td>0.0</td>\n",
       "      <td>0.0</td>\n",
       "      <td>0.0</td>\n",
       "      <td>0.0</td>\n",
       "      <td>0.0</td>\n",
       "      <td>0.0</td>\n",
       "      <td>...</td>\n",
       "      <td>0.0</td>\n",
       "      <td>0.0</td>\n",
       "      <td>0.0</td>\n",
       "      <td>0.0</td>\n",
       "      <td>0.0</td>\n",
       "      <td>0.0</td>\n",
       "      <td>0.0</td>\n",
       "      <td>0.0</td>\n",
       "      <td>0.0</td>\n",
       "      <td>0.0</td>\n",
       "    </tr>\n",
       "  </tbody>\n",
       "</table>\n",
       "<p>5 rows × 17887 columns</p>\n",
       "</div>"
      ],
      "text/plain": [
       "                  0      1      2      3      4      5      6      7      \\\n",
       "reviews_username                                                           \n",
       "00dog3              0.0    0.0    0.0    0.0    0.0    0.0    0.0    0.0   \n",
       "00sab00             0.0    0.0    0.0    0.0    0.0    0.0    0.0    0.0   \n",
       "02dakota            0.0    0.0    0.0    0.0    0.0    0.0    0.0    0.0   \n",
       "0325home            0.0    0.0    0.0    0.0    0.0    0.0    0.0    0.0   \n",
       "08dallas            0.0    0.0    0.0    0.0    0.0    0.0    0.0    0.0   \n",
       "\n",
       "                  8      9      ...  17877  17878  17879  17880  17881  17882  \\\n",
       "reviews_username                ...                                             \n",
       "00dog3              0.0    0.0  ...    0.0    0.0    0.0    0.0    0.0    0.0   \n",
       "00sab00             0.0    0.0  ...    0.0    0.0    0.0    0.0    0.0    0.0   \n",
       "02dakota            0.0    0.0  ...    0.0    0.0    0.0    0.0    0.0    0.0   \n",
       "0325home            0.0    0.0  ...    0.0    0.0    0.0    0.0    0.0    0.0   \n",
       "08dallas            0.0    0.0  ...    0.0    0.0    0.0    0.0    0.0    0.0   \n",
       "\n",
       "                  17883  17884  17885  17886  \n",
       "reviews_username                              \n",
       "00dog3              0.0    0.0    0.0    0.0  \n",
       "00sab00             0.0    0.0    0.0    0.0  \n",
       "02dakota            0.0    0.0    0.0    0.0  \n",
       "0325home            0.0    0.0    0.0    0.0  \n",
       "08dallas            0.0    0.0    0.0    0.0  \n",
       "\n",
       "[5 rows x 17887 columns]"
      ]
     },
     "execution_count": 117,
     "metadata": {},
     "output_type": "execute_result"
    }
   ],
   "source": [
    "user_correlation_df['reviews_username'] = df_subtracted.index\n",
    "user_correlation_df.set_index('reviews_username',inplace=True)\n",
    "user_correlation_df.head()"
   ]
  },
  {
   "cell_type": "code",
   "execution_count": 118,
   "metadata": {
    "colab": {
     "base_uri": "https://localhost:8080/",
     "height": 80
    },
    "executionInfo": {
     "elapsed": 42,
     "status": "ok",
     "timestamp": 1633278581446,
     "user": {
      "displayName": "Bhavini G",
      "photoUrl": "https://lh3.googleusercontent.com/a/default-user=s64",
      "userId": "04864105761682059327"
     },
     "user_tz": 420
    },
    "id": "K1LIYGngoflX",
    "outputId": "29b8de04-5b77-4a87-8bcb-3bf667ee3fc4"
   },
   "outputs": [
    {
     "data": {
      "text/html": [
       "<div>\n",
       "<style scoped>\n",
       "    .dataframe tbody tr th:only-of-type {\n",
       "        vertical-align: middle;\n",
       "    }\n",
       "\n",
       "    .dataframe tbody tr th {\n",
       "        vertical-align: top;\n",
       "    }\n",
       "\n",
       "    .dataframe thead th {\n",
       "        text-align: right;\n",
       "    }\n",
       "</style>\n",
       "<table border=\"1\" class=\"dataframe\">\n",
       "  <thead>\n",
       "    <tr style=\"text-align: right;\">\n",
       "      <th></th>\n",
       "      <th>reviews_username</th>\n",
       "      <th>id</th>\n",
       "      <th>reviews_rating</th>\n",
       "    </tr>\n",
       "  </thead>\n",
       "  <tbody>\n",
       "    <tr>\n",
       "      <th>4245</th>\n",
       "      <td>teresa</td>\n",
       "      <td>AVpe9W4D1cnluZ0-avf0</td>\n",
       "      <td>5</td>\n",
       "    </tr>\n",
       "  </tbody>\n",
       "</table>\n",
       "</div>"
      ],
      "text/plain": [
       "     reviews_username                    id  reviews_rating\n",
       "4245           teresa  AVpe9W4D1cnluZ0-avf0               5"
      ]
     },
     "execution_count": 118,
     "metadata": {},
     "output_type": "execute_result"
    }
   ],
   "source": [
    "common.head(1)"
   ]
  },
  {
   "cell_type": "code",
   "execution_count": 119,
   "metadata": {
    "id": "vbVLc32woflX"
   },
   "outputs": [],
   "source": [
    "list_name = common.reviews_username.tolist()\n",
    "\n",
    "user_correlation_df.columns = df_subtracted.index.tolist()\n",
    "\n",
    "\n",
    "user_correlation_df_1 =  user_correlation_df[user_correlation_df.index.isin(list_name)]"
   ]
  },
  {
   "cell_type": "code",
   "execution_count": 120,
   "metadata": {
    "colab": {
     "base_uri": "https://localhost:8080/"
    },
    "executionInfo": {
     "elapsed": 41,
     "status": "ok",
     "timestamp": 1633278581447,
     "user": {
      "displayName": "Bhavini G",
      "photoUrl": "https://lh3.googleusercontent.com/a/default-user=s64",
      "userId": "04864105761682059327"
     },
     "user_tz": 420
    },
    "id": "Ip3u4ITFoflX",
    "outputId": "a49c0331-047b-4e2e-cc1a-d81e0a566119"
   },
   "outputs": [
    {
     "data": {
      "text/plain": [
       "(894, 17887)"
      ]
     },
     "execution_count": 120,
     "metadata": {},
     "output_type": "execute_result"
    }
   ],
   "source": [
    "user_correlation_df_1.shape"
   ]
  },
  {
   "cell_type": "code",
   "execution_count": 121,
   "metadata": {
    "id": "THqWM0btoflX"
   },
   "outputs": [],
   "source": [
    "user_correlation_df_2 = user_correlation_df_1.T[user_correlation_df_1.T.index.isin(list_name)]"
   ]
  },
  {
   "cell_type": "code",
   "execution_count": 122,
   "metadata": {
    "id": "sNtBboRooflY"
   },
   "outputs": [],
   "source": [
    "user_correlation_df_3 = user_correlation_df_2.T"
   ]
  },
  {
   "cell_type": "code",
   "execution_count": 123,
   "metadata": {
    "colab": {
     "base_uri": "https://localhost:8080/",
     "height": 301
    },
    "executionInfo": {
     "elapsed": 229,
     "status": "ok",
     "timestamp": 1633278581670,
     "user": {
      "displayName": "Bhavini G",
      "photoUrl": "https://lh3.googleusercontent.com/a/default-user=s64",
      "userId": "04864105761682059327"
     },
     "user_tz": 420
    },
    "id": "dMT2WTq9oflY",
    "outputId": "6a4187f2-9750-4448-f526-a8033742041b"
   },
   "outputs": [
    {
     "data": {
      "text/html": [
       "<div>\n",
       "<style scoped>\n",
       "    .dataframe tbody tr th:only-of-type {\n",
       "        vertical-align: middle;\n",
       "    }\n",
       "\n",
       "    .dataframe tbody tr th {\n",
       "        vertical-align: top;\n",
       "    }\n",
       "\n",
       "    .dataframe thead th {\n",
       "        text-align: right;\n",
       "    }\n",
       "</style>\n",
       "<table border=\"1\" class=\"dataframe\">\n",
       "  <thead>\n",
       "    <tr style=\"text-align: right;\">\n",
       "      <th></th>\n",
       "      <th>00sab00</th>\n",
       "      <th>1234</th>\n",
       "      <th>1943</th>\n",
       "      <th>50cal</th>\n",
       "      <th>abby</th>\n",
       "      <th>abismomy</th>\n",
       "      <th>ac94</th>\n",
       "      <th>actionaction</th>\n",
       "      <th>adam</th>\n",
       "      <th>adriana</th>\n",
       "      <th>...</th>\n",
       "      <th>wizard</th>\n",
       "      <th>woottos</th>\n",
       "      <th>xavier</th>\n",
       "      <th>xmom</th>\n",
       "      <th>xstr8edgex</th>\n",
       "      <th>yohnie1</th>\n",
       "      <th>yummy</th>\n",
       "      <th>zipper</th>\n",
       "      <th>zippy</th>\n",
       "      <th>zitro</th>\n",
       "    </tr>\n",
       "    <tr>\n",
       "      <th>reviews_username</th>\n",
       "      <th></th>\n",
       "      <th></th>\n",
       "      <th></th>\n",
       "      <th></th>\n",
       "      <th></th>\n",
       "      <th></th>\n",
       "      <th></th>\n",
       "      <th></th>\n",
       "      <th></th>\n",
       "      <th></th>\n",
       "      <th></th>\n",
       "      <th></th>\n",
       "      <th></th>\n",
       "      <th></th>\n",
       "      <th></th>\n",
       "      <th></th>\n",
       "      <th></th>\n",
       "      <th></th>\n",
       "      <th></th>\n",
       "      <th></th>\n",
       "      <th></th>\n",
       "    </tr>\n",
       "  </thead>\n",
       "  <tbody>\n",
       "    <tr>\n",
       "      <th>00sab00</th>\n",
       "      <td>0.0</td>\n",
       "      <td>0.0</td>\n",
       "      <td>0.0</td>\n",
       "      <td>0.0</td>\n",
       "      <td>0.0</td>\n",
       "      <td>0.0</td>\n",
       "      <td>0.0</td>\n",
       "      <td>0.0</td>\n",
       "      <td>0.0</td>\n",
       "      <td>0.0</td>\n",
       "      <td>...</td>\n",
       "      <td>0.0</td>\n",
       "      <td>0.0</td>\n",
       "      <td>0.0</td>\n",
       "      <td>0.0</td>\n",
       "      <td>0.0</td>\n",
       "      <td>0.0</td>\n",
       "      <td>0.0</td>\n",
       "      <td>0.0</td>\n",
       "      <td>0.0</td>\n",
       "      <td>0.0</td>\n",
       "    </tr>\n",
       "    <tr>\n",
       "      <th>1234</th>\n",
       "      <td>0.0</td>\n",
       "      <td>0.0</td>\n",
       "      <td>0.0</td>\n",
       "      <td>0.0</td>\n",
       "      <td>0.0</td>\n",
       "      <td>0.0</td>\n",
       "      <td>0.0</td>\n",
       "      <td>0.0</td>\n",
       "      <td>0.0</td>\n",
       "      <td>0.0</td>\n",
       "      <td>...</td>\n",
       "      <td>0.0</td>\n",
       "      <td>0.0</td>\n",
       "      <td>0.0</td>\n",
       "      <td>0.0</td>\n",
       "      <td>0.0</td>\n",
       "      <td>0.0</td>\n",
       "      <td>0.0</td>\n",
       "      <td>0.0</td>\n",
       "      <td>0.0</td>\n",
       "      <td>0.0</td>\n",
       "    </tr>\n",
       "    <tr>\n",
       "      <th>1943</th>\n",
       "      <td>0.0</td>\n",
       "      <td>0.0</td>\n",
       "      <td>0.0</td>\n",
       "      <td>0.0</td>\n",
       "      <td>0.0</td>\n",
       "      <td>0.0</td>\n",
       "      <td>0.0</td>\n",
       "      <td>0.0</td>\n",
       "      <td>0.0</td>\n",
       "      <td>0.0</td>\n",
       "      <td>...</td>\n",
       "      <td>0.0</td>\n",
       "      <td>0.0</td>\n",
       "      <td>0.0</td>\n",
       "      <td>0.0</td>\n",
       "      <td>0.0</td>\n",
       "      <td>0.0</td>\n",
       "      <td>0.0</td>\n",
       "      <td>0.0</td>\n",
       "      <td>0.0</td>\n",
       "      <td>0.0</td>\n",
       "    </tr>\n",
       "    <tr>\n",
       "      <th>50cal</th>\n",
       "      <td>0.0</td>\n",
       "      <td>0.0</td>\n",
       "      <td>0.0</td>\n",
       "      <td>0.0</td>\n",
       "      <td>0.0</td>\n",
       "      <td>0.0</td>\n",
       "      <td>0.0</td>\n",
       "      <td>0.0</td>\n",
       "      <td>0.0</td>\n",
       "      <td>0.0</td>\n",
       "      <td>...</td>\n",
       "      <td>0.0</td>\n",
       "      <td>0.0</td>\n",
       "      <td>0.0</td>\n",
       "      <td>0.0</td>\n",
       "      <td>0.0</td>\n",
       "      <td>0.0</td>\n",
       "      <td>0.0</td>\n",
       "      <td>0.0</td>\n",
       "      <td>0.0</td>\n",
       "      <td>0.0</td>\n",
       "    </tr>\n",
       "    <tr>\n",
       "      <th>abby</th>\n",
       "      <td>0.0</td>\n",
       "      <td>0.0</td>\n",
       "      <td>0.0</td>\n",
       "      <td>0.0</td>\n",
       "      <td>0.0</td>\n",
       "      <td>0.0</td>\n",
       "      <td>0.0</td>\n",
       "      <td>0.0</td>\n",
       "      <td>0.0</td>\n",
       "      <td>0.0</td>\n",
       "      <td>...</td>\n",
       "      <td>0.0</td>\n",
       "      <td>0.0</td>\n",
       "      <td>0.0</td>\n",
       "      <td>0.0</td>\n",
       "      <td>0.0</td>\n",
       "      <td>0.0</td>\n",
       "      <td>0.0</td>\n",
       "      <td>0.0</td>\n",
       "      <td>0.0</td>\n",
       "      <td>0.0</td>\n",
       "    </tr>\n",
       "  </tbody>\n",
       "</table>\n",
       "<p>5 rows × 894 columns</p>\n",
       "</div>"
      ],
      "text/plain": [
       "                  00sab00  1234  1943  50cal  abby  abismomy  ac94  \\\n",
       "reviews_username                                                     \n",
       "00sab00               0.0   0.0   0.0    0.0   0.0       0.0   0.0   \n",
       "1234                  0.0   0.0   0.0    0.0   0.0       0.0   0.0   \n",
       "1943                  0.0   0.0   0.0    0.0   0.0       0.0   0.0   \n",
       "50cal                 0.0   0.0   0.0    0.0   0.0       0.0   0.0   \n",
       "abby                  0.0   0.0   0.0    0.0   0.0       0.0   0.0   \n",
       "\n",
       "                  actionaction  adam  adriana  ...  wizard  woottos  xavier  \\\n",
       "reviews_username                               ...                            \n",
       "00sab00                    0.0   0.0      0.0  ...     0.0      0.0     0.0   \n",
       "1234                       0.0   0.0      0.0  ...     0.0      0.0     0.0   \n",
       "1943                       0.0   0.0      0.0  ...     0.0      0.0     0.0   \n",
       "50cal                      0.0   0.0      0.0  ...     0.0      0.0     0.0   \n",
       "abby                       0.0   0.0      0.0  ...     0.0      0.0     0.0   \n",
       "\n",
       "                  xmom  xstr8edgex  yohnie1  yummy  zipper  zippy  zitro  \n",
       "reviews_username                                                          \n",
       "00sab00            0.0         0.0      0.0    0.0     0.0    0.0    0.0  \n",
       "1234               0.0         0.0      0.0    0.0     0.0    0.0    0.0  \n",
       "1943               0.0         0.0      0.0    0.0     0.0    0.0    0.0  \n",
       "50cal              0.0         0.0      0.0    0.0     0.0    0.0    0.0  \n",
       "abby               0.0         0.0      0.0    0.0     0.0    0.0    0.0  \n",
       "\n",
       "[5 rows x 894 columns]"
      ]
     },
     "execution_count": 123,
     "metadata": {},
     "output_type": "execute_result"
    }
   ],
   "source": [
    "user_correlation_df_3.head()"
   ]
  },
  {
   "cell_type": "code",
   "execution_count": 124,
   "metadata": {
    "colab": {
     "base_uri": "https://localhost:8080/"
    },
    "executionInfo": {
     "elapsed": 86,
     "status": "ok",
     "timestamp": 1633278581670,
     "user": {
      "displayName": "Bhavini G",
      "photoUrl": "https://lh3.googleusercontent.com/a/default-user=s64",
      "userId": "04864105761682059327"
     },
     "user_tz": 420
    },
    "id": "9O2LDR78tiIw",
    "outputId": "9b311a53-7182-40ce-e2b0-4421ced3363d"
   },
   "outputs": [
    {
     "data": {
      "text/plain": [
       "(894, 894)"
      ]
     },
     "execution_count": 124,
     "metadata": {},
     "output_type": "execute_result"
    }
   ],
   "source": [
    "user_correlation_df_3.shape"
   ]
  },
  {
   "cell_type": "code",
   "execution_count": 125,
   "metadata": {
    "colab": {
     "base_uri": "https://localhost:8080/"
    },
    "executionInfo": {
     "elapsed": 58,
     "status": "ok",
     "timestamp": 1633278581670,
     "user": {
      "displayName": "Bhavini G",
      "photoUrl": "https://lh3.googleusercontent.com/a/default-user=s64",
      "userId": "04864105761682059327"
     },
     "user_tz": 420
    },
    "id": "9CD6JjBVoflY",
    "outputId": "8595448e-766c-4ee5-d4a2-d53654a71d34"
   },
   "outputs": [
    {
     "data": {
      "text/plain": [
       "array([[0., 0., 0., ..., 0., 0., 0.],\n",
       "       [0., 0., 0., ..., 0., 0., 0.],\n",
       "       [0., 0., 0., ..., 0., 0., 0.],\n",
       "       ...,\n",
       "       [0., 0., 0., ..., 0., 0., 0.],\n",
       "       [0., 2., 0., ..., 0., 0., 0.],\n",
       "       [0., 0., 0., ..., 0., 0., 0.]])"
      ]
     },
     "execution_count": 125,
     "metadata": {},
     "output_type": "execute_result"
    }
   ],
   "source": [
    "user_correlation_df_3[user_correlation_df_3<0]=0\n",
    "\n",
    "common_user_predicted_ratings = np.dot(user_correlation_df_3, common_user_based_matrix.fillna(0))\n",
    "common_user_predicted_ratings"
   ]
  },
  {
   "cell_type": "code",
   "execution_count": 126,
   "metadata": {
    "id": "Mbe5y3mWoflY"
   },
   "outputs": [],
   "source": [
    "dummy_test = common.copy()\n",
    "\n",
    "dummy_test['reviews_rating'] = dummy_test['reviews_rating'].apply(lambda x: 1 if x>=1 else 0)\n",
    "\n",
    "dummy_test = dummy_test.pivot_table(index='reviews_username', columns='id', values='reviews_rating').fillna(0)"
   ]
  },
  {
   "cell_type": "code",
   "execution_count": 127,
   "metadata": {
    "colab": {
     "base_uri": "https://localhost:8080/"
    },
    "executionInfo": {
     "elapsed": 168,
     "status": "ok",
     "timestamp": 1633278581807,
     "user": {
      "displayName": "Bhavini G",
      "photoUrl": "https://lh3.googleusercontent.com/a/default-user=s64",
      "userId": "04864105761682059327"
     },
     "user_tz": 420
    },
    "id": "jguea31yoflY",
    "outputId": "55ebbd1e-11c7-49b1-e7b0-9bfa5fc42e2a"
   },
   "outputs": [
    {
     "data": {
      "text/plain": [
       "(894, 125)"
      ]
     },
     "execution_count": 127,
     "metadata": {},
     "output_type": "execute_result"
    }
   ],
   "source": [
    "dummy_test.shape"
   ]
  },
  {
   "cell_type": "code",
   "execution_count": 128,
   "metadata": {
    "id": "mjBXh_z3oflZ"
   },
   "outputs": [],
   "source": [
    "common_user_predicted_ratings = np.multiply(common_user_predicted_ratings,dummy_test)"
   ]
  },
  {
   "cell_type": "code",
   "execution_count": 129,
   "metadata": {
    "colab": {
     "base_uri": "https://localhost:8080/",
     "height": 225
    },
    "executionInfo": {
     "elapsed": 33,
     "status": "ok",
     "timestamp": 1633278581807,
     "user": {
      "displayName": "Bhavini G",
      "photoUrl": "https://lh3.googleusercontent.com/a/default-user=s64",
      "userId": "04864105761682059327"
     },
     "user_tz": 420
    },
    "id": "h1GndCymoflZ",
    "outputId": "ff2aeabe-e478-4607-8816-8573832b60e1"
   },
   "outputs": [
    {
     "data": {
      "text/html": [
       "<div>\n",
       "<style scoped>\n",
       "    .dataframe tbody tr th:only-of-type {\n",
       "        vertical-align: middle;\n",
       "    }\n",
       "\n",
       "    .dataframe tbody tr th {\n",
       "        vertical-align: top;\n",
       "    }\n",
       "\n",
       "    .dataframe thead th {\n",
       "        text-align: right;\n",
       "    }\n",
       "</style>\n",
       "<table border=\"1\" class=\"dataframe\">\n",
       "  <thead>\n",
       "    <tr style=\"text-align: right;\">\n",
       "      <th>id</th>\n",
       "      <th>AV16khLE-jtxr-f38VFn</th>\n",
       "      <th>AV1YGDqsGV-KLJ3adc-O</th>\n",
       "      <th>AV1YlENIglJLPUi8IHsX</th>\n",
       "      <th>AV1YmBrdGV-KLJ3adewb</th>\n",
       "      <th>AV1YmDL9vKc47QAVgr7_</th>\n",
       "      <th>AV1Ymf_rglJLPUi8II2v</th>\n",
       "      <th>AV1YneDPglJLPUi8IJyQ</th>\n",
       "      <th>AV1YqAaMGV-KLJ3adiDj</th>\n",
       "      <th>AV1Ys0kTvKc47QAVgx1C</th>\n",
       "      <th>AV1YtGjdglJLPUi8IOfJ</th>\n",
       "      <th>...</th>\n",
       "      <th>AVpfozgyilAPnD_xfe0r</th>\n",
       "      <th>AVpfpM2yilAPnD_xfmDG</th>\n",
       "      <th>AVpfr5cb1cnluZ0-pZFp</th>\n",
       "      <th>AVpfrTyiLJeJML43BrSI</th>\n",
       "      <th>AVpfrfHF1cnluZ0-pRai</th>\n",
       "      <th>AVpfs0tUilAPnD_xgqN2</th>\n",
       "      <th>AVpfshNsLJeJML43CB8q</th>\n",
       "      <th>AVpfthSailAPnD_xg3ON</th>\n",
       "      <th>AVpftikC1cnluZ0-p31V</th>\n",
       "      <th>AVpfv4TlilAPnD_xhjNS</th>\n",
       "    </tr>\n",
       "    <tr>\n",
       "      <th>reviews_username</th>\n",
       "      <th></th>\n",
       "      <th></th>\n",
       "      <th></th>\n",
       "      <th></th>\n",
       "      <th></th>\n",
       "      <th></th>\n",
       "      <th></th>\n",
       "      <th></th>\n",
       "      <th></th>\n",
       "      <th></th>\n",
       "      <th></th>\n",
       "      <th></th>\n",
       "      <th></th>\n",
       "      <th></th>\n",
       "      <th></th>\n",
       "      <th></th>\n",
       "      <th></th>\n",
       "      <th></th>\n",
       "      <th></th>\n",
       "      <th></th>\n",
       "      <th></th>\n",
       "    </tr>\n",
       "  </thead>\n",
       "  <tbody>\n",
       "    <tr>\n",
       "      <th>00sab00</th>\n",
       "      <td>0.0</td>\n",
       "      <td>0.0</td>\n",
       "      <td>0.0</td>\n",
       "      <td>0.0</td>\n",
       "      <td>0.0</td>\n",
       "      <td>0.0</td>\n",
       "      <td>0.0</td>\n",
       "      <td>0.0</td>\n",
       "      <td>0.0</td>\n",
       "      <td>0.0</td>\n",
       "      <td>...</td>\n",
       "      <td>0.0</td>\n",
       "      <td>0.0</td>\n",
       "      <td>0.0</td>\n",
       "      <td>0.0</td>\n",
       "      <td>0.0</td>\n",
       "      <td>0.0</td>\n",
       "      <td>0.0</td>\n",
       "      <td>0.0</td>\n",
       "      <td>0.0</td>\n",
       "      <td>0.0</td>\n",
       "    </tr>\n",
       "    <tr>\n",
       "      <th>1234</th>\n",
       "      <td>0.0</td>\n",
       "      <td>0.0</td>\n",
       "      <td>0.0</td>\n",
       "      <td>0.0</td>\n",
       "      <td>0.0</td>\n",
       "      <td>0.0</td>\n",
       "      <td>0.0</td>\n",
       "      <td>0.0</td>\n",
       "      <td>0.0</td>\n",
       "      <td>0.0</td>\n",
       "      <td>...</td>\n",
       "      <td>0.0</td>\n",
       "      <td>0.0</td>\n",
       "      <td>0.0</td>\n",
       "      <td>0.0</td>\n",
       "      <td>0.0</td>\n",
       "      <td>0.0</td>\n",
       "      <td>0.0</td>\n",
       "      <td>0.0</td>\n",
       "      <td>0.0</td>\n",
       "      <td>0.0</td>\n",
       "    </tr>\n",
       "  </tbody>\n",
       "</table>\n",
       "<p>2 rows × 125 columns</p>\n",
       "</div>"
      ],
      "text/plain": [
       "id                AV16khLE-jtxr-f38VFn  AV1YGDqsGV-KLJ3adc-O  \\\n",
       "reviews_username                                               \n",
       "00sab00                            0.0                   0.0   \n",
       "1234                               0.0                   0.0   \n",
       "\n",
       "id                AV1YlENIglJLPUi8IHsX  AV1YmBrdGV-KLJ3adewb  \\\n",
       "reviews_username                                               \n",
       "00sab00                            0.0                   0.0   \n",
       "1234                               0.0                   0.0   \n",
       "\n",
       "id                AV1YmDL9vKc47QAVgr7_  AV1Ymf_rglJLPUi8II2v  \\\n",
       "reviews_username                                               \n",
       "00sab00                            0.0                   0.0   \n",
       "1234                               0.0                   0.0   \n",
       "\n",
       "id                AV1YneDPglJLPUi8IJyQ  AV1YqAaMGV-KLJ3adiDj  \\\n",
       "reviews_username                                               \n",
       "00sab00                            0.0                   0.0   \n",
       "1234                               0.0                   0.0   \n",
       "\n",
       "id                AV1Ys0kTvKc47QAVgx1C  AV1YtGjdglJLPUi8IOfJ  ...  \\\n",
       "reviews_username                                              ...   \n",
       "00sab00                            0.0                   0.0  ...   \n",
       "1234                               0.0                   0.0  ...   \n",
       "\n",
       "id                AVpfozgyilAPnD_xfe0r  AVpfpM2yilAPnD_xfmDG  \\\n",
       "reviews_username                                               \n",
       "00sab00                            0.0                   0.0   \n",
       "1234                               0.0                   0.0   \n",
       "\n",
       "id                AVpfr5cb1cnluZ0-pZFp  AVpfrTyiLJeJML43BrSI  \\\n",
       "reviews_username                                               \n",
       "00sab00                            0.0                   0.0   \n",
       "1234                               0.0                   0.0   \n",
       "\n",
       "id                AVpfrfHF1cnluZ0-pRai  AVpfs0tUilAPnD_xgqN2  \\\n",
       "reviews_username                                               \n",
       "00sab00                            0.0                   0.0   \n",
       "1234                               0.0                   0.0   \n",
       "\n",
       "id                AVpfshNsLJeJML43CB8q  AVpfthSailAPnD_xg3ON  \\\n",
       "reviews_username                                               \n",
       "00sab00                            0.0                   0.0   \n",
       "1234                               0.0                   0.0   \n",
       "\n",
       "id                AVpftikC1cnluZ0-p31V  AVpfv4TlilAPnD_xhjNS  \n",
       "reviews_username                                              \n",
       "00sab00                            0.0                   0.0  \n",
       "1234                               0.0                   0.0  \n",
       "\n",
       "[2 rows x 125 columns]"
      ]
     },
     "execution_count": 129,
     "metadata": {},
     "output_type": "execute_result"
    }
   ],
   "source": [
    "common_user_predicted_ratings.head(2)"
   ]
  },
  {
   "cell_type": "markdown",
   "metadata": {
    "id": "emGudTfJoflZ"
   },
   "source": [
    "Calculating the RMSE for only the products rated by user. For RMSE, normalising the rating to (1,5) range."
   ]
  },
  {
   "cell_type": "code",
   "execution_count": 130,
   "metadata": {
    "colab": {
     "base_uri": "https://localhost:8080/"
    },
    "executionInfo": {
     "elapsed": 33,
     "status": "ok",
     "timestamp": 1633278581808,
     "user": {
      "displayName": "Bhavini G",
      "photoUrl": "https://lh3.googleusercontent.com/a/default-user=s64",
      "userId": "04864105761682059327"
     },
     "user_tz": 420
    },
    "id": "6hNEKDAwoflZ",
    "outputId": "491fbadb-9fd4-4066-a5d6-fc5360b286f2"
   },
   "outputs": [
    {
     "name": "stdout",
     "output_type": "stream",
     "text": [
      "MinMaxScaler(feature_range=(1, 5))\n",
      "[[nan nan nan ... nan nan nan]\n",
      " [nan nan nan ... nan nan nan]\n",
      " [nan nan nan ... nan nan nan]\n",
      " ...\n",
      " [nan nan nan ... nan nan nan]\n",
      " [nan nan nan ... nan nan nan]\n",
      " [nan nan nan ... nan nan nan]]\n"
     ]
    }
   ],
   "source": [
    "from sklearn.preprocessing import MinMaxScaler\n",
    "from numpy import *\n",
    "\n",
    "X  = common_user_predicted_ratings.copy() \n",
    "X = X[X>0]\n",
    "\n",
    "scaler = MinMaxScaler(feature_range=(1, 5))\n",
    "print(scaler.fit(X))\n",
    "y = (scaler.transform(X))\n",
    "\n",
    "print(y)"
   ]
  },
  {
   "cell_type": "code",
   "execution_count": 131,
   "metadata": {
    "id": "Y-OYsB-4oflZ"
   },
   "outputs": [],
   "source": [
    "common_ = common.pivot_table(index='reviews_username', columns='id', values='reviews_rating')"
   ]
  },
  {
   "cell_type": "code",
   "execution_count": 132,
   "metadata": {
    "id": "aJRM9xMAofla"
   },
   "outputs": [],
   "source": [
    "# Finding total non-NaN value\n",
    "total_non_nan = np.count_nonzero(~np.isnan(y))"
   ]
  },
  {
   "cell_type": "code",
   "execution_count": 133,
   "metadata": {
    "colab": {
     "base_uri": "https://localhost:8080/"
    },
    "executionInfo": {
     "elapsed": 4,
     "status": "ok",
     "timestamp": 1633278581982,
     "user": {
      "displayName": "Bhavini G",
      "photoUrl": "https://lh3.googleusercontent.com/a/default-user=s64",
      "userId": "04864105761682059327"
     },
     "user_tz": 420
    },
    "id": "dhnKWyazofla",
    "outputId": "c5a33f21-7553-471a-811f-3fba63ee8496"
   },
   "outputs": [
    {
     "name": "stdout",
     "output_type": "stream",
     "text": [
      "2.693011396764996\n"
     ]
    }
   ],
   "source": [
    "rmse = (sum(sum((common_ - y )**2))/total_non_nan)**0.5\n",
    "print(rmse)"
   ]
  },
  {
   "cell_type": "markdown",
   "metadata": {
    "id": "0SLeLKr5ofla"
   },
   "source": [
    "## Using Item similarity"
   ]
  },
  {
   "cell_type": "markdown",
   "metadata": {
    "id": "5pN2OrMVExdJ"
   },
   "source": [
    "# Item Based Similarity"
   ]
  },
  {
   "cell_type": "markdown",
   "metadata": {
    "id": "AQR5JcURExdJ"
   },
   "source": [
    "Taking the transpose of the rating matrix to normalize the rating around the mean for different product (id). In the user based similarity, we had taken mean for each user instead of each product. "
   ]
  },
  {
   "cell_type": "code",
   "execution_count": 134,
   "metadata": {
    "colab": {
     "base_uri": "https://localhost:8080/",
     "height": 369
    },
    "executionInfo": {
     "elapsed": 176,
     "status": "ok",
     "timestamp": 1633278582155,
     "user": {
      "displayName": "Bhavini G",
      "photoUrl": "https://lh3.googleusercontent.com/a/default-user=s64",
      "userId": "04864105761682059327"
     },
     "user_tz": 420
    },
    "id": "PuZ_rfmWExdK",
    "outputId": "10abc6c6-643e-438d-8a31-e6b43fb1212b"
   },
   "outputs": [
    {
     "data": {
      "text/html": [
       "<div>\n",
       "<style scoped>\n",
       "    .dataframe tbody tr th:only-of-type {\n",
       "        vertical-align: middle;\n",
       "    }\n",
       "\n",
       "    .dataframe tbody tr th {\n",
       "        vertical-align: top;\n",
       "    }\n",
       "\n",
       "    .dataframe thead th {\n",
       "        text-align: right;\n",
       "    }\n",
       "</style>\n",
       "<table border=\"1\" class=\"dataframe\">\n",
       "  <thead>\n",
       "    <tr style=\"text-align: right;\">\n",
       "      <th>reviews_username</th>\n",
       "      <th>00dog3</th>\n",
       "      <th>00sab00</th>\n",
       "      <th>02dakota</th>\n",
       "      <th>0325home</th>\n",
       "      <th>08dallas</th>\n",
       "      <th>09mommy11</th>\n",
       "      <th>1.11E+24</th>\n",
       "      <th>11677j</th>\n",
       "      <th>1234</th>\n",
       "      <th>1234asdf</th>\n",
       "      <th>...</th>\n",
       "      <th>zoso60</th>\n",
       "      <th>zotox</th>\n",
       "      <th>zpalma</th>\n",
       "      <th>zsazsa</th>\n",
       "      <th>zt313</th>\n",
       "      <th>zubb</th>\n",
       "      <th>zulaa118</th>\n",
       "      <th>zwithanx</th>\n",
       "      <th>zxcsdfd</th>\n",
       "      <th>zzdiane</th>\n",
       "    </tr>\n",
       "    <tr>\n",
       "      <th>id</th>\n",
       "      <th></th>\n",
       "      <th></th>\n",
       "      <th></th>\n",
       "      <th></th>\n",
       "      <th></th>\n",
       "      <th></th>\n",
       "      <th></th>\n",
       "      <th></th>\n",
       "      <th></th>\n",
       "      <th></th>\n",
       "      <th></th>\n",
       "      <th></th>\n",
       "      <th></th>\n",
       "      <th></th>\n",
       "      <th></th>\n",
       "      <th></th>\n",
       "      <th></th>\n",
       "      <th></th>\n",
       "      <th></th>\n",
       "      <th></th>\n",
       "      <th></th>\n",
       "    </tr>\n",
       "  </thead>\n",
       "  <tbody>\n",
       "    <tr>\n",
       "      <th>AV13O1A8GV-KLJ3akUyj</th>\n",
       "      <td>NaN</td>\n",
       "      <td>NaN</td>\n",
       "      <td>NaN</td>\n",
       "      <td>NaN</td>\n",
       "      <td>NaN</td>\n",
       "      <td>NaN</td>\n",
       "      <td>NaN</td>\n",
       "      <td>NaN</td>\n",
       "      <td>NaN</td>\n",
       "      <td>NaN</td>\n",
       "      <td>...</td>\n",
       "      <td>NaN</td>\n",
       "      <td>NaN</td>\n",
       "      <td>NaN</td>\n",
       "      <td>NaN</td>\n",
       "      <td>NaN</td>\n",
       "      <td>NaN</td>\n",
       "      <td>NaN</td>\n",
       "      <td>NaN</td>\n",
       "      <td>NaN</td>\n",
       "      <td>NaN</td>\n",
       "    </tr>\n",
       "    <tr>\n",
       "      <th>AV14LG0R-jtxr-f38QfS</th>\n",
       "      <td>NaN</td>\n",
       "      <td>NaN</td>\n",
       "      <td>NaN</td>\n",
       "      <td>NaN</td>\n",
       "      <td>NaN</td>\n",
       "      <td>NaN</td>\n",
       "      <td>NaN</td>\n",
       "      <td>NaN</td>\n",
       "      <td>NaN</td>\n",
       "      <td>NaN</td>\n",
       "      <td>...</td>\n",
       "      <td>NaN</td>\n",
       "      <td>NaN</td>\n",
       "      <td>NaN</td>\n",
       "      <td>NaN</td>\n",
       "      <td>NaN</td>\n",
       "      <td>NaN</td>\n",
       "      <td>NaN</td>\n",
       "      <td>NaN</td>\n",
       "      <td>NaN</td>\n",
       "      <td>NaN</td>\n",
       "    </tr>\n",
       "    <tr>\n",
       "      <th>AV16khLE-jtxr-f38VFn</th>\n",
       "      <td>NaN</td>\n",
       "      <td>NaN</td>\n",
       "      <td>NaN</td>\n",
       "      <td>NaN</td>\n",
       "      <td>NaN</td>\n",
       "      <td>NaN</td>\n",
       "      <td>NaN</td>\n",
       "      <td>NaN</td>\n",
       "      <td>NaN</td>\n",
       "      <td>NaN</td>\n",
       "      <td>...</td>\n",
       "      <td>NaN</td>\n",
       "      <td>NaN</td>\n",
       "      <td>NaN</td>\n",
       "      <td>NaN</td>\n",
       "      <td>NaN</td>\n",
       "      <td>NaN</td>\n",
       "      <td>NaN</td>\n",
       "      <td>NaN</td>\n",
       "      <td>NaN</td>\n",
       "      <td>NaN</td>\n",
       "    </tr>\n",
       "    <tr>\n",
       "      <th>AV1YGDqsGV-KLJ3adc-O</th>\n",
       "      <td>NaN</td>\n",
       "      <td>NaN</td>\n",
       "      <td>NaN</td>\n",
       "      <td>NaN</td>\n",
       "      <td>NaN</td>\n",
       "      <td>NaN</td>\n",
       "      <td>NaN</td>\n",
       "      <td>NaN</td>\n",
       "      <td>NaN</td>\n",
       "      <td>NaN</td>\n",
       "      <td>...</td>\n",
       "      <td>NaN</td>\n",
       "      <td>NaN</td>\n",
       "      <td>NaN</td>\n",
       "      <td>NaN</td>\n",
       "      <td>NaN</td>\n",
       "      <td>NaN</td>\n",
       "      <td>NaN</td>\n",
       "      <td>NaN</td>\n",
       "      <td>NaN</td>\n",
       "      <td>NaN</td>\n",
       "    </tr>\n",
       "    <tr>\n",
       "      <th>AV1YIch7GV-KLJ3addeG</th>\n",
       "      <td>NaN</td>\n",
       "      <td>NaN</td>\n",
       "      <td>NaN</td>\n",
       "      <td>NaN</td>\n",
       "      <td>NaN</td>\n",
       "      <td>NaN</td>\n",
       "      <td>NaN</td>\n",
       "      <td>NaN</td>\n",
       "      <td>NaN</td>\n",
       "      <td>NaN</td>\n",
       "      <td>...</td>\n",
       "      <td>NaN</td>\n",
       "      <td>NaN</td>\n",
       "      <td>NaN</td>\n",
       "      <td>NaN</td>\n",
       "      <td>NaN</td>\n",
       "      <td>NaN</td>\n",
       "      <td>NaN</td>\n",
       "      <td>NaN</td>\n",
       "      <td>NaN</td>\n",
       "      <td>NaN</td>\n",
       "    </tr>\n",
       "  </tbody>\n",
       "</table>\n",
       "<p>5 rows × 17887 columns</p>\n",
       "</div>"
      ],
      "text/plain": [
       "reviews_username      00dog3  00sab00  02dakota  0325home  08dallas  \\\n",
       "id                                                                    \n",
       "AV13O1A8GV-KLJ3akUyj     NaN      NaN       NaN       NaN       NaN   \n",
       "AV14LG0R-jtxr-f38QfS     NaN      NaN       NaN       NaN       NaN   \n",
       "AV16khLE-jtxr-f38VFn     NaN      NaN       NaN       NaN       NaN   \n",
       "AV1YGDqsGV-KLJ3adc-O     NaN      NaN       NaN       NaN       NaN   \n",
       "AV1YIch7GV-KLJ3addeG     NaN      NaN       NaN       NaN       NaN   \n",
       "\n",
       "reviews_username      09mommy11  1.11E+24  11677j  1234  1234asdf  ...  \\\n",
       "id                                                                 ...   \n",
       "AV13O1A8GV-KLJ3akUyj        NaN       NaN     NaN   NaN       NaN  ...   \n",
       "AV14LG0R-jtxr-f38QfS        NaN       NaN     NaN   NaN       NaN  ...   \n",
       "AV16khLE-jtxr-f38VFn        NaN       NaN     NaN   NaN       NaN  ...   \n",
       "AV1YGDqsGV-KLJ3adc-O        NaN       NaN     NaN   NaN       NaN  ...   \n",
       "AV1YIch7GV-KLJ3addeG        NaN       NaN     NaN   NaN       NaN  ...   \n",
       "\n",
       "reviews_username      zoso60  zotox  zpalma  zsazsa  zt313  zubb  zulaa118  \\\n",
       "id                                                                           \n",
       "AV13O1A8GV-KLJ3akUyj     NaN    NaN     NaN     NaN    NaN   NaN       NaN   \n",
       "AV14LG0R-jtxr-f38QfS     NaN    NaN     NaN     NaN    NaN   NaN       NaN   \n",
       "AV16khLE-jtxr-f38VFn     NaN    NaN     NaN     NaN    NaN   NaN       NaN   \n",
       "AV1YGDqsGV-KLJ3adc-O     NaN    NaN     NaN     NaN    NaN   NaN       NaN   \n",
       "AV1YIch7GV-KLJ3addeG     NaN    NaN     NaN     NaN    NaN   NaN       NaN   \n",
       "\n",
       "reviews_username      zwithanx  zxcsdfd  zzdiane  \n",
       "id                                                \n",
       "AV13O1A8GV-KLJ3akUyj       NaN      NaN      NaN  \n",
       "AV14LG0R-jtxr-f38QfS       NaN      NaN      NaN  \n",
       "AV16khLE-jtxr-f38VFn       NaN      NaN      NaN  \n",
       "AV1YGDqsGV-KLJ3adc-O       NaN      NaN      NaN  \n",
       "AV1YIch7GV-KLJ3addeG       NaN      NaN      NaN  \n",
       "\n",
       "[5 rows x 17887 columns]"
      ]
     },
     "execution_count": 134,
     "metadata": {},
     "output_type": "execute_result"
    }
   ],
   "source": [
    "df_pivot = train.pivot(\n",
    "    index='reviews_username',\n",
    "    columns='id',\n",
    "    values='reviews_rating'\n",
    ").T\n",
    "\n",
    "df_pivot.head()"
   ]
  },
  {
   "cell_type": "markdown",
   "metadata": {
    "id": "tXqVjcM8ExdK"
   },
   "source": [
    "Normalising the product rating for each product for using the Adujsted Cosine"
   ]
  },
  {
   "cell_type": "code",
   "execution_count": 135,
   "metadata": {
    "id": "eZIvacU4ExdK"
   },
   "outputs": [],
   "source": [
    "mean = np.nanmean(df_pivot, axis=1)\n",
    "df_subtracted = (df_pivot.T-mean).T"
   ]
  },
  {
   "cell_type": "code",
   "execution_count": 136,
   "metadata": {
    "colab": {
     "base_uri": "https://localhost:8080/",
     "height": 369
    },
    "executionInfo": {
     "elapsed": 5,
     "status": "ok",
     "timestamp": 1633278582347,
     "user": {
      "displayName": "Bhavini G",
      "photoUrl": "https://lh3.googleusercontent.com/a/default-user=s64",
      "userId": "04864105761682059327"
     },
     "user_tz": 420
    },
    "id": "or2hisf6ExdK",
    "outputId": "6e185014-7a1b-451c-f192-8a6ad0faa83e"
   },
   "outputs": [
    {
     "data": {
      "text/html": [
       "<div>\n",
       "<style scoped>\n",
       "    .dataframe tbody tr th:only-of-type {\n",
       "        vertical-align: middle;\n",
       "    }\n",
       "\n",
       "    .dataframe tbody tr th {\n",
       "        vertical-align: top;\n",
       "    }\n",
       "\n",
       "    .dataframe thead th {\n",
       "        text-align: right;\n",
       "    }\n",
       "</style>\n",
       "<table border=\"1\" class=\"dataframe\">\n",
       "  <thead>\n",
       "    <tr style=\"text-align: right;\">\n",
       "      <th>reviews_username</th>\n",
       "      <th>00dog3</th>\n",
       "      <th>00sab00</th>\n",
       "      <th>02dakota</th>\n",
       "      <th>0325home</th>\n",
       "      <th>08dallas</th>\n",
       "      <th>09mommy11</th>\n",
       "      <th>1.11E+24</th>\n",
       "      <th>11677j</th>\n",
       "      <th>1234</th>\n",
       "      <th>1234asdf</th>\n",
       "      <th>...</th>\n",
       "      <th>zoso60</th>\n",
       "      <th>zotox</th>\n",
       "      <th>zpalma</th>\n",
       "      <th>zsazsa</th>\n",
       "      <th>zt313</th>\n",
       "      <th>zubb</th>\n",
       "      <th>zulaa118</th>\n",
       "      <th>zwithanx</th>\n",
       "      <th>zxcsdfd</th>\n",
       "      <th>zzdiane</th>\n",
       "    </tr>\n",
       "    <tr>\n",
       "      <th>id</th>\n",
       "      <th></th>\n",
       "      <th></th>\n",
       "      <th></th>\n",
       "      <th></th>\n",
       "      <th></th>\n",
       "      <th></th>\n",
       "      <th></th>\n",
       "      <th></th>\n",
       "      <th></th>\n",
       "      <th></th>\n",
       "      <th></th>\n",
       "      <th></th>\n",
       "      <th></th>\n",
       "      <th></th>\n",
       "      <th></th>\n",
       "      <th></th>\n",
       "      <th></th>\n",
       "      <th></th>\n",
       "      <th></th>\n",
       "      <th></th>\n",
       "      <th></th>\n",
       "    </tr>\n",
       "  </thead>\n",
       "  <tbody>\n",
       "    <tr>\n",
       "      <th>AV13O1A8GV-KLJ3akUyj</th>\n",
       "      <td>NaN</td>\n",
       "      <td>NaN</td>\n",
       "      <td>NaN</td>\n",
       "      <td>NaN</td>\n",
       "      <td>NaN</td>\n",
       "      <td>NaN</td>\n",
       "      <td>NaN</td>\n",
       "      <td>NaN</td>\n",
       "      <td>NaN</td>\n",
       "      <td>NaN</td>\n",
       "      <td>...</td>\n",
       "      <td>NaN</td>\n",
       "      <td>NaN</td>\n",
       "      <td>NaN</td>\n",
       "      <td>NaN</td>\n",
       "      <td>NaN</td>\n",
       "      <td>NaN</td>\n",
       "      <td>NaN</td>\n",
       "      <td>NaN</td>\n",
       "      <td>NaN</td>\n",
       "      <td>NaN</td>\n",
       "    </tr>\n",
       "    <tr>\n",
       "      <th>AV14LG0R-jtxr-f38QfS</th>\n",
       "      <td>NaN</td>\n",
       "      <td>NaN</td>\n",
       "      <td>NaN</td>\n",
       "      <td>NaN</td>\n",
       "      <td>NaN</td>\n",
       "      <td>NaN</td>\n",
       "      <td>NaN</td>\n",
       "      <td>NaN</td>\n",
       "      <td>NaN</td>\n",
       "      <td>NaN</td>\n",
       "      <td>...</td>\n",
       "      <td>NaN</td>\n",
       "      <td>NaN</td>\n",
       "      <td>NaN</td>\n",
       "      <td>NaN</td>\n",
       "      <td>NaN</td>\n",
       "      <td>NaN</td>\n",
       "      <td>NaN</td>\n",
       "      <td>NaN</td>\n",
       "      <td>NaN</td>\n",
       "      <td>NaN</td>\n",
       "    </tr>\n",
       "    <tr>\n",
       "      <th>AV16khLE-jtxr-f38VFn</th>\n",
       "      <td>NaN</td>\n",
       "      <td>NaN</td>\n",
       "      <td>NaN</td>\n",
       "      <td>NaN</td>\n",
       "      <td>NaN</td>\n",
       "      <td>NaN</td>\n",
       "      <td>NaN</td>\n",
       "      <td>NaN</td>\n",
       "      <td>NaN</td>\n",
       "      <td>NaN</td>\n",
       "      <td>...</td>\n",
       "      <td>NaN</td>\n",
       "      <td>NaN</td>\n",
       "      <td>NaN</td>\n",
       "      <td>NaN</td>\n",
       "      <td>NaN</td>\n",
       "      <td>NaN</td>\n",
       "      <td>NaN</td>\n",
       "      <td>NaN</td>\n",
       "      <td>NaN</td>\n",
       "      <td>NaN</td>\n",
       "    </tr>\n",
       "    <tr>\n",
       "      <th>AV1YGDqsGV-KLJ3adc-O</th>\n",
       "      <td>NaN</td>\n",
       "      <td>NaN</td>\n",
       "      <td>NaN</td>\n",
       "      <td>NaN</td>\n",
       "      <td>NaN</td>\n",
       "      <td>NaN</td>\n",
       "      <td>NaN</td>\n",
       "      <td>NaN</td>\n",
       "      <td>NaN</td>\n",
       "      <td>NaN</td>\n",
       "      <td>...</td>\n",
       "      <td>NaN</td>\n",
       "      <td>NaN</td>\n",
       "      <td>NaN</td>\n",
       "      <td>NaN</td>\n",
       "      <td>NaN</td>\n",
       "      <td>NaN</td>\n",
       "      <td>NaN</td>\n",
       "      <td>NaN</td>\n",
       "      <td>NaN</td>\n",
       "      <td>NaN</td>\n",
       "    </tr>\n",
       "    <tr>\n",
       "      <th>AV1YIch7GV-KLJ3addeG</th>\n",
       "      <td>NaN</td>\n",
       "      <td>NaN</td>\n",
       "      <td>NaN</td>\n",
       "      <td>NaN</td>\n",
       "      <td>NaN</td>\n",
       "      <td>NaN</td>\n",
       "      <td>NaN</td>\n",
       "      <td>NaN</td>\n",
       "      <td>NaN</td>\n",
       "      <td>NaN</td>\n",
       "      <td>...</td>\n",
       "      <td>NaN</td>\n",
       "      <td>NaN</td>\n",
       "      <td>NaN</td>\n",
       "      <td>NaN</td>\n",
       "      <td>NaN</td>\n",
       "      <td>NaN</td>\n",
       "      <td>NaN</td>\n",
       "      <td>NaN</td>\n",
       "      <td>NaN</td>\n",
       "      <td>NaN</td>\n",
       "    </tr>\n",
       "  </tbody>\n",
       "</table>\n",
       "<p>5 rows × 17887 columns</p>\n",
       "</div>"
      ],
      "text/plain": [
       "reviews_username      00dog3  00sab00  02dakota  0325home  08dallas  \\\n",
       "id                                                                    \n",
       "AV13O1A8GV-KLJ3akUyj     NaN      NaN       NaN       NaN       NaN   \n",
       "AV14LG0R-jtxr-f38QfS     NaN      NaN       NaN       NaN       NaN   \n",
       "AV16khLE-jtxr-f38VFn     NaN      NaN       NaN       NaN       NaN   \n",
       "AV1YGDqsGV-KLJ3adc-O     NaN      NaN       NaN       NaN       NaN   \n",
       "AV1YIch7GV-KLJ3addeG     NaN      NaN       NaN       NaN       NaN   \n",
       "\n",
       "reviews_username      09mommy11  1.11E+24  11677j  1234  1234asdf  ...  \\\n",
       "id                                                                 ...   \n",
       "AV13O1A8GV-KLJ3akUyj        NaN       NaN     NaN   NaN       NaN  ...   \n",
       "AV14LG0R-jtxr-f38QfS        NaN       NaN     NaN   NaN       NaN  ...   \n",
       "AV16khLE-jtxr-f38VFn        NaN       NaN     NaN   NaN       NaN  ...   \n",
       "AV1YGDqsGV-KLJ3adc-O        NaN       NaN     NaN   NaN       NaN  ...   \n",
       "AV1YIch7GV-KLJ3addeG        NaN       NaN     NaN   NaN       NaN  ...   \n",
       "\n",
       "reviews_username      zoso60  zotox  zpalma  zsazsa  zt313  zubb  zulaa118  \\\n",
       "id                                                                           \n",
       "AV13O1A8GV-KLJ3akUyj     NaN    NaN     NaN     NaN    NaN   NaN       NaN   \n",
       "AV14LG0R-jtxr-f38QfS     NaN    NaN     NaN     NaN    NaN   NaN       NaN   \n",
       "AV16khLE-jtxr-f38VFn     NaN    NaN     NaN     NaN    NaN   NaN       NaN   \n",
       "AV1YGDqsGV-KLJ3adc-O     NaN    NaN     NaN     NaN    NaN   NaN       NaN   \n",
       "AV1YIch7GV-KLJ3addeG     NaN    NaN     NaN     NaN    NaN   NaN       NaN   \n",
       "\n",
       "reviews_username      zwithanx  zxcsdfd  zzdiane  \n",
       "id                                                \n",
       "AV13O1A8GV-KLJ3akUyj       NaN      NaN      NaN  \n",
       "AV14LG0R-jtxr-f38QfS       NaN      NaN      NaN  \n",
       "AV16khLE-jtxr-f38VFn       NaN      NaN      NaN  \n",
       "AV1YGDqsGV-KLJ3adc-O       NaN      NaN      NaN  \n",
       "AV1YIch7GV-KLJ3addeG       NaN      NaN      NaN  \n",
       "\n",
       "[5 rows x 17887 columns]"
      ]
     },
     "execution_count": 136,
     "metadata": {},
     "output_type": "execute_result"
    }
   ],
   "source": [
    "df_subtracted.head()"
   ]
  },
  {
   "cell_type": "markdown",
   "metadata": {
    "id": "_ddgngXvExdK"
   },
   "source": [
    "Finding the cosine similarity using pairwise distances approach"
   ]
  },
  {
   "cell_type": "code",
   "execution_count": 137,
   "metadata": {
    "id": "6w_pMqFYExdL"
   },
   "outputs": [],
   "source": [
    "from sklearn.metrics.pairwise import pairwise_distances"
   ]
  },
  {
   "cell_type": "code",
   "execution_count": 138,
   "metadata": {
    "colab": {
     "base_uri": "https://localhost:8080/"
    },
    "executionInfo": {
     "elapsed": 213,
     "status": "ok",
     "timestamp": 1633278582557,
     "user": {
      "displayName": "Bhavini G",
      "photoUrl": "https://lh3.googleusercontent.com/a/default-user=s64",
      "userId": "04864105761682059327"
     },
     "user_tz": 420
    },
    "id": "wvM0YMzqTD6Z",
    "outputId": "6965f296-c6a3-44bf-de10-a81bc3427889"
   },
   "outputs": [
    {
     "name": "stdout",
     "output_type": "stream",
     "text": [
      "[[0. 0. 0. ... 0. 0. 0.]\n",
      " [0. 0. 0. ... 0. 0. 0.]\n",
      " [0. 0. 1. ... 0. 0. 0.]\n",
      " ...\n",
      " [0. 0. 0. ... 0. 0. 0.]\n",
      " [0. 0. 0. ... 0. 0. 0.]\n",
      " [0. 0. 0. ... 0. 0. 1.]]\n"
     ]
    }
   ],
   "source": [
    "# Item Similarity Matrix\n",
    "item_correlation = 1 - pairwise_distances(df_subtracted.fillna(0), metric='cosine')\n",
    "item_correlation[np.isnan(item_correlation)] = 0\n",
    "print(item_correlation)"
   ]
  },
  {
   "cell_type": "markdown",
   "metadata": {
    "id": "MGf62jf-ExdL"
   },
   "source": [
    "Filtering the correlation only for which the value is greater than 0. (Positively correlated)"
   ]
  },
  {
   "cell_type": "code",
   "execution_count": 139,
   "metadata": {
    "colab": {
     "base_uri": "https://localhost:8080/"
    },
    "executionInfo": {
     "elapsed": 31,
     "status": "ok",
     "timestamp": 1633278582557,
     "user": {
      "displayName": "Bhavini G",
      "photoUrl": "https://lh3.googleusercontent.com/a/default-user=s64",
      "userId": "04864105761682059327"
     },
     "user_tz": 420
    },
    "id": "Ag8UtCCgExdL",
    "outputId": "ed4619e1-7435-4b03-f358-327b586bca63"
   },
   "outputs": [
    {
     "data": {
      "text/plain": [
       "array([[0., 0., 0., ..., 0., 0., 0.],\n",
       "       [0., 0., 0., ..., 0., 0., 0.],\n",
       "       [0., 0., 1., ..., 0., 0., 0.],\n",
       "       ...,\n",
       "       [0., 0., 0., ..., 0., 0., 0.],\n",
       "       [0., 0., 0., ..., 0., 0., 0.],\n",
       "       [0., 0., 0., ..., 0., 0., 1.]])"
      ]
     },
     "execution_count": 139,
     "metadata": {},
     "output_type": "execute_result"
    }
   ],
   "source": [
    "item_correlation[item_correlation<0]=0\n",
    "item_correlation"
   ]
  },
  {
   "cell_type": "markdown",
   "metadata": {
    "id": "UBVxQ8voExdL"
   },
   "source": [
    "# Prediction - Item Item"
   ]
  },
  {
   "cell_type": "code",
   "execution_count": 140,
   "metadata": {
    "colab": {
     "base_uri": "https://localhost:8080/"
    },
    "executionInfo": {
     "elapsed": 263,
     "status": "ok",
     "timestamp": 1633278582818,
     "user": {
      "displayName": "Bhavini G",
      "photoUrl": "https://lh3.googleusercontent.com/a/default-user=s64",
      "userId": "04864105761682059327"
     },
     "user_tz": 420
    },
    "id": "vcj-e9_BExdL",
    "outputId": "a0becf1c-1d31-4bd3-9422-f88677f48a05"
   },
   "outputs": [
    {
     "data": {
      "text/plain": [
       "array([[0., 0., 0., ..., 0., 0., 0.],\n",
       "       [0., 0., 0., ..., 0., 0., 0.],\n",
       "       [0., 0., 0., ..., 0., 0., 0.],\n",
       "       ...,\n",
       "       [0., 0., 0., ..., 0., 0., 0.],\n",
       "       [0., 0., 0., ..., 0., 0., 0.],\n",
       "       [0., 0., 0., ..., 0., 0., 0.]])"
      ]
     },
     "execution_count": 140,
     "metadata": {},
     "output_type": "execute_result"
    }
   ],
   "source": [
    "item_predicted_ratings = np.dot((df_pivot.fillna(0).T),item_correlation)\n",
    "item_predicted_ratings"
   ]
  },
  {
   "cell_type": "code",
   "execution_count": 141,
   "metadata": {
    "colab": {
     "base_uri": "https://localhost:8080/"
    },
    "executionInfo": {
     "elapsed": 57,
     "status": "ok",
     "timestamp": 1633278582818,
     "user": {
      "displayName": "Bhavini G",
      "photoUrl": "https://lh3.googleusercontent.com/a/default-user=s64",
      "userId": "04864105761682059327"
     },
     "user_tz": 420
    },
    "id": "w_wMFJu7ExdM",
    "outputId": "f21ec39c-55d7-4c7f-f9c2-e72b91805fc4"
   },
   "outputs": [
    {
     "data": {
      "text/plain": [
       "(17887, 255)"
      ]
     },
     "execution_count": 141,
     "metadata": {},
     "output_type": "execute_result"
    }
   ],
   "source": [
    "item_predicted_ratings.shape"
   ]
  },
  {
   "cell_type": "code",
   "execution_count": 142,
   "metadata": {
    "colab": {
     "base_uri": "https://localhost:8080/"
    },
    "executionInfo": {
     "elapsed": 30,
     "status": "ok",
     "timestamp": 1633278582819,
     "user": {
      "displayName": "Bhavini G",
      "photoUrl": "https://lh3.googleusercontent.com/a/default-user=s64",
      "userId": "04864105761682059327"
     },
     "user_tz": 420
    },
    "id": "D-O03UlpExdM",
    "outputId": "684baf78-3296-4635-e751-db312d8ae3ad"
   },
   "outputs": [
    {
     "data": {
      "text/plain": [
       "(17887, 255)"
      ]
     },
     "execution_count": 142,
     "metadata": {},
     "output_type": "execute_result"
    }
   ],
   "source": [
    "dummy_train.shape"
   ]
  },
  {
   "cell_type": "markdown",
   "metadata": {
    "id": "b7H4yJpaExdM"
   },
   "source": [
    "### Filtering the rating only for the products (id) not rated by the user for recommendation"
   ]
  },
  {
   "cell_type": "code",
   "execution_count": 143,
   "metadata": {
    "colab": {
     "base_uri": "https://localhost:8080/",
     "height": 318
    },
    "executionInfo": {
     "elapsed": 333,
     "status": "ok",
     "timestamp": 1633278583149,
     "user": {
      "displayName": "Bhavini G",
      "photoUrl": "https://lh3.googleusercontent.com/a/default-user=s64",
      "userId": "04864105761682059327"
     },
     "user_tz": 420
    },
    "id": "_AfkZebKExdM",
    "outputId": "c9922be6-c861-420b-e7ad-77ba46b8f165"
   },
   "outputs": [
    {
     "data": {
      "text/html": [
       "<div>\n",
       "<style scoped>\n",
       "    .dataframe tbody tr th:only-of-type {\n",
       "        vertical-align: middle;\n",
       "    }\n",
       "\n",
       "    .dataframe tbody tr th {\n",
       "        vertical-align: top;\n",
       "    }\n",
       "\n",
       "    .dataframe thead th {\n",
       "        text-align: right;\n",
       "    }\n",
       "</style>\n",
       "<table border=\"1\" class=\"dataframe\">\n",
       "  <thead>\n",
       "    <tr style=\"text-align: right;\">\n",
       "      <th>id</th>\n",
       "      <th>AV13O1A8GV-KLJ3akUyj</th>\n",
       "      <th>AV14LG0R-jtxr-f38QfS</th>\n",
       "      <th>AV16khLE-jtxr-f38VFn</th>\n",
       "      <th>AV1YGDqsGV-KLJ3adc-O</th>\n",
       "      <th>AV1YIch7GV-KLJ3addeG</th>\n",
       "      <th>AV1YlENIglJLPUi8IHsX</th>\n",
       "      <th>AV1YmBrdGV-KLJ3adewb</th>\n",
       "      <th>AV1YmDL9vKc47QAVgr7_</th>\n",
       "      <th>AV1Ymf_rglJLPUi8II2v</th>\n",
       "      <th>AV1Yn94nvKc47QAVgtst</th>\n",
       "      <th>...</th>\n",
       "      <th>AVpfrTyiLJeJML43BrSI</th>\n",
       "      <th>AVpfrfHF1cnluZ0-pRai</th>\n",
       "      <th>AVpfrgjFLJeJML43BvCc</th>\n",
       "      <th>AVpfs0tUilAPnD_xgqN2</th>\n",
       "      <th>AVpfsQoeilAPnD_xgfx5</th>\n",
       "      <th>AVpfthSailAPnD_xg3ON</th>\n",
       "      <th>AVpftikC1cnluZ0-p31V</th>\n",
       "      <th>AVpftymALJeJML43CZ6y</th>\n",
       "      <th>AVpfv4TlilAPnD_xhjNS</th>\n",
       "      <th>AVpfvieo1cnluZ0-qdnu</th>\n",
       "    </tr>\n",
       "    <tr>\n",
       "      <th>reviews_username</th>\n",
       "      <th></th>\n",
       "      <th></th>\n",
       "      <th></th>\n",
       "      <th></th>\n",
       "      <th></th>\n",
       "      <th></th>\n",
       "      <th></th>\n",
       "      <th></th>\n",
       "      <th></th>\n",
       "      <th></th>\n",
       "      <th></th>\n",
       "      <th></th>\n",
       "      <th></th>\n",
       "      <th></th>\n",
       "      <th></th>\n",
       "      <th></th>\n",
       "      <th></th>\n",
       "      <th></th>\n",
       "      <th></th>\n",
       "      <th></th>\n",
       "      <th></th>\n",
       "    </tr>\n",
       "  </thead>\n",
       "  <tbody>\n",
       "    <tr>\n",
       "      <th>00dog3</th>\n",
       "      <td>0.0</td>\n",
       "      <td>0.0</td>\n",
       "      <td>0.0</td>\n",
       "      <td>0.019098</td>\n",
       "      <td>0.0</td>\n",
       "      <td>0.0</td>\n",
       "      <td>0.0</td>\n",
       "      <td>0.0</td>\n",
       "      <td>0.000000</td>\n",
       "      <td>0.000000</td>\n",
       "      <td>...</td>\n",
       "      <td>0.0</td>\n",
       "      <td>0.000000</td>\n",
       "      <td>0.0</td>\n",
       "      <td>0.0</td>\n",
       "      <td>0.0</td>\n",
       "      <td>0.0</td>\n",
       "      <td>0.000000</td>\n",
       "      <td>0.0</td>\n",
       "      <td>0.0</td>\n",
       "      <td>0.0</td>\n",
       "    </tr>\n",
       "    <tr>\n",
       "      <th>00sab00</th>\n",
       "      <td>0.0</td>\n",
       "      <td>0.0</td>\n",
       "      <td>0.0</td>\n",
       "      <td>0.005457</td>\n",
       "      <td>0.0</td>\n",
       "      <td>0.0</td>\n",
       "      <td>0.0</td>\n",
       "      <td>0.0</td>\n",
       "      <td>0.000000</td>\n",
       "      <td>0.000000</td>\n",
       "      <td>...</td>\n",
       "      <td>0.0</td>\n",
       "      <td>0.000000</td>\n",
       "      <td>0.0</td>\n",
       "      <td>0.0</td>\n",
       "      <td>0.0</td>\n",
       "      <td>0.0</td>\n",
       "      <td>0.004646</td>\n",
       "      <td>0.0</td>\n",
       "      <td>0.0</td>\n",
       "      <td>0.0</td>\n",
       "    </tr>\n",
       "    <tr>\n",
       "      <th>02dakota</th>\n",
       "      <td>0.0</td>\n",
       "      <td>0.0</td>\n",
       "      <td>0.0</td>\n",
       "      <td>0.000000</td>\n",
       "      <td>0.0</td>\n",
       "      <td>0.0</td>\n",
       "      <td>0.0</td>\n",
       "      <td>0.0</td>\n",
       "      <td>0.000000</td>\n",
       "      <td>0.006997</td>\n",
       "      <td>...</td>\n",
       "      <td>0.0</td>\n",
       "      <td>0.000000</td>\n",
       "      <td>0.0</td>\n",
       "      <td>0.0</td>\n",
       "      <td>0.0</td>\n",
       "      <td>0.0</td>\n",
       "      <td>0.001842</td>\n",
       "      <td>0.0</td>\n",
       "      <td>0.0</td>\n",
       "      <td>0.0</td>\n",
       "    </tr>\n",
       "    <tr>\n",
       "      <th>0325home</th>\n",
       "      <td>0.0</td>\n",
       "      <td>0.0</td>\n",
       "      <td>0.0</td>\n",
       "      <td>0.000000</td>\n",
       "      <td>0.0</td>\n",
       "      <td>0.0</td>\n",
       "      <td>0.0</td>\n",
       "      <td>0.0</td>\n",
       "      <td>0.001915</td>\n",
       "      <td>0.002851</td>\n",
       "      <td>...</td>\n",
       "      <td>0.0</td>\n",
       "      <td>0.003762</td>\n",
       "      <td>0.0</td>\n",
       "      <td>0.0</td>\n",
       "      <td>0.0</td>\n",
       "      <td>0.0</td>\n",
       "      <td>0.000000</td>\n",
       "      <td>0.0</td>\n",
       "      <td>0.0</td>\n",
       "      <td>0.0</td>\n",
       "    </tr>\n",
       "    <tr>\n",
       "      <th>08dallas</th>\n",
       "      <td>0.0</td>\n",
       "      <td>0.0</td>\n",
       "      <td>0.0</td>\n",
       "      <td>0.000000</td>\n",
       "      <td>0.0</td>\n",
       "      <td>0.0</td>\n",
       "      <td>0.0</td>\n",
       "      <td>0.0</td>\n",
       "      <td>0.000000</td>\n",
       "      <td>0.000000</td>\n",
       "      <td>...</td>\n",
       "      <td>0.0</td>\n",
       "      <td>0.000000</td>\n",
       "      <td>0.0</td>\n",
       "      <td>0.0</td>\n",
       "      <td>0.0</td>\n",
       "      <td>0.0</td>\n",
       "      <td>0.000000</td>\n",
       "      <td>0.0</td>\n",
       "      <td>0.0</td>\n",
       "      <td>0.0</td>\n",
       "    </tr>\n",
       "  </tbody>\n",
       "</table>\n",
       "<p>5 rows × 255 columns</p>\n",
       "</div>"
      ],
      "text/plain": [
       "id                AV13O1A8GV-KLJ3akUyj  AV14LG0R-jtxr-f38QfS  \\\n",
       "reviews_username                                               \n",
       "00dog3                             0.0                   0.0   \n",
       "00sab00                            0.0                   0.0   \n",
       "02dakota                           0.0                   0.0   \n",
       "0325home                           0.0                   0.0   \n",
       "08dallas                           0.0                   0.0   \n",
       "\n",
       "id                AV16khLE-jtxr-f38VFn  AV1YGDqsGV-KLJ3adc-O  \\\n",
       "reviews_username                                               \n",
       "00dog3                             0.0              0.019098   \n",
       "00sab00                            0.0              0.005457   \n",
       "02dakota                           0.0              0.000000   \n",
       "0325home                           0.0              0.000000   \n",
       "08dallas                           0.0              0.000000   \n",
       "\n",
       "id                AV1YIch7GV-KLJ3addeG  AV1YlENIglJLPUi8IHsX  \\\n",
       "reviews_username                                               \n",
       "00dog3                             0.0                   0.0   \n",
       "00sab00                            0.0                   0.0   \n",
       "02dakota                           0.0                   0.0   \n",
       "0325home                           0.0                   0.0   \n",
       "08dallas                           0.0                   0.0   \n",
       "\n",
       "id                AV1YmBrdGV-KLJ3adewb  AV1YmDL9vKc47QAVgr7_  \\\n",
       "reviews_username                                               \n",
       "00dog3                             0.0                   0.0   \n",
       "00sab00                            0.0                   0.0   \n",
       "02dakota                           0.0                   0.0   \n",
       "0325home                           0.0                   0.0   \n",
       "08dallas                           0.0                   0.0   \n",
       "\n",
       "id                AV1Ymf_rglJLPUi8II2v  AV1Yn94nvKc47QAVgtst  ...  \\\n",
       "reviews_username                                              ...   \n",
       "00dog3                        0.000000              0.000000  ...   \n",
       "00sab00                       0.000000              0.000000  ...   \n",
       "02dakota                      0.000000              0.006997  ...   \n",
       "0325home                      0.001915              0.002851  ...   \n",
       "08dallas                      0.000000              0.000000  ...   \n",
       "\n",
       "id                AVpfrTyiLJeJML43BrSI  AVpfrfHF1cnluZ0-pRai  \\\n",
       "reviews_username                                               \n",
       "00dog3                             0.0              0.000000   \n",
       "00sab00                            0.0              0.000000   \n",
       "02dakota                           0.0              0.000000   \n",
       "0325home                           0.0              0.003762   \n",
       "08dallas                           0.0              0.000000   \n",
       "\n",
       "id                AVpfrgjFLJeJML43BvCc  AVpfs0tUilAPnD_xgqN2  \\\n",
       "reviews_username                                               \n",
       "00dog3                             0.0                   0.0   \n",
       "00sab00                            0.0                   0.0   \n",
       "02dakota                           0.0                   0.0   \n",
       "0325home                           0.0                   0.0   \n",
       "08dallas                           0.0                   0.0   \n",
       "\n",
       "id                AVpfsQoeilAPnD_xgfx5  AVpfthSailAPnD_xg3ON  \\\n",
       "reviews_username                                               \n",
       "00dog3                             0.0                   0.0   \n",
       "00sab00                            0.0                   0.0   \n",
       "02dakota                           0.0                   0.0   \n",
       "0325home                           0.0                   0.0   \n",
       "08dallas                           0.0                   0.0   \n",
       "\n",
       "id                AVpftikC1cnluZ0-p31V  AVpftymALJeJML43CZ6y  \\\n",
       "reviews_username                                               \n",
       "00dog3                        0.000000                   0.0   \n",
       "00sab00                       0.004646                   0.0   \n",
       "02dakota                      0.001842                   0.0   \n",
       "0325home                      0.000000                   0.0   \n",
       "08dallas                      0.000000                   0.0   \n",
       "\n",
       "id                AVpfv4TlilAPnD_xhjNS  AVpfvieo1cnluZ0-qdnu  \n",
       "reviews_username                                              \n",
       "00dog3                             0.0                   0.0  \n",
       "00sab00                            0.0                   0.0  \n",
       "02dakota                           0.0                   0.0  \n",
       "0325home                           0.0                   0.0  \n",
       "08dallas                           0.0                   0.0  \n",
       "\n",
       "[5 rows x 255 columns]"
      ]
     },
     "execution_count": 143,
     "metadata": {},
     "output_type": "execute_result"
    }
   ],
   "source": [
    "item_final_rating = np.multiply(item_predicted_ratings,dummy_train)\n",
    "item_final_rating.head()"
   ]
  },
  {
   "cell_type": "markdown",
   "metadata": {
    "id": "WPn1Dz8LExdM"
   },
   "source": [
    "### Finding the top 20 recommendation for the *user*\n",
    "\n"
   ]
  },
  {
   "cell_type": "code",
   "execution_count": 144,
   "metadata": {
    "colab": {
     "base_uri": "https://localhost:8080/"
    },
    "executionInfo": {
     "elapsed": 181530,
     "status": "ok",
     "timestamp": 1633278764564,
     "user": {
      "displayName": "Bhavini G",
      "photoUrl": "https://lh3.googleusercontent.com/a/default-user=s64",
      "userId": "04864105761682059327"
     },
     "user_tz": 420
    },
    "id": "tQZl7CAgUiSH",
    "outputId": "b3dfe0f0-3e27-42ce-c3bf-635bd91c5549"
   },
   "outputs": [
    {
     "name": "stdout",
     "output_type": "stream",
     "text": [
      "Enter your user name : mike\n",
      "mike\n"
     ]
    }
   ],
   "source": [
    "# Take the user ID as input\n",
    "user_input = (input(\"Enter your user name : \"))\n",
    "print(user_input)"
   ]
  },
  {
   "cell_type": "code",
   "execution_count": 145,
   "metadata": {
    "colab": {
     "base_uri": "https://localhost:8080/"
    },
    "executionInfo": {
     "elapsed": 70,
     "status": "ok",
     "timestamp": 1633278764565,
     "user": {
      "displayName": "Bhavini G",
      "photoUrl": "https://lh3.googleusercontent.com/a/default-user=s64",
      "userId": "04864105761682059327"
     },
     "user_tz": 420
    },
    "id": "-4T_IOaXUjXK",
    "outputId": "c6786a0b-0295-46ab-970f-ca1d31a7a2ea"
   },
   "outputs": [
    {
     "data": {
      "text/plain": [
       "id\n",
       "AV1Ymf_rglJLPUi8II2v    0.633506\n",
       "AVpf3VOfilAPnD_xjpun    0.466791\n",
       "AVpfr5cb1cnluZ0-pZFp    0.292749\n",
       "AVpfBpnEilAPnD_xTUBx    0.241248\n",
       "AVpe59io1cnluZ0-ZgDU    0.195378\n",
       "AVpfM_ytilAPnD_xXIJb    0.187456\n",
       "AVpfGuDrLJeJML432fDz    0.126745\n",
       "AVpe9W4D1cnluZ0-avf0    0.117286\n",
       "AVpe41TqilAPnD_xQH3d    0.109783\n",
       "AVpfazX31cnluZ0-kbdl    0.103844\n",
       "AVpe8q4T1cnluZ0-afct    0.087359\n",
       "AVpfRTh1ilAPnD_xYic2    0.080630\n",
       "AVpfOmKwLJeJML435GM7    0.067671\n",
       "AVpfluP1ilAPnD_xejxO    0.054438\n",
       "AVpe8gsILJeJML43y6Ed    0.054146\n",
       "AV1YqAaMGV-KLJ3adiDj    0.052679\n",
       "AVpfliCoilAPnD_xegIr    0.049092\n",
       "AV1ZSp2uglJLPUi8IQFy    0.048476\n",
       "AVpe8xjUilAPnD_xRkxC    0.046485\n",
       "AVpf0pfrilAPnD_xi6s_    0.037974\n",
       "Name: mike, dtype: float64"
      ]
     },
     "execution_count": 145,
     "metadata": {},
     "output_type": "execute_result"
    }
   ],
   "source": [
    "# Recommending the Top 20 products to the user.\n",
    "item_recommendation = item_final_rating.loc[user_input].sort_values(ascending=False)[0:20]\n",
    "item_recommendation"
   ]
  },
  {
   "cell_type": "code",
   "execution_count": 146,
   "metadata": {
    "colab": {
     "base_uri": "https://localhost:8080/",
     "height": 669
    },
    "executionInfo": {
     "elapsed": 68,
     "status": "ok",
     "timestamp": 1633278764565,
     "user": {
      "displayName": "Bhavini G",
      "photoUrl": "https://lh3.googleusercontent.com/a/default-user=s64",
      "userId": "04864105761682059327"
     },
     "user_tz": 420
    },
    "id": "undDiMjB0Ku2",
    "outputId": "c00ac5f2-917d-4e95-c7ac-d691e06d4c0b"
   },
   "outputs": [
    {
     "data": {
      "text/html": [
       "<div>\n",
       "<style scoped>\n",
       "    .dataframe tbody tr th:only-of-type {\n",
       "        vertical-align: middle;\n",
       "    }\n",
       "\n",
       "    .dataframe tbody tr th {\n",
       "        vertical-align: top;\n",
       "    }\n",
       "\n",
       "    .dataframe thead th {\n",
       "        text-align: right;\n",
       "    }\n",
       "</style>\n",
       "<table border=\"1\" class=\"dataframe\">\n",
       "  <thead>\n",
       "    <tr style=\"text-align: right;\">\n",
       "      <th></th>\n",
       "      <th>id</th>\n",
       "      <th>name</th>\n",
       "    </tr>\n",
       "  </thead>\n",
       "  <tbody>\n",
       "    <tr>\n",
       "      <th>0</th>\n",
       "      <td>AV1Ymf_rglJLPUi8II2v</td>\n",
       "      <td>Cars Toon: Mater's Tall Tales</td>\n",
       "    </tr>\n",
       "    <tr>\n",
       "      <th>34</th>\n",
       "      <td>AVpf3VOfilAPnD_xjpun</td>\n",
       "      <td>Clorox Disinfecting Wipes Value Pack Scented 1...</td>\n",
       "    </tr>\n",
       "    <tr>\n",
       "      <th>7820</th>\n",
       "      <td>AVpfr5cb1cnluZ0-pZFp</td>\n",
       "      <td>Boraam Sonoma Kitchen Cart With Wire Brush Gra...</td>\n",
       "    </tr>\n",
       "    <tr>\n",
       "      <th>7843</th>\n",
       "      <td>AVpfBpnEilAPnD_xTUBx</td>\n",
       "      <td>All,bran Complete Wheat Flakes, 18 Oz.</td>\n",
       "    </tr>\n",
       "    <tr>\n",
       "      <th>7854</th>\n",
       "      <td>AVpe59io1cnluZ0-ZgDU</td>\n",
       "      <td>My Big Fat Greek Wedding 2 (blu-Ray + Dvd + Di...</td>\n",
       "    </tr>\n",
       "    <tr>\n",
       "      <th>8504</th>\n",
       "      <td>AVpfM_ytilAPnD_xXIJb</td>\n",
       "      <td>Tostitos Bite Size Tortilla Chips</td>\n",
       "    </tr>\n",
       "    <tr>\n",
       "      <th>8755</th>\n",
       "      <td>AVpfGuDrLJeJML432fDz</td>\n",
       "      <td>Pleasant Hearth Diamond Fireplace Screen - Esp...</td>\n",
       "    </tr>\n",
       "    <tr>\n",
       "      <th>8784</th>\n",
       "      <td>AVpe9W4D1cnluZ0-avf0</td>\n",
       "      <td>Hoover174 Platinum Collection153 Lightweight B...</td>\n",
       "    </tr>\n",
       "    <tr>\n",
       "      <th>9117</th>\n",
       "      <td>AVpe41TqilAPnD_xQH3d</td>\n",
       "      <td>Mike Dave Need Wedding Dates (dvd + Digital)</td>\n",
       "    </tr>\n",
       "    <tr>\n",
       "      <th>9833</th>\n",
       "      <td>AVpfazX31cnluZ0-kbdl</td>\n",
       "      <td>Just For Men Touch Of Gray Gray Hair Treatment...</td>\n",
       "    </tr>\n",
       "    <tr>\n",
       "      <th>10050</th>\n",
       "      <td>AVpe8q4T1cnluZ0-afct</td>\n",
       "      <td>Newman's Own Organics Licorice Twist, Black 5oz</td>\n",
       "    </tr>\n",
       "    <tr>\n",
       "      <th>10056</th>\n",
       "      <td>AVpfRTh1ilAPnD_xYic2</td>\n",
       "      <td>Planes: Fire Rescue (2 Discs) (includes Digita...</td>\n",
       "    </tr>\n",
       "    <tr>\n",
       "      <th>11153</th>\n",
       "      <td>AVpfOmKwLJeJML435GM7</td>\n",
       "      <td>Clear Scalp &amp; Hair Therapy Total Care Nourishi...</td>\n",
       "    </tr>\n",
       "    <tr>\n",
       "      <th>11391</th>\n",
       "      <td>AVpfluP1ilAPnD_xejxO</td>\n",
       "      <td>Stacy's Simply Naked Bagel Chips</td>\n",
       "    </tr>\n",
       "    <tr>\n",
       "      <th>11415</th>\n",
       "      <td>AVpe8gsILJeJML43y6Ed</td>\n",
       "      <td>Pendaflex174 Divide It Up File Folder, Multi S...</td>\n",
       "    </tr>\n",
       "    <tr>\n",
       "      <th>11725</th>\n",
       "      <td>AV1YqAaMGV-KLJ3adiDj</td>\n",
       "      <td>Neutrogena Wet Skin Sunscreen Spray Broad Spec...</td>\n",
       "    </tr>\n",
       "    <tr>\n",
       "      <th>11739</th>\n",
       "      <td>AVpfliCoilAPnD_xegIr</td>\n",
       "      <td>0.6 Cu. Ft. Letter A4 Size Waterproof 30 Min. ...</td>\n",
       "    </tr>\n",
       "    <tr>\n",
       "      <th>11745</th>\n",
       "      <td>AV1ZSp2uglJLPUi8IQFy</td>\n",
       "      <td>Cetaphil Gentle Skin Cleanser, 2oz</td>\n",
       "    </tr>\n",
       "    <tr>\n",
       "      <th>11752</th>\n",
       "      <td>AVpe8xjUilAPnD_xRkxC</td>\n",
       "      <td>The Honest Company Laundry Detergent</td>\n",
       "    </tr>\n",
       "    <tr>\n",
       "      <th>11771</th>\n",
       "      <td>AVpf0pfrilAPnD_xi6s_</td>\n",
       "      <td>Nearly Natural 5.5' Bamboo W/decorative Planter</td>\n",
       "    </tr>\n",
       "  </tbody>\n",
       "</table>\n",
       "</div>"
      ],
      "text/plain": [
       "                         id                                               name\n",
       "0      AV1Ymf_rglJLPUi8II2v                      Cars Toon: Mater's Tall Tales\n",
       "34     AVpf3VOfilAPnD_xjpun  Clorox Disinfecting Wipes Value Pack Scented 1...\n",
       "7820   AVpfr5cb1cnluZ0-pZFp  Boraam Sonoma Kitchen Cart With Wire Brush Gra...\n",
       "7843   AVpfBpnEilAPnD_xTUBx             All,bran Complete Wheat Flakes, 18 Oz.\n",
       "7854   AVpe59io1cnluZ0-ZgDU  My Big Fat Greek Wedding 2 (blu-Ray + Dvd + Di...\n",
       "8504   AVpfM_ytilAPnD_xXIJb                  Tostitos Bite Size Tortilla Chips\n",
       "8755   AVpfGuDrLJeJML432fDz  Pleasant Hearth Diamond Fireplace Screen - Esp...\n",
       "8784   AVpe9W4D1cnluZ0-avf0  Hoover174 Platinum Collection153 Lightweight B...\n",
       "9117   AVpe41TqilAPnD_xQH3d       Mike Dave Need Wedding Dates (dvd + Digital)\n",
       "9833   AVpfazX31cnluZ0-kbdl  Just For Men Touch Of Gray Gray Hair Treatment...\n",
       "10050  AVpe8q4T1cnluZ0-afct    Newman's Own Organics Licorice Twist, Black 5oz\n",
       "10056  AVpfRTh1ilAPnD_xYic2  Planes: Fire Rescue (2 Discs) (includes Digita...\n",
       "11153  AVpfOmKwLJeJML435GM7  Clear Scalp & Hair Therapy Total Care Nourishi...\n",
       "11391  AVpfluP1ilAPnD_xejxO                   Stacy's Simply Naked Bagel Chips\n",
       "11415  AVpe8gsILJeJML43y6Ed  Pendaflex174 Divide It Up File Folder, Multi S...\n",
       "11725  AV1YqAaMGV-KLJ3adiDj  Neutrogena Wet Skin Sunscreen Spray Broad Spec...\n",
       "11739  AVpfliCoilAPnD_xegIr  0.6 Cu. Ft. Letter A4 Size Waterproof 30 Min. ...\n",
       "11745  AV1ZSp2uglJLPUi8IQFy                 Cetaphil Gentle Skin Cleanser, 2oz\n",
       "11752  AVpe8xjUilAPnD_xRkxC               The Honest Company Laundry Detergent\n",
       "11771  AVpf0pfrilAPnD_xi6s_    Nearly Natural 5.5' Bamboo W/decorative Planter"
      ]
     },
     "execution_count": 146,
     "metadata": {},
     "output_type": "execute_result"
    }
   ],
   "source": [
    "pd.DataFrame(item_recommendation).reset_index().merge(df, right_on='id',left_on='id').drop_duplicates(['id','name'])[['id','name']]"
   ]
  },
  {
   "cell_type": "markdown",
   "metadata": {
    "id": "jjg4AQbcExdN"
   },
   "source": [
    "# Evaluation - Item Item"
   ]
  },
  {
   "cell_type": "markdown",
   "metadata": {
    "id": "qtw9ebU1ExdN"
   },
   "source": [
    "Evaluation will we same as you have seen above for the prediction. The only difference being, you will evaluate for the product already rated by the user insead of predicting it for the product not rated by the user. "
   ]
  },
  {
   "cell_type": "code",
   "execution_count": 147,
   "metadata": {
    "colab": {
     "base_uri": "https://localhost:8080/"
    },
    "executionInfo": {
     "elapsed": 66,
     "status": "ok",
     "timestamp": 1633278764565,
     "user": {
      "displayName": "Bhavini G",
      "photoUrl": "https://lh3.googleusercontent.com/a/default-user=s64",
      "userId": "04864105761682059327"
     },
     "user_tz": 420
    },
    "id": "C-EiZ7gNAUQS",
    "outputId": "a26f444b-1848-4a02-cdab-d8c996d1c89e"
   },
   "outputs": [
    {
     "data": {
      "text/plain": [
       "Index(['reviews_username', 'id', 'reviews_rating'], dtype='object')"
      ]
     },
     "execution_count": 147,
     "metadata": {},
     "output_type": "execute_result"
    }
   ],
   "source": [
    "test.columns"
   ]
  },
  {
   "cell_type": "code",
   "execution_count": 148,
   "metadata": {
    "colab": {
     "base_uri": "https://localhost:8080/"
    },
    "executionInfo": {
     "elapsed": 33,
     "status": "ok",
     "timestamp": 1633278764566,
     "user": {
      "displayName": "Bhavini G",
      "photoUrl": "https://lh3.googleusercontent.com/a/default-user=s64",
      "userId": "04864105761682059327"
     },
     "user_tz": 420
    },
    "id": "d_ExtVCaWiEq",
    "outputId": "bb2f0fc5-e68c-435e-d35d-27a06a49dc8e"
   },
   "outputs": [
    {
     "data": {
      "text/plain": [
       "(8253, 3)"
      ]
     },
     "execution_count": 148,
     "metadata": {},
     "output_type": "execute_result"
    }
   ],
   "source": [
    "common =  test[test.id.isin(train.id)]\n",
    "common.shape"
   ]
  },
  {
   "cell_type": "code",
   "execution_count": 149,
   "metadata": {
    "colab": {
     "base_uri": "https://localhost:8080/",
     "height": 173
    },
    "executionInfo": {
     "elapsed": 7,
     "status": "ok",
     "timestamp": 1633278764566,
     "user": {
      "displayName": "Bhavini G",
      "photoUrl": "https://lh3.googleusercontent.com/a/default-user=s64",
      "userId": "04864105761682059327"
     },
     "user_tz": 420
    },
    "id": "uXgx9w9c0ti5",
    "outputId": "b7baecf6-441e-4513-ac40-0171b92577d7"
   },
   "outputs": [
    {
     "data": {
      "text/html": [
       "<div>\n",
       "<style scoped>\n",
       "    .dataframe tbody tr th:only-of-type {\n",
       "        vertical-align: middle;\n",
       "    }\n",
       "\n",
       "    .dataframe tbody tr th {\n",
       "        vertical-align: top;\n",
       "    }\n",
       "\n",
       "    .dataframe thead th {\n",
       "        text-align: right;\n",
       "    }\n",
       "</style>\n",
       "<table border=\"1\" class=\"dataframe\">\n",
       "  <thead>\n",
       "    <tr style=\"text-align: right;\">\n",
       "      <th></th>\n",
       "      <th>reviews_username</th>\n",
       "      <th>id</th>\n",
       "      <th>reviews_rating</th>\n",
       "    </tr>\n",
       "  </thead>\n",
       "  <tbody>\n",
       "    <tr>\n",
       "      <th>22245</th>\n",
       "      <td>albertacanada</td>\n",
       "      <td>AVpfOIrkilAPnD_xXgDG</td>\n",
       "      <td>4</td>\n",
       "    </tr>\n",
       "    <tr>\n",
       "      <th>23552</th>\n",
       "      <td>divisionofmind</td>\n",
       "      <td>AVpfPaoqLJeJML435Xk9</td>\n",
       "      <td>4</td>\n",
       "    </tr>\n",
       "    <tr>\n",
       "      <th>8043</th>\n",
       "      <td>guardianlona</td>\n",
       "      <td>AVpf3VOfilAPnD_xjpun</td>\n",
       "      <td>5</td>\n",
       "    </tr>\n",
       "    <tr>\n",
       "      <th>4245</th>\n",
       "      <td>teresa</td>\n",
       "      <td>AVpe9W4D1cnluZ0-avf0</td>\n",
       "      <td>5</td>\n",
       "    </tr>\n",
       "  </tbody>\n",
       "</table>\n",
       "</div>"
      ],
      "text/plain": [
       "      reviews_username                    id  reviews_rating\n",
       "22245    albertacanada  AVpfOIrkilAPnD_xXgDG               4\n",
       "23552   divisionofmind  AVpfPaoqLJeJML435Xk9               4\n",
       "8043      guardianlona  AVpf3VOfilAPnD_xjpun               5\n",
       "4245            teresa  AVpe9W4D1cnluZ0-avf0               5"
      ]
     },
     "execution_count": 149,
     "metadata": {},
     "output_type": "execute_result"
    }
   ],
   "source": [
    "common.head(4)"
   ]
  },
  {
   "cell_type": "code",
   "execution_count": 150,
   "metadata": {
    "id": "3xinGmbxHdsL"
   },
   "outputs": [],
   "source": [
    "common_item_based_matrix = common.pivot_table(index='reviews_username', columns='id', values='reviews_rating').T"
   ]
  },
  {
   "cell_type": "code",
   "execution_count": 151,
   "metadata": {
    "colab": {
     "base_uri": "https://localhost:8080/"
    },
    "executionInfo": {
     "elapsed": 20,
     "status": "ok",
     "timestamp": 1633278764720,
     "user": {
      "displayName": "Bhavini G",
      "photoUrl": "https://lh3.googleusercontent.com/a/default-user=s64",
      "userId": "04864105761682059327"
     },
     "user_tz": 420
    },
    "id": "bj7SQa36H2tC",
    "outputId": "0459ac7e-d030-4a37-d446-238a5931556c"
   },
   "outputs": [
    {
     "data": {
      "text/plain": [
       "(196, 7898)"
      ]
     },
     "execution_count": 151,
     "metadata": {},
     "output_type": "execute_result"
    }
   ],
   "source": [
    "common_item_based_matrix.shape"
   ]
  },
  {
   "cell_type": "code",
   "execution_count": 152,
   "metadata": {
    "id": "n80CcpaX1UQ8"
   },
   "outputs": [],
   "source": [
    "item_correlation_df = pd.DataFrame(item_correlation)"
   ]
  },
  {
   "cell_type": "code",
   "execution_count": 153,
   "metadata": {
    "colab": {
     "base_uri": "https://localhost:8080/",
     "height": 129
    },
    "executionInfo": {
     "elapsed": 5,
     "status": "ok",
     "timestamp": 1633278764721,
     "user": {
      "displayName": "Bhavini G",
      "photoUrl": "https://lh3.googleusercontent.com/a/default-user=s64",
      "userId": "04864105761682059327"
     },
     "user_tz": 420
    },
    "id": "OTOgMuup1g_G",
    "outputId": "3d3d41b8-8e55-4686-b166-f30f212ac4ac"
   },
   "outputs": [
    {
     "data": {
      "text/html": [
       "<div>\n",
       "<style scoped>\n",
       "    .dataframe tbody tr th:only-of-type {\n",
       "        vertical-align: middle;\n",
       "    }\n",
       "\n",
       "    .dataframe tbody tr th {\n",
       "        vertical-align: top;\n",
       "    }\n",
       "\n",
       "    .dataframe thead th {\n",
       "        text-align: right;\n",
       "    }\n",
       "</style>\n",
       "<table border=\"1\" class=\"dataframe\">\n",
       "  <thead>\n",
       "    <tr style=\"text-align: right;\">\n",
       "      <th></th>\n",
       "      <th>0</th>\n",
       "      <th>1</th>\n",
       "      <th>2</th>\n",
       "      <th>3</th>\n",
       "      <th>4</th>\n",
       "      <th>5</th>\n",
       "      <th>6</th>\n",
       "      <th>7</th>\n",
       "      <th>8</th>\n",
       "      <th>9</th>\n",
       "      <th>...</th>\n",
       "      <th>245</th>\n",
       "      <th>246</th>\n",
       "      <th>247</th>\n",
       "      <th>248</th>\n",
       "      <th>249</th>\n",
       "      <th>250</th>\n",
       "      <th>251</th>\n",
       "      <th>252</th>\n",
       "      <th>253</th>\n",
       "      <th>254</th>\n",
       "    </tr>\n",
       "  </thead>\n",
       "  <tbody>\n",
       "    <tr>\n",
       "      <th>0</th>\n",
       "      <td>0.0</td>\n",
       "      <td>0.0</td>\n",
       "      <td>0.0</td>\n",
       "      <td>0.0</td>\n",
       "      <td>0.0</td>\n",
       "      <td>0.0</td>\n",
       "      <td>0.0</td>\n",
       "      <td>0.0</td>\n",
       "      <td>0.0</td>\n",
       "      <td>0.0</td>\n",
       "      <td>...</td>\n",
       "      <td>0.0</td>\n",
       "      <td>0.0</td>\n",
       "      <td>0.0</td>\n",
       "      <td>0.0</td>\n",
       "      <td>0.0</td>\n",
       "      <td>0.0</td>\n",
       "      <td>0.0</td>\n",
       "      <td>0.0</td>\n",
       "      <td>0.0</td>\n",
       "      <td>0.0</td>\n",
       "    </tr>\n",
       "  </tbody>\n",
       "</table>\n",
       "<p>1 rows × 255 columns</p>\n",
       "</div>"
      ],
      "text/plain": [
       "   0    1    2    3    4    5    6    7    8    9    ...  245  246  247  248  \\\n",
       "0  0.0  0.0  0.0  0.0  0.0  0.0  0.0  0.0  0.0  0.0  ...  0.0  0.0  0.0  0.0   \n",
       "\n",
       "   249  250  251  252  253  254  \n",
       "0  0.0  0.0  0.0  0.0  0.0  0.0  \n",
       "\n",
       "[1 rows x 255 columns]"
      ]
     },
     "execution_count": 153,
     "metadata": {},
     "output_type": "execute_result"
    }
   ],
   "source": [
    "item_correlation_df.head(1)"
   ]
  },
  {
   "cell_type": "code",
   "execution_count": 154,
   "metadata": {
    "colab": {
     "base_uri": "https://localhost:8080/",
     "height": 369
    },
    "executionInfo": {
     "elapsed": 164,
     "status": "ok",
     "timestamp": 1633278764881,
     "user": {
      "displayName": "Bhavini G",
      "photoUrl": "https://lh3.googleusercontent.com/a/default-user=s64",
      "userId": "04864105761682059327"
     },
     "user_tz": 420
    },
    "id": "EA7LH-mK1dUM",
    "outputId": "0cc81640-3f62-4998-9f1a-1a42317cbebf"
   },
   "outputs": [
    {
     "data": {
      "text/html": [
       "<div>\n",
       "<style scoped>\n",
       "    .dataframe tbody tr th:only-of-type {\n",
       "        vertical-align: middle;\n",
       "    }\n",
       "\n",
       "    .dataframe tbody tr th {\n",
       "        vertical-align: top;\n",
       "    }\n",
       "\n",
       "    .dataframe thead th {\n",
       "        text-align: right;\n",
       "    }\n",
       "</style>\n",
       "<table border=\"1\" class=\"dataframe\">\n",
       "  <thead>\n",
       "    <tr style=\"text-align: right;\">\n",
       "      <th></th>\n",
       "      <th>0</th>\n",
       "      <th>1</th>\n",
       "      <th>2</th>\n",
       "      <th>3</th>\n",
       "      <th>4</th>\n",
       "      <th>5</th>\n",
       "      <th>6</th>\n",
       "      <th>7</th>\n",
       "      <th>8</th>\n",
       "      <th>9</th>\n",
       "      <th>...</th>\n",
       "      <th>245</th>\n",
       "      <th>246</th>\n",
       "      <th>247</th>\n",
       "      <th>248</th>\n",
       "      <th>249</th>\n",
       "      <th>250</th>\n",
       "      <th>251</th>\n",
       "      <th>252</th>\n",
       "      <th>253</th>\n",
       "      <th>254</th>\n",
       "    </tr>\n",
       "    <tr>\n",
       "      <th>id</th>\n",
       "      <th></th>\n",
       "      <th></th>\n",
       "      <th></th>\n",
       "      <th></th>\n",
       "      <th></th>\n",
       "      <th></th>\n",
       "      <th></th>\n",
       "      <th></th>\n",
       "      <th></th>\n",
       "      <th></th>\n",
       "      <th></th>\n",
       "      <th></th>\n",
       "      <th></th>\n",
       "      <th></th>\n",
       "      <th></th>\n",
       "      <th></th>\n",
       "      <th></th>\n",
       "      <th></th>\n",
       "      <th></th>\n",
       "      <th></th>\n",
       "      <th></th>\n",
       "    </tr>\n",
       "  </thead>\n",
       "  <tbody>\n",
       "    <tr>\n",
       "      <th>AV13O1A8GV-KLJ3akUyj</th>\n",
       "      <td>0.0</td>\n",
       "      <td>0.0</td>\n",
       "      <td>0.0</td>\n",
       "      <td>0.0</td>\n",
       "      <td>0.0</td>\n",
       "      <td>0.0</td>\n",
       "      <td>0.0</td>\n",
       "      <td>0.0</td>\n",
       "      <td>0.0</td>\n",
       "      <td>0.0</td>\n",
       "      <td>...</td>\n",
       "      <td>0.0</td>\n",
       "      <td>0.0</td>\n",
       "      <td>0.0</td>\n",
       "      <td>0.0</td>\n",
       "      <td>0.0</td>\n",
       "      <td>0.0</td>\n",
       "      <td>0.000000</td>\n",
       "      <td>0.0</td>\n",
       "      <td>0.0</td>\n",
       "      <td>0.0</td>\n",
       "    </tr>\n",
       "    <tr>\n",
       "      <th>AV14LG0R-jtxr-f38QfS</th>\n",
       "      <td>0.0</td>\n",
       "      <td>0.0</td>\n",
       "      <td>0.0</td>\n",
       "      <td>0.0</td>\n",
       "      <td>0.0</td>\n",
       "      <td>0.0</td>\n",
       "      <td>0.0</td>\n",
       "      <td>0.0</td>\n",
       "      <td>0.0</td>\n",
       "      <td>0.0</td>\n",
       "      <td>...</td>\n",
       "      <td>0.0</td>\n",
       "      <td>0.0</td>\n",
       "      <td>0.0</td>\n",
       "      <td>0.0</td>\n",
       "      <td>0.0</td>\n",
       "      <td>0.0</td>\n",
       "      <td>0.000000</td>\n",
       "      <td>0.0</td>\n",
       "      <td>0.0</td>\n",
       "      <td>0.0</td>\n",
       "    </tr>\n",
       "    <tr>\n",
       "      <th>AV16khLE-jtxr-f38VFn</th>\n",
       "      <td>0.0</td>\n",
       "      <td>0.0</td>\n",
       "      <td>1.0</td>\n",
       "      <td>0.0</td>\n",
       "      <td>0.0</td>\n",
       "      <td>0.0</td>\n",
       "      <td>0.0</td>\n",
       "      <td>0.0</td>\n",
       "      <td>0.0</td>\n",
       "      <td>0.0</td>\n",
       "      <td>...</td>\n",
       "      <td>0.0</td>\n",
       "      <td>0.0</td>\n",
       "      <td>0.0</td>\n",
       "      <td>0.0</td>\n",
       "      <td>0.0</td>\n",
       "      <td>0.0</td>\n",
       "      <td>0.000000</td>\n",
       "      <td>0.0</td>\n",
       "      <td>0.0</td>\n",
       "      <td>0.0</td>\n",
       "    </tr>\n",
       "    <tr>\n",
       "      <th>AV1YGDqsGV-KLJ3adc-O</th>\n",
       "      <td>0.0</td>\n",
       "      <td>0.0</td>\n",
       "      <td>0.0</td>\n",
       "      <td>1.0</td>\n",
       "      <td>0.0</td>\n",
       "      <td>0.0</td>\n",
       "      <td>0.0</td>\n",
       "      <td>0.0</td>\n",
       "      <td>0.0</td>\n",
       "      <td>0.0</td>\n",
       "      <td>...</td>\n",
       "      <td>0.0</td>\n",
       "      <td>0.0</td>\n",
       "      <td>0.0</td>\n",
       "      <td>0.0</td>\n",
       "      <td>0.0</td>\n",
       "      <td>0.0</td>\n",
       "      <td>0.001908</td>\n",
       "      <td>0.0</td>\n",
       "      <td>0.0</td>\n",
       "      <td>0.0</td>\n",
       "    </tr>\n",
       "    <tr>\n",
       "      <th>AV1YIch7GV-KLJ3addeG</th>\n",
       "      <td>0.0</td>\n",
       "      <td>0.0</td>\n",
       "      <td>0.0</td>\n",
       "      <td>0.0</td>\n",
       "      <td>0.0</td>\n",
       "      <td>0.0</td>\n",
       "      <td>0.0</td>\n",
       "      <td>0.0</td>\n",
       "      <td>0.0</td>\n",
       "      <td>0.0</td>\n",
       "      <td>...</td>\n",
       "      <td>0.0</td>\n",
       "      <td>0.0</td>\n",
       "      <td>0.0</td>\n",
       "      <td>0.0</td>\n",
       "      <td>0.0</td>\n",
       "      <td>0.0</td>\n",
       "      <td>0.000000</td>\n",
       "      <td>0.0</td>\n",
       "      <td>0.0</td>\n",
       "      <td>0.0</td>\n",
       "    </tr>\n",
       "  </tbody>\n",
       "</table>\n",
       "<p>5 rows × 255 columns</p>\n",
       "</div>"
      ],
      "text/plain": [
       "                      0    1    2    3    4    5    6    7    8    9    ...  \\\n",
       "id                                                                      ...   \n",
       "AV13O1A8GV-KLJ3akUyj  0.0  0.0  0.0  0.0  0.0  0.0  0.0  0.0  0.0  0.0  ...   \n",
       "AV14LG0R-jtxr-f38QfS  0.0  0.0  0.0  0.0  0.0  0.0  0.0  0.0  0.0  0.0  ...   \n",
       "AV16khLE-jtxr-f38VFn  0.0  0.0  1.0  0.0  0.0  0.0  0.0  0.0  0.0  0.0  ...   \n",
       "AV1YGDqsGV-KLJ3adc-O  0.0  0.0  0.0  1.0  0.0  0.0  0.0  0.0  0.0  0.0  ...   \n",
       "AV1YIch7GV-KLJ3addeG  0.0  0.0  0.0  0.0  0.0  0.0  0.0  0.0  0.0  0.0  ...   \n",
       "\n",
       "                      245  246  247  248  249  250       251  252  253  254  \n",
       "id                                                                           \n",
       "AV13O1A8GV-KLJ3akUyj  0.0  0.0  0.0  0.0  0.0  0.0  0.000000  0.0  0.0  0.0  \n",
       "AV14LG0R-jtxr-f38QfS  0.0  0.0  0.0  0.0  0.0  0.0  0.000000  0.0  0.0  0.0  \n",
       "AV16khLE-jtxr-f38VFn  0.0  0.0  0.0  0.0  0.0  0.0  0.000000  0.0  0.0  0.0  \n",
       "AV1YGDqsGV-KLJ3adc-O  0.0  0.0  0.0  0.0  0.0  0.0  0.001908  0.0  0.0  0.0  \n",
       "AV1YIch7GV-KLJ3addeG  0.0  0.0  0.0  0.0  0.0  0.0  0.000000  0.0  0.0  0.0  \n",
       "\n",
       "[5 rows x 255 columns]"
      ]
     },
     "execution_count": 154,
     "metadata": {},
     "output_type": "execute_result"
    }
   ],
   "source": [
    "item_correlation_df['id'] = df_subtracted.index\n",
    "item_correlation_df.set_index('id',inplace=True)\n",
    "item_correlation_df.head()"
   ]
  },
  {
   "cell_type": "code",
   "execution_count": 155,
   "metadata": {
    "id": "qIjL6zHB1-45"
   },
   "outputs": [],
   "source": [
    "list_name = common.id.tolist()"
   ]
  },
  {
   "cell_type": "code",
   "execution_count": 156,
   "metadata": {
    "id": "sLYXW2c42EjC"
   },
   "outputs": [],
   "source": [
    "item_correlation_df.columns = df_subtracted.index.tolist()\n",
    "\n",
    "item_correlation_df_1 =  item_correlation_df[item_correlation_df.index.isin(list_name)]"
   ]
  },
  {
   "cell_type": "code",
   "execution_count": 157,
   "metadata": {
    "id": "r5PhoITK2L9i"
   },
   "outputs": [],
   "source": [
    "item_correlation_df_2 = item_correlation_df_1.T[item_correlation_df_1.T.index.isin(list_name)]\n",
    "\n",
    "item_correlation_df_3 = item_correlation_df_2.T"
   ]
  },
  {
   "cell_type": "code",
   "execution_count": 158,
   "metadata": {
    "colab": {
     "base_uri": "https://localhost:8080/",
     "height": 318
    },
    "executionInfo": {
     "elapsed": 265,
     "status": "ok",
     "timestamp": 1633278765144,
     "user": {
      "displayName": "Bhavini G",
      "photoUrl": "https://lh3.googleusercontent.com/a/default-user=s64",
      "userId": "04864105761682059327"
     },
     "user_tz": 420
    },
    "id": "A9CBf1QCfiwB",
    "outputId": "1166c639-d142-4ee5-c267-edf22822439f"
   },
   "outputs": [
    {
     "data": {
      "text/html": [
       "<div>\n",
       "<style scoped>\n",
       "    .dataframe tbody tr th:only-of-type {\n",
       "        vertical-align: middle;\n",
       "    }\n",
       "\n",
       "    .dataframe tbody tr th {\n",
       "        vertical-align: top;\n",
       "    }\n",
       "\n",
       "    .dataframe thead th {\n",
       "        text-align: right;\n",
       "    }\n",
       "</style>\n",
       "<table border=\"1\" class=\"dataframe\">\n",
       "  <thead>\n",
       "    <tr style=\"text-align: right;\">\n",
       "      <th></th>\n",
       "      <th>AV16khLE-jtxr-f38VFn</th>\n",
       "      <th>AV1YGDqsGV-KLJ3adc-O</th>\n",
       "      <th>AV1YlENIglJLPUi8IHsX</th>\n",
       "      <th>AV1YmBrdGV-KLJ3adewb</th>\n",
       "      <th>AV1YmDL9vKc47QAVgr7_</th>\n",
       "      <th>AV1Ymf_rglJLPUi8II2v</th>\n",
       "      <th>AV1Yn94nvKc47QAVgtst</th>\n",
       "      <th>AV1Ynb3bglJLPUi8IJxJ</th>\n",
       "      <th>AV1YneDPglJLPUi8IJyQ</th>\n",
       "      <th>AV1YqAaMGV-KLJ3adiDj</th>\n",
       "      <th>...</th>\n",
       "      <th>AVpfr5cb1cnluZ0-pZFp</th>\n",
       "      <th>AVpfrFDZLJeJML43Bmv0</th>\n",
       "      <th>AVpfrTyiLJeJML43BrSI</th>\n",
       "      <th>AVpfrfHF1cnluZ0-pRai</th>\n",
       "      <th>AVpfrgjFLJeJML43BvCc</th>\n",
       "      <th>AVpfs0tUilAPnD_xgqN2</th>\n",
       "      <th>AVpfthSailAPnD_xg3ON</th>\n",
       "      <th>AVpftikC1cnluZ0-p31V</th>\n",
       "      <th>AVpfv4TlilAPnD_xhjNS</th>\n",
       "      <th>AVpfvieo1cnluZ0-qdnu</th>\n",
       "    </tr>\n",
       "    <tr>\n",
       "      <th>id</th>\n",
       "      <th></th>\n",
       "      <th></th>\n",
       "      <th></th>\n",
       "      <th></th>\n",
       "      <th></th>\n",
       "      <th></th>\n",
       "      <th></th>\n",
       "      <th></th>\n",
       "      <th></th>\n",
       "      <th></th>\n",
       "      <th></th>\n",
       "      <th></th>\n",
       "      <th></th>\n",
       "      <th></th>\n",
       "      <th></th>\n",
       "      <th></th>\n",
       "      <th></th>\n",
       "      <th></th>\n",
       "      <th></th>\n",
       "      <th></th>\n",
       "      <th></th>\n",
       "    </tr>\n",
       "  </thead>\n",
       "  <tbody>\n",
       "    <tr>\n",
       "      <th>AV16khLE-jtxr-f38VFn</th>\n",
       "      <td>1.0</td>\n",
       "      <td>0.0</td>\n",
       "      <td>0.0</td>\n",
       "      <td>0.0</td>\n",
       "      <td>0.0</td>\n",
       "      <td>0.0</td>\n",
       "      <td>0.0</td>\n",
       "      <td>0.0</td>\n",
       "      <td>0.0</td>\n",
       "      <td>0.0</td>\n",
       "      <td>...</td>\n",
       "      <td>0.0</td>\n",
       "      <td>0.0</td>\n",
       "      <td>0.0</td>\n",
       "      <td>0.0</td>\n",
       "      <td>0.0</td>\n",
       "      <td>0.0</td>\n",
       "      <td>0.0</td>\n",
       "      <td>0.000000</td>\n",
       "      <td>0.0</td>\n",
       "      <td>0.0</td>\n",
       "    </tr>\n",
       "    <tr>\n",
       "      <th>AV1YGDqsGV-KLJ3adc-O</th>\n",
       "      <td>0.0</td>\n",
       "      <td>1.0</td>\n",
       "      <td>0.0</td>\n",
       "      <td>0.0</td>\n",
       "      <td>0.0</td>\n",
       "      <td>0.0</td>\n",
       "      <td>0.0</td>\n",
       "      <td>0.0</td>\n",
       "      <td>0.0</td>\n",
       "      <td>0.0</td>\n",
       "      <td>...</td>\n",
       "      <td>0.0</td>\n",
       "      <td>0.0</td>\n",
       "      <td>0.0</td>\n",
       "      <td>0.0</td>\n",
       "      <td>0.0</td>\n",
       "      <td>0.0</td>\n",
       "      <td>0.0</td>\n",
       "      <td>0.001908</td>\n",
       "      <td>0.0</td>\n",
       "      <td>0.0</td>\n",
       "    </tr>\n",
       "    <tr>\n",
       "      <th>AV1YlENIglJLPUi8IHsX</th>\n",
       "      <td>0.0</td>\n",
       "      <td>0.0</td>\n",
       "      <td>1.0</td>\n",
       "      <td>0.0</td>\n",
       "      <td>0.0</td>\n",
       "      <td>0.0</td>\n",
       "      <td>0.0</td>\n",
       "      <td>0.0</td>\n",
       "      <td>0.0</td>\n",
       "      <td>0.0</td>\n",
       "      <td>...</td>\n",
       "      <td>0.0</td>\n",
       "      <td>0.0</td>\n",
       "      <td>0.0</td>\n",
       "      <td>0.0</td>\n",
       "      <td>0.0</td>\n",
       "      <td>0.0</td>\n",
       "      <td>0.0</td>\n",
       "      <td>0.000000</td>\n",
       "      <td>0.0</td>\n",
       "      <td>0.0</td>\n",
       "    </tr>\n",
       "    <tr>\n",
       "      <th>AV1YmBrdGV-KLJ3adewb</th>\n",
       "      <td>0.0</td>\n",
       "      <td>0.0</td>\n",
       "      <td>0.0</td>\n",
       "      <td>1.0</td>\n",
       "      <td>0.0</td>\n",
       "      <td>0.0</td>\n",
       "      <td>0.0</td>\n",
       "      <td>0.0</td>\n",
       "      <td>0.0</td>\n",
       "      <td>0.0</td>\n",
       "      <td>...</td>\n",
       "      <td>0.0</td>\n",
       "      <td>0.0</td>\n",
       "      <td>0.0</td>\n",
       "      <td>0.0</td>\n",
       "      <td>0.0</td>\n",
       "      <td>0.0</td>\n",
       "      <td>0.0</td>\n",
       "      <td>0.000000</td>\n",
       "      <td>0.0</td>\n",
       "      <td>0.0</td>\n",
       "    </tr>\n",
       "    <tr>\n",
       "      <th>AV1YmDL9vKc47QAVgr7_</th>\n",
       "      <td>0.0</td>\n",
       "      <td>0.0</td>\n",
       "      <td>0.0</td>\n",
       "      <td>0.0</td>\n",
       "      <td>1.0</td>\n",
       "      <td>0.0</td>\n",
       "      <td>0.0</td>\n",
       "      <td>0.0</td>\n",
       "      <td>0.0</td>\n",
       "      <td>0.0</td>\n",
       "      <td>...</td>\n",
       "      <td>0.0</td>\n",
       "      <td>0.0</td>\n",
       "      <td>0.0</td>\n",
       "      <td>0.0</td>\n",
       "      <td>0.0</td>\n",
       "      <td>0.0</td>\n",
       "      <td>0.0</td>\n",
       "      <td>0.000000</td>\n",
       "      <td>0.0</td>\n",
       "      <td>0.0</td>\n",
       "    </tr>\n",
       "  </tbody>\n",
       "</table>\n",
       "<p>5 rows × 196 columns</p>\n",
       "</div>"
      ],
      "text/plain": [
       "                      AV16khLE-jtxr-f38VFn  AV1YGDqsGV-KLJ3adc-O  \\\n",
       "id                                                                 \n",
       "AV16khLE-jtxr-f38VFn                   1.0                   0.0   \n",
       "AV1YGDqsGV-KLJ3adc-O                   0.0                   1.0   \n",
       "AV1YlENIglJLPUi8IHsX                   0.0                   0.0   \n",
       "AV1YmBrdGV-KLJ3adewb                   0.0                   0.0   \n",
       "AV1YmDL9vKc47QAVgr7_                   0.0                   0.0   \n",
       "\n",
       "                      AV1YlENIglJLPUi8IHsX  AV1YmBrdGV-KLJ3adewb  \\\n",
       "id                                                                 \n",
       "AV16khLE-jtxr-f38VFn                   0.0                   0.0   \n",
       "AV1YGDqsGV-KLJ3adc-O                   0.0                   0.0   \n",
       "AV1YlENIglJLPUi8IHsX                   1.0                   0.0   \n",
       "AV1YmBrdGV-KLJ3adewb                   0.0                   1.0   \n",
       "AV1YmDL9vKc47QAVgr7_                   0.0                   0.0   \n",
       "\n",
       "                      AV1YmDL9vKc47QAVgr7_  AV1Ymf_rglJLPUi8II2v  \\\n",
       "id                                                                 \n",
       "AV16khLE-jtxr-f38VFn                   0.0                   0.0   \n",
       "AV1YGDqsGV-KLJ3adc-O                   0.0                   0.0   \n",
       "AV1YlENIglJLPUi8IHsX                   0.0                   0.0   \n",
       "AV1YmBrdGV-KLJ3adewb                   0.0                   0.0   \n",
       "AV1YmDL9vKc47QAVgr7_                   1.0                   0.0   \n",
       "\n",
       "                      AV1Yn94nvKc47QAVgtst  AV1Ynb3bglJLPUi8IJxJ  \\\n",
       "id                                                                 \n",
       "AV16khLE-jtxr-f38VFn                   0.0                   0.0   \n",
       "AV1YGDqsGV-KLJ3adc-O                   0.0                   0.0   \n",
       "AV1YlENIglJLPUi8IHsX                   0.0                   0.0   \n",
       "AV1YmBrdGV-KLJ3adewb                   0.0                   0.0   \n",
       "AV1YmDL9vKc47QAVgr7_                   0.0                   0.0   \n",
       "\n",
       "                      AV1YneDPglJLPUi8IJyQ  AV1YqAaMGV-KLJ3adiDj  ...  \\\n",
       "id                                                                ...   \n",
       "AV16khLE-jtxr-f38VFn                   0.0                   0.0  ...   \n",
       "AV1YGDqsGV-KLJ3adc-O                   0.0                   0.0  ...   \n",
       "AV1YlENIglJLPUi8IHsX                   0.0                   0.0  ...   \n",
       "AV1YmBrdGV-KLJ3adewb                   0.0                   0.0  ...   \n",
       "AV1YmDL9vKc47QAVgr7_                   0.0                   0.0  ...   \n",
       "\n",
       "                      AVpfr5cb1cnluZ0-pZFp  AVpfrFDZLJeJML43Bmv0  \\\n",
       "id                                                                 \n",
       "AV16khLE-jtxr-f38VFn                   0.0                   0.0   \n",
       "AV1YGDqsGV-KLJ3adc-O                   0.0                   0.0   \n",
       "AV1YlENIglJLPUi8IHsX                   0.0                   0.0   \n",
       "AV1YmBrdGV-KLJ3adewb                   0.0                   0.0   \n",
       "AV1YmDL9vKc47QAVgr7_                   0.0                   0.0   \n",
       "\n",
       "                      AVpfrTyiLJeJML43BrSI  AVpfrfHF1cnluZ0-pRai  \\\n",
       "id                                                                 \n",
       "AV16khLE-jtxr-f38VFn                   0.0                   0.0   \n",
       "AV1YGDqsGV-KLJ3adc-O                   0.0                   0.0   \n",
       "AV1YlENIglJLPUi8IHsX                   0.0                   0.0   \n",
       "AV1YmBrdGV-KLJ3adewb                   0.0                   0.0   \n",
       "AV1YmDL9vKc47QAVgr7_                   0.0                   0.0   \n",
       "\n",
       "                      AVpfrgjFLJeJML43BvCc  AVpfs0tUilAPnD_xgqN2  \\\n",
       "id                                                                 \n",
       "AV16khLE-jtxr-f38VFn                   0.0                   0.0   \n",
       "AV1YGDqsGV-KLJ3adc-O                   0.0                   0.0   \n",
       "AV1YlENIglJLPUi8IHsX                   0.0                   0.0   \n",
       "AV1YmBrdGV-KLJ3adewb                   0.0                   0.0   \n",
       "AV1YmDL9vKc47QAVgr7_                   0.0                   0.0   \n",
       "\n",
       "                      AVpfthSailAPnD_xg3ON  AVpftikC1cnluZ0-p31V  \\\n",
       "id                                                                 \n",
       "AV16khLE-jtxr-f38VFn                   0.0              0.000000   \n",
       "AV1YGDqsGV-KLJ3adc-O                   0.0              0.001908   \n",
       "AV1YlENIglJLPUi8IHsX                   0.0              0.000000   \n",
       "AV1YmBrdGV-KLJ3adewb                   0.0              0.000000   \n",
       "AV1YmDL9vKc47QAVgr7_                   0.0              0.000000   \n",
       "\n",
       "                      AVpfv4TlilAPnD_xhjNS  AVpfvieo1cnluZ0-qdnu  \n",
       "id                                                                \n",
       "AV16khLE-jtxr-f38VFn                   0.0                   0.0  \n",
       "AV1YGDqsGV-KLJ3adc-O                   0.0                   0.0  \n",
       "AV1YlENIglJLPUi8IHsX                   0.0                   0.0  \n",
       "AV1YmBrdGV-KLJ3adewb                   0.0                   0.0  \n",
       "AV1YmDL9vKc47QAVgr7_                   0.0                   0.0  \n",
       "\n",
       "[5 rows x 196 columns]"
      ]
     },
     "execution_count": 158,
     "metadata": {},
     "output_type": "execute_result"
    }
   ],
   "source": [
    "item_correlation_df_3.head()"
   ]
  },
  {
   "cell_type": "code",
   "execution_count": 159,
   "metadata": {
    "colab": {
     "base_uri": "https://localhost:8080/"
    },
    "executionInfo": {
     "elapsed": 57,
     "status": "ok",
     "timestamp": 1633278765144,
     "user": {
      "displayName": "Bhavini G",
      "photoUrl": "https://lh3.googleusercontent.com/a/default-user=s64",
      "userId": "04864105761682059327"
     },
     "user_tz": 420
    },
    "id": "8d2XAuXw2SgZ",
    "outputId": "99b2b94d-86d8-4b42-d757-854c94c5d243"
   },
   "outputs": [
    {
     "data": {
      "text/plain": [
       "array([[0.        , 0.        , 0.        , ..., 0.        , 0.        ,\n",
       "        0.        ],\n",
       "       [0.        , 0.        , 0.        , ..., 0.        , 0.        ,\n",
       "        0.        ],\n",
       "       [0.        , 0.        , 0.        , ..., 0.        , 0.        ,\n",
       "        0.        ],\n",
       "       ...,\n",
       "       [0.00426421, 0.00110532, 0.00147376, ..., 0.        , 0.        ,\n",
       "        0.        ],\n",
       "       [0.        , 0.        , 0.        , ..., 0.        , 0.        ,\n",
       "        0.        ],\n",
       "       [0.        , 0.        , 0.        , ..., 0.        , 0.        ,\n",
       "        0.        ]])"
      ]
     },
     "execution_count": 159,
     "metadata": {},
     "output_type": "execute_result"
    }
   ],
   "source": [
    "item_correlation_df_3[item_correlation_df_3<0]=0\n",
    "\n",
    "common_item_predicted_ratings = np.dot(item_correlation_df_3, common_item_based_matrix.fillna(0))\n",
    "common_item_predicted_ratings\n"
   ]
  },
  {
   "cell_type": "code",
   "execution_count": 160,
   "metadata": {
    "colab": {
     "base_uri": "https://localhost:8080/"
    },
    "executionInfo": {
     "elapsed": 250,
     "status": "ok",
     "timestamp": 1633278765365,
     "user": {
      "displayName": "Bhavini G",
      "photoUrl": "https://lh3.googleusercontent.com/a/default-user=s64",
      "userId": "04864105761682059327"
     },
     "user_tz": 420
    },
    "id": "-7SeXXO_bHfM",
    "outputId": "c0583f5b-3147-4e77-9b8e-7bd7a11398d7"
   },
   "outputs": [
    {
     "data": {
      "text/plain": [
       "(196, 7898)"
      ]
     },
     "execution_count": 160,
     "metadata": {},
     "output_type": "execute_result"
    }
   ],
   "source": [
    "common_item_predicted_ratings.shape"
   ]
  },
  {
   "cell_type": "markdown",
   "metadata": {
    "id": "ZA5m3_ZFe3-D"
   },
   "source": [
    "Dummy test will be used for evaluation. To evaluate, we will only make prediction on the products rated by the user. So, this is marked as 1. This is just opposite of dummy_train\n",
    "\n"
   ]
  },
  {
   "cell_type": "code",
   "execution_count": 161,
   "metadata": {
    "id": "hq4n5DKn2azL"
   },
   "outputs": [],
   "source": [
    "dummy_test = common.copy()\n",
    "\n",
    "dummy_test['reviews_rating'] = dummy_test['reviews_rating'].apply(lambda x: 1 if x>=1 else 0)\n",
    "\n",
    "dummy_test = dummy_test.pivot_table(index='reviews_username', columns='id', values='reviews_rating').T.fillna(0)\n",
    "\n",
    "common_item_predicted_ratings = np.multiply(common_item_predicted_ratings,dummy_test)"
   ]
  },
  {
   "cell_type": "markdown",
   "metadata": {
    "id": "AJr9sueCe-pW"
   },
   "source": [
    "The products not rated is marked as 0 for evaluation. And make the item- item matrix representaion.\n"
   ]
  },
  {
   "cell_type": "code",
   "execution_count": 162,
   "metadata": {
    "id": "Qd8zErT6H7PH"
   },
   "outputs": [],
   "source": [
    "common_ = common.pivot_table(index='reviews_username', columns='id', values='reviews_rating').T"
   ]
  },
  {
   "cell_type": "code",
   "execution_count": 163,
   "metadata": {
    "colab": {
     "base_uri": "https://localhost:8080/"
    },
    "executionInfo": {
     "elapsed": 4,
     "status": "ok",
     "timestamp": 1633278765365,
     "user": {
      "displayName": "Bhavini G",
      "photoUrl": "https://lh3.googleusercontent.com/a/default-user=s64",
      "userId": "04864105761682059327"
     },
     "user_tz": 420
    },
    "id": "SbTJc6tmIm-d",
    "outputId": "d575b533-9f58-4181-aef5-5572aa531c33"
   },
   "outputs": [
    {
     "name": "stdout",
     "output_type": "stream",
     "text": [
      "MinMaxScaler(feature_range=(1, 5))\n",
      "[[nan nan nan ... nan nan nan]\n",
      " [nan nan nan ... nan nan nan]\n",
      " [nan nan nan ... nan nan nan]\n",
      " ...\n",
      " [nan nan nan ... nan nan nan]\n",
      " [nan nan nan ... nan nan nan]\n",
      " [nan nan nan ... nan nan nan]]\n"
     ]
    }
   ],
   "source": [
    "from sklearn.preprocessing import MinMaxScaler\n",
    "from numpy import *\n",
    "\n",
    "X  = common_item_predicted_ratings.copy() \n",
    "X = X[X>0]\n",
    "\n",
    "scaler = MinMaxScaler(feature_range=(1, 5))\n",
    "print(scaler.fit(X))\n",
    "y = (scaler.transform(X))\n",
    "\n",
    "print(y)"
   ]
  },
  {
   "cell_type": "code",
   "execution_count": 164,
   "metadata": {
    "id": "xLvB_o4lDvli"
   },
   "outputs": [],
   "source": [
    "# Finding total non-NaN value\n",
    "total_non_nan = np.count_nonzero(~np.isnan(y))"
   ]
  },
  {
   "cell_type": "code",
   "execution_count": 165,
   "metadata": {
    "colab": {
     "base_uri": "https://localhost:8080/"
    },
    "executionInfo": {
     "elapsed": 323,
     "status": "ok",
     "timestamp": 1633278765686,
     "user": {
      "displayName": "Bhavini G",
      "photoUrl": "https://lh3.googleusercontent.com/a/default-user=s64",
      "userId": "04864105761682059327"
     },
     "user_tz": 420
    },
    "id": "DEFC02uXIneM",
    "outputId": "8e4c2de7-dcc1-4718-be95-ea808480656e"
   },
   "outputs": [
    {
     "name": "stdout",
     "output_type": "stream",
     "text": [
      "3.561461818735571\n"
     ]
    }
   ],
   "source": [
    "rmse = (sum(sum((common_ - y )**2))/total_non_nan)**0.5\n",
    "print(rmse)"
   ]
  },
  {
   "cell_type": "markdown",
   "metadata": {
    "id": "RHRIEmL2zGJR"
   },
   "source": [
    "# Chosen Recommender\n",
    "As the RMSE value of User User type recommendation is lower, we shall be using the User User type recommender system."
   ]
  }
 ],
 "metadata": {
  "colab": {
   "authorship_tag": "ABX9TyM6sxYwrSoyWDIYKh+g+iQX",
   "collapsed_sections": [],
   "name": "CapstoneNLP_SentimentBasedRecommender.ipynb",
   "provenance": [],
   "toc_visible": true
  },
  "kernelspec": {
   "display_name": "Python 3",
   "language": "python",
   "name": "python3"
  },
  "language_info": {
   "codemirror_mode": {
    "name": "ipython",
    "version": 3
   },
   "file_extension": ".py",
   "mimetype": "text/x-python",
   "name": "python",
   "nbconvert_exporter": "python",
   "pygments_lexer": "ipython3",
   "version": "3.8.8"
  }
 },
 "nbformat": 4,
 "nbformat_minor": 1
}
